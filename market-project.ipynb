{
 "cells": [
  {
   "cell_type": "code",
   "execution_count": 1,
   "id": "9ddadbf5",
   "metadata": {
    "execution": {
     "iopub.execute_input": "2022-12-15T15:42:05.433555Z",
     "iopub.status.busy": "2022-12-15T15:42:05.432757Z",
     "iopub.status.idle": "2022-12-15T15:42:06.436737Z",
     "shell.execute_reply": "2022-12-15T15:42:06.435700Z"
    },
    "papermill": {
     "duration": 1.014233,
     "end_time": "2022-12-15T15:42:06.439517",
     "exception": false,
     "start_time": "2022-12-15T15:42:05.425284",
     "status": "completed"
    },
    "tags": []
   },
   "outputs": [
    {
     "name": "stdout",
     "output_type": "stream",
     "text": [
      "/kaggle/input/market-basket-optimisationcsv/Market_Basket_Optimisation.csv\n"
     ]
    }
   ],
   "source": [
    "import numpy as np # linear algebra\n",
    "import pandas as pd # data processing, CSV file I/O (e.g. pd.read_csv)\n",
    "import matplotlib.pyplot as plt # this is used for the plot the graph \n",
    "import seaborn as sns # used for plot interactive graph.\n",
    "\n",
    "import os\n",
    "for dirname, _, filenames in os.walk('/kaggle/input'):\n",
    "    for filename in filenames:\n",
    "        print(os.path.join(dirname, filename))\n"
   ]
  },
  {
   "cell_type": "markdown",
   "id": "e69fc23b",
   "metadata": {
    "papermill": {
     "duration": 0.004433,
     "end_time": "2022-12-15T15:42:06.448815",
     "exception": false,
     "start_time": "2022-12-15T15:42:06.444382",
     "status": "completed"
    },
    "tags": []
   },
   "source": [
    "# Apriori"
   ]
  },
  {
   "cell_type": "markdown",
   "id": "32564d88",
   "metadata": {
    "id": "eiNwni1xsEgT",
    "papermill": {
     "duration": 0.004198,
     "end_time": "2022-12-15T15:42:06.457497",
     "exception": false,
     "start_time": "2022-12-15T15:42:06.453299",
     "status": "completed"
    },
    "tags": []
   },
   "source": [
    "## Importing the libraries"
   ]
  },
  {
   "cell_type": "code",
   "execution_count": 2,
   "id": "37f81fab",
   "metadata": {
    "execution": {
     "iopub.execute_input": "2022-12-15T15:42:06.468167Z",
     "iopub.status.busy": "2022-12-15T15:42:06.467769Z",
     "iopub.status.idle": "2022-12-15T15:42:20.624123Z",
     "shell.execute_reply": "2022-12-15T15:42:20.623071Z"
    },
    "executionInfo": {
     "elapsed": 14686,
     "status": "ok",
     "timestamp": 1589289766171,
     "user": {
      "displayName": "Hadelin de Ponteves",
      "photoUrl": "https://lh3.googleusercontent.com/a-/AOh14GhEuXdT7eQweUmRPW8_laJuPggSK6hfvpl5a6WBaA=s64",
      "userId": "15047218817161520419"
     },
     "user_tz": -240
    },
    "id": "DUF77Qr1vqyM",
    "outputId": "c4c2d702-9e4b-414c-bb3e-caa543b487f0",
    "papermill": {
     "duration": 14.164638,
     "end_time": "2022-12-15T15:42:20.626658",
     "exception": false,
     "start_time": "2022-12-15T15:42:06.462020",
     "status": "completed"
    },
    "tags": []
   },
   "outputs": [
    {
     "name": "stdout",
     "output_type": "stream",
     "text": [
      "Collecting apyori\r\n",
      "  Downloading apyori-1.1.2.tar.gz (8.6 kB)\r\n",
      "  Preparing metadata (setup.py) ... \u001b[?25l-\b \bdone\r\n",
      "\u001b[?25hBuilding wheels for collected packages: apyori\r\n",
      "  Building wheel for apyori (setup.py) ... \u001b[?25l-\b \b\\\b \bdone\r\n",
      "\u001b[?25h  Created wheel for apyori: filename=apyori-1.1.2-py3-none-any.whl size=5974 sha256=d5ebf8978264701f8e61586e78afa823765d76ef15123462c946ba4ac2b89587\r\n",
      "  Stored in directory: /root/.cache/pip/wheels/cb/f6/e1/57973c631d27efd1a2f375bd6a83b2a616c4021f24aab84080\r\n",
      "Successfully built apyori\r\n",
      "Installing collected packages: apyori\r\n",
      "Successfully installed apyori-1.1.2\r\n",
      "\u001b[33mWARNING: Running pip as the 'root' user can result in broken permissions and conflicting behaviour with the system package manager. It is recommended to use a virtual environment instead: https://pip.pypa.io/warnings/venv\u001b[0m\u001b[33m\r\n",
      "\u001b[0m"
     ]
    }
   ],
   "source": [
    "!pip install apyori"
   ]
  },
  {
   "cell_type": "markdown",
   "id": "92647fac",
   "metadata": {
    "id": "vLt-7XUKsXBd",
    "papermill": {
     "duration": 0.005061,
     "end_time": "2022-12-15T15:42:20.636796",
     "exception": false,
     "start_time": "2022-12-15T15:42:20.631735",
     "status": "completed"
    },
    "tags": []
   },
   "source": [
    "## Data Preprocessing"
   ]
  },
  {
   "cell_type": "code",
   "execution_count": 3,
   "id": "336539f4",
   "metadata": {
    "execution": {
     "iopub.execute_input": "2022-12-15T15:42:20.648621Z",
     "iopub.status.busy": "2022-12-15T15:42:20.648271Z",
     "iopub.status.idle": "2022-12-15T15:42:21.418006Z",
     "shell.execute_reply": "2022-12-15T15:42:21.417148Z"
    },
    "id": "J_A-UFOAsaDf",
    "papermill": {
     "duration": 0.778772,
     "end_time": "2022-12-15T15:42:21.420647",
     "exception": false,
     "start_time": "2022-12-15T15:42:20.641875",
     "status": "completed"
    },
    "tags": []
   },
   "outputs": [],
   "source": [
    "dataset = pd.read_csv('/kaggle/input/market-basket-optimisationcsv/Market_Basket_Optimisation.csv', header = None)\n",
    "transactions = []\n",
    "for i in range(0, 7501):\n",
    "  transactions.append([str(dataset.values[i,j]) for j in range(0, 20)])"
   ]
  },
  {
   "cell_type": "markdown",
   "id": "da835132",
   "metadata": {
    "id": "1wYZdBd5sea_",
    "papermill": {
     "duration": 0.004855,
     "end_time": "2022-12-15T15:42:21.430716",
     "exception": false,
     "start_time": "2022-12-15T15:42:21.425861",
     "status": "completed"
    },
    "tags": []
   },
   "source": [
    "## Training the Apriori model on the dataset"
   ]
  },
  {
   "cell_type": "code",
   "execution_count": 4,
   "id": "8c94fd89",
   "metadata": {
    "execution": {
     "iopub.execute_input": "2022-12-15T15:42:21.442607Z",
     "iopub.status.busy": "2022-12-15T15:42:21.442218Z",
     "iopub.status.idle": "2022-12-15T15:42:21.451511Z",
     "shell.execute_reply": "2022-12-15T15:42:21.450468Z"
    },
    "id": "YzIk4vXZsj5i",
    "papermill": {
     "duration": 0.017967,
     "end_time": "2022-12-15T15:42:21.454021",
     "exception": false,
     "start_time": "2022-12-15T15:42:21.436054",
     "status": "completed"
    },
    "tags": []
   },
   "outputs": [],
   "source": [
    "from apyori import apriori\n",
    "rules = apriori(transactions = transactions, min_support = 0.003, min_confidence = 0.2, min_lift = 3, min_length = 2, max_length = 2)"
   ]
  },
  {
   "cell_type": "markdown",
   "id": "a15d983a",
   "metadata": {
    "id": "b176YNwWspiO",
    "papermill": {
     "duration": 0.004867,
     "end_time": "2022-12-15T15:42:21.464118",
     "exception": false,
     "start_time": "2022-12-15T15:42:21.459251",
     "status": "completed"
    },
    "tags": []
   },
   "source": [
    "## Visualising the results"
   ]
  },
  {
   "cell_type": "markdown",
   "id": "675c9a46",
   "metadata": {
    "id": "iO6bF_dImT-E",
    "papermill": {
     "duration": 0.004794,
     "end_time": "2022-12-15T15:42:21.473942",
     "exception": false,
     "start_time": "2022-12-15T15:42:21.469148",
     "status": "completed"
    },
    "tags": []
   },
   "source": [
    "### Displaying the first results coming directly from the output of the apriori function"
   ]
  },
  {
   "cell_type": "code",
   "execution_count": 5,
   "id": "a00b0851",
   "metadata": {
    "execution": {
     "iopub.execute_input": "2022-12-15T15:42:21.485631Z",
     "iopub.status.busy": "2022-12-15T15:42:21.485206Z",
     "iopub.status.idle": "2022-12-15T15:42:21.604863Z",
     "shell.execute_reply": "2022-12-15T15:42:21.604071Z"
    },
    "id": "kvF-sLc6ifhd",
    "papermill": {
     "duration": 0.128505,
     "end_time": "2022-12-15T15:42:21.607362",
     "exception": false,
     "start_time": "2022-12-15T15:42:21.478857",
     "status": "completed"
    },
    "tags": []
   },
   "outputs": [],
   "source": [
    "results = list(rules)"
   ]
  },
  {
   "cell_type": "code",
   "execution_count": 6,
   "id": "13818d3c",
   "metadata": {
    "execution": {
     "iopub.execute_input": "2022-12-15T15:42:21.620062Z",
     "iopub.status.busy": "2022-12-15T15:42:21.618985Z",
     "iopub.status.idle": "2022-12-15T15:42:21.627461Z",
     "shell.execute_reply": "2022-12-15T15:42:21.626721Z"
    },
    "executionInfo": {
     "elapsed": 14064,
     "status": "ok",
     "timestamp": 1589289766173,
     "user": {
      "displayName": "Hadelin de Ponteves",
      "photoUrl": "https://lh3.googleusercontent.com/a-/AOh14GhEuXdT7eQweUmRPW8_laJuPggSK6hfvpl5a6WBaA=s64",
      "userId": "15047218817161520419"
     },
     "user_tz": -240
    },
    "id": "eAD8Co4_l9IE",
    "outputId": "d8523472-b36f-4020-c6fc-01ee3a0d8a86",
    "papermill": {
     "duration": 0.01662,
     "end_time": "2022-12-15T15:42:21.629336",
     "exception": false,
     "start_time": "2022-12-15T15:42:21.612716",
     "status": "completed"
    },
    "tags": []
   },
   "outputs": [
    {
     "data": {
      "text/plain": [
       "[RelationRecord(items=frozenset({'chicken', 'light cream'}), support=0.004532728969470737, ordered_statistics=[OrderedStatistic(items_base=frozenset({'light cream'}), items_add=frozenset({'chicken'}), confidence=0.29059829059829057, lift=4.84395061728395)]),\n",
       " RelationRecord(items=frozenset({'mushroom cream sauce', 'escalope'}), support=0.005732568990801226, ordered_statistics=[OrderedStatistic(items_base=frozenset({'mushroom cream sauce'}), items_add=frozenset({'escalope'}), confidence=0.3006993006993007, lift=3.790832696715049)]),\n",
       " RelationRecord(items=frozenset({'pasta', 'escalope'}), support=0.005865884548726837, ordered_statistics=[OrderedStatistic(items_base=frozenset({'pasta'}), items_add=frozenset({'escalope'}), confidence=0.3728813559322034, lift=4.700811850163794)]),\n",
       " RelationRecord(items=frozenset({'fromage blanc', 'honey'}), support=0.003332888948140248, ordered_statistics=[OrderedStatistic(items_base=frozenset({'fromage blanc'}), items_add=frozenset({'honey'}), confidence=0.2450980392156863, lift=5.164270764485569)]),\n",
       " RelationRecord(items=frozenset({'herb & pepper', 'ground beef'}), support=0.015997866951073192, ordered_statistics=[OrderedStatistic(items_base=frozenset({'herb & pepper'}), items_add=frozenset({'ground beef'}), confidence=0.3234501347708895, lift=3.2919938411349285)]),\n",
       " RelationRecord(items=frozenset({'tomato sauce', 'ground beef'}), support=0.005332622317024397, ordered_statistics=[OrderedStatistic(items_base=frozenset({'tomato sauce'}), items_add=frozenset({'ground beef'}), confidence=0.3773584905660377, lift=3.840659481324083)]),\n",
       " RelationRecord(items=frozenset({'olive oil', 'light cream'}), support=0.003199573390214638, ordered_statistics=[OrderedStatistic(items_base=frozenset({'light cream'}), items_add=frozenset({'olive oil'}), confidence=0.20512820512820515, lift=3.1147098515519573)]),\n",
       " RelationRecord(items=frozenset({'whole wheat pasta', 'olive oil'}), support=0.007998933475536596, ordered_statistics=[OrderedStatistic(items_base=frozenset({'whole wheat pasta'}), items_add=frozenset({'olive oil'}), confidence=0.2714932126696833, lift=4.122410097642296)]),\n",
       " RelationRecord(items=frozenset({'pasta', 'shrimp'}), support=0.005065991201173177, ordered_statistics=[OrderedStatistic(items_base=frozenset({'pasta'}), items_add=frozenset({'shrimp'}), confidence=0.3220338983050847, lift=4.506672147735896)])]"
      ]
     },
     "execution_count": 6,
     "metadata": {},
     "output_type": "execute_result"
    }
   ],
   "source": [
    "results"
   ]
  },
  {
   "cell_type": "markdown",
   "id": "c0d1e724",
   "metadata": {
    "id": "MFkQP-fcjDBC",
    "papermill": {
     "duration": 0.004988,
     "end_time": "2022-12-15T15:42:21.639642",
     "exception": false,
     "start_time": "2022-12-15T15:42:21.634654",
     "status": "completed"
    },
    "tags": []
   },
   "source": [
    "### Putting the results well organised into a Pandas DataFrame"
   ]
  },
  {
   "cell_type": "code",
   "execution_count": 7,
   "id": "02e956f9",
   "metadata": {
    "execution": {
     "iopub.execute_input": "2022-12-15T15:42:21.653017Z",
     "iopub.status.busy": "2022-12-15T15:42:21.652321Z",
     "iopub.status.idle": "2022-12-15T15:42:21.660748Z",
     "shell.execute_reply": "2022-12-15T15:42:21.659967Z"
    },
    "id": "gyq7Poi0mMUe",
    "papermill": {
     "duration": 0.017855,
     "end_time": "2022-12-15T15:42:21.662753",
     "exception": false,
     "start_time": "2022-12-15T15:42:21.644898",
     "status": "completed"
    },
    "tags": []
   },
   "outputs": [],
   "source": [
    "def inspect(results):\n",
    "    lhs         = [tuple(result[2][0][0])[0] for result in results]\n",
    "    rhs         = [tuple(result[2][0][1])[0] for result in results]\n",
    "    supports    = [result[1] for result in results]\n",
    "    confidences = [result[2][0][2] for result in results]\n",
    "    lifts       = [result[2][0][3] for result in results]\n",
    "    return list(zip(lhs, rhs, supports, confidences, lifts))\n",
    "resultsinDataFrame = pd.DataFrame(inspect(results), columns = ['Left Hand Side', 'Right Hand Side', 'Support', 'Confidence', 'Lift'])"
   ]
  },
  {
   "cell_type": "markdown",
   "id": "00b46eef",
   "metadata": {
    "id": "Pfn-G1eAjjLz",
    "papermill": {
     "duration": 0.005057,
     "end_time": "2022-12-15T15:42:21.673090",
     "exception": false,
     "start_time": "2022-12-15T15:42:21.668033",
     "status": "completed"
    },
    "tags": []
   },
   "source": [
    "### Displaying the results non sorted"
   ]
  },
  {
   "cell_type": "code",
   "execution_count": 8,
   "id": "ddf69d00",
   "metadata": {
    "execution": {
     "iopub.execute_input": "2022-12-15T15:42:21.685680Z",
     "iopub.status.busy": "2022-12-15T15:42:21.685013Z",
     "iopub.status.idle": "2022-12-15T15:42:21.703693Z",
     "shell.execute_reply": "2022-12-15T15:42:21.702629Z"
    },
    "executionInfo": {
     "elapsed": 13460,
     "status": "ok",
     "timestamp": 1589289766174,
     "user": {
      "displayName": "Hadelin de Ponteves",
      "photoUrl": "https://lh3.googleusercontent.com/a-/AOh14GhEuXdT7eQweUmRPW8_laJuPggSK6hfvpl5a6WBaA=s64",
      "userId": "15047218817161520419"
     },
     "user_tz": -240
    },
    "id": "CmDCcs_6ip9V",
    "outputId": "2170915c-075e-455e-b65b-6ae8d1a62166",
    "papermill": {
     "duration": 0.027594,
     "end_time": "2022-12-15T15:42:21.705888",
     "exception": false,
     "start_time": "2022-12-15T15:42:21.678294",
     "status": "completed"
    },
    "tags": []
   },
   "outputs": [
    {
     "data": {
      "text/html": [
       "<div>\n",
       "<style scoped>\n",
       "    .dataframe tbody tr th:only-of-type {\n",
       "        vertical-align: middle;\n",
       "    }\n",
       "\n",
       "    .dataframe tbody tr th {\n",
       "        vertical-align: top;\n",
       "    }\n",
       "\n",
       "    .dataframe thead th {\n",
       "        text-align: right;\n",
       "    }\n",
       "</style>\n",
       "<table border=\"1\" class=\"dataframe\">\n",
       "  <thead>\n",
       "    <tr style=\"text-align: right;\">\n",
       "      <th></th>\n",
       "      <th>Left Hand Side</th>\n",
       "      <th>Right Hand Side</th>\n",
       "      <th>Support</th>\n",
       "      <th>Confidence</th>\n",
       "      <th>Lift</th>\n",
       "    </tr>\n",
       "  </thead>\n",
       "  <tbody>\n",
       "    <tr>\n",
       "      <th>0</th>\n",
       "      <td>light cream</td>\n",
       "      <td>chicken</td>\n",
       "      <td>0.004533</td>\n",
       "      <td>0.290598</td>\n",
       "      <td>4.843951</td>\n",
       "    </tr>\n",
       "    <tr>\n",
       "      <th>1</th>\n",
       "      <td>mushroom cream sauce</td>\n",
       "      <td>escalope</td>\n",
       "      <td>0.005733</td>\n",
       "      <td>0.300699</td>\n",
       "      <td>3.790833</td>\n",
       "    </tr>\n",
       "    <tr>\n",
       "      <th>2</th>\n",
       "      <td>pasta</td>\n",
       "      <td>escalope</td>\n",
       "      <td>0.005866</td>\n",
       "      <td>0.372881</td>\n",
       "      <td>4.700812</td>\n",
       "    </tr>\n",
       "    <tr>\n",
       "      <th>3</th>\n",
       "      <td>fromage blanc</td>\n",
       "      <td>honey</td>\n",
       "      <td>0.003333</td>\n",
       "      <td>0.245098</td>\n",
       "      <td>5.164271</td>\n",
       "    </tr>\n",
       "    <tr>\n",
       "      <th>4</th>\n",
       "      <td>herb &amp; pepper</td>\n",
       "      <td>ground beef</td>\n",
       "      <td>0.015998</td>\n",
       "      <td>0.323450</td>\n",
       "      <td>3.291994</td>\n",
       "    </tr>\n",
       "    <tr>\n",
       "      <th>5</th>\n",
       "      <td>tomato sauce</td>\n",
       "      <td>ground beef</td>\n",
       "      <td>0.005333</td>\n",
       "      <td>0.377358</td>\n",
       "      <td>3.840659</td>\n",
       "    </tr>\n",
       "    <tr>\n",
       "      <th>6</th>\n",
       "      <td>light cream</td>\n",
       "      <td>olive oil</td>\n",
       "      <td>0.003200</td>\n",
       "      <td>0.205128</td>\n",
       "      <td>3.114710</td>\n",
       "    </tr>\n",
       "    <tr>\n",
       "      <th>7</th>\n",
       "      <td>whole wheat pasta</td>\n",
       "      <td>olive oil</td>\n",
       "      <td>0.007999</td>\n",
       "      <td>0.271493</td>\n",
       "      <td>4.122410</td>\n",
       "    </tr>\n",
       "    <tr>\n",
       "      <th>8</th>\n",
       "      <td>pasta</td>\n",
       "      <td>shrimp</td>\n",
       "      <td>0.005066</td>\n",
       "      <td>0.322034</td>\n",
       "      <td>4.506672</td>\n",
       "    </tr>\n",
       "  </tbody>\n",
       "</table>\n",
       "</div>"
      ],
      "text/plain": [
       "         Left Hand Side Right Hand Side   Support  Confidence      Lift\n",
       "0           light cream         chicken  0.004533    0.290598  4.843951\n",
       "1  mushroom cream sauce        escalope  0.005733    0.300699  3.790833\n",
       "2                 pasta        escalope  0.005866    0.372881  4.700812\n",
       "3         fromage blanc           honey  0.003333    0.245098  5.164271\n",
       "4         herb & pepper     ground beef  0.015998    0.323450  3.291994\n",
       "5          tomato sauce     ground beef  0.005333    0.377358  3.840659\n",
       "6           light cream       olive oil  0.003200    0.205128  3.114710\n",
       "7     whole wheat pasta       olive oil  0.007999    0.271493  4.122410\n",
       "8                 pasta          shrimp  0.005066    0.322034  4.506672"
      ]
     },
     "execution_count": 8,
     "metadata": {},
     "output_type": "execute_result"
    }
   ],
   "source": [
    "resultsinDataFrame"
   ]
  },
  {
   "cell_type": "markdown",
   "id": "375c29b0",
   "metadata": {
    "id": "IjrrlYW4jpTR",
    "papermill": {
     "duration": 0.005233,
     "end_time": "2022-12-15T15:42:21.716667",
     "exception": false,
     "start_time": "2022-12-15T15:42:21.711434",
     "status": "completed"
    },
    "tags": []
   },
   "source": [
    "### Displaying the results sorted by descending lifts"
   ]
  },
  {
   "cell_type": "code",
   "execution_count": 9,
   "id": "53fe9b51",
   "metadata": {
    "execution": {
     "iopub.execute_input": "2022-12-15T15:42:21.729029Z",
     "iopub.status.busy": "2022-12-15T15:42:21.728644Z",
     "iopub.status.idle": "2022-12-15T15:42:21.748682Z",
     "shell.execute_reply": "2022-12-15T15:42:21.747583Z"
    },
    "executionInfo": {
     "elapsed": 13166,
     "status": "ok",
     "timestamp": 1589289766174,
     "user": {
      "displayName": "Hadelin de Ponteves",
      "photoUrl": "https://lh3.googleusercontent.com/a-/AOh14GhEuXdT7eQweUmRPW8_laJuPggSK6hfvpl5a6WBaA=s64",
      "userId": "15047218817161520419"
     },
     "user_tz": -240
    },
    "id": "nI7DJXng-nxQ",
    "outputId": "aac84e87-eb2a-4428-cf55-1c16d23ea3ed",
    "papermill": {
     "duration": 0.028932,
     "end_time": "2022-12-15T15:42:21.750983",
     "exception": false,
     "start_time": "2022-12-15T15:42:21.722051",
     "status": "completed"
    },
    "tags": []
   },
   "outputs": [
    {
     "data": {
      "text/html": [
       "<div>\n",
       "<style scoped>\n",
       "    .dataframe tbody tr th:only-of-type {\n",
       "        vertical-align: middle;\n",
       "    }\n",
       "\n",
       "    .dataframe tbody tr th {\n",
       "        vertical-align: top;\n",
       "    }\n",
       "\n",
       "    .dataframe thead th {\n",
       "        text-align: right;\n",
       "    }\n",
       "</style>\n",
       "<table border=\"1\" class=\"dataframe\">\n",
       "  <thead>\n",
       "    <tr style=\"text-align: right;\">\n",
       "      <th></th>\n",
       "      <th>Left Hand Side</th>\n",
       "      <th>Right Hand Side</th>\n",
       "      <th>Support</th>\n",
       "      <th>Confidence</th>\n",
       "      <th>Lift</th>\n",
       "    </tr>\n",
       "  </thead>\n",
       "  <tbody>\n",
       "    <tr>\n",
       "      <th>3</th>\n",
       "      <td>fromage blanc</td>\n",
       "      <td>honey</td>\n",
       "      <td>0.003333</td>\n",
       "      <td>0.245098</td>\n",
       "      <td>5.164271</td>\n",
       "    </tr>\n",
       "    <tr>\n",
       "      <th>0</th>\n",
       "      <td>light cream</td>\n",
       "      <td>chicken</td>\n",
       "      <td>0.004533</td>\n",
       "      <td>0.290598</td>\n",
       "      <td>4.843951</td>\n",
       "    </tr>\n",
       "    <tr>\n",
       "      <th>2</th>\n",
       "      <td>pasta</td>\n",
       "      <td>escalope</td>\n",
       "      <td>0.005866</td>\n",
       "      <td>0.372881</td>\n",
       "      <td>4.700812</td>\n",
       "    </tr>\n",
       "    <tr>\n",
       "      <th>8</th>\n",
       "      <td>pasta</td>\n",
       "      <td>shrimp</td>\n",
       "      <td>0.005066</td>\n",
       "      <td>0.322034</td>\n",
       "      <td>4.506672</td>\n",
       "    </tr>\n",
       "    <tr>\n",
       "      <th>7</th>\n",
       "      <td>whole wheat pasta</td>\n",
       "      <td>olive oil</td>\n",
       "      <td>0.007999</td>\n",
       "      <td>0.271493</td>\n",
       "      <td>4.122410</td>\n",
       "    </tr>\n",
       "    <tr>\n",
       "      <th>5</th>\n",
       "      <td>tomato sauce</td>\n",
       "      <td>ground beef</td>\n",
       "      <td>0.005333</td>\n",
       "      <td>0.377358</td>\n",
       "      <td>3.840659</td>\n",
       "    </tr>\n",
       "    <tr>\n",
       "      <th>1</th>\n",
       "      <td>mushroom cream sauce</td>\n",
       "      <td>escalope</td>\n",
       "      <td>0.005733</td>\n",
       "      <td>0.300699</td>\n",
       "      <td>3.790833</td>\n",
       "    </tr>\n",
       "    <tr>\n",
       "      <th>4</th>\n",
       "      <td>herb &amp; pepper</td>\n",
       "      <td>ground beef</td>\n",
       "      <td>0.015998</td>\n",
       "      <td>0.323450</td>\n",
       "      <td>3.291994</td>\n",
       "    </tr>\n",
       "    <tr>\n",
       "      <th>6</th>\n",
       "      <td>light cream</td>\n",
       "      <td>olive oil</td>\n",
       "      <td>0.003200</td>\n",
       "      <td>0.205128</td>\n",
       "      <td>3.114710</td>\n",
       "    </tr>\n",
       "  </tbody>\n",
       "</table>\n",
       "</div>"
      ],
      "text/plain": [
       "         Left Hand Side Right Hand Side   Support  Confidence      Lift\n",
       "3         fromage blanc           honey  0.003333    0.245098  5.164271\n",
       "0           light cream         chicken  0.004533    0.290598  4.843951\n",
       "2                 pasta        escalope  0.005866    0.372881  4.700812\n",
       "8                 pasta          shrimp  0.005066    0.322034  4.506672\n",
       "7     whole wheat pasta       olive oil  0.007999    0.271493  4.122410\n",
       "5          tomato sauce     ground beef  0.005333    0.377358  3.840659\n",
       "1  mushroom cream sauce        escalope  0.005733    0.300699  3.790833\n",
       "4         herb & pepper     ground beef  0.015998    0.323450  3.291994\n",
       "6           light cream       olive oil  0.003200    0.205128  3.114710"
      ]
     },
     "execution_count": 9,
     "metadata": {},
     "output_type": "execute_result"
    }
   ],
   "source": [
    "resultsinDataFrame.nlargest(n = 10, columns = 'Lift')"
   ]
  }
 ],
 "metadata": {
  "kernelspec": {
   "display_name": "Python 3",
   "language": "python",
   "name": "python3"
  },
  "language_info": {
   "codemirror_mode": {
    "name": "ipython",
    "version": 3
   },
   "file_extension": ".py",
   "mimetype": "text/x-python",
   "name": "python",
   "nbconvert_exporter": "python",
   "pygments_lexer": "ipython3",
   "version": "3.7.12"
  },
  "papermill": {
   "default_parameters": {},
   "duration": 25.08793,
   "end_time": "2022-12-15T15:42:22.478074",
   "environment_variables": {},
   "exception": null,
   "input_path": "__notebook__.ipynb",
   "output_path": "__notebook__.ipynb",
   "parameters": {},
   "start_time": "2022-12-15T15:41:57.390144",
   "version": "2.3.4"
  }
 },
 "nbformat": 4,
 "nbformat_minor": 5
}
