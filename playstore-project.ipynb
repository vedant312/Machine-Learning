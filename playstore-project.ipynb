{
 "cells": [
  {
   "cell_type": "code",
   "execution_count": 1,
   "id": "e5f1b9ca",
   "metadata": {
    "execution": {
     "iopub.execute_input": "2022-12-15T13:45:18.871063Z",
     "iopub.status.busy": "2022-12-15T13:45:18.870329Z",
     "iopub.status.idle": "2022-12-15T13:45:20.098871Z",
     "shell.execute_reply": "2022-12-15T13:45:20.097922Z"
    },
    "papermill": {
     "duration": 1.284005,
     "end_time": "2022-12-15T13:45:20.102057",
     "exception": false,
     "start_time": "2022-12-15T13:45:18.818052",
     "status": "completed"
    },
    "tags": []
   },
   "outputs": [
    {
     "name": "stdout",
     "output_type": "stream",
     "text": [
      "/kaggle/input/projectdata/googleplaystore.csv\n",
      "/kaggle/input/projectdata/googleplaystore_user_reviews.csv\n"
     ]
    }
   ],
   "source": [
    "import numpy as np # linear algebra\n",
    "import pandas as pd # data processing, CSV file I/O (e.g. pd.read_csv)\n",
    "import matplotlib.pyplot as plt # this is used for the plot the graph \n",
    "import seaborn as sns # used for plot interactive graph.\n",
    "\n",
    "import os\n",
    "for dirname, _, filenames in os.walk('/kaggle/input'):\n",
    "    for filename in filenames:\n",
    "        print(os.path.join(dirname, filename))\n"
   ]
  },
  {
   "cell_type": "markdown",
   "id": "6e32aada",
   "metadata": {
    "papermill": {
     "duration": 0.046377,
     "end_time": "2022-12-15T13:45:20.197129",
     "exception": false,
     "start_time": "2022-12-15T13:45:20.150752",
     "status": "completed"
    },
    "tags": []
   },
   "source": [
    "### Data Collection"
   ]
  },
  {
   "cell_type": "code",
   "execution_count": 2,
   "id": "62d058db",
   "metadata": {
    "execution": {
     "iopub.execute_input": "2022-12-15T13:45:20.295175Z",
     "iopub.status.busy": "2022-12-15T13:45:20.294411Z",
     "iopub.status.idle": "2022-12-15T13:45:20.402952Z",
     "shell.execute_reply": "2022-12-15T13:45:20.402079Z"
    },
    "papermill": {
     "duration": 0.160117,
     "end_time": "2022-12-15T13:45:20.405547",
     "exception": false,
     "start_time": "2022-12-15T13:45:20.245430",
     "status": "completed"
    },
    "tags": []
   },
   "outputs": [
    {
     "data": {
      "text/html": [
       "<div>\n",
       "<style scoped>\n",
       "    .dataframe tbody tr th:only-of-type {\n",
       "        vertical-align: middle;\n",
       "    }\n",
       "\n",
       "    .dataframe tbody tr th {\n",
       "        vertical-align: top;\n",
       "    }\n",
       "\n",
       "    .dataframe thead th {\n",
       "        text-align: right;\n",
       "    }\n",
       "</style>\n",
       "<table border=\"1\" class=\"dataframe\">\n",
       "  <thead>\n",
       "    <tr style=\"text-align: right;\">\n",
       "      <th></th>\n",
       "      <th>App</th>\n",
       "      <th>Category</th>\n",
       "      <th>Rating</th>\n",
       "      <th>Reviews</th>\n",
       "      <th>Size</th>\n",
       "      <th>Installs</th>\n",
       "      <th>Type</th>\n",
       "      <th>Price</th>\n",
       "      <th>Content Rating</th>\n",
       "      <th>Genres</th>\n",
       "      <th>Last Updated</th>\n",
       "      <th>Current Ver</th>\n",
       "      <th>Android Ver</th>\n",
       "    </tr>\n",
       "  </thead>\n",
       "  <tbody>\n",
       "    <tr>\n",
       "      <th>0</th>\n",
       "      <td>Photo Editor &amp; Candy Camera &amp; Grid &amp; ScrapBook</td>\n",
       "      <td>ART_AND_DESIGN</td>\n",
       "      <td>4.1</td>\n",
       "      <td>159</td>\n",
       "      <td>19M</td>\n",
       "      <td>10,000+</td>\n",
       "      <td>Free</td>\n",
       "      <td>0</td>\n",
       "      <td>Everyone</td>\n",
       "      <td>Art &amp; Design</td>\n",
       "      <td>January 7, 2018</td>\n",
       "      <td>1.0.0</td>\n",
       "      <td>4.0.3 and up</td>\n",
       "    </tr>\n",
       "    <tr>\n",
       "      <th>1</th>\n",
       "      <td>Coloring book moana</td>\n",
       "      <td>ART_AND_DESIGN</td>\n",
       "      <td>3.9</td>\n",
       "      <td>967</td>\n",
       "      <td>14M</td>\n",
       "      <td>500,000+</td>\n",
       "      <td>Free</td>\n",
       "      <td>0</td>\n",
       "      <td>Everyone</td>\n",
       "      <td>Art &amp; Design;Pretend Play</td>\n",
       "      <td>January 15, 2018</td>\n",
       "      <td>2.0.0</td>\n",
       "      <td>4.0.3 and up</td>\n",
       "    </tr>\n",
       "    <tr>\n",
       "      <th>2</th>\n",
       "      <td>U Launcher Lite – FREE Live Cool Themes, Hide ...</td>\n",
       "      <td>ART_AND_DESIGN</td>\n",
       "      <td>4.7</td>\n",
       "      <td>87510</td>\n",
       "      <td>8.7M</td>\n",
       "      <td>5,000,000+</td>\n",
       "      <td>Free</td>\n",
       "      <td>0</td>\n",
       "      <td>Everyone</td>\n",
       "      <td>Art &amp; Design</td>\n",
       "      <td>August 1, 2018</td>\n",
       "      <td>1.2.4</td>\n",
       "      <td>4.0.3 and up</td>\n",
       "    </tr>\n",
       "    <tr>\n",
       "      <th>3</th>\n",
       "      <td>Sketch - Draw &amp; Paint</td>\n",
       "      <td>ART_AND_DESIGN</td>\n",
       "      <td>4.5</td>\n",
       "      <td>215644</td>\n",
       "      <td>25M</td>\n",
       "      <td>50,000,000+</td>\n",
       "      <td>Free</td>\n",
       "      <td>0</td>\n",
       "      <td>Teen</td>\n",
       "      <td>Art &amp; Design</td>\n",
       "      <td>June 8, 2018</td>\n",
       "      <td>Varies with device</td>\n",
       "      <td>4.2 and up</td>\n",
       "    </tr>\n",
       "    <tr>\n",
       "      <th>4</th>\n",
       "      <td>Pixel Draw - Number Art Coloring Book</td>\n",
       "      <td>ART_AND_DESIGN</td>\n",
       "      <td>4.3</td>\n",
       "      <td>967</td>\n",
       "      <td>2.8M</td>\n",
       "      <td>100,000+</td>\n",
       "      <td>Free</td>\n",
       "      <td>0</td>\n",
       "      <td>Everyone</td>\n",
       "      <td>Art &amp; Design;Creativity</td>\n",
       "      <td>June 20, 2018</td>\n",
       "      <td>1.1</td>\n",
       "      <td>4.4 and up</td>\n",
       "    </tr>\n",
       "  </tbody>\n",
       "</table>\n",
       "</div>"
      ],
      "text/plain": [
       "                                                 App        Category  Rating  \\\n",
       "0     Photo Editor & Candy Camera & Grid & ScrapBook  ART_AND_DESIGN     4.1   \n",
       "1                                Coloring book moana  ART_AND_DESIGN     3.9   \n",
       "2  U Launcher Lite – FREE Live Cool Themes, Hide ...  ART_AND_DESIGN     4.7   \n",
       "3                              Sketch - Draw & Paint  ART_AND_DESIGN     4.5   \n",
       "4              Pixel Draw - Number Art Coloring Book  ART_AND_DESIGN     4.3   \n",
       "\n",
       "  Reviews  Size     Installs  Type Price Content Rating  \\\n",
       "0     159   19M      10,000+  Free     0       Everyone   \n",
       "1     967   14M     500,000+  Free     0       Everyone   \n",
       "2   87510  8.7M   5,000,000+  Free     0       Everyone   \n",
       "3  215644   25M  50,000,000+  Free     0           Teen   \n",
       "4     967  2.8M     100,000+  Free     0       Everyone   \n",
       "\n",
       "                      Genres      Last Updated         Current Ver  \\\n",
       "0               Art & Design   January 7, 2018               1.0.0   \n",
       "1  Art & Design;Pretend Play  January 15, 2018               2.0.0   \n",
       "2               Art & Design    August 1, 2018               1.2.4   \n",
       "3               Art & Design      June 8, 2018  Varies with device   \n",
       "4    Art & Design;Creativity     June 20, 2018                 1.1   \n",
       "\n",
       "    Android Ver  \n",
       "0  4.0.3 and up  \n",
       "1  4.0.3 and up  \n",
       "2  4.0.3 and up  \n",
       "3    4.2 and up  \n",
       "4    4.4 and up  "
      ]
     },
     "execution_count": 2,
     "metadata": {},
     "output_type": "execute_result"
    }
   ],
   "source": [
    "data=pd.read_csv(\"/kaggle/input/projectdata/googleplaystore.csv\")\n",
    "data.head(5)"
   ]
  },
  {
   "cell_type": "code",
   "execution_count": 3,
   "id": "70ed52cc",
   "metadata": {
    "execution": {
     "iopub.execute_input": "2022-12-15T13:45:20.510694Z",
     "iopub.status.busy": "2022-12-15T13:45:20.509246Z",
     "iopub.status.idle": "2022-12-15T13:45:20.543133Z",
     "shell.execute_reply": "2022-12-15T13:45:20.541263Z"
    },
    "papermill": {
     "duration": 0.090272,
     "end_time": "2022-12-15T13:45:20.546312",
     "exception": false,
     "start_time": "2022-12-15T13:45:20.456040",
     "status": "completed"
    },
    "tags": []
   },
   "outputs": [
    {
     "name": "stdout",
     "output_type": "stream",
     "text": [
      "<class 'pandas.core.frame.DataFrame'>\n",
      "RangeIndex: 10841 entries, 0 to 10840\n",
      "Data columns (total 13 columns):\n",
      " #   Column          Non-Null Count  Dtype  \n",
      "---  ------          --------------  -----  \n",
      " 0   App             10841 non-null  object \n",
      " 1   Category        10841 non-null  object \n",
      " 2   Rating          9367 non-null   float64\n",
      " 3   Reviews         10841 non-null  object \n",
      " 4   Size            10841 non-null  object \n",
      " 5   Installs        10841 non-null  object \n",
      " 6   Type            10840 non-null  object \n",
      " 7   Price           10841 non-null  object \n",
      " 8   Content Rating  10840 non-null  object \n",
      " 9   Genres          10841 non-null  object \n",
      " 10  Last Updated    10841 non-null  object \n",
      " 11  Current Ver     10833 non-null  object \n",
      " 12  Android Ver     10838 non-null  object \n",
      "dtypes: float64(1), object(12)\n",
      "memory usage: 1.1+ MB\n"
     ]
    }
   ],
   "source": [
    "data.info()"
   ]
  },
  {
   "cell_type": "markdown",
   "id": "98929184",
   "metadata": {
    "papermill": {
     "duration": 0.048895,
     "end_time": "2022-12-15T13:45:20.643143",
     "exception": false,
     "start_time": "2022-12-15T13:45:20.594248",
     "status": "completed"
    },
    "tags": []
   },
   "source": [
    "## Figure out whether we have some invalid entries in data or not?"
   ]
  },
  {
   "cell_type": "code",
   "execution_count": 4,
   "id": "1161aaab",
   "metadata": {
    "execution": {
     "iopub.execute_input": "2022-12-15T13:45:20.744741Z",
     "iopub.status.busy": "2022-12-15T13:45:20.744250Z",
     "iopub.status.idle": "2022-12-15T13:45:20.759800Z",
     "shell.execute_reply": "2022-12-15T13:45:20.758554Z"
    },
    "papermill": {
     "duration": 0.068951,
     "end_time": "2022-12-15T13:45:20.762262",
     "exception": false,
     "start_time": "2022-12-15T13:45:20.693311",
     "status": "completed"
    },
    "tags": []
   },
   "outputs": [
    {
     "data": {
      "text/html": [
       "<div>\n",
       "<style scoped>\n",
       "    .dataframe tbody tr th:only-of-type {\n",
       "        vertical-align: middle;\n",
       "    }\n",
       "\n",
       "    .dataframe tbody tr th {\n",
       "        vertical-align: top;\n",
       "    }\n",
       "\n",
       "    .dataframe thead th {\n",
       "        text-align: right;\n",
       "    }\n",
       "</style>\n",
       "<table border=\"1\" class=\"dataframe\">\n",
       "  <thead>\n",
       "    <tr style=\"text-align: right;\">\n",
       "      <th></th>\n",
       "      <th>App</th>\n",
       "      <th>Category</th>\n",
       "      <th>Rating</th>\n",
       "      <th>Reviews</th>\n",
       "      <th>Size</th>\n",
       "      <th>Installs</th>\n",
       "      <th>Type</th>\n",
       "      <th>Price</th>\n",
       "      <th>Content Rating</th>\n",
       "      <th>Genres</th>\n",
       "      <th>Last Updated</th>\n",
       "      <th>Current Ver</th>\n",
       "      <th>Android Ver</th>\n",
       "    </tr>\n",
       "  </thead>\n",
       "  <tbody>\n",
       "  </tbody>\n",
       "</table>\n",
       "</div>"
      ],
      "text/plain": [
       "Empty DataFrame\n",
       "Columns: [App, Category, Rating, Reviews, Size, Installs, Type, Price, Content Rating, Genres, Last Updated, Current Ver, Android Ver]\n",
       "Index: []"
      ]
     },
     "execution_count": 4,
     "metadata": {},
     "output_type": "execute_result"
    }
   ],
   "source": [
    "data[data['Rating']<0]"
   ]
  },
  {
   "cell_type": "code",
   "execution_count": 5,
   "id": "593e8209",
   "metadata": {
    "execution": {
     "iopub.execute_input": "2022-12-15T13:45:20.863696Z",
     "iopub.status.busy": "2022-12-15T13:45:20.863244Z",
     "iopub.status.idle": "2022-12-15T13:45:20.881843Z",
     "shell.execute_reply": "2022-12-15T13:45:20.880866Z"
    },
    "papermill": {
     "duration": 0.071874,
     "end_time": "2022-12-15T13:45:20.883975",
     "exception": false,
     "start_time": "2022-12-15T13:45:20.812101",
     "status": "completed"
    },
    "tags": []
   },
   "outputs": [
    {
     "data": {
      "text/html": [
       "<div>\n",
       "<style scoped>\n",
       "    .dataframe tbody tr th:only-of-type {\n",
       "        vertical-align: middle;\n",
       "    }\n",
       "\n",
       "    .dataframe tbody tr th {\n",
       "        vertical-align: top;\n",
       "    }\n",
       "\n",
       "    .dataframe thead th {\n",
       "        text-align: right;\n",
       "    }\n",
       "</style>\n",
       "<table border=\"1\" class=\"dataframe\">\n",
       "  <thead>\n",
       "    <tr style=\"text-align: right;\">\n",
       "      <th></th>\n",
       "      <th>App</th>\n",
       "      <th>Category</th>\n",
       "      <th>Rating</th>\n",
       "      <th>Reviews</th>\n",
       "      <th>Size</th>\n",
       "      <th>Installs</th>\n",
       "      <th>Type</th>\n",
       "      <th>Price</th>\n",
       "      <th>Content Rating</th>\n",
       "      <th>Genres</th>\n",
       "      <th>Last Updated</th>\n",
       "      <th>Current Ver</th>\n",
       "      <th>Android Ver</th>\n",
       "    </tr>\n",
       "  </thead>\n",
       "  <tbody>\n",
       "    <tr>\n",
       "      <th>10472</th>\n",
       "      <td>Life Made WI-Fi Touchscreen Photo Frame</td>\n",
       "      <td>1.9</td>\n",
       "      <td>19.0</td>\n",
       "      <td>3.0M</td>\n",
       "      <td>1,000+</td>\n",
       "      <td>Free</td>\n",
       "      <td>0</td>\n",
       "      <td>Everyone</td>\n",
       "      <td>NaN</td>\n",
       "      <td>February 11, 2018</td>\n",
       "      <td>1.0.19</td>\n",
       "      <td>4.0 and up</td>\n",
       "      <td>NaN</td>\n",
       "    </tr>\n",
       "  </tbody>\n",
       "</table>\n",
       "</div>"
      ],
      "text/plain": [
       "                                           App Category  Rating Reviews  \\\n",
       "10472  Life Made WI-Fi Touchscreen Photo Frame      1.9    19.0    3.0M   \n",
       "\n",
       "         Size Installs Type     Price Content Rating             Genres  \\\n",
       "10472  1,000+     Free    0  Everyone            NaN  February 11, 2018   \n",
       "\n",
       "      Last Updated Current Ver Android Ver  \n",
       "10472       1.0.19  4.0 and up         NaN  "
      ]
     },
     "execution_count": 5,
     "metadata": {},
     "output_type": "execute_result"
    }
   ],
   "source": [
    "data[data['Rating']>5]"
   ]
  },
  {
   "cell_type": "markdown",
   "id": "ce7a633e",
   "metadata": {
    "papermill": {
     "duration": 0.049585,
     "end_time": "2022-12-15T13:45:20.982735",
     "exception": false,
     "start_time": "2022-12-15T13:45:20.933150",
     "status": "completed"
    },
    "tags": []
   },
   "source": [
    "##### while preprocessing and viewing the data i observed that in this Datasets the maximum rating of an app is 19 which is not posible yet,we know that the maximum rating of an app in the google play store is 5. >>so we confenditly says that something wrong."
   ]
  },
  {
   "cell_type": "markdown",
   "id": "0d610cc0",
   "metadata": {
    "papermill": {
     "duration": 0.048036,
     "end_time": "2022-12-15T13:45:21.079591",
     "exception": false,
     "start_time": "2022-12-15T13:45:21.031555",
     "status": "completed"
    },
    "tags": []
   },
   "source": [
    "##### By viewing this we say that in the row where rating>5 all data are placed wrong by one position so shift the data to the right hand size and make correct position."
   ]
  },
  {
   "cell_type": "code",
   "execution_count": 6,
   "id": "4b5f3696",
   "metadata": {
    "execution": {
     "iopub.execute_input": "2022-12-15T13:45:21.178946Z",
     "iopub.status.busy": "2022-12-15T13:45:21.177741Z",
     "iopub.status.idle": "2022-12-15T13:45:21.189832Z",
     "shell.execute_reply": "2022-12-15T13:45:21.188830Z"
    },
    "papermill": {
     "duration": 0.063284,
     "end_time": "2022-12-15T13:45:21.192493",
     "exception": false,
     "start_time": "2022-12-15T13:45:21.129209",
     "status": "completed"
    },
    "tags": []
   },
   "outputs": [],
   "source": [
    "data.iloc[10472,1:]=data.iloc[10472,1:].shift(1)\n",
    "\n",
    "### >>By shifting the row right by 1 we get actual value of rating"
   ]
  },
  {
   "cell_type": "markdown",
   "id": "f7d0d553",
   "metadata": {
    "papermill": {
     "duration": 0.047229,
     "end_time": "2022-12-15T13:45:21.289792",
     "exception": false,
     "start_time": "2022-12-15T13:45:21.242563",
     "status": "completed"
    },
    "tags": []
   },
   "source": [
    "**if you run above code block it will shift the row to right by 1 on every execution so be carefull and see the output of row that is shifted for desired result**"
   ]
  },
  {
   "cell_type": "code",
   "execution_count": 7,
   "id": "f986e09d",
   "metadata": {
    "execution": {
     "iopub.execute_input": "2022-12-15T13:45:21.386577Z",
     "iopub.status.busy": "2022-12-15T13:45:21.386062Z",
     "iopub.status.idle": "2022-12-15T13:45:21.394348Z",
     "shell.execute_reply": "2022-12-15T13:45:21.393487Z"
    },
    "papermill": {
     "duration": 0.05993,
     "end_time": "2022-12-15T13:45:21.396850",
     "exception": false,
     "start_time": "2022-12-15T13:45:21.336920",
     "status": "completed"
    },
    "tags": []
   },
   "outputs": [
    {
     "data": {
      "text/plain": [
       "App               Life Made WI-Fi Touchscreen Photo Frame\n",
       "Category                                              NaN\n",
       "Rating                                                1.9\n",
       "Reviews                                              19.0\n",
       "Size                                                 3.0M\n",
       "Installs                                           1,000+\n",
       "Type                                                 Free\n",
       "Price                                                   0\n",
       "Content Rating                                   Everyone\n",
       "Genres                                                NaN\n",
       "Last Updated                            February 11, 2018\n",
       "Current Ver                                        1.0.19\n",
       "Android Ver                                    4.0 and up\n",
       "Name: 10472, dtype: object"
      ]
     },
     "execution_count": 7,
     "metadata": {},
     "output_type": "execute_result"
    }
   ],
   "source": [
    "data.iloc[10472,:]"
   ]
  },
  {
   "cell_type": "markdown",
   "id": "c0a741d7",
   "metadata": {
    "papermill": {
     "duration": 0.047675,
     "end_time": "2022-12-15T13:45:21.491962",
     "exception": false,
     "start_time": "2022-12-15T13:45:21.444287",
     "status": "completed"
    },
    "tags": []
   },
   "source": [
    "## Feature engineering of Last_updated feature\n",
    "##### This add 2 more columns in the data set by spliting the last updated attribute,logic behind by doing this is to find that in which year apps are added or updated on playstore."
   ]
  },
  {
   "cell_type": "code",
   "execution_count": 8,
   "id": "48b93dfe",
   "metadata": {
    "execution": {
     "iopub.execute_input": "2022-12-15T13:45:21.590035Z",
     "iopub.status.busy": "2022-12-15T13:45:21.589099Z",
     "iopub.status.idle": "2022-12-15T13:45:21.777100Z",
     "shell.execute_reply": "2022-12-15T13:45:21.775684Z"
    },
    "papermill": {
     "duration": 0.23975,
     "end_time": "2022-12-15T13:45:21.779770",
     "exception": false,
     "start_time": "2022-12-15T13:45:21.540020",
     "status": "completed"
    },
    "tags": []
   },
   "outputs": [
    {
     "data": {
      "text/html": [
       "<div>\n",
       "<style scoped>\n",
       "    .dataframe tbody tr th:only-of-type {\n",
       "        vertical-align: middle;\n",
       "    }\n",
       "\n",
       "    .dataframe tbody tr th {\n",
       "        vertical-align: top;\n",
       "    }\n",
       "\n",
       "    .dataframe thead th {\n",
       "        text-align: right;\n",
       "    }\n",
       "</style>\n",
       "<table border=\"1\" class=\"dataframe\">\n",
       "  <thead>\n",
       "    <tr style=\"text-align: right;\">\n",
       "      <th></th>\n",
       "      <th>App</th>\n",
       "      <th>Category</th>\n",
       "      <th>Rating</th>\n",
       "      <th>Reviews</th>\n",
       "      <th>Size</th>\n",
       "      <th>Installs</th>\n",
       "      <th>Type</th>\n",
       "      <th>Price</th>\n",
       "      <th>Content Rating</th>\n",
       "      <th>Genres</th>\n",
       "      <th>Last Updated</th>\n",
       "      <th>Current Ver</th>\n",
       "      <th>Android Ver</th>\n",
       "      <th>year_updated</th>\n",
       "      <th>month_updated</th>\n",
       "    </tr>\n",
       "  </thead>\n",
       "  <tbody>\n",
       "    <tr>\n",
       "      <th>0</th>\n",
       "      <td>Photo Editor &amp; Candy Camera &amp; Grid &amp; ScrapBook</td>\n",
       "      <td>ART_AND_DESIGN</td>\n",
       "      <td>4.1</td>\n",
       "      <td>159</td>\n",
       "      <td>19M</td>\n",
       "      <td>10,000+</td>\n",
       "      <td>Free</td>\n",
       "      <td>0</td>\n",
       "      <td>Everyone</td>\n",
       "      <td>Art &amp; Design</td>\n",
       "      <td>2018-01-07</td>\n",
       "      <td>1.0.0</td>\n",
       "      <td>4.0.3 and up</td>\n",
       "      <td>2018</td>\n",
       "      <td>1</td>\n",
       "    </tr>\n",
       "    <tr>\n",
       "      <th>1</th>\n",
       "      <td>Coloring book moana</td>\n",
       "      <td>ART_AND_DESIGN</td>\n",
       "      <td>3.9</td>\n",
       "      <td>967</td>\n",
       "      <td>14M</td>\n",
       "      <td>500,000+</td>\n",
       "      <td>Free</td>\n",
       "      <td>0</td>\n",
       "      <td>Everyone</td>\n",
       "      <td>Art &amp; Design;Pretend Play</td>\n",
       "      <td>2018-01-15</td>\n",
       "      <td>2.0.0</td>\n",
       "      <td>4.0.3 and up</td>\n",
       "      <td>2018</td>\n",
       "      <td>1</td>\n",
       "    </tr>\n",
       "    <tr>\n",
       "      <th>2</th>\n",
       "      <td>U Launcher Lite – FREE Live Cool Themes, Hide ...</td>\n",
       "      <td>ART_AND_DESIGN</td>\n",
       "      <td>4.7</td>\n",
       "      <td>87510</td>\n",
       "      <td>8.7M</td>\n",
       "      <td>5,000,000+</td>\n",
       "      <td>Free</td>\n",
       "      <td>0</td>\n",
       "      <td>Everyone</td>\n",
       "      <td>Art &amp; Design</td>\n",
       "      <td>2018-08-01</td>\n",
       "      <td>1.2.4</td>\n",
       "      <td>4.0.3 and up</td>\n",
       "      <td>2018</td>\n",
       "      <td>8</td>\n",
       "    </tr>\n",
       "    <tr>\n",
       "      <th>3</th>\n",
       "      <td>Sketch - Draw &amp; Paint</td>\n",
       "      <td>ART_AND_DESIGN</td>\n",
       "      <td>4.5</td>\n",
       "      <td>215644</td>\n",
       "      <td>25M</td>\n",
       "      <td>50,000,000+</td>\n",
       "      <td>Free</td>\n",
       "      <td>0</td>\n",
       "      <td>Teen</td>\n",
       "      <td>Art &amp; Design</td>\n",
       "      <td>2018-06-08</td>\n",
       "      <td>Varies with device</td>\n",
       "      <td>4.2 and up</td>\n",
       "      <td>2018</td>\n",
       "      <td>6</td>\n",
       "    </tr>\n",
       "    <tr>\n",
       "      <th>4</th>\n",
       "      <td>Pixel Draw - Number Art Coloring Book</td>\n",
       "      <td>ART_AND_DESIGN</td>\n",
       "      <td>4.3</td>\n",
       "      <td>967</td>\n",
       "      <td>2.8M</td>\n",
       "      <td>100,000+</td>\n",
       "      <td>Free</td>\n",
       "      <td>0</td>\n",
       "      <td>Everyone</td>\n",
       "      <td>Art &amp; Design;Creativity</td>\n",
       "      <td>2018-06-20</td>\n",
       "      <td>1.1</td>\n",
       "      <td>4.4 and up</td>\n",
       "      <td>2018</td>\n",
       "      <td>6</td>\n",
       "    </tr>\n",
       "  </tbody>\n",
       "</table>\n",
       "</div>"
      ],
      "text/plain": [
       "                                                 App        Category Rating  \\\n",
       "0     Photo Editor & Candy Camera & Grid & ScrapBook  ART_AND_DESIGN    4.1   \n",
       "1                                Coloring book moana  ART_AND_DESIGN    3.9   \n",
       "2  U Launcher Lite – FREE Live Cool Themes, Hide ...  ART_AND_DESIGN    4.7   \n",
       "3                              Sketch - Draw & Paint  ART_AND_DESIGN    4.5   \n",
       "4              Pixel Draw - Number Art Coloring Book  ART_AND_DESIGN    4.3   \n",
       "\n",
       "  Reviews  Size     Installs  Type Price Content Rating  \\\n",
       "0     159   19M      10,000+  Free     0       Everyone   \n",
       "1     967   14M     500,000+  Free     0       Everyone   \n",
       "2   87510  8.7M   5,000,000+  Free     0       Everyone   \n",
       "3  215644   25M  50,000,000+  Free     0           Teen   \n",
       "4     967  2.8M     100,000+  Free     0       Everyone   \n",
       "\n",
       "                      Genres Last Updated         Current Ver   Android Ver  \\\n",
       "0               Art & Design   2018-01-07               1.0.0  4.0.3 and up   \n",
       "1  Art & Design;Pretend Play   2018-01-15               2.0.0  4.0.3 and up   \n",
       "2               Art & Design   2018-08-01               1.2.4  4.0.3 and up   \n",
       "3               Art & Design   2018-06-08  Varies with device    4.2 and up   \n",
       "4    Art & Design;Creativity   2018-06-20                 1.1    4.4 and up   \n",
       "\n",
       "   year_updated  month_updated  \n",
       "0          2018              1  \n",
       "1          2018              1  \n",
       "2          2018              8  \n",
       "3          2018              6  \n",
       "4          2018              6  "
      ]
     },
     "execution_count": 8,
     "metadata": {},
     "output_type": "execute_result"
    }
   ],
   "source": [
    "data['Last Updated']=pd.to_datetime(data['Last Updated'])\n",
    "data['year_updated']=data['Last Updated'].dt.year\n",
    "data['month_updated']=data['Last Updated'].dt.month\n",
    "data.head()"
   ]
  },
  {
   "cell_type": "markdown",
   "id": "f9654475",
   "metadata": {
    "papermill": {
     "duration": 0.04793,
     "end_time": "2022-12-15T13:45:21.876066",
     "exception": false,
     "start_time": "2022-12-15T13:45:21.828136",
     "status": "completed"
    },
    "tags": []
   },
   "source": [
    "## Data Visualization"
   ]
  },
  {
   "cell_type": "markdown",
   "id": "f31ed2c6",
   "metadata": {
    "papermill": {
     "duration": 0.047252,
     "end_time": "2022-12-15T13:45:21.971197",
     "exception": false,
     "start_time": "2022-12-15T13:45:21.923945",
     "status": "completed"
    },
    "tags": []
   },
   "source": [
    "\n",
    "### What type of services people loves either paid or free??"
   ]
  },
  {
   "cell_type": "code",
   "execution_count": 9,
   "id": "4857ce6e",
   "metadata": {
    "execution": {
     "iopub.execute_input": "2022-12-15T13:45:22.069211Z",
     "iopub.status.busy": "2022-12-15T13:45:22.068774Z",
     "iopub.status.idle": "2022-12-15T13:45:22.076705Z",
     "shell.execute_reply": "2022-12-15T13:45:22.075672Z"
    },
    "papermill": {
     "duration": 0.060452,
     "end_time": "2022-12-15T13:45:22.079212",
     "exception": false,
     "start_time": "2022-12-15T13:45:22.018760",
     "status": "completed"
    },
    "tags": []
   },
   "outputs": [
    {
     "data": {
      "text/plain": [
       "1"
      ]
     },
     "execution_count": 9,
     "metadata": {},
     "output_type": "execute_result"
    }
   ],
   "source": [
    "data['Type'].isna().sum()      # find number of missing value"
   ]
  },
  {
   "cell_type": "code",
   "execution_count": 10,
   "id": "eeb51b4b",
   "metadata": {
    "execution": {
     "iopub.execute_input": "2022-12-15T13:45:22.176603Z",
     "iopub.status.busy": "2022-12-15T13:45:22.176171Z",
     "iopub.status.idle": "2022-12-15T13:45:22.192790Z",
     "shell.execute_reply": "2022-12-15T13:45:22.191587Z"
    },
    "papermill": {
     "duration": 0.068344,
     "end_time": "2022-12-15T13:45:22.195569",
     "exception": false,
     "start_time": "2022-12-15T13:45:22.127225",
     "status": "completed"
    },
    "tags": []
   },
   "outputs": [],
   "source": [
    "data.dropna(subset=['Type'],inplace=True)     \n",
    "# drop NA value from subset Type and update it"
   ]
  },
  {
   "cell_type": "code",
   "execution_count": 11,
   "id": "e7631d81",
   "metadata": {
    "execution": {
     "iopub.execute_input": "2022-12-15T13:45:22.294573Z",
     "iopub.status.busy": "2022-12-15T13:45:22.294154Z",
     "iopub.status.idle": "2022-12-15T13:45:22.304127Z",
     "shell.execute_reply": "2022-12-15T13:45:22.302823Z"
    },
    "papermill": {
     "duration": 0.061649,
     "end_time": "2022-12-15T13:45:22.306526",
     "exception": false,
     "start_time": "2022-12-15T13:45:22.244877",
     "status": "completed"
    },
    "tags": []
   },
   "outputs": [
    {
     "data": {
      "text/plain": [
       "array(['Free', 'Paid'], dtype=object)"
      ]
     },
     "execution_count": 11,
     "metadata": {},
     "output_type": "execute_result"
    }
   ],
   "source": [
    "data['Type'].unique()            # find all unique subcategory"
   ]
  },
  {
   "cell_type": "code",
   "execution_count": 12,
   "id": "7e485a1a",
   "metadata": {
    "execution": {
     "iopub.execute_input": "2022-12-15T13:45:22.407023Z",
     "iopub.status.busy": "2022-12-15T13:45:22.406174Z",
     "iopub.status.idle": "2022-12-15T13:45:22.414196Z",
     "shell.execute_reply": "2022-12-15T13:45:22.412898Z"
    },
    "papermill": {
     "duration": 0.061079,
     "end_time": "2022-12-15T13:45:22.416524",
     "exception": false,
     "start_time": "2022-12-15T13:45:22.355445",
     "status": "completed"
    },
    "tags": []
   },
   "outputs": [],
   "source": [
    "labels=data['Type'].value_counts().index\n",
    "values=data['Type'].value_counts().values\n",
    "# for plotting pie plot"
   ]
  },
  {
   "cell_type": "code",
   "execution_count": 13,
   "id": "aa63b7f3",
   "metadata": {
    "execution": {
     "iopub.execute_input": "2022-12-15T13:45:22.513409Z",
     "iopub.status.busy": "2022-12-15T13:45:22.512973Z",
     "iopub.status.idle": "2022-12-15T13:45:24.830461Z",
     "shell.execute_reply": "2022-12-15T13:45:24.829603Z"
    },
    "papermill": {
     "duration": 2.368569,
     "end_time": "2022-12-15T13:45:24.832719",
     "exception": false,
     "start_time": "2022-12-15T13:45:22.464150",
     "status": "completed"
    },
    "tags": []
   },
   "outputs": [
    {
     "data": {
      "text/html": [
       "        <script type=\"text/javascript\">\n",
       "        window.PlotlyConfig = {MathJaxConfig: 'local'};\n",
       "        if (window.MathJax && window.MathJax.Hub && window.MathJax.Hub.Config) {window.MathJax.Hub.Config({SVG: {font: \"STIX-Web\"}});}\n",
       "        if (typeof require !== 'undefined') {\n",
       "        require.undef(\"plotly\");\n",
       "        requirejs.config({\n",
       "            paths: {\n",
       "                'plotly': ['https://cdn.plot.ly/plotly-2.14.0.min']\n",
       "            }\n",
       "        });\n",
       "        require(['plotly'], function(Plotly) {\n",
       "            window._Plotly = Plotly;\n",
       "        });\n",
       "        }\n",
       "        </script>\n",
       "        "
      ]
     },
     "metadata": {},
     "output_type": "display_data"
    },
    {
     "data": {
      "text/html": [
       "<div>                            <div id=\"4d927afe-7104-46fd-aac4-32e5c7053470\" class=\"plotly-graph-div\" style=\"height:525px; width:100%;\"></div>            <script type=\"text/javascript\">                require([\"plotly\"], function(Plotly) {                    window.PLOTLYENV=window.PLOTLYENV || {};                                    if (document.getElementById(\"4d927afe-7104-46fd-aac4-32e5c7053470\")) {                    Plotly.newPlot(                        \"4d927afe-7104-46fd-aac4-32e5c7053470\",                        [{\"domain\":{\"x\":[0.0,1.0],\"y\":[0.0,1.0]},\"hovertemplate\":\"label=%{label}<br>value=%{value}<extra></extra>\",\"labels\":[\"Free\",\"Paid\"],\"legendgroup\":\"\",\"name\":\"\",\"showlegend\":true,\"values\":[10040,800],\"type\":\"pie\"}],                        {\"template\":{\"data\":{\"histogram2dcontour\":[{\"type\":\"histogram2dcontour\",\"colorbar\":{\"outlinewidth\":0,\"ticks\":\"\"},\"colorscale\":[[0.0,\"#0d0887\"],[0.1111111111111111,\"#46039f\"],[0.2222222222222222,\"#7201a8\"],[0.3333333333333333,\"#9c179e\"],[0.4444444444444444,\"#bd3786\"],[0.5555555555555556,\"#d8576b\"],[0.6666666666666666,\"#ed7953\"],[0.7777777777777778,\"#fb9f3a\"],[0.8888888888888888,\"#fdca26\"],[1.0,\"#f0f921\"]]}],\"choropleth\":[{\"type\":\"choropleth\",\"colorbar\":{\"outlinewidth\":0,\"ticks\":\"\"}}],\"histogram2d\":[{\"type\":\"histogram2d\",\"colorbar\":{\"outlinewidth\":0,\"ticks\":\"\"},\"colorscale\":[[0.0,\"#0d0887\"],[0.1111111111111111,\"#46039f\"],[0.2222222222222222,\"#7201a8\"],[0.3333333333333333,\"#9c179e\"],[0.4444444444444444,\"#bd3786\"],[0.5555555555555556,\"#d8576b\"],[0.6666666666666666,\"#ed7953\"],[0.7777777777777778,\"#fb9f3a\"],[0.8888888888888888,\"#fdca26\"],[1.0,\"#f0f921\"]]}],\"heatmap\":[{\"type\":\"heatmap\",\"colorbar\":{\"outlinewidth\":0,\"ticks\":\"\"},\"colorscale\":[[0.0,\"#0d0887\"],[0.1111111111111111,\"#46039f\"],[0.2222222222222222,\"#7201a8\"],[0.3333333333333333,\"#9c179e\"],[0.4444444444444444,\"#bd3786\"],[0.5555555555555556,\"#d8576b\"],[0.6666666666666666,\"#ed7953\"],[0.7777777777777778,\"#fb9f3a\"],[0.8888888888888888,\"#fdca26\"],[1.0,\"#f0f921\"]]}],\"heatmapgl\":[{\"type\":\"heatmapgl\",\"colorbar\":{\"outlinewidth\":0,\"ticks\":\"\"},\"colorscale\":[[0.0,\"#0d0887\"],[0.1111111111111111,\"#46039f\"],[0.2222222222222222,\"#7201a8\"],[0.3333333333333333,\"#9c179e\"],[0.4444444444444444,\"#bd3786\"],[0.5555555555555556,\"#d8576b\"],[0.6666666666666666,\"#ed7953\"],[0.7777777777777778,\"#fb9f3a\"],[0.8888888888888888,\"#fdca26\"],[1.0,\"#f0f921\"]]}],\"contourcarpet\":[{\"type\":\"contourcarpet\",\"colorbar\":{\"outlinewidth\":0,\"ticks\":\"\"}}],\"contour\":[{\"type\":\"contour\",\"colorbar\":{\"outlinewidth\":0,\"ticks\":\"\"},\"colorscale\":[[0.0,\"#0d0887\"],[0.1111111111111111,\"#46039f\"],[0.2222222222222222,\"#7201a8\"],[0.3333333333333333,\"#9c179e\"],[0.4444444444444444,\"#bd3786\"],[0.5555555555555556,\"#d8576b\"],[0.6666666666666666,\"#ed7953\"],[0.7777777777777778,\"#fb9f3a\"],[0.8888888888888888,\"#fdca26\"],[1.0,\"#f0f921\"]]}],\"surface\":[{\"type\":\"surface\",\"colorbar\":{\"outlinewidth\":0,\"ticks\":\"\"},\"colorscale\":[[0.0,\"#0d0887\"],[0.1111111111111111,\"#46039f\"],[0.2222222222222222,\"#7201a8\"],[0.3333333333333333,\"#9c179e\"],[0.4444444444444444,\"#bd3786\"],[0.5555555555555556,\"#d8576b\"],[0.6666666666666666,\"#ed7953\"],[0.7777777777777778,\"#fb9f3a\"],[0.8888888888888888,\"#fdca26\"],[1.0,\"#f0f921\"]]}],\"mesh3d\":[{\"type\":\"mesh3d\",\"colorbar\":{\"outlinewidth\":0,\"ticks\":\"\"}}],\"scatter\":[{\"fillpattern\":{\"fillmode\":\"overlay\",\"size\":10,\"solidity\":0.2},\"type\":\"scatter\"}],\"parcoords\":[{\"type\":\"parcoords\",\"line\":{\"colorbar\":{\"outlinewidth\":0,\"ticks\":\"\"}}}],\"scatterpolargl\":[{\"type\":\"scatterpolargl\",\"marker\":{\"colorbar\":{\"outlinewidth\":0,\"ticks\":\"\"}}}],\"bar\":[{\"error_x\":{\"color\":\"#2a3f5f\"},\"error_y\":{\"color\":\"#2a3f5f\"},\"marker\":{\"line\":{\"color\":\"#E5ECF6\",\"width\":0.5},\"pattern\":{\"fillmode\":\"overlay\",\"size\":10,\"solidity\":0.2}},\"type\":\"bar\"}],\"scattergeo\":[{\"type\":\"scattergeo\",\"marker\":{\"colorbar\":{\"outlinewidth\":0,\"ticks\":\"\"}}}],\"scatterpolar\":[{\"type\":\"scatterpolar\",\"marker\":{\"colorbar\":{\"outlinewidth\":0,\"ticks\":\"\"}}}],\"histogram\":[{\"marker\":{\"pattern\":{\"fillmode\":\"overlay\",\"size\":10,\"solidity\":0.2}},\"type\":\"histogram\"}],\"scattergl\":[{\"type\":\"scattergl\",\"marker\":{\"colorbar\":{\"outlinewidth\":0,\"ticks\":\"\"}}}],\"scatter3d\":[{\"type\":\"scatter3d\",\"line\":{\"colorbar\":{\"outlinewidth\":0,\"ticks\":\"\"}},\"marker\":{\"colorbar\":{\"outlinewidth\":0,\"ticks\":\"\"}}}],\"scattermapbox\":[{\"type\":\"scattermapbox\",\"marker\":{\"colorbar\":{\"outlinewidth\":0,\"ticks\":\"\"}}}],\"scatterternary\":[{\"type\":\"scatterternary\",\"marker\":{\"colorbar\":{\"outlinewidth\":0,\"ticks\":\"\"}}}],\"scattercarpet\":[{\"type\":\"scattercarpet\",\"marker\":{\"colorbar\":{\"outlinewidth\":0,\"ticks\":\"\"}}}],\"carpet\":[{\"aaxis\":{\"endlinecolor\":\"#2a3f5f\",\"gridcolor\":\"white\",\"linecolor\":\"white\",\"minorgridcolor\":\"white\",\"startlinecolor\":\"#2a3f5f\"},\"baxis\":{\"endlinecolor\":\"#2a3f5f\",\"gridcolor\":\"white\",\"linecolor\":\"white\",\"minorgridcolor\":\"white\",\"startlinecolor\":\"#2a3f5f\"},\"type\":\"carpet\"}],\"table\":[{\"cells\":{\"fill\":{\"color\":\"#EBF0F8\"},\"line\":{\"color\":\"white\"}},\"header\":{\"fill\":{\"color\":\"#C8D4E3\"},\"line\":{\"color\":\"white\"}},\"type\":\"table\"}],\"barpolar\":[{\"marker\":{\"line\":{\"color\":\"#E5ECF6\",\"width\":0.5},\"pattern\":{\"fillmode\":\"overlay\",\"size\":10,\"solidity\":0.2}},\"type\":\"barpolar\"}],\"pie\":[{\"automargin\":true,\"type\":\"pie\"}]},\"layout\":{\"autotypenumbers\":\"strict\",\"colorway\":[\"#636efa\",\"#EF553B\",\"#00cc96\",\"#ab63fa\",\"#FFA15A\",\"#19d3f3\",\"#FF6692\",\"#B6E880\",\"#FF97FF\",\"#FECB52\"],\"font\":{\"color\":\"#2a3f5f\"},\"hovermode\":\"closest\",\"hoverlabel\":{\"align\":\"left\"},\"paper_bgcolor\":\"white\",\"plot_bgcolor\":\"#E5ECF6\",\"polar\":{\"bgcolor\":\"#E5ECF6\",\"angularaxis\":{\"gridcolor\":\"white\",\"linecolor\":\"white\",\"ticks\":\"\"},\"radialaxis\":{\"gridcolor\":\"white\",\"linecolor\":\"white\",\"ticks\":\"\"}},\"ternary\":{\"bgcolor\":\"#E5ECF6\",\"aaxis\":{\"gridcolor\":\"white\",\"linecolor\":\"white\",\"ticks\":\"\"},\"baxis\":{\"gridcolor\":\"white\",\"linecolor\":\"white\",\"ticks\":\"\"},\"caxis\":{\"gridcolor\":\"white\",\"linecolor\":\"white\",\"ticks\":\"\"}},\"coloraxis\":{\"colorbar\":{\"outlinewidth\":0,\"ticks\":\"\"}},\"colorscale\":{\"sequential\":[[0.0,\"#0d0887\"],[0.1111111111111111,\"#46039f\"],[0.2222222222222222,\"#7201a8\"],[0.3333333333333333,\"#9c179e\"],[0.4444444444444444,\"#bd3786\"],[0.5555555555555556,\"#d8576b\"],[0.6666666666666666,\"#ed7953\"],[0.7777777777777778,\"#fb9f3a\"],[0.8888888888888888,\"#fdca26\"],[1.0,\"#f0f921\"]],\"sequentialminus\":[[0.0,\"#0d0887\"],[0.1111111111111111,\"#46039f\"],[0.2222222222222222,\"#7201a8\"],[0.3333333333333333,\"#9c179e\"],[0.4444444444444444,\"#bd3786\"],[0.5555555555555556,\"#d8576b\"],[0.6666666666666666,\"#ed7953\"],[0.7777777777777778,\"#fb9f3a\"],[0.8888888888888888,\"#fdca26\"],[1.0,\"#f0f921\"]],\"diverging\":[[0,\"#8e0152\"],[0.1,\"#c51b7d\"],[0.2,\"#de77ae\"],[0.3,\"#f1b6da\"],[0.4,\"#fde0ef\"],[0.5,\"#f7f7f7\"],[0.6,\"#e6f5d0\"],[0.7,\"#b8e186\"],[0.8,\"#7fbc41\"],[0.9,\"#4d9221\"],[1,\"#276419\"]]},\"xaxis\":{\"gridcolor\":\"white\",\"linecolor\":\"white\",\"ticks\":\"\",\"title\":{\"standoff\":15},\"zerolinecolor\":\"white\",\"automargin\":true,\"zerolinewidth\":2},\"yaxis\":{\"gridcolor\":\"white\",\"linecolor\":\"white\",\"ticks\":\"\",\"title\":{\"standoff\":15},\"zerolinecolor\":\"white\",\"automargin\":true,\"zerolinewidth\":2},\"scene\":{\"xaxis\":{\"backgroundcolor\":\"#E5ECF6\",\"gridcolor\":\"white\",\"linecolor\":\"white\",\"showbackground\":true,\"ticks\":\"\",\"zerolinecolor\":\"white\",\"gridwidth\":2},\"yaxis\":{\"backgroundcolor\":\"#E5ECF6\",\"gridcolor\":\"white\",\"linecolor\":\"white\",\"showbackground\":true,\"ticks\":\"\",\"zerolinecolor\":\"white\",\"gridwidth\":2},\"zaxis\":{\"backgroundcolor\":\"#E5ECF6\",\"gridcolor\":\"white\",\"linecolor\":\"white\",\"showbackground\":true,\"ticks\":\"\",\"zerolinecolor\":\"white\",\"gridwidth\":2}},\"shapedefaults\":{\"line\":{\"color\":\"#2a3f5f\"}},\"annotationdefaults\":{\"arrowcolor\":\"#2a3f5f\",\"arrowhead\":0,\"arrowwidth\":1},\"geo\":{\"bgcolor\":\"white\",\"landcolor\":\"#E5ECF6\",\"subunitcolor\":\"white\",\"showland\":true,\"showlakes\":true,\"lakecolor\":\"white\"},\"title\":{\"x\":0.05},\"mapbox\":{\"style\":\"light\"}}},\"legend\":{\"tracegroupgap\":0},\"margin\":{\"t\":60}},                        {\"responsive\": true}                    ).then(function(){\n",
       "                            \n",
       "var gd = document.getElementById('4d927afe-7104-46fd-aac4-32e5c7053470');\n",
       "var x = new MutationObserver(function (mutations, observer) {{\n",
       "        var display = window.getComputedStyle(gd).display;\n",
       "        if (!display || display === 'none') {{\n",
       "            console.log([gd, 'removed!']);\n",
       "            Plotly.purge(gd);\n",
       "            observer.disconnect();\n",
       "        }}\n",
       "}});\n",
       "\n",
       "// Listen for the removal of the full notebook cells\n",
       "var notebookContainer = gd.closest('#notebook-container');\n",
       "if (notebookContainer) {{\n",
       "    x.observe(notebookContainer, {childList: true});\n",
       "}}\n",
       "\n",
       "// Listen for the clearing of the current output cell\n",
       "var outputEl = gd.closest('.output');\n",
       "if (outputEl) {{\n",
       "    x.observe(outputEl, {childList: true});\n",
       "}}\n",
       "\n",
       "                        })                };                });            </script>        </div>"
      ]
     },
     "metadata": {},
     "output_type": "display_data"
    }
   ],
   "source": [
    "import plotly.express as px\n",
    "px.pie(names=labels,values=values)"
   ]
  },
  {
   "cell_type": "markdown",
   "id": "27084ab1",
   "metadata": {
    "papermill": {
     "duration": 0.120679,
     "end_time": "2022-12-15T13:45:25.002226",
     "exception": false,
     "start_time": "2022-12-15T13:45:24.881547",
     "status": "completed"
    },
    "tags": []
   },
   "source": [
    "##### The observation from above pie chart is that 92.6% apps are freee and 7.38% apps are paid on google playstore."
   ]
  },
  {
   "cell_type": "markdown",
   "id": "b1c39123",
   "metadata": {
    "papermill": {
     "duration": 0.047769,
     "end_time": "2022-12-15T13:45:25.099374",
     "exception": false,
     "start_time": "2022-12-15T13:45:25.051605",
     "status": "completed"
    },
    "tags": []
   },
   "source": [
    "## Lets perform analysis with respect to both free & paid applications.."
   ]
  },
  {
   "cell_type": "code",
   "execution_count": 14,
   "id": "9c0863af",
   "metadata": {
    "execution": {
     "iopub.execute_input": "2022-12-15T13:45:25.198247Z",
     "iopub.status.busy": "2022-12-15T13:45:25.197789Z",
     "iopub.status.idle": "2022-12-15T13:45:25.210658Z",
     "shell.execute_reply": "2022-12-15T13:45:25.209522Z"
    },
    "papermill": {
     "duration": 0.065731,
     "end_time": "2022-12-15T13:45:25.213127",
     "exception": false,
     "start_time": "2022-12-15T13:45:25.147396",
     "status": "completed"
    },
    "tags": []
   },
   "outputs": [],
   "source": [
    "df_free=data[data['Type']=='Free']    # data wrt free apps\n",
    "df_paid=data[data['Type']=='Paid']    # data wrt paid apps"
   ]
  },
  {
   "cell_type": "code",
   "execution_count": 15,
   "id": "df66c2c4",
   "metadata": {
    "execution": {
     "iopub.execute_input": "2022-12-15T13:45:25.314155Z",
     "iopub.status.busy": "2022-12-15T13:45:25.313486Z",
     "iopub.status.idle": "2022-12-15T13:45:25.326852Z",
     "shell.execute_reply": "2022-12-15T13:45:25.325535Z"
    },
    "papermill": {
     "duration": 0.066775,
     "end_time": "2022-12-15T13:45:25.329386",
     "exception": false,
     "start_time": "2022-12-15T13:45:25.262611",
     "status": "completed"
    },
    "tags": []
   },
   "outputs": [
    {
     "data": {
      "text/html": [
       "<div>\n",
       "<style scoped>\n",
       "    .dataframe tbody tr th:only-of-type {\n",
       "        vertical-align: middle;\n",
       "    }\n",
       "\n",
       "    .dataframe tbody tr th {\n",
       "        vertical-align: top;\n",
       "    }\n",
       "\n",
       "    .dataframe thead th {\n",
       "        text-align: right;\n",
       "    }\n",
       "</style>\n",
       "<table border=\"1\" class=\"dataframe\">\n",
       "  <thead>\n",
       "    <tr style=\"text-align: right;\">\n",
       "      <th></th>\n",
       "      <th>year</th>\n",
       "      <th>count</th>\n",
       "    </tr>\n",
       "  </thead>\n",
       "  <tbody>\n",
       "    <tr>\n",
       "      <th>0</th>\n",
       "      <td>2018</td>\n",
       "      <td>7004</td>\n",
       "    </tr>\n",
       "    <tr>\n",
       "      <th>1</th>\n",
       "      <td>2017</td>\n",
       "      <td>1684</td>\n",
       "    </tr>\n",
       "    <tr>\n",
       "      <th>2</th>\n",
       "      <td>2016</td>\n",
       "      <td>710</td>\n",
       "    </tr>\n",
       "    <tr>\n",
       "      <th>3</th>\n",
       "      <td>2015</td>\n",
       "      <td>377</td>\n",
       "    </tr>\n",
       "    <tr>\n",
       "      <th>4</th>\n",
       "      <td>2014</td>\n",
       "      <td>150</td>\n",
       "    </tr>\n",
       "    <tr>\n",
       "      <th>5</th>\n",
       "      <td>2013</td>\n",
       "      <td>81</td>\n",
       "    </tr>\n",
       "    <tr>\n",
       "      <th>6</th>\n",
       "      <td>2012</td>\n",
       "      <td>21</td>\n",
       "    </tr>\n",
       "    <tr>\n",
       "      <th>7</th>\n",
       "      <td>2011</td>\n",
       "      <td>12</td>\n",
       "    </tr>\n",
       "    <tr>\n",
       "      <th>8</th>\n",
       "      <td>2010</td>\n",
       "      <td>1</td>\n",
       "    </tr>\n",
       "  </tbody>\n",
       "</table>\n",
       "</div>"
      ],
      "text/plain": [
       "   year  count\n",
       "0  2018   7004\n",
       "1  2017   1684\n",
       "2  2016    710\n",
       "3  2015    377\n",
       "4  2014    150\n",
       "5  2013     81\n",
       "6  2012     21\n",
       "7  2011     12\n",
       "8  2010      1"
      ]
     },
     "execution_count": 15,
     "metadata": {},
     "output_type": "execute_result"
    }
   ],
   "source": [
    "free=df_free['year_updated'].value_counts().reset_index()\n",
    "# count free apps updated every year and reset the index\n",
    "free.columns=['year','count']\n",
    "# rename column\n",
    "free"
   ]
  },
  {
   "cell_type": "code",
   "execution_count": 16,
   "id": "0b14fd79",
   "metadata": {
    "execution": {
     "iopub.execute_input": "2022-12-15T13:45:25.432125Z",
     "iopub.status.busy": "2022-12-15T13:45:25.431395Z",
     "iopub.status.idle": "2022-12-15T13:45:25.445170Z",
     "shell.execute_reply": "2022-12-15T13:45:25.443059Z"
    },
    "papermill": {
     "duration": 0.067463,
     "end_time": "2022-12-15T13:45:25.447797",
     "exception": false,
     "start_time": "2022-12-15T13:45:25.380334",
     "status": "completed"
    },
    "tags": []
   },
   "outputs": [
    {
     "data": {
      "text/html": [
       "<div>\n",
       "<style scoped>\n",
       "    .dataframe tbody tr th:only-of-type {\n",
       "        vertical-align: middle;\n",
       "    }\n",
       "\n",
       "    .dataframe tbody tr th {\n",
       "        vertical-align: top;\n",
       "    }\n",
       "\n",
       "    .dataframe thead th {\n",
       "        text-align: right;\n",
       "    }\n",
       "</style>\n",
       "<table border=\"1\" class=\"dataframe\">\n",
       "  <thead>\n",
       "    <tr style=\"text-align: right;\">\n",
       "      <th></th>\n",
       "      <th>year</th>\n",
       "      <th>count</th>\n",
       "    </tr>\n",
       "  </thead>\n",
       "  <tbody>\n",
       "    <tr>\n",
       "      <th>0</th>\n",
       "      <td>2018</td>\n",
       "      <td>345</td>\n",
       "    </tr>\n",
       "    <tr>\n",
       "      <th>1</th>\n",
       "      <td>2017</td>\n",
       "      <td>183</td>\n",
       "    </tr>\n",
       "    <tr>\n",
       "      <th>2</th>\n",
       "      <td>2016</td>\n",
       "      <td>94</td>\n",
       "    </tr>\n",
       "    <tr>\n",
       "      <th>3</th>\n",
       "      <td>2015</td>\n",
       "      <td>82</td>\n",
       "    </tr>\n",
       "    <tr>\n",
       "      <th>4</th>\n",
       "      <td>2014</td>\n",
       "      <td>59</td>\n",
       "    </tr>\n",
       "    <tr>\n",
       "      <th>5</th>\n",
       "      <td>2013</td>\n",
       "      <td>29</td>\n",
       "    </tr>\n",
       "    <tr>\n",
       "      <th>6</th>\n",
       "      <td>2012</td>\n",
       "      <td>5</td>\n",
       "    </tr>\n",
       "    <tr>\n",
       "      <th>7</th>\n",
       "      <td>2011</td>\n",
       "      <td>3</td>\n",
       "    </tr>\n",
       "  </tbody>\n",
       "</table>\n",
       "</div>"
      ],
      "text/plain": [
       "   year  count\n",
       "0  2018    345\n",
       "1  2017    183\n",
       "2  2016     94\n",
       "3  2015     82\n",
       "4  2014     59\n",
       "5  2013     29\n",
       "6  2012      5\n",
       "7  2011      3"
      ]
     },
     "execution_count": 16,
     "metadata": {},
     "output_type": "execute_result"
    }
   ],
   "source": [
    "paid=df_paid['year_updated'].value_counts().reset_index()\n",
    "# count paid apps updated every year and reset the index\n",
    "paid.columns=['year','count']\n",
    "# rename column\n",
    "paid"
   ]
  },
  {
   "cell_type": "markdown",
   "id": "d3fa6595",
   "metadata": {
    "papermill": {
     "duration": 0.049809,
     "end_time": "2022-12-15T13:45:25.547737",
     "exception": false,
     "start_time": "2022-12-15T13:45:25.497928",
     "status": "completed"
    },
    "tags": []
   },
   "source": [
    "##### Paid data does not have 2010 column so append a column for 2010 with 0 apps"
   ]
  },
  {
   "cell_type": "code",
   "execution_count": 17,
   "id": "6b434d85",
   "metadata": {
    "execution": {
     "iopub.execute_input": "2022-12-15T13:45:25.651836Z",
     "iopub.status.busy": "2022-12-15T13:45:25.650851Z",
     "iopub.status.idle": "2022-12-15T13:45:25.666005Z",
     "shell.execute_reply": "2022-12-15T13:45:25.665100Z"
    },
    "papermill": {
     "duration": 0.06812,
     "end_time": "2022-12-15T13:45:25.668377",
     "exception": false,
     "start_time": "2022-12-15T13:45:25.600257",
     "status": "completed"
    },
    "tags": []
   },
   "outputs": [
    {
     "data": {
      "text/html": [
       "<div>\n",
       "<style scoped>\n",
       "    .dataframe tbody tr th:only-of-type {\n",
       "        vertical-align: middle;\n",
       "    }\n",
       "\n",
       "    .dataframe tbody tr th {\n",
       "        vertical-align: top;\n",
       "    }\n",
       "\n",
       "    .dataframe thead th {\n",
       "        text-align: right;\n",
       "    }\n",
       "</style>\n",
       "<table border=\"1\" class=\"dataframe\">\n",
       "  <thead>\n",
       "    <tr style=\"text-align: right;\">\n",
       "      <th></th>\n",
       "      <th>year</th>\n",
       "      <th>count</th>\n",
       "    </tr>\n",
       "  </thead>\n",
       "  <tbody>\n",
       "    <tr>\n",
       "      <th>0</th>\n",
       "      <td>2018</td>\n",
       "      <td>345</td>\n",
       "    </tr>\n",
       "    <tr>\n",
       "      <th>1</th>\n",
       "      <td>2017</td>\n",
       "      <td>183</td>\n",
       "    </tr>\n",
       "    <tr>\n",
       "      <th>2</th>\n",
       "      <td>2016</td>\n",
       "      <td>94</td>\n",
       "    </tr>\n",
       "    <tr>\n",
       "      <th>3</th>\n",
       "      <td>2015</td>\n",
       "      <td>82</td>\n",
       "    </tr>\n",
       "    <tr>\n",
       "      <th>4</th>\n",
       "      <td>2014</td>\n",
       "      <td>59</td>\n",
       "    </tr>\n",
       "    <tr>\n",
       "      <th>5</th>\n",
       "      <td>2013</td>\n",
       "      <td>29</td>\n",
       "    </tr>\n",
       "    <tr>\n",
       "      <th>6</th>\n",
       "      <td>2012</td>\n",
       "      <td>5</td>\n",
       "    </tr>\n",
       "    <tr>\n",
       "      <th>7</th>\n",
       "      <td>2011</td>\n",
       "      <td>3</td>\n",
       "    </tr>\n",
       "    <tr>\n",
       "      <th>8</th>\n",
       "      <td>2010</td>\n",
       "      <td>0</td>\n",
       "    </tr>\n",
       "  </tbody>\n",
       "</table>\n",
       "</div>"
      ],
      "text/plain": [
       "   year  count\n",
       "0  2018    345\n",
       "1  2017    183\n",
       "2  2016     94\n",
       "3  2015     82\n",
       "4  2014     59\n",
       "5  2013     29\n",
       "6  2012      5\n",
       "7  2011      3\n",
       "8  2010      0"
      ]
     },
     "execution_count": 17,
     "metadata": {},
     "output_type": "execute_result"
    }
   ],
   "source": [
    "paid = paid.append({'year':2010,'count':0},ignore_index=True)\n",
    "paid"
   ]
  },
  {
   "cell_type": "code",
   "execution_count": 18,
   "id": "b9d9752a",
   "metadata": {
    "execution": {
     "iopub.execute_input": "2022-12-15T13:45:25.769072Z",
     "iopub.status.busy": "2022-12-15T13:45:25.768410Z",
     "iopub.status.idle": "2022-12-15T13:45:40.019901Z",
     "shell.execute_reply": "2022-12-15T13:45:40.018461Z"
    },
    "papermill": {
     "duration": 14.305785,
     "end_time": "2022-12-15T13:45:40.023079",
     "exception": false,
     "start_time": "2022-12-15T13:45:25.717294",
     "status": "completed"
    },
    "tags": []
   },
   "outputs": [
    {
     "name": "stdout",
     "output_type": "stream",
     "text": [
      "Collecting chart_studio\r\n",
      "  Downloading chart_studio-1.1.0-py3-none-any.whl (64 kB)\r\n",
      "\u001b[2K     \u001b[90m━━━━━━━━━━━━━━━━━━━━━━━━━━━━━━━━━━━━━━━\u001b[0m \u001b[32m64.4/64.4 kB\u001b[0m \u001b[31m740.0 kB/s\u001b[0m eta \u001b[36m0:00:00\u001b[0m\r\n",
      "\u001b[?25hRequirement already satisfied: retrying>=1.3.3 in /opt/conda/lib/python3.7/site-packages (from chart_studio) (1.3.3)\r\n",
      "Requirement already satisfied: six in /opt/conda/lib/python3.7/site-packages (from chart_studio) (1.15.0)\r\n",
      "Requirement already satisfied: requests in /opt/conda/lib/python3.7/site-packages (from chart_studio) (2.28.1)\r\n",
      "Requirement already satisfied: plotly in /opt/conda/lib/python3.7/site-packages (from chart_studio) (5.10.0)\r\n",
      "Requirement already satisfied: tenacity>=6.2.0 in /opt/conda/lib/python3.7/site-packages (from plotly->chart_studio) (8.0.1)\r\n",
      "Requirement already satisfied: urllib3<1.27,>=1.21.1 in /opt/conda/lib/python3.7/site-packages (from requests->chart_studio) (1.26.12)\r\n",
      "Requirement already satisfied: charset-normalizer<3,>=2 in /opt/conda/lib/python3.7/site-packages (from requests->chart_studio) (2.1.0)\r\n",
      "Requirement already satisfied: idna<4,>=2.5 in /opt/conda/lib/python3.7/site-packages (from requests->chart_studio) (3.3)\r\n",
      "Requirement already satisfied: certifi>=2017.4.17 in /opt/conda/lib/python3.7/site-packages (from requests->chart_studio) (2022.9.24)\r\n",
      "Installing collected packages: chart_studio\r\n",
      "Successfully installed chart_studio-1.1.0\r\n",
      "\u001b[33mWARNING: Running pip as the 'root' user can result in broken permissions and conflicting behaviour with the system package manager. It is recommended to use a virtual environment instead: https://pip.pypa.io/warnings/venv\u001b[0m\u001b[33m\r\n",
      "\u001b[0m"
     ]
    }
   ],
   "source": [
    "!pip install chart_studio"
   ]
  },
  {
   "cell_type": "code",
   "execution_count": 19,
   "id": "5e17b6d4",
   "metadata": {
    "execution": {
     "iopub.execute_input": "2022-12-15T13:45:40.127337Z",
     "iopub.status.busy": "2022-12-15T13:45:40.126828Z",
     "iopub.status.idle": "2022-12-15T13:45:40.614868Z",
     "shell.execute_reply": "2022-12-15T13:45:40.613518Z"
    },
    "papermill": {
     "duration": 0.543011,
     "end_time": "2022-12-15T13:45:40.617775",
     "exception": false,
     "start_time": "2022-12-15T13:45:40.074764",
     "status": "completed"
    },
    "tags": []
   },
   "outputs": [
    {
     "data": {
      "image/png": "[encoded data removed]",
      "text/plain": [
       "<Figure size 432x288 with 1 Axes>"
      ]
     },
     "metadata": {
      "needs_background": "light"
     },
     "output_type": "display_data"
    }
   ],
   "source": [
    "plt.scatter(paid[\"year\"],paid[\"count\"])\n",
    "plt.plot(paid[\"year\"],paid[\"count\"], label =\"paid apps\")\n",
    "plt.scatter(free[\"year\"],free[\"count\"])\n",
    "plt.plot(free[\"year\"],free[\"count\"], label = \"free apps\")\n",
    "plt.legend()\n",
    "plt.show()"
   ]
  },
  {
   "cell_type": "markdown",
   "id": "1cb2c861",
   "metadata": {
    "papermill": {
     "duration": 0.050509,
     "end_time": "2022-12-15T13:45:40.718607",
     "exception": false,
     "start_time": "2022-12-15T13:45:40.668098",
     "status": "completed"
    },
    "tags": []
   },
   "source": [
    "### For better visualization"
   ]
  },
  {
   "cell_type": "code",
   "execution_count": 20,
   "id": "01c01373",
   "metadata": {
    "execution": {
     "iopub.execute_input": "2022-12-15T13:45:40.820599Z",
     "iopub.status.busy": "2022-12-15T13:45:40.819399Z",
     "iopub.status.idle": "2022-12-15T13:45:40.838766Z",
     "shell.execute_reply": "2022-12-15T13:45:40.837653Z"
    },
    "papermill": {
     "duration": 0.073302,
     "end_time": "2022-12-15T13:45:40.841572",
     "exception": false,
     "start_time": "2022-12-15T13:45:40.768270",
     "status": "completed"
    },
    "tags": []
   },
   "outputs": [],
   "source": [
    "import chart_studio.plotly as py\n",
    "import plotly.graph_objs as go\n",
    "from plotly.offline import plot,iplot"
   ]
  },
  {
   "cell_type": "code",
   "execution_count": 21,
   "id": "28c32585",
   "metadata": {
    "execution": {
     "iopub.execute_input": "2022-12-15T13:45:40.943737Z",
     "iopub.status.busy": "2022-12-15T13:45:40.942621Z",
     "iopub.status.idle": "2022-12-15T13:45:40.952790Z",
     "shell.execute_reply": "2022-12-15T13:45:40.951581Z"
    },
    "papermill": {
     "duration": 0.063776,
     "end_time": "2022-12-15T13:45:40.955260",
     "exception": false,
     "start_time": "2022-12-15T13:45:40.891484",
     "status": "completed"
    },
    "tags": []
   },
   "outputs": [],
   "source": [
    "trace1=go.Scatter(x=free['year'],y=free['count'])\n",
    "trace2=go.Scatter(x=paid['year'],y=paid['count'])"
   ]
  },
  {
   "cell_type": "code",
   "execution_count": 22,
   "id": "c2dd0c6b",
   "metadata": {
    "execution": {
     "iopub.execute_input": "2022-12-15T13:45:41.061335Z",
     "iopub.status.busy": "2022-12-15T13:45:41.060181Z",
     "iopub.status.idle": "2022-12-15T13:45:41.065229Z",
     "shell.execute_reply": "2022-12-15T13:45:41.064411Z"
    },
    "papermill": {
     "duration": 0.059536,
     "end_time": "2022-12-15T13:45:41.067574",
     "exception": false,
     "start_time": "2022-12-15T13:45:41.008038",
     "status": "completed"
    },
    "tags": []
   },
   "outputs": [],
   "source": [
    "layout={\n",
    "    'xaxis':{'title':'years'},\n",
    "    'yaxis':{'title':'Number of apps'}\n",
    "}"
   ]
  },
  {
   "cell_type": "code",
   "execution_count": 23,
   "id": "08bbbf7e",
   "metadata": {
    "execution": {
     "iopub.execute_input": "2022-12-15T13:45:41.171403Z",
     "iopub.status.busy": "2022-12-15T13:45:41.170670Z",
     "iopub.status.idle": "2022-12-15T13:45:41.206807Z",
     "shell.execute_reply": "2022-12-15T13:45:41.205423Z"
    },
    "papermill": {
     "duration": 0.090779,
     "end_time": "2022-12-15T13:45:41.209498",
     "exception": false,
     "start_time": "2022-12-15T13:45:41.118719",
     "status": "completed"
    },
    "tags": []
   },
   "outputs": [
    {
     "data": {
      "text/html": [
       "<div>                            <div id=\"a607ac7e-3d2f-4e75-9634-91a402223e81\" class=\"plotly-graph-div\" style=\"height:525px; width:100%;\"></div>            <script type=\"text/javascript\">                require([\"plotly\"], function(Plotly) {                    window.PLOTLYENV=window.PLOTLYENV || {};                                    if (document.getElementById(\"a607ac7e-3d2f-4e75-9634-91a402223e81\")) {                    Plotly.newPlot(                        \"a607ac7e-3d2f-4e75-9634-91a402223e81\",                        [{\"x\":[2018,2017,2016,2015,2014,2013,2012,2011,2010],\"y\":[7004,1684,710,377,150,81,21,12,1],\"type\":\"scatter\"},{\"x\":[2018,2017,2016,2015,2014,2013,2012,2011,2010],\"y\":[345,183,94,82,59,29,5,3,0],\"type\":\"scatter\"}],                        {\"template\":{\"data\":{\"barpolar\":[{\"marker\":{\"line\":{\"color\":\"#E5ECF6\",\"width\":0.5},\"pattern\":{\"fillmode\":\"overlay\",\"size\":10,\"solidity\":0.2}},\"type\":\"barpolar\"}],\"bar\":[{\"error_x\":{\"color\":\"#2a3f5f\"},\"error_y\":{\"color\":\"#2a3f5f\"},\"marker\":{\"line\":{\"color\":\"#E5ECF6\",\"width\":0.5},\"pattern\":{\"fillmode\":\"overlay\",\"size\":10,\"solidity\":0.2}},\"type\":\"bar\"}],\"carpet\":[{\"aaxis\":{\"endlinecolor\":\"#2a3f5f\",\"gridcolor\":\"white\",\"linecolor\":\"white\",\"minorgridcolor\":\"white\",\"startlinecolor\":\"#2a3f5f\"},\"baxis\":{\"endlinecolor\":\"#2a3f5f\",\"gridcolor\":\"white\",\"linecolor\":\"white\",\"minorgridcolor\":\"white\",\"startlinecolor\":\"#2a3f5f\"},\"type\":\"carpet\"}],\"choropleth\":[{\"colorbar\":{\"outlinewidth\":0,\"ticks\":\"\"},\"type\":\"choropleth\"}],\"contourcarpet\":[{\"colorbar\":{\"outlinewidth\":0,\"ticks\":\"\"},\"type\":\"contourcarpet\"}],\"contour\":[{\"colorbar\":{\"outlinewidth\":0,\"ticks\":\"\"},\"colorscale\":[[0.0,\"#0d0887\"],[0.1111111111111111,\"#46039f\"],[0.2222222222222222,\"#7201a8\"],[0.3333333333333333,\"#9c179e\"],[0.4444444444444444,\"#bd3786\"],[0.5555555555555556,\"#d8576b\"],[0.6666666666666666,\"#ed7953\"],[0.7777777777777778,\"#fb9f3a\"],[0.8888888888888888,\"#fdca26\"],[1.0,\"#f0f921\"]],\"type\":\"contour\"}],\"heatmapgl\":[{\"colorbar\":{\"outlinewidth\":0,\"ticks\":\"\"},\"colorscale\":[[0.0,\"#0d0887\"],[0.1111111111111111,\"#46039f\"],[0.2222222222222222,\"#7201a8\"],[0.3333333333333333,\"#9c179e\"],[0.4444444444444444,\"#bd3786\"],[0.5555555555555556,\"#d8576b\"],[0.6666666666666666,\"#ed7953\"],[0.7777777777777778,\"#fb9f3a\"],[0.8888888888888888,\"#fdca26\"],[1.0,\"#f0f921\"]],\"type\":\"heatmapgl\"}],\"heatmap\":[{\"colorbar\":{\"outlinewidth\":0,\"ticks\":\"\"},\"colorscale\":[[0.0,\"#0d0887\"],[0.1111111111111111,\"#46039f\"],[0.2222222222222222,\"#7201a8\"],[0.3333333333333333,\"#9c179e\"],[0.4444444444444444,\"#bd3786\"],[0.5555555555555556,\"#d8576b\"],[0.6666666666666666,\"#ed7953\"],[0.7777777777777778,\"#fb9f3a\"],[0.8888888888888888,\"#fdca26\"],[1.0,\"#f0f921\"]],\"type\":\"heatmap\"}],\"histogram2dcontour\":[{\"colorbar\":{\"outlinewidth\":0,\"ticks\":\"\"},\"colorscale\":[[0.0,\"#0d0887\"],[0.1111111111111111,\"#46039f\"],[0.2222222222222222,\"#7201a8\"],[0.3333333333333333,\"#9c179e\"],[0.4444444444444444,\"#bd3786\"],[0.5555555555555556,\"#d8576b\"],[0.6666666666666666,\"#ed7953\"],[0.7777777777777778,\"#fb9f3a\"],[0.8888888888888888,\"#fdca26\"],[1.0,\"#f0f921\"]],\"type\":\"histogram2dcontour\"}],\"histogram2d\":[{\"colorbar\":{\"outlinewidth\":0,\"ticks\":\"\"},\"colorscale\":[[0.0,\"#0d0887\"],[0.1111111111111111,\"#46039f\"],[0.2222222222222222,\"#7201a8\"],[0.3333333333333333,\"#9c179e\"],[0.4444444444444444,\"#bd3786\"],[0.5555555555555556,\"#d8576b\"],[0.6666666666666666,\"#ed7953\"],[0.7777777777777778,\"#fb9f3a\"],[0.8888888888888888,\"#fdca26\"],[1.0,\"#f0f921\"]],\"type\":\"histogram2d\"}],\"histogram\":[{\"marker\":{\"pattern\":{\"fillmode\":\"overlay\",\"size\":10,\"solidity\":0.2}},\"type\":\"histogram\"}],\"mesh3d\":[{\"colorbar\":{\"outlinewidth\":0,\"ticks\":\"\"},\"type\":\"mesh3d\"}],\"parcoords\":[{\"line\":{\"colorbar\":{\"outlinewidth\":0,\"ticks\":\"\"}},\"type\":\"parcoords\"}],\"pie\":[{\"automargin\":true,\"type\":\"pie\"}],\"scatter3d\":[{\"line\":{\"colorbar\":{\"outlinewidth\":0,\"ticks\":\"\"}},\"marker\":{\"colorbar\":{\"outlinewidth\":0,\"ticks\":\"\"}},\"type\":\"scatter3d\"}],\"scattercarpet\":[{\"marker\":{\"colorbar\":{\"outlinewidth\":0,\"ticks\":\"\"}},\"type\":\"scattercarpet\"}],\"scattergeo\":[{\"marker\":{\"colorbar\":{\"outlinewidth\":0,\"ticks\":\"\"}},\"type\":\"scattergeo\"}],\"scattergl\":[{\"marker\":{\"colorbar\":{\"outlinewidth\":0,\"ticks\":\"\"}},\"type\":\"scattergl\"}],\"scattermapbox\":[{\"marker\":{\"colorbar\":{\"outlinewidth\":0,\"ticks\":\"\"}},\"type\":\"scattermapbox\"}],\"scatterpolargl\":[{\"marker\":{\"colorbar\":{\"outlinewidth\":0,\"ticks\":\"\"}},\"type\":\"scatterpolargl\"}],\"scatterpolar\":[{\"marker\":{\"colorbar\":{\"outlinewidth\":0,\"ticks\":\"\"}},\"type\":\"scatterpolar\"}],\"scatter\":[{\"fillpattern\":{\"fillmode\":\"overlay\",\"size\":10,\"solidity\":0.2},\"type\":\"scatter\"}],\"scatterternary\":[{\"marker\":{\"colorbar\":{\"outlinewidth\":0,\"ticks\":\"\"}},\"type\":\"scatterternary\"}],\"surface\":[{\"colorbar\":{\"outlinewidth\":0,\"ticks\":\"\"},\"colorscale\":[[0.0,\"#0d0887\"],[0.1111111111111111,\"#46039f\"],[0.2222222222222222,\"#7201a8\"],[0.3333333333333333,\"#9c179e\"],[0.4444444444444444,\"#bd3786\"],[0.5555555555555556,\"#d8576b\"],[0.6666666666666666,\"#ed7953\"],[0.7777777777777778,\"#fb9f3a\"],[0.8888888888888888,\"#fdca26\"],[1.0,\"#f0f921\"]],\"type\":\"surface\"}],\"table\":[{\"cells\":{\"fill\":{\"color\":\"#EBF0F8\"},\"line\":{\"color\":\"white\"}},\"header\":{\"fill\":{\"color\":\"#C8D4E3\"},\"line\":{\"color\":\"white\"}},\"type\":\"table\"}]},\"layout\":{\"annotationdefaults\":{\"arrowcolor\":\"#2a3f5f\",\"arrowhead\":0,\"arrowwidth\":1},\"autotypenumbers\":\"strict\",\"coloraxis\":{\"colorbar\":{\"outlinewidth\":0,\"ticks\":\"\"}},\"colorscale\":{\"diverging\":[[0,\"#8e0152\"],[0.1,\"#c51b7d\"],[0.2,\"#de77ae\"],[0.3,\"#f1b6da\"],[0.4,\"#fde0ef\"],[0.5,\"#f7f7f7\"],[0.6,\"#e6f5d0\"],[0.7,\"#b8e186\"],[0.8,\"#7fbc41\"],[0.9,\"#4d9221\"],[1,\"#276419\"]],\"sequential\":[[0.0,\"#0d0887\"],[0.1111111111111111,\"#46039f\"],[0.2222222222222222,\"#7201a8\"],[0.3333333333333333,\"#9c179e\"],[0.4444444444444444,\"#bd3786\"],[0.5555555555555556,\"#d8576b\"],[0.6666666666666666,\"#ed7953\"],[0.7777777777777778,\"#fb9f3a\"],[0.8888888888888888,\"#fdca26\"],[1.0,\"#f0f921\"]],\"sequentialminus\":[[0.0,\"#0d0887\"],[0.1111111111111111,\"#46039f\"],[0.2222222222222222,\"#7201a8\"],[0.3333333333333333,\"#9c179e\"],[0.4444444444444444,\"#bd3786\"],[0.5555555555555556,\"#d8576b\"],[0.6666666666666666,\"#ed7953\"],[0.7777777777777778,\"#fb9f3a\"],[0.8888888888888888,\"#fdca26\"],[1.0,\"#f0f921\"]]},\"colorway\":[\"#636efa\",\"#EF553B\",\"#00cc96\",\"#ab63fa\",\"#FFA15A\",\"#19d3f3\",\"#FF6692\",\"#B6E880\",\"#FF97FF\",\"#FECB52\"],\"font\":{\"color\":\"#2a3f5f\"},\"geo\":{\"bgcolor\":\"white\",\"lakecolor\":\"white\",\"landcolor\":\"#E5ECF6\",\"showlakes\":true,\"showland\":true,\"subunitcolor\":\"white\"},\"hoverlabel\":{\"align\":\"left\"},\"hovermode\":\"closest\",\"mapbox\":{\"style\":\"light\"},\"paper_bgcolor\":\"white\",\"plot_bgcolor\":\"#E5ECF6\",\"polar\":{\"angularaxis\":{\"gridcolor\":\"white\",\"linecolor\":\"white\",\"ticks\":\"\"},\"bgcolor\":\"#E5ECF6\",\"radialaxis\":{\"gridcolor\":\"white\",\"linecolor\":\"white\",\"ticks\":\"\"}},\"scene\":{\"xaxis\":{\"backgroundcolor\":\"#E5ECF6\",\"gridcolor\":\"white\",\"gridwidth\":2,\"linecolor\":\"white\",\"showbackground\":true,\"ticks\":\"\",\"zerolinecolor\":\"white\"},\"yaxis\":{\"backgroundcolor\":\"#E5ECF6\",\"gridcolor\":\"white\",\"gridwidth\":2,\"linecolor\":\"white\",\"showbackground\":true,\"ticks\":\"\",\"zerolinecolor\":\"white\"},\"zaxis\":{\"backgroundcolor\":\"#E5ECF6\",\"gridcolor\":\"white\",\"gridwidth\":2,\"linecolor\":\"white\",\"showbackground\":true,\"ticks\":\"\",\"zerolinecolor\":\"white\"}},\"shapedefaults\":{\"line\":{\"color\":\"#2a3f5f\"}},\"ternary\":{\"aaxis\":{\"gridcolor\":\"white\",\"linecolor\":\"white\",\"ticks\":\"\"},\"baxis\":{\"gridcolor\":\"white\",\"linecolor\":\"white\",\"ticks\":\"\"},\"bgcolor\":\"#E5ECF6\",\"caxis\":{\"gridcolor\":\"white\",\"linecolor\":\"white\",\"ticks\":\"\"}},\"title\":{\"x\":0.05},\"xaxis\":{\"automargin\":true,\"gridcolor\":\"white\",\"linecolor\":\"white\",\"ticks\":\"\",\"title\":{\"standoff\":15},\"zerolinecolor\":\"white\",\"zerolinewidth\":2},\"yaxis\":{\"automargin\":true,\"gridcolor\":\"white\",\"linecolor\":\"white\",\"ticks\":\"\",\"title\":{\"standoff\":15},\"zerolinecolor\":\"white\",\"zerolinewidth\":2}}},\"xaxis\":{\"title\":{\"text\":\"years\"}},\"yaxis\":{\"title\":{\"text\":\"Number of apps\"}}},                        {\"responsive\": true}                    ).then(function(){\n",
       "                            \n",
       "var gd = document.getElementById('a607ac7e-3d2f-4e75-9634-91a402223e81');\n",
       "var x = new MutationObserver(function (mutations, observer) {{\n",
       "        var display = window.getComputedStyle(gd).display;\n",
       "        if (!display || display === 'none') {{\n",
       "            console.log([gd, 'removed!']);\n",
       "            Plotly.purge(gd);\n",
       "            observer.disconnect();\n",
       "        }}\n",
       "}});\n",
       "\n",
       "// Listen for the removal of the full notebook cells\n",
       "var notebookContainer = gd.closest('#notebook-container');\n",
       "if (notebookContainer) {{\n",
       "    x.observe(notebookContainer, {childList: true});\n",
       "}}\n",
       "\n",
       "// Listen for the clearing of the current output cell\n",
       "var outputEl = gd.closest('.output');\n",
       "if (outputEl) {{\n",
       "    x.observe(outputEl, {childList: true});\n",
       "}}\n",
       "\n",
       "                        })                };                });            </script>        </div>"
      ]
     },
     "metadata": {},
     "output_type": "display_data"
    }
   ],
   "source": [
    "fig=go.Figure(data=[trace1,trace2],layout=layout)\n",
    "iplot(fig)"
   ]
  },
  {
   "cell_type": "markdown",
   "id": "f29b6793",
   "metadata": {
    "papermill": {
     "duration": 0.050933,
     "end_time": "2022-12-15T13:45:41.311855",
     "exception": false,
     "start_time": "2022-12-15T13:45:41.260922",
     "status": "completed"
    },
    "tags": []
   },
   "source": [
    "#### In the above plot I have plotted the app updated or added over the year. By observing this plot we conclude that before 2011 there were no paid apps. But with the year free apps are added in huge ammount in comparision to paid apps."
   ]
  },
  {
   "cell_type": "markdown",
   "id": "806a0c24",
   "metadata": {
    "papermill": {
     "duration": 0.049436,
     "end_time": "2022-12-15T13:45:41.411637",
     "exception": false,
     "start_time": "2022-12-15T13:45:41.362201",
     "status": "completed"
    },
    "tags": []
   },
   "source": [
    "### Automate above stuffs"
   ]
  },
  {
   "cell_type": "code",
   "execution_count": 24,
   "id": "9a50c3b8",
   "metadata": {
    "execution": {
     "iopub.execute_input": "2022-12-15T13:45:41.513180Z",
     "iopub.status.busy": "2022-12-15T13:45:41.512725Z",
     "iopub.status.idle": "2022-12-15T13:45:41.518858Z",
     "shell.execute_reply": "2022-12-15T13:45:41.517630Z"
    },
    "papermill": {
     "duration": 0.059574,
     "end_time": "2022-12-15T13:45:41.521231",
     "exception": false,
     "start_time": "2022-12-15T13:45:41.461657",
     "status": "completed"
    },
    "tags": []
   },
   "outputs": [],
   "source": [
    "def stats(dataframe,feature,column1,column2):\n",
    "    df=dataframe[feature].value_counts().reset_index()\n",
    "    df.columns=[column1,column2]\n",
    "    return df"
   ]
  },
  {
   "cell_type": "code",
   "execution_count": 25,
   "id": "87a893aa",
   "metadata": {
    "execution": {
     "iopub.execute_input": "2022-12-15T13:45:41.624080Z",
     "iopub.status.busy": "2022-12-15T13:45:41.623015Z",
     "iopub.status.idle": "2022-12-15T13:45:41.636656Z",
     "shell.execute_reply": "2022-12-15T13:45:41.635437Z"
    },
    "papermill": {
     "duration": 0.0681,
     "end_time": "2022-12-15T13:45:41.639366",
     "exception": false,
     "start_time": "2022-12-15T13:45:41.571266",
     "status": "completed"
    },
    "tags": []
   },
   "outputs": [
    {
     "data": {
      "text/html": [
       "<div>\n",
       "<style scoped>\n",
       "    .dataframe tbody tr th:only-of-type {\n",
       "        vertical-align: middle;\n",
       "    }\n",
       "\n",
       "    .dataframe tbody tr th {\n",
       "        vertical-align: top;\n",
       "    }\n",
       "\n",
       "    .dataframe thead th {\n",
       "        text-align: right;\n",
       "    }\n",
       "</style>\n",
       "<table border=\"1\" class=\"dataframe\">\n",
       "  <thead>\n",
       "    <tr style=\"text-align: right;\">\n",
       "      <th></th>\n",
       "      <th>year</th>\n",
       "      <th>count</th>\n",
       "    </tr>\n",
       "  </thead>\n",
       "  <tbody>\n",
       "    <tr>\n",
       "      <th>0</th>\n",
       "      <td>2018</td>\n",
       "      <td>7004</td>\n",
       "    </tr>\n",
       "    <tr>\n",
       "      <th>1</th>\n",
       "      <td>2017</td>\n",
       "      <td>1684</td>\n",
       "    </tr>\n",
       "    <tr>\n",
       "      <th>2</th>\n",
       "      <td>2016</td>\n",
       "      <td>710</td>\n",
       "    </tr>\n",
       "    <tr>\n",
       "      <th>3</th>\n",
       "      <td>2015</td>\n",
       "      <td>377</td>\n",
       "    </tr>\n",
       "    <tr>\n",
       "      <th>4</th>\n",
       "      <td>2014</td>\n",
       "      <td>150</td>\n",
       "    </tr>\n",
       "    <tr>\n",
       "      <th>5</th>\n",
       "      <td>2013</td>\n",
       "      <td>81</td>\n",
       "    </tr>\n",
       "    <tr>\n",
       "      <th>6</th>\n",
       "      <td>2012</td>\n",
       "      <td>21</td>\n",
       "    </tr>\n",
       "    <tr>\n",
       "      <th>7</th>\n",
       "      <td>2011</td>\n",
       "      <td>12</td>\n",
       "    </tr>\n",
       "    <tr>\n",
       "      <th>8</th>\n",
       "      <td>2010</td>\n",
       "      <td>1</td>\n",
       "    </tr>\n",
       "  </tbody>\n",
       "</table>\n",
       "</div>"
      ],
      "text/plain": [
       "   year  count\n",
       "0  2018   7004\n",
       "1  2017   1684\n",
       "2  2016    710\n",
       "3  2015    377\n",
       "4  2014    150\n",
       "5  2013     81\n",
       "6  2012     21\n",
       "7  2011     12\n",
       "8  2010      1"
      ]
     },
     "execution_count": 25,
     "metadata": {},
     "output_type": "execute_result"
    }
   ],
   "source": [
    "free = stats(df_free,'year_updated','year','count')\n",
    "free"
   ]
  },
  {
   "cell_type": "code",
   "execution_count": 26,
   "id": "fe54909d",
   "metadata": {
    "execution": {
     "iopub.execute_input": "2022-12-15T13:45:41.744960Z",
     "iopub.status.busy": "2022-12-15T13:45:41.744122Z",
     "iopub.status.idle": "2022-12-15T13:45:41.760110Z",
     "shell.execute_reply": "2022-12-15T13:45:41.758818Z"
    },
    "papermill": {
     "duration": 0.071495,
     "end_time": "2022-12-15T13:45:41.762884",
     "exception": false,
     "start_time": "2022-12-15T13:45:41.691389",
     "status": "completed"
    },
    "tags": []
   },
   "outputs": [
    {
     "data": {
      "text/html": [
       "<div>\n",
       "<style scoped>\n",
       "    .dataframe tbody tr th:only-of-type {\n",
       "        vertical-align: middle;\n",
       "    }\n",
       "\n",
       "    .dataframe tbody tr th {\n",
       "        vertical-align: top;\n",
       "    }\n",
       "\n",
       "    .dataframe thead th {\n",
       "        text-align: right;\n",
       "    }\n",
       "</style>\n",
       "<table border=\"1\" class=\"dataframe\">\n",
       "  <thead>\n",
       "    <tr style=\"text-align: right;\">\n",
       "      <th></th>\n",
       "      <th>year</th>\n",
       "      <th>count</th>\n",
       "    </tr>\n",
       "  </thead>\n",
       "  <tbody>\n",
       "    <tr>\n",
       "      <th>0</th>\n",
       "      <td>2018</td>\n",
       "      <td>345</td>\n",
       "    </tr>\n",
       "    <tr>\n",
       "      <th>1</th>\n",
       "      <td>2017</td>\n",
       "      <td>183</td>\n",
       "    </tr>\n",
       "    <tr>\n",
       "      <th>2</th>\n",
       "      <td>2016</td>\n",
       "      <td>94</td>\n",
       "    </tr>\n",
       "    <tr>\n",
       "      <th>3</th>\n",
       "      <td>2015</td>\n",
       "      <td>82</td>\n",
       "    </tr>\n",
       "    <tr>\n",
       "      <th>4</th>\n",
       "      <td>2014</td>\n",
       "      <td>59</td>\n",
       "    </tr>\n",
       "    <tr>\n",
       "      <th>5</th>\n",
       "      <td>2013</td>\n",
       "      <td>29</td>\n",
       "    </tr>\n",
       "    <tr>\n",
       "      <th>6</th>\n",
       "      <td>2012</td>\n",
       "      <td>5</td>\n",
       "    </tr>\n",
       "    <tr>\n",
       "      <th>7</th>\n",
       "      <td>2011</td>\n",
       "      <td>3</td>\n",
       "    </tr>\n",
       "    <tr>\n",
       "      <th>8</th>\n",
       "      <td>2010</td>\n",
       "      <td>0</td>\n",
       "    </tr>\n",
       "  </tbody>\n",
       "</table>\n",
       "</div>"
      ],
      "text/plain": [
       "   year  count\n",
       "0  2018    345\n",
       "1  2017    183\n",
       "2  2016     94\n",
       "3  2015     82\n",
       "4  2014     59\n",
       "5  2013     29\n",
       "6  2012      5\n",
       "7  2011      3\n",
       "8  2010      0"
      ]
     },
     "execution_count": 26,
     "metadata": {},
     "output_type": "execute_result"
    }
   ],
   "source": [
    "paid = stats(df_paid,'year_updated','year','count')\n",
    "paid = paid.append({'year':2010,'count':0},ignore_index=True)\n",
    "paid"
   ]
  },
  {
   "cell_type": "code",
   "execution_count": 27,
   "id": "6594fa4a",
   "metadata": {
    "execution": {
     "iopub.execute_input": "2022-12-15T13:45:41.867913Z",
     "iopub.status.busy": "2022-12-15T13:45:41.867101Z",
     "iopub.status.idle": "2022-12-15T13:45:41.874323Z",
     "shell.execute_reply": "2022-12-15T13:45:41.873451Z"
    },
    "papermill": {
     "duration": 0.062784,
     "end_time": "2022-12-15T13:45:41.876884",
     "exception": false,
     "start_time": "2022-12-15T13:45:41.814100",
     "status": "completed"
    },
    "tags": []
   },
   "outputs": [],
   "source": [
    "def need_visual(df1=None,df2=None,column1=None,column2=None,dict_layout=None,visual='scatter'):\n",
    "    if visual=='scatter':\n",
    "        trace1=go.Scatter(x=df1[column1],y=df1[column2])\n",
    "        trace2=go.Scatter(x=df2[column1],y=df2[column2])\n",
    "        y=[trace1,trace2]\n",
    "        layout=dict_layout\n",
    "        fig=go.Figure(data=y,layout=layout)\n",
    "        return iplot(fig)\n",
    "    elif visual=='bar':\n",
    "        return px.bar(df1,x=column1,y=column2)"
   ]
  },
  {
   "cell_type": "code",
   "execution_count": 28,
   "id": "e2f7af83",
   "metadata": {
    "execution": {
     "iopub.execute_input": "2022-12-15T13:45:41.981546Z",
     "iopub.status.busy": "2022-12-15T13:45:41.980698Z",
     "iopub.status.idle": "2022-12-15T13:45:42.014375Z",
     "shell.execute_reply": "2022-12-15T13:45:42.013101Z"
    },
    "papermill": {
     "duration": 0.088952,
     "end_time": "2022-12-15T13:45:42.017116",
     "exception": false,
     "start_time": "2022-12-15T13:45:41.928164",
     "status": "completed"
    },
    "tags": []
   },
   "outputs": [
    {
     "data": {
      "text/html": [
       "<div>                            <div id=\"bf00bbce-b045-48a5-9026-bd13a04e0ecd\" class=\"plotly-graph-div\" style=\"height:525px; width:100%;\"></div>            <script type=\"text/javascript\">                require([\"plotly\"], function(Plotly) {                    window.PLOTLYENV=window.PLOTLYENV || {};                                    if (document.getElementById(\"bf00bbce-b045-48a5-9026-bd13a04e0ecd\")) {                    Plotly.newPlot(                        \"bf00bbce-b045-48a5-9026-bd13a04e0ecd\",                        [{\"x\":[2018,2017,2016,2015,2014,2013,2012,2011,2010],\"y\":[7004,1684,710,377,150,81,21,12,1],\"type\":\"scatter\"},{\"x\":[2018,2017,2016,2015,2014,2013,2012,2011,2010],\"y\":[345,183,94,82,59,29,5,3,0],\"type\":\"scatter\"}],                        {\"template\":{\"data\":{\"barpolar\":[{\"marker\":{\"line\":{\"color\":\"#E5ECF6\",\"width\":0.5},\"pattern\":{\"fillmode\":\"overlay\",\"size\":10,\"solidity\":0.2}},\"type\":\"barpolar\"}],\"bar\":[{\"error_x\":{\"color\":\"#2a3f5f\"},\"error_y\":{\"color\":\"#2a3f5f\"},\"marker\":{\"line\":{\"color\":\"#E5ECF6\",\"width\":0.5},\"pattern\":{\"fillmode\":\"overlay\",\"size\":10,\"solidity\":0.2}},\"type\":\"bar\"}],\"carpet\":[{\"aaxis\":{\"endlinecolor\":\"#2a3f5f\",\"gridcolor\":\"white\",\"linecolor\":\"white\",\"minorgridcolor\":\"white\",\"startlinecolor\":\"#2a3f5f\"},\"baxis\":{\"endlinecolor\":\"#2a3f5f\",\"gridcolor\":\"white\",\"linecolor\":\"white\",\"minorgridcolor\":\"white\",\"startlinecolor\":\"#2a3f5f\"},\"type\":\"carpet\"}],\"choropleth\":[{\"colorbar\":{\"outlinewidth\":0,\"ticks\":\"\"},\"type\":\"choropleth\"}],\"contourcarpet\":[{\"colorbar\":{\"outlinewidth\":0,\"ticks\":\"\"},\"type\":\"contourcarpet\"}],\"contour\":[{\"colorbar\":{\"outlinewidth\":0,\"ticks\":\"\"},\"colorscale\":[[0.0,\"#0d0887\"],[0.1111111111111111,\"#46039f\"],[0.2222222222222222,\"#7201a8\"],[0.3333333333333333,\"#9c179e\"],[0.4444444444444444,\"#bd3786\"],[0.5555555555555556,\"#d8576b\"],[0.6666666666666666,\"#ed7953\"],[0.7777777777777778,\"#fb9f3a\"],[0.8888888888888888,\"#fdca26\"],[1.0,\"#f0f921\"]],\"type\":\"contour\"}],\"heatmapgl\":[{\"colorbar\":{\"outlinewidth\":0,\"ticks\":\"\"},\"colorscale\":[[0.0,\"#0d0887\"],[0.1111111111111111,\"#46039f\"],[0.2222222222222222,\"#7201a8\"],[0.3333333333333333,\"#9c179e\"],[0.4444444444444444,\"#bd3786\"],[0.5555555555555556,\"#d8576b\"],[0.6666666666666666,\"#ed7953\"],[0.7777777777777778,\"#fb9f3a\"],[0.8888888888888888,\"#fdca26\"],[1.0,\"#f0f921\"]],\"type\":\"heatmapgl\"}],\"heatmap\":[{\"colorbar\":{\"outlinewidth\":0,\"ticks\":\"\"},\"colorscale\":[[0.0,\"#0d0887\"],[0.1111111111111111,\"#46039f\"],[0.2222222222222222,\"#7201a8\"],[0.3333333333333333,\"#9c179e\"],[0.4444444444444444,\"#bd3786\"],[0.5555555555555556,\"#d8576b\"],[0.6666666666666666,\"#ed7953\"],[0.7777777777777778,\"#fb9f3a\"],[0.8888888888888888,\"#fdca26\"],[1.0,\"#f0f921\"]],\"type\":\"heatmap\"}],\"histogram2dcontour\":[{\"colorbar\":{\"outlinewidth\":0,\"ticks\":\"\"},\"colorscale\":[[0.0,\"#0d0887\"],[0.1111111111111111,\"#46039f\"],[0.2222222222222222,\"#7201a8\"],[0.3333333333333333,\"#9c179e\"],[0.4444444444444444,\"#bd3786\"],[0.5555555555555556,\"#d8576b\"],[0.6666666666666666,\"#ed7953\"],[0.7777777777777778,\"#fb9f3a\"],[0.8888888888888888,\"#fdca26\"],[1.0,\"#f0f921\"]],\"type\":\"histogram2dcontour\"}],\"histogram2d\":[{\"colorbar\":{\"outlinewidth\":0,\"ticks\":\"\"},\"colorscale\":[[0.0,\"#0d0887\"],[0.1111111111111111,\"#46039f\"],[0.2222222222222222,\"#7201a8\"],[0.3333333333333333,\"#9c179e\"],[0.4444444444444444,\"#bd3786\"],[0.5555555555555556,\"#d8576b\"],[0.6666666666666666,\"#ed7953\"],[0.7777777777777778,\"#fb9f3a\"],[0.8888888888888888,\"#fdca26\"],[1.0,\"#f0f921\"]],\"type\":\"histogram2d\"}],\"histogram\":[{\"marker\":{\"pattern\":{\"fillmode\":\"overlay\",\"size\":10,\"solidity\":0.2}},\"type\":\"histogram\"}],\"mesh3d\":[{\"colorbar\":{\"outlinewidth\":0,\"ticks\":\"\"},\"type\":\"mesh3d\"}],\"parcoords\":[{\"line\":{\"colorbar\":{\"outlinewidth\":0,\"ticks\":\"\"}},\"type\":\"parcoords\"}],\"pie\":[{\"automargin\":true,\"type\":\"pie\"}],\"scatter3d\":[{\"line\":{\"colorbar\":{\"outlinewidth\":0,\"ticks\":\"\"}},\"marker\":{\"colorbar\":{\"outlinewidth\":0,\"ticks\":\"\"}},\"type\":\"scatter3d\"}],\"scattercarpet\":[{\"marker\":{\"colorbar\":{\"outlinewidth\":0,\"ticks\":\"\"}},\"type\":\"scattercarpet\"}],\"scattergeo\":[{\"marker\":{\"colorbar\":{\"outlinewidth\":0,\"ticks\":\"\"}},\"type\":\"scattergeo\"}],\"scattergl\":[{\"marker\":{\"colorbar\":{\"outlinewidth\":0,\"ticks\":\"\"}},\"type\":\"scattergl\"}],\"scattermapbox\":[{\"marker\":{\"colorbar\":{\"outlinewidth\":0,\"ticks\":\"\"}},\"type\":\"scattermapbox\"}],\"scatterpolargl\":[{\"marker\":{\"colorbar\":{\"outlinewidth\":0,\"ticks\":\"\"}},\"type\":\"scatterpolargl\"}],\"scatterpolar\":[{\"marker\":{\"colorbar\":{\"outlinewidth\":0,\"ticks\":\"\"}},\"type\":\"scatterpolar\"}],\"scatter\":[{\"fillpattern\":{\"fillmode\":\"overlay\",\"size\":10,\"solidity\":0.2},\"type\":\"scatter\"}],\"scatterternary\":[{\"marker\":{\"colorbar\":{\"outlinewidth\":0,\"ticks\":\"\"}},\"type\":\"scatterternary\"}],\"surface\":[{\"colorbar\":{\"outlinewidth\":0,\"ticks\":\"\"},\"colorscale\":[[0.0,\"#0d0887\"],[0.1111111111111111,\"#46039f\"],[0.2222222222222222,\"#7201a8\"],[0.3333333333333333,\"#9c179e\"],[0.4444444444444444,\"#bd3786\"],[0.5555555555555556,\"#d8576b\"],[0.6666666666666666,\"#ed7953\"],[0.7777777777777778,\"#fb9f3a\"],[0.8888888888888888,\"#fdca26\"],[1.0,\"#f0f921\"]],\"type\":\"surface\"}],\"table\":[{\"cells\":{\"fill\":{\"color\":\"#EBF0F8\"},\"line\":{\"color\":\"white\"}},\"header\":{\"fill\":{\"color\":\"#C8D4E3\"},\"line\":{\"color\":\"white\"}},\"type\":\"table\"}]},\"layout\":{\"annotationdefaults\":{\"arrowcolor\":\"#2a3f5f\",\"arrowhead\":0,\"arrowwidth\":1},\"autotypenumbers\":\"strict\",\"coloraxis\":{\"colorbar\":{\"outlinewidth\":0,\"ticks\":\"\"}},\"colorscale\":{\"diverging\":[[0,\"#8e0152\"],[0.1,\"#c51b7d\"],[0.2,\"#de77ae\"],[0.3,\"#f1b6da\"],[0.4,\"#fde0ef\"],[0.5,\"#f7f7f7\"],[0.6,\"#e6f5d0\"],[0.7,\"#b8e186\"],[0.8,\"#7fbc41\"],[0.9,\"#4d9221\"],[1,\"#276419\"]],\"sequential\":[[0.0,\"#0d0887\"],[0.1111111111111111,\"#46039f\"],[0.2222222222222222,\"#7201a8\"],[0.3333333333333333,\"#9c179e\"],[0.4444444444444444,\"#bd3786\"],[0.5555555555555556,\"#d8576b\"],[0.6666666666666666,\"#ed7953\"],[0.7777777777777778,\"#fb9f3a\"],[0.8888888888888888,\"#fdca26\"],[1.0,\"#f0f921\"]],\"sequentialminus\":[[0.0,\"#0d0887\"],[0.1111111111111111,\"#46039f\"],[0.2222222222222222,\"#7201a8\"],[0.3333333333333333,\"#9c179e\"],[0.4444444444444444,\"#bd3786\"],[0.5555555555555556,\"#d8576b\"],[0.6666666666666666,\"#ed7953\"],[0.7777777777777778,\"#fb9f3a\"],[0.8888888888888888,\"#fdca26\"],[1.0,\"#f0f921\"]]},\"colorway\":[\"#636efa\",\"#EF553B\",\"#00cc96\",\"#ab63fa\",\"#FFA15A\",\"#19d3f3\",\"#FF6692\",\"#B6E880\",\"#FF97FF\",\"#FECB52\"],\"font\":{\"color\":\"#2a3f5f\"},\"geo\":{\"bgcolor\":\"white\",\"lakecolor\":\"white\",\"landcolor\":\"#E5ECF6\",\"showlakes\":true,\"showland\":true,\"subunitcolor\":\"white\"},\"hoverlabel\":{\"align\":\"left\"},\"hovermode\":\"closest\",\"mapbox\":{\"style\":\"light\"},\"paper_bgcolor\":\"white\",\"plot_bgcolor\":\"#E5ECF6\",\"polar\":{\"angularaxis\":{\"gridcolor\":\"white\",\"linecolor\":\"white\",\"ticks\":\"\"},\"bgcolor\":\"#E5ECF6\",\"radialaxis\":{\"gridcolor\":\"white\",\"linecolor\":\"white\",\"ticks\":\"\"}},\"scene\":{\"xaxis\":{\"backgroundcolor\":\"#E5ECF6\",\"gridcolor\":\"white\",\"gridwidth\":2,\"linecolor\":\"white\",\"showbackground\":true,\"ticks\":\"\",\"zerolinecolor\":\"white\"},\"yaxis\":{\"backgroundcolor\":\"#E5ECF6\",\"gridcolor\":\"white\",\"gridwidth\":2,\"linecolor\":\"white\",\"showbackground\":true,\"ticks\":\"\",\"zerolinecolor\":\"white\"},\"zaxis\":{\"backgroundcolor\":\"#E5ECF6\",\"gridcolor\":\"white\",\"gridwidth\":2,\"linecolor\":\"white\",\"showbackground\":true,\"ticks\":\"\",\"zerolinecolor\":\"white\"}},\"shapedefaults\":{\"line\":{\"color\":\"#2a3f5f\"}},\"ternary\":{\"aaxis\":{\"gridcolor\":\"white\",\"linecolor\":\"white\",\"ticks\":\"\"},\"baxis\":{\"gridcolor\":\"white\",\"linecolor\":\"white\",\"ticks\":\"\"},\"bgcolor\":\"#E5ECF6\",\"caxis\":{\"gridcolor\":\"white\",\"linecolor\":\"white\",\"ticks\":\"\"}},\"title\":{\"x\":0.05},\"xaxis\":{\"automargin\":true,\"gridcolor\":\"white\",\"linecolor\":\"white\",\"ticks\":\"\",\"title\":{\"standoff\":15},\"zerolinecolor\":\"white\",\"zerolinewidth\":2},\"yaxis\":{\"automargin\":true,\"gridcolor\":\"white\",\"linecolor\":\"white\",\"ticks\":\"\",\"title\":{\"standoff\":15},\"zerolinecolor\":\"white\",\"zerolinewidth\":2}}},\"xaxis\":{\"title\":{\"text\":\"years\"}},\"yaxis\":{\"title\":{\"text\":\"Number of apps\"}}},                        {\"responsive\": true}                    ).then(function(){\n",
       "                            \n",
       "var gd = document.getElementById('bf00bbce-b045-48a5-9026-bd13a04e0ecd');\n",
       "var x = new MutationObserver(function (mutations, observer) {{\n",
       "        var display = window.getComputedStyle(gd).display;\n",
       "        if (!display || display === 'none') {{\n",
       "            console.log([gd, 'removed!']);\n",
       "            Plotly.purge(gd);\n",
       "            observer.disconnect();\n",
       "        }}\n",
       "}});\n",
       "\n",
       "// Listen for the removal of the full notebook cells\n",
       "var notebookContainer = gd.closest('#notebook-container');\n",
       "if (notebookContainer) {{\n",
       "    x.observe(notebookContainer, {childList: true});\n",
       "}}\n",
       "\n",
       "// Listen for the clearing of the current output cell\n",
       "var outputEl = gd.closest('.output');\n",
       "if (outputEl) {{\n",
       "    x.observe(outputEl, {childList: true});\n",
       "}}\n",
       "\n",
       "                        })                };                });            </script>        </div>"
      ]
     },
     "metadata": {},
     "output_type": "display_data"
    }
   ],
   "source": [
    "need_visual(free,paid,'year','count',dict_layout={'xaxis':{'title':'years'},'yaxis':{'title':'Number of apps'}})"
   ]
  },
  {
   "cell_type": "markdown",
   "id": "a0ba862e",
   "metadata": {
    "papermill": {
     "duration": 0.051351,
     "end_time": "2022-12-15T13:45:42.120116",
     "exception": false,
     "start_time": "2022-12-15T13:45:42.068765",
     "status": "completed"
    },
    "tags": []
   },
   "source": [
    "## In which month Free apps added are most??"
   ]
  },
  {
   "cell_type": "markdown",
   "id": "3b2cb5ab",
   "metadata": {
    "papermill": {
     "duration": 0.050443,
     "end_time": "2022-12-15T13:45:42.222216",
     "exception": false,
     "start_time": "2022-12-15T13:45:42.171773",
     "status": "completed"
    },
    "tags": []
   },
   "source": [
    "### Using above defined function"
   ]
  },
  {
   "cell_type": "code",
   "execution_count": 29,
   "id": "d5e6fb04",
   "metadata": {
    "execution": {
     "iopub.execute_input": "2022-12-15T13:45:42.330020Z",
     "iopub.status.busy": "2022-12-15T13:45:42.329578Z",
     "iopub.status.idle": "2022-12-15T13:45:42.414624Z",
     "shell.execute_reply": "2022-12-15T13:45:42.413520Z"
    },
    "papermill": {
     "duration": 0.142693,
     "end_time": "2022-12-15T13:45:42.417438",
     "exception": false,
     "start_time": "2022-12-15T13:45:42.274745",
     "status": "completed"
    },
    "tags": []
   },
   "outputs": [
    {
     "data": {
      "text/html": [
       "<div>                            <div id=\"8094a5c6-febf-45c8-abf7-2856389768e8\" class=\"plotly-graph-div\" style=\"height:525px; width:100%;\"></div>            <script type=\"text/javascript\">                require([\"plotly\"], function(Plotly) {                    window.PLOTLYENV=window.PLOTLYENV || {};                                    if (document.getElementById(\"8094a5c6-febf-45c8-abf7-2856389768e8\")) {                    Plotly.newPlot(                        \"8094a5c6-febf-45c8-abf7-2856389768e8\",                        [{\"alignmentgroup\":\"True\",\"hovertemplate\":\"month=%{x}<br>count=%{y}<extra></extra>\",\"legendgroup\":\"\",\"marker\":{\"color\":\"#636efa\",\"pattern\":{\"shape\":\"\"}},\"name\":\"\",\"offsetgroup\":\"\",\"orientation\":\"v\",\"showlegend\":false,\"textposition\":\"auto\",\"x\":[7,8,6,5,3,4,2,1,12,10,11,9],\"xaxis\":\"x\",\"y\":[3022,1511,1179,897,595,553,489,444,363,357,347,283],\"yaxis\":\"y\",\"type\":\"bar\"}],                        {\"template\":{\"data\":{\"histogram2dcontour\":[{\"type\":\"histogram2dcontour\",\"colorbar\":{\"outlinewidth\":0,\"ticks\":\"\"},\"colorscale\":[[0.0,\"#0d0887\"],[0.1111111111111111,\"#46039f\"],[0.2222222222222222,\"#7201a8\"],[0.3333333333333333,\"#9c179e\"],[0.4444444444444444,\"#bd3786\"],[0.5555555555555556,\"#d8576b\"],[0.6666666666666666,\"#ed7953\"],[0.7777777777777778,\"#fb9f3a\"],[0.8888888888888888,\"#fdca26\"],[1.0,\"#f0f921\"]]}],\"choropleth\":[{\"type\":\"choropleth\",\"colorbar\":{\"outlinewidth\":0,\"ticks\":\"\"}}],\"histogram2d\":[{\"type\":\"histogram2d\",\"colorbar\":{\"outlinewidth\":0,\"ticks\":\"\"},\"colorscale\":[[0.0,\"#0d0887\"],[0.1111111111111111,\"#46039f\"],[0.2222222222222222,\"#7201a8\"],[0.3333333333333333,\"#9c179e\"],[0.4444444444444444,\"#bd3786\"],[0.5555555555555556,\"#d8576b\"],[0.6666666666666666,\"#ed7953\"],[0.7777777777777778,\"#fb9f3a\"],[0.8888888888888888,\"#fdca26\"],[1.0,\"#f0f921\"]]}],\"heatmap\":[{\"type\":\"heatmap\",\"colorbar\":{\"outlinewidth\":0,\"ticks\":\"\"},\"colorscale\":[[0.0,\"#0d0887\"],[0.1111111111111111,\"#46039f\"],[0.2222222222222222,\"#7201a8\"],[0.3333333333333333,\"#9c179e\"],[0.4444444444444444,\"#bd3786\"],[0.5555555555555556,\"#d8576b\"],[0.6666666666666666,\"#ed7953\"],[0.7777777777777778,\"#fb9f3a\"],[0.8888888888888888,\"#fdca26\"],[1.0,\"#f0f921\"]]}],\"heatmapgl\":[{\"type\":\"heatmapgl\",\"colorbar\":{\"outlinewidth\":0,\"ticks\":\"\"},\"colorscale\":[[0.0,\"#0d0887\"],[0.1111111111111111,\"#46039f\"],[0.2222222222222222,\"#7201a8\"],[0.3333333333333333,\"#9c179e\"],[0.4444444444444444,\"#bd3786\"],[0.5555555555555556,\"#d8576b\"],[0.6666666666666666,\"#ed7953\"],[0.7777777777777778,\"#fb9f3a\"],[0.8888888888888888,\"#fdca26\"],[1.0,\"#f0f921\"]]}],\"contourcarpet\":[{\"type\":\"contourcarpet\",\"colorbar\":{\"outlinewidth\":0,\"ticks\":\"\"}}],\"contour\":[{\"type\":\"contour\",\"colorbar\":{\"outlinewidth\":0,\"ticks\":\"\"},\"colorscale\":[[0.0,\"#0d0887\"],[0.1111111111111111,\"#46039f\"],[0.2222222222222222,\"#7201a8\"],[0.3333333333333333,\"#9c179e\"],[0.4444444444444444,\"#bd3786\"],[0.5555555555555556,\"#d8576b\"],[0.6666666666666666,\"#ed7953\"],[0.7777777777777778,\"#fb9f3a\"],[0.8888888888888888,\"#fdca26\"],[1.0,\"#f0f921\"]]}],\"surface\":[{\"type\":\"surface\",\"colorbar\":{\"outlinewidth\":0,\"ticks\":\"\"},\"colorscale\":[[0.0,\"#0d0887\"],[0.1111111111111111,\"#46039f\"],[0.2222222222222222,\"#7201a8\"],[0.3333333333333333,\"#9c179e\"],[0.4444444444444444,\"#bd3786\"],[0.5555555555555556,\"#d8576b\"],[0.6666666666666666,\"#ed7953\"],[0.7777777777777778,\"#fb9f3a\"],[0.8888888888888888,\"#fdca26\"],[1.0,\"#f0f921\"]]}],\"mesh3d\":[{\"type\":\"mesh3d\",\"colorbar\":{\"outlinewidth\":0,\"ticks\":\"\"}}],\"scatter\":[{\"fillpattern\":{\"fillmode\":\"overlay\",\"size\":10,\"solidity\":0.2},\"type\":\"scatter\"}],\"parcoords\":[{\"type\":\"parcoords\",\"line\":{\"colorbar\":{\"outlinewidth\":0,\"ticks\":\"\"}}}],\"scatterpolargl\":[{\"type\":\"scatterpolargl\",\"marker\":{\"colorbar\":{\"outlinewidth\":0,\"ticks\":\"\"}}}],\"bar\":[{\"error_x\":{\"color\":\"#2a3f5f\"},\"error_y\":{\"color\":\"#2a3f5f\"},\"marker\":{\"line\":{\"color\":\"#E5ECF6\",\"width\":0.5},\"pattern\":{\"fillmode\":\"overlay\",\"size\":10,\"solidity\":0.2}},\"type\":\"bar\"}],\"scattergeo\":[{\"type\":\"scattergeo\",\"marker\":{\"colorbar\":{\"outlinewidth\":0,\"ticks\":\"\"}}}],\"scatterpolar\":[{\"type\":\"scatterpolar\",\"marker\":{\"colorbar\":{\"outlinewidth\":0,\"ticks\":\"\"}}}],\"histogram\":[{\"marker\":{\"pattern\":{\"fillmode\":\"overlay\",\"size\":10,\"solidity\":0.2}},\"type\":\"histogram\"}],\"scattergl\":[{\"type\":\"scattergl\",\"marker\":{\"colorbar\":{\"outlinewidth\":0,\"ticks\":\"\"}}}],\"scatter3d\":[{\"type\":\"scatter3d\",\"line\":{\"colorbar\":{\"outlinewidth\":0,\"ticks\":\"\"}},\"marker\":{\"colorbar\":{\"outlinewidth\":0,\"ticks\":\"\"}}}],\"scattermapbox\":[{\"type\":\"scattermapbox\",\"marker\":{\"colorbar\":{\"outlinewidth\":0,\"ticks\":\"\"}}}],\"scatterternary\":[{\"type\":\"scatterternary\",\"marker\":{\"colorbar\":{\"outlinewidth\":0,\"ticks\":\"\"}}}],\"scattercarpet\":[{\"type\":\"scattercarpet\",\"marker\":{\"colorbar\":{\"outlinewidth\":0,\"ticks\":\"\"}}}],\"carpet\":[{\"aaxis\":{\"endlinecolor\":\"#2a3f5f\",\"gridcolor\":\"white\",\"linecolor\":\"white\",\"minorgridcolor\":\"white\",\"startlinecolor\":\"#2a3f5f\"},\"baxis\":{\"endlinecolor\":\"#2a3f5f\",\"gridcolor\":\"white\",\"linecolor\":\"white\",\"minorgridcolor\":\"white\",\"startlinecolor\":\"#2a3f5f\"},\"type\":\"carpet\"}],\"table\":[{\"cells\":{\"fill\":{\"color\":\"#EBF0F8\"},\"line\":{\"color\":\"white\"}},\"header\":{\"fill\":{\"color\":\"#C8D4E3\"},\"line\":{\"color\":\"white\"}},\"type\":\"table\"}],\"barpolar\":[{\"marker\":{\"line\":{\"color\":\"#E5ECF6\",\"width\":0.5},\"pattern\":{\"fillmode\":\"overlay\",\"size\":10,\"solidity\":0.2}},\"type\":\"barpolar\"}],\"pie\":[{\"automargin\":true,\"type\":\"pie\"}]},\"layout\":{\"autotypenumbers\":\"strict\",\"colorway\":[\"#636efa\",\"#EF553B\",\"#00cc96\",\"#ab63fa\",\"#FFA15A\",\"#19d3f3\",\"#FF6692\",\"#B6E880\",\"#FF97FF\",\"#FECB52\"],\"font\":{\"color\":\"#2a3f5f\"},\"hovermode\":\"closest\",\"hoverlabel\":{\"align\":\"left\"},\"paper_bgcolor\":\"white\",\"plot_bgcolor\":\"#E5ECF6\",\"polar\":{\"bgcolor\":\"#E5ECF6\",\"angularaxis\":{\"gridcolor\":\"white\",\"linecolor\":\"white\",\"ticks\":\"\"},\"radialaxis\":{\"gridcolor\":\"white\",\"linecolor\":\"white\",\"ticks\":\"\"}},\"ternary\":{\"bgcolor\":\"#E5ECF6\",\"aaxis\":{\"gridcolor\":\"white\",\"linecolor\":\"white\",\"ticks\":\"\"},\"baxis\":{\"gridcolor\":\"white\",\"linecolor\":\"white\",\"ticks\":\"\"},\"caxis\":{\"gridcolor\":\"white\",\"linecolor\":\"white\",\"ticks\":\"\"}},\"coloraxis\":{\"colorbar\":{\"outlinewidth\":0,\"ticks\":\"\"}},\"colorscale\":{\"sequential\":[[0.0,\"#0d0887\"],[0.1111111111111111,\"#46039f\"],[0.2222222222222222,\"#7201a8\"],[0.3333333333333333,\"#9c179e\"],[0.4444444444444444,\"#bd3786\"],[0.5555555555555556,\"#d8576b\"],[0.6666666666666666,\"#ed7953\"],[0.7777777777777778,\"#fb9f3a\"],[0.8888888888888888,\"#fdca26\"],[1.0,\"#f0f921\"]],\"sequentialminus\":[[0.0,\"#0d0887\"],[0.1111111111111111,\"#46039f\"],[0.2222222222222222,\"#7201a8\"],[0.3333333333333333,\"#9c179e\"],[0.4444444444444444,\"#bd3786\"],[0.5555555555555556,\"#d8576b\"],[0.6666666666666666,\"#ed7953\"],[0.7777777777777778,\"#fb9f3a\"],[0.8888888888888888,\"#fdca26\"],[1.0,\"#f0f921\"]],\"diverging\":[[0,\"#8e0152\"],[0.1,\"#c51b7d\"],[0.2,\"#de77ae\"],[0.3,\"#f1b6da\"],[0.4,\"#fde0ef\"],[0.5,\"#f7f7f7\"],[0.6,\"#e6f5d0\"],[0.7,\"#b8e186\"],[0.8,\"#7fbc41\"],[0.9,\"#4d9221\"],[1,\"#276419\"]]},\"xaxis\":{\"gridcolor\":\"white\",\"linecolor\":\"white\",\"ticks\":\"\",\"title\":{\"standoff\":15},\"zerolinecolor\":\"white\",\"automargin\":true,\"zerolinewidth\":2},\"yaxis\":{\"gridcolor\":\"white\",\"linecolor\":\"white\",\"ticks\":\"\",\"title\":{\"standoff\":15},\"zerolinecolor\":\"white\",\"automargin\":true,\"zerolinewidth\":2},\"scene\":{\"xaxis\":{\"backgroundcolor\":\"#E5ECF6\",\"gridcolor\":\"white\",\"linecolor\":\"white\",\"showbackground\":true,\"ticks\":\"\",\"zerolinecolor\":\"white\",\"gridwidth\":2},\"yaxis\":{\"backgroundcolor\":\"#E5ECF6\",\"gridcolor\":\"white\",\"linecolor\":\"white\",\"showbackground\":true,\"ticks\":\"\",\"zerolinecolor\":\"white\",\"gridwidth\":2},\"zaxis\":{\"backgroundcolor\":\"#E5ECF6\",\"gridcolor\":\"white\",\"linecolor\":\"white\",\"showbackground\":true,\"ticks\":\"\",\"zerolinecolor\":\"white\",\"gridwidth\":2}},\"shapedefaults\":{\"line\":{\"color\":\"#2a3f5f\"}},\"annotationdefaults\":{\"arrowcolor\":\"#2a3f5f\",\"arrowhead\":0,\"arrowwidth\":1},\"geo\":{\"bgcolor\":\"white\",\"landcolor\":\"#E5ECF6\",\"subunitcolor\":\"white\",\"showland\":true,\"showlakes\":true,\"lakecolor\":\"white\"},\"title\":{\"x\":0.05},\"mapbox\":{\"style\":\"light\"}}},\"xaxis\":{\"anchor\":\"y\",\"domain\":[0.0,1.0],\"title\":{\"text\":\"month\"}},\"yaxis\":{\"anchor\":\"x\",\"domain\":[0.0,1.0],\"title\":{\"text\":\"count\"}},\"legend\":{\"tracegroupgap\":0},\"margin\":{\"t\":60},\"barmode\":\"relative\"},                        {\"responsive\": true}                    ).then(function(){\n",
       "                            \n",
       "var gd = document.getElementById('8094a5c6-febf-45c8-abf7-2856389768e8');\n",
       "var x = new MutationObserver(function (mutations, observer) {{\n",
       "        var display = window.getComputedStyle(gd).display;\n",
       "        if (!display || display === 'none') {{\n",
       "            console.log([gd, 'removed!']);\n",
       "            Plotly.purge(gd);\n",
       "            observer.disconnect();\n",
       "        }}\n",
       "}});\n",
       "\n",
       "// Listen for the removal of the full notebook cells\n",
       "var notebookContainer = gd.closest('#notebook-container');\n",
       "if (notebookContainer) {{\n",
       "    x.observe(notebookContainer, {childList: true});\n",
       "}}\n",
       "\n",
       "// Listen for the clearing of the current output cell\n",
       "var outputEl = gd.closest('.output');\n",
       "if (outputEl) {{\n",
       "    x.observe(outputEl, {childList: true});\n",
       "}}\n",
       "\n",
       "                        })                };                });            </script>        </div>"
      ]
     },
     "metadata": {},
     "output_type": "display_data"
    }
   ],
   "source": [
    "free_count=stats(df_free,'month_updated','month','count')\n",
    "need_visual(df1=free_count,column1='month',column2='count',visual='bar')"
   ]
  },
  {
   "cell_type": "markdown",
   "id": "66cdcc03",
   "metadata": {
    "papermill": {
     "duration": 0.051048,
     "end_time": "2022-12-15T13:45:42.520751",
     "exception": false,
     "start_time": "2022-12-15T13:45:42.469703",
     "status": "completed"
    },
    "tags": []
   },
   "source": [
    "## In which month Paid apps added are most??¶"
   ]
  },
  {
   "cell_type": "markdown",
   "id": "31be996d",
   "metadata": {
    "papermill": {
     "duration": 0.05119,
     "end_time": "2022-12-15T13:45:42.623053",
     "exception": false,
     "start_time": "2022-12-15T13:45:42.571863",
     "status": "completed"
    },
    "tags": []
   },
   "source": [
    "### Using above defined function"
   ]
  },
  {
   "cell_type": "code",
   "execution_count": 30,
   "id": "e337974b",
   "metadata": {
    "execution": {
     "iopub.execute_input": "2022-12-15T13:45:42.728635Z",
     "iopub.status.busy": "2022-12-15T13:45:42.727872Z",
     "iopub.status.idle": "2022-12-15T13:45:42.786188Z",
     "shell.execute_reply": "2022-12-15T13:45:42.785083Z"
    },
    "papermill": {
     "duration": 0.114893,
     "end_time": "2022-12-15T13:45:42.789001",
     "exception": false,
     "start_time": "2022-12-15T13:45:42.674108",
     "status": "completed"
    },
    "tags": []
   },
   "outputs": [
    {
     "data": {
      "text/html": [
       "<div>                            <div id=\"020e0e5b-6ae0-4380-84c7-f0685ad4616a\" class=\"plotly-graph-div\" style=\"height:525px; width:100%;\"></div>            <script type=\"text/javascript\">                require([\"plotly\"], function(Plotly) {                    window.PLOTLYENV=window.PLOTLYENV || {};                                    if (document.getElementById(\"020e0e5b-6ae0-4380-84c7-f0685ad4616a\")) {                    Plotly.newPlot(                        \"020e0e5b-6ae0-4380-84c7-f0685ad4616a\",                        [{\"alignmentgroup\":\"True\",\"hovertemplate\":\"month=%{x}<br>count=%{y}<extra></extra>\",\"legendgroup\":\"\",\"marker\":{\"color\":\"#636efa\",\"pattern\":{\"shape\":\"\"}},\"name\":\"\",\"offsetgroup\":\"\",\"orientation\":\"v\",\"showlegend\":false,\"textposition\":\"auto\",\"x\":[7,6,8,5,3,4,12,1,2,10,11,9],\"xaxis\":\"x\",\"y\":[141,93,83,81,72,63,63,47,45,41,40,31],\"yaxis\":\"y\",\"type\":\"bar\"}],                        {\"template\":{\"data\":{\"histogram2dcontour\":[{\"type\":\"histogram2dcontour\",\"colorbar\":{\"outlinewidth\":0,\"ticks\":\"\"},\"colorscale\":[[0.0,\"#0d0887\"],[0.1111111111111111,\"#46039f\"],[0.2222222222222222,\"#7201a8\"],[0.3333333333333333,\"#9c179e\"],[0.4444444444444444,\"#bd3786\"],[0.5555555555555556,\"#d8576b\"],[0.6666666666666666,\"#ed7953\"],[0.7777777777777778,\"#fb9f3a\"],[0.8888888888888888,\"#fdca26\"],[1.0,\"#f0f921\"]]}],\"choropleth\":[{\"type\":\"choropleth\",\"colorbar\":{\"outlinewidth\":0,\"ticks\":\"\"}}],\"histogram2d\":[{\"type\":\"histogram2d\",\"colorbar\":{\"outlinewidth\":0,\"ticks\":\"\"},\"colorscale\":[[0.0,\"#0d0887\"],[0.1111111111111111,\"#46039f\"],[0.2222222222222222,\"#7201a8\"],[0.3333333333333333,\"#9c179e\"],[0.4444444444444444,\"#bd3786\"],[0.5555555555555556,\"#d8576b\"],[0.6666666666666666,\"#ed7953\"],[0.7777777777777778,\"#fb9f3a\"],[0.8888888888888888,\"#fdca26\"],[1.0,\"#f0f921\"]]}],\"heatmap\":[{\"type\":\"heatmap\",\"colorbar\":{\"outlinewidth\":0,\"ticks\":\"\"},\"colorscale\":[[0.0,\"#0d0887\"],[0.1111111111111111,\"#46039f\"],[0.2222222222222222,\"#7201a8\"],[0.3333333333333333,\"#9c179e\"],[0.4444444444444444,\"#bd3786\"],[0.5555555555555556,\"#d8576b\"],[0.6666666666666666,\"#ed7953\"],[0.7777777777777778,\"#fb9f3a\"],[0.8888888888888888,\"#fdca26\"],[1.0,\"#f0f921\"]]}],\"heatmapgl\":[{\"type\":\"heatmapgl\",\"colorbar\":{\"outlinewidth\":0,\"ticks\":\"\"},\"colorscale\":[[0.0,\"#0d0887\"],[0.1111111111111111,\"#46039f\"],[0.2222222222222222,\"#7201a8\"],[0.3333333333333333,\"#9c179e\"],[0.4444444444444444,\"#bd3786\"],[0.5555555555555556,\"#d8576b\"],[0.6666666666666666,\"#ed7953\"],[0.7777777777777778,\"#fb9f3a\"],[0.8888888888888888,\"#fdca26\"],[1.0,\"#f0f921\"]]}],\"contourcarpet\":[{\"type\":\"contourcarpet\",\"colorbar\":{\"outlinewidth\":0,\"ticks\":\"\"}}],\"contour\":[{\"type\":\"contour\",\"colorbar\":{\"outlinewidth\":0,\"ticks\":\"\"},\"colorscale\":[[0.0,\"#0d0887\"],[0.1111111111111111,\"#46039f\"],[0.2222222222222222,\"#7201a8\"],[0.3333333333333333,\"#9c179e\"],[0.4444444444444444,\"#bd3786\"],[0.5555555555555556,\"#d8576b\"],[0.6666666666666666,\"#ed7953\"],[0.7777777777777778,\"#fb9f3a\"],[0.8888888888888888,\"#fdca26\"],[1.0,\"#f0f921\"]]}],\"surface\":[{\"type\":\"surface\",\"colorbar\":{\"outlinewidth\":0,\"ticks\":\"\"},\"colorscale\":[[0.0,\"#0d0887\"],[0.1111111111111111,\"#46039f\"],[0.2222222222222222,\"#7201a8\"],[0.3333333333333333,\"#9c179e\"],[0.4444444444444444,\"#bd3786\"],[0.5555555555555556,\"#d8576b\"],[0.6666666666666666,\"#ed7953\"],[0.7777777777777778,\"#fb9f3a\"],[0.8888888888888888,\"#fdca26\"],[1.0,\"#f0f921\"]]}],\"mesh3d\":[{\"type\":\"mesh3d\",\"colorbar\":{\"outlinewidth\":0,\"ticks\":\"\"}}],\"scatter\":[{\"fillpattern\":{\"fillmode\":\"overlay\",\"size\":10,\"solidity\":0.2},\"type\":\"scatter\"}],\"parcoords\":[{\"type\":\"parcoords\",\"line\":{\"colorbar\":{\"outlinewidth\":0,\"ticks\":\"\"}}}],\"scatterpolargl\":[{\"type\":\"scatterpolargl\",\"marker\":{\"colorbar\":{\"outlinewidth\":0,\"ticks\":\"\"}}}],\"bar\":[{\"error_x\":{\"color\":\"#2a3f5f\"},\"error_y\":{\"color\":\"#2a3f5f\"},\"marker\":{\"line\":{\"color\":\"#E5ECF6\",\"width\":0.5},\"pattern\":{\"fillmode\":\"overlay\",\"size\":10,\"solidity\":0.2}},\"type\":\"bar\"}],\"scattergeo\":[{\"type\":\"scattergeo\",\"marker\":{\"colorbar\":{\"outlinewidth\":0,\"ticks\":\"\"}}}],\"scatterpolar\":[{\"type\":\"scatterpolar\",\"marker\":{\"colorbar\":{\"outlinewidth\":0,\"ticks\":\"\"}}}],\"histogram\":[{\"marker\":{\"pattern\":{\"fillmode\":\"overlay\",\"size\":10,\"solidity\":0.2}},\"type\":\"histogram\"}],\"scattergl\":[{\"type\":\"scattergl\",\"marker\":{\"colorbar\":{\"outlinewidth\":0,\"ticks\":\"\"}}}],\"scatter3d\":[{\"type\":\"scatter3d\",\"line\":{\"colorbar\":{\"outlinewidth\":0,\"ticks\":\"\"}},\"marker\":{\"colorbar\":{\"outlinewidth\":0,\"ticks\":\"\"}}}],\"scattermapbox\":[{\"type\":\"scattermapbox\",\"marker\":{\"colorbar\":{\"outlinewidth\":0,\"ticks\":\"\"}}}],\"scatterternary\":[{\"type\":\"scatterternary\",\"marker\":{\"colorbar\":{\"outlinewidth\":0,\"ticks\":\"\"}}}],\"scattercarpet\":[{\"type\":\"scattercarpet\",\"marker\":{\"colorbar\":{\"outlinewidth\":0,\"ticks\":\"\"}}}],\"carpet\":[{\"aaxis\":{\"endlinecolor\":\"#2a3f5f\",\"gridcolor\":\"white\",\"linecolor\":\"white\",\"minorgridcolor\":\"white\",\"startlinecolor\":\"#2a3f5f\"},\"baxis\":{\"endlinecolor\":\"#2a3f5f\",\"gridcolor\":\"white\",\"linecolor\":\"white\",\"minorgridcolor\":\"white\",\"startlinecolor\":\"#2a3f5f\"},\"type\":\"carpet\"}],\"table\":[{\"cells\":{\"fill\":{\"color\":\"#EBF0F8\"},\"line\":{\"color\":\"white\"}},\"header\":{\"fill\":{\"color\":\"#C8D4E3\"},\"line\":{\"color\":\"white\"}},\"type\":\"table\"}],\"barpolar\":[{\"marker\":{\"line\":{\"color\":\"#E5ECF6\",\"width\":0.5},\"pattern\":{\"fillmode\":\"overlay\",\"size\":10,\"solidity\":0.2}},\"type\":\"barpolar\"}],\"pie\":[{\"automargin\":true,\"type\":\"pie\"}]},\"layout\":{\"autotypenumbers\":\"strict\",\"colorway\":[\"#636efa\",\"#EF553B\",\"#00cc96\",\"#ab63fa\",\"#FFA15A\",\"#19d3f3\",\"#FF6692\",\"#B6E880\",\"#FF97FF\",\"#FECB52\"],\"font\":{\"color\":\"#2a3f5f\"},\"hovermode\":\"closest\",\"hoverlabel\":{\"align\":\"left\"},\"paper_bgcolor\":\"white\",\"plot_bgcolor\":\"#E5ECF6\",\"polar\":{\"bgcolor\":\"#E5ECF6\",\"angularaxis\":{\"gridcolor\":\"white\",\"linecolor\":\"white\",\"ticks\":\"\"},\"radialaxis\":{\"gridcolor\":\"white\",\"linecolor\":\"white\",\"ticks\":\"\"}},\"ternary\":{\"bgcolor\":\"#E5ECF6\",\"aaxis\":{\"gridcolor\":\"white\",\"linecolor\":\"white\",\"ticks\":\"\"},\"baxis\":{\"gridcolor\":\"white\",\"linecolor\":\"white\",\"ticks\":\"\"},\"caxis\":{\"gridcolor\":\"white\",\"linecolor\":\"white\",\"ticks\":\"\"}},\"coloraxis\":{\"colorbar\":{\"outlinewidth\":0,\"ticks\":\"\"}},\"colorscale\":{\"sequential\":[[0.0,\"#0d0887\"],[0.1111111111111111,\"#46039f\"],[0.2222222222222222,\"#7201a8\"],[0.3333333333333333,\"#9c179e\"],[0.4444444444444444,\"#bd3786\"],[0.5555555555555556,\"#d8576b\"],[0.6666666666666666,\"#ed7953\"],[0.7777777777777778,\"#fb9f3a\"],[0.8888888888888888,\"#fdca26\"],[1.0,\"#f0f921\"]],\"sequentialminus\":[[0.0,\"#0d0887\"],[0.1111111111111111,\"#46039f\"],[0.2222222222222222,\"#7201a8\"],[0.3333333333333333,\"#9c179e\"],[0.4444444444444444,\"#bd3786\"],[0.5555555555555556,\"#d8576b\"],[0.6666666666666666,\"#ed7953\"],[0.7777777777777778,\"#fb9f3a\"],[0.8888888888888888,\"#fdca26\"],[1.0,\"#f0f921\"]],\"diverging\":[[0,\"#8e0152\"],[0.1,\"#c51b7d\"],[0.2,\"#de77ae\"],[0.3,\"#f1b6da\"],[0.4,\"#fde0ef\"],[0.5,\"#f7f7f7\"],[0.6,\"#e6f5d0\"],[0.7,\"#b8e186\"],[0.8,\"#7fbc41\"],[0.9,\"#4d9221\"],[1,\"#276419\"]]},\"xaxis\":{\"gridcolor\":\"white\",\"linecolor\":\"white\",\"ticks\":\"\",\"title\":{\"standoff\":15},\"zerolinecolor\":\"white\",\"automargin\":true,\"zerolinewidth\":2},\"yaxis\":{\"gridcolor\":\"white\",\"linecolor\":\"white\",\"ticks\":\"\",\"title\":{\"standoff\":15},\"zerolinecolor\":\"white\",\"automargin\":true,\"zerolinewidth\":2},\"scene\":{\"xaxis\":{\"backgroundcolor\":\"#E5ECF6\",\"gridcolor\":\"white\",\"linecolor\":\"white\",\"showbackground\":true,\"ticks\":\"\",\"zerolinecolor\":\"white\",\"gridwidth\":2},\"yaxis\":{\"backgroundcolor\":\"#E5ECF6\",\"gridcolor\":\"white\",\"linecolor\":\"white\",\"showbackground\":true,\"ticks\":\"\",\"zerolinecolor\":\"white\",\"gridwidth\":2},\"zaxis\":{\"backgroundcolor\":\"#E5ECF6\",\"gridcolor\":\"white\",\"linecolor\":\"white\",\"showbackground\":true,\"ticks\":\"\",\"zerolinecolor\":\"white\",\"gridwidth\":2}},\"shapedefaults\":{\"line\":{\"color\":\"#2a3f5f\"}},\"annotationdefaults\":{\"arrowcolor\":\"#2a3f5f\",\"arrowhead\":0,\"arrowwidth\":1},\"geo\":{\"bgcolor\":\"white\",\"landcolor\":\"#E5ECF6\",\"subunitcolor\":\"white\",\"showland\":true,\"showlakes\":true,\"lakecolor\":\"white\"},\"title\":{\"x\":0.05},\"mapbox\":{\"style\":\"light\"}}},\"xaxis\":{\"anchor\":\"y\",\"domain\":[0.0,1.0],\"title\":{\"text\":\"month\"}},\"yaxis\":{\"anchor\":\"x\",\"domain\":[0.0,1.0],\"title\":{\"text\":\"count\"}},\"legend\":{\"tracegroupgap\":0},\"margin\":{\"t\":60},\"barmode\":\"relative\"},                        {\"responsive\": true}                    ).then(function(){\n",
       "                            \n",
       "var gd = document.getElementById('020e0e5b-6ae0-4380-84c7-f0685ad4616a');\n",
       "var x = new MutationObserver(function (mutations, observer) {{\n",
       "        var display = window.getComputedStyle(gd).display;\n",
       "        if (!display || display === 'none') {{\n",
       "            console.log([gd, 'removed!']);\n",
       "            Plotly.purge(gd);\n",
       "            observer.disconnect();\n",
       "        }}\n",
       "}});\n",
       "\n",
       "// Listen for the removal of the full notebook cells\n",
       "var notebookContainer = gd.closest('#notebook-container');\n",
       "if (notebookContainer) {{\n",
       "    x.observe(notebookContainer, {childList: true});\n",
       "}}\n",
       "\n",
       "// Listen for the clearing of the current output cell\n",
       "var outputEl = gd.closest('.output');\n",
       "if (outputEl) {{\n",
       "    x.observe(outputEl, {childList: true});\n",
       "}}\n",
       "\n",
       "                        })                };                });            </script>        </div>"
      ]
     },
     "metadata": {},
     "output_type": "display_data"
    }
   ],
   "source": [
    "paid_count=stats(df_paid,'month_updated','month','count')\n",
    "need_visual(df1=paid_count,column1='month',column2='count',visual='bar')"
   ]
  },
  {
   "cell_type": "markdown",
   "id": "74c7aeec",
   "metadata": {
    "papermill": {
     "duration": 0.051273,
     "end_time": "2022-12-15T13:45:42.892750",
     "exception": false,
     "start_time": "2022-12-15T13:45:42.841477",
     "status": "completed"
    },
    "tags": []
   },
   "source": [
    "### Getting a distrbution of Ratings¶"
   ]
  },
  {
   "cell_type": "markdown",
   "id": "9bb8dbd8",
   "metadata": {
    "papermill": {
     "duration": 0.052383,
     "end_time": "2022-12-15T13:45:42.997220",
     "exception": false,
     "start_time": "2022-12-15T13:45:42.944837",
     "status": "completed"
    },
    "tags": []
   },
   "source": [
    "#### Checking uniques values in Rating"
   ]
  },
  {
   "cell_type": "code",
   "execution_count": 31,
   "id": "a4cb014d",
   "metadata": {
    "execution": {
     "iopub.execute_input": "2022-12-15T13:45:43.104537Z",
     "iopub.status.busy": "2022-12-15T13:45:43.103745Z",
     "iopub.status.idle": "2022-12-15T13:45:43.112718Z",
     "shell.execute_reply": "2022-12-15T13:45:43.111420Z"
    },
    "papermill": {
     "duration": 0.064231,
     "end_time": "2022-12-15T13:45:43.115288",
     "exception": false,
     "start_time": "2022-12-15T13:45:43.051057",
     "status": "completed"
    },
    "tags": []
   },
   "outputs": [
    {
     "data": {
      "text/plain": [
       "array([4.1, 3.9, 4.7, 4.5, 4.3, 4.4, 3.8, 4.2, 4.6, 3.2, 4.0, nan, 4.8,\n",
       "       4.9, 3.6, 3.7, 3.3, 3.4, 3.5, 3.1, 5.0, 3.0, 1.9, 2.5, 2.8, 2.7,\n",
       "       1.0, 2.9, 2.3, 2.6, 2.2, 1.7, 2.0, 2.4, 1.8, 1.6, 2.1, 1.4, 1.5,\n",
       "       1.2, '1.9'], dtype=object)"
      ]
     },
     "execution_count": 31,
     "metadata": {},
     "output_type": "execute_result"
    }
   ],
   "source": [
    "df_free['Rating'].unique()"
   ]
  },
  {
   "cell_type": "markdown",
   "id": "b3b3dd97",
   "metadata": {
    "papermill": {
     "duration": 0.052864,
     "end_time": "2022-12-15T13:45:43.220572",
     "exception": false,
     "start_time": "2022-12-15T13:45:43.167708",
     "status": "completed"
    },
    "tags": []
   },
   "source": [
    "From above it can be seen that last vale 1.9 is a string rather than float so convert it into float"
   ]
  },
  {
   "cell_type": "code",
   "execution_count": 32,
   "id": "70d40e1d",
   "metadata": {
    "execution": {
     "iopub.execute_input": "2022-12-15T13:45:43.328849Z",
     "iopub.status.busy": "2022-12-15T13:45:43.328399Z",
     "iopub.status.idle": "2022-12-15T13:45:43.341069Z",
     "shell.execute_reply": "2022-12-15T13:45:43.339934Z"
    },
    "papermill": {
     "duration": 0.070501,
     "end_time": "2022-12-15T13:45:43.343408",
     "exception": false,
     "start_time": "2022-12-15T13:45:43.272907",
     "status": "completed"
    },
    "tags": []
   },
   "outputs": [
    {
     "data": {
      "text/plain": [
       "Rating\n",
       "1.0      14\n",
       "1.2       1\n",
       "1.4       3\n",
       "1.5       3\n",
       "1.6       4\n",
       "1.7       7\n",
       "1.8       7\n",
       "1.9      13\n",
       "2.0      11\n",
       "2.1       8\n",
       "2.2      14\n",
       "2.3      18\n",
       "2.4      17\n",
       "2.5      20\n",
       "2.6      23\n",
       "2.7      23\n",
       "2.8      39\n",
       "2.9      40\n",
       "3.0      75\n",
       "3.1      65\n",
       "3.2      62\n",
       "3.3      97\n",
       "3.4     117\n",
       "3.5     152\n",
       "3.6     164\n",
       "3.7     228\n",
       "3.8     282\n",
       "3.9     370\n",
       "4.0     546\n",
       "4.1     676\n",
       "4.2     890\n",
       "4.3    1025\n",
       "4.4    1031\n",
       "4.5     965\n",
       "4.6     741\n",
       "4.7     446\n",
       "4.8     195\n",
       "4.9      81\n",
       "5.0     246\n",
       "1.9       1\n",
       "dtype: int64"
      ]
     },
     "execution_count": 32,
     "metadata": {},
     "output_type": "execute_result"
    }
   ],
   "source": [
    "df_free.pivot_table(index = ['Rating'], aggfunc ='size')"
   ]
  },
  {
   "cell_type": "code",
   "execution_count": 33,
   "id": "68c5fa1f",
   "metadata": {
    "execution": {
     "iopub.execute_input": "2022-12-15T13:45:43.449695Z",
     "iopub.status.busy": "2022-12-15T13:45:43.449249Z",
     "iopub.status.idle": "2022-12-15T13:45:43.460698Z",
     "shell.execute_reply": "2022-12-15T13:45:43.459442Z"
    },
    "papermill": {
     "duration": 0.070676,
     "end_time": "2022-12-15T13:45:43.465582",
     "exception": false,
     "start_time": "2022-12-15T13:45:43.394906",
     "status": "completed"
    },
    "tags": []
   },
   "outputs": [
    {
     "name": "stderr",
     "output_type": "stream",
     "text": [
      "/opt/conda/lib/python3.7/site-packages/pandas/core/generic.py:6619: SettingWithCopyWarning:\n",
      "\n",
      "\n",
      "A value is trying to be set on a copy of a slice from a DataFrame\n",
      "\n",
      "See the caveats in the documentation: https://pandas.pydata.org/pandas-docs/stable/user_guide/indexing.html#returning-a-view-versus-a-copy\n",
      "\n"
     ]
    }
   ],
   "source": [
    "df_free['Rating'].replace('1.9',1.9,inplace=True)"
   ]
  },
  {
   "cell_type": "markdown",
   "id": "1d2fda61",
   "metadata": {
    "papermill": {
     "duration": 0.052721,
     "end_time": "2022-12-15T13:45:43.572406",
     "exception": false,
     "start_time": "2022-12-15T13:45:43.519685",
     "status": "completed"
    },
    "tags": []
   },
   "source": [
    "The warning can be ignored as we can see from Rating data that only 1.9 sting value is coverted to float and no other changes.\n",
    "For SettingWithCopyWarning visit https://www.dataquest.io/blog/settingwithcopywarning/"
   ]
  },
  {
   "cell_type": "code",
   "execution_count": 34,
   "id": "ea019aab",
   "metadata": {
    "execution": {
     "iopub.execute_input": "2022-12-15T13:45:43.678723Z",
     "iopub.status.busy": "2022-12-15T13:45:43.678288Z",
     "iopub.status.idle": "2022-12-15T13:45:43.694149Z",
     "shell.execute_reply": "2022-12-15T13:45:43.692065Z"
    },
    "papermill": {
     "duration": 0.071956,
     "end_time": "2022-12-15T13:45:43.697080",
     "exception": false,
     "start_time": "2022-12-15T13:45:43.625124",
     "status": "completed"
    },
    "tags": []
   },
   "outputs": [
    {
     "data": {
      "text/plain": [
       "Rating\n",
       "1.0      14\n",
       "1.2       1\n",
       "1.4       3\n",
       "1.5       3\n",
       "1.6       4\n",
       "1.7       7\n",
       "1.8       7\n",
       "1.9      14\n",
       "2.0      11\n",
       "2.1       8\n",
       "2.2      14\n",
       "2.3      18\n",
       "2.4      17\n",
       "2.5      20\n",
       "2.6      23\n",
       "2.7      23\n",
       "2.8      39\n",
       "2.9      40\n",
       "3.0      75\n",
       "3.1      65\n",
       "3.2      62\n",
       "3.3      97\n",
       "3.4     117\n",
       "3.5     152\n",
       "3.6     164\n",
       "3.7     228\n",
       "3.8     282\n",
       "3.9     370\n",
       "4.0     546\n",
       "4.1     676\n",
       "4.2     890\n",
       "4.3    1025\n",
       "4.4    1031\n",
       "4.5     965\n",
       "4.6     741\n",
       "4.7     446\n",
       "4.8     195\n",
       "4.9      81\n",
       "5.0     246\n",
       "dtype: int64"
      ]
     },
     "execution_count": 34,
     "metadata": {},
     "output_type": "execute_result"
    }
   ],
   "source": [
    "df_free.pivot_table(index = ['Rating'], aggfunc ='size')"
   ]
  },
  {
   "cell_type": "code",
   "execution_count": 35,
   "id": "76fe9b2c",
   "metadata": {
    "execution": {
     "iopub.execute_input": "2022-12-15T13:45:43.803415Z",
     "iopub.status.busy": "2022-12-15T13:45:43.802883Z",
     "iopub.status.idle": "2022-12-15T13:45:43.810505Z",
     "shell.execute_reply": "2022-12-15T13:45:43.809433Z"
    },
    "papermill": {
     "duration": 0.063177,
     "end_time": "2022-12-15T13:45:43.812919",
     "exception": false,
     "start_time": "2022-12-15T13:45:43.749742",
     "status": "completed"
    },
    "tags": []
   },
   "outputs": [
    {
     "data": {
      "text/plain": [
       "array([4.1, 3.9, 4.7, 4.5, 4.3, 4.4, 3.8, 4.2, 4.6, 3.2, 4. , nan, 4.8,\n",
       "       4.9, 3.6, 3.7, 3.3, 3.4, 3.5, 3.1, 5. , 3. , 1.9, 2.5, 2.8, 2.7,\n",
       "       1. , 2.9, 2.3, 2.6, 2.2, 1.7, 2. , 2.4, 1.8, 1.6, 2.1, 1.4, 1.5,\n",
       "       1.2])"
      ]
     },
     "execution_count": 35,
     "metadata": {},
     "output_type": "execute_result"
    }
   ],
   "source": [
    "df_free['Rating'].unique()"
   ]
  },
  {
   "cell_type": "code",
   "execution_count": 36,
   "id": "c057ad0f",
   "metadata": {
    "execution": {
     "iopub.execute_input": "2022-12-15T13:45:43.921221Z",
     "iopub.status.busy": "2022-12-15T13:45:43.920782Z",
     "iopub.status.idle": "2022-12-15T13:45:43.928738Z",
     "shell.execute_reply": "2022-12-15T13:45:43.927810Z"
    },
    "papermill": {
     "duration": 0.065173,
     "end_time": "2022-12-15T13:45:43.930913",
     "exception": false,
     "start_time": "2022-12-15T13:45:43.865740",
     "status": "completed"
    },
    "tags": []
   },
   "outputs": [
    {
     "data": {
      "text/plain": [
       "array([4.7, 4.8, 4.0, 4.2, 2.6, nan, 3.5, 4.9, 4.6, 4.1, 4.4, 4.5, 4.3,\n",
       "       3.0, 3.9, 3.2, 3.8, 2.5, 5.0, 3.4, 3.6, 1.0, 1.8, 3.3, 3.7, 2.9,\n",
       "       2.8, 2.7, 2.4, 3.1, 1.7, 2.0, 2.3], dtype=object)"
      ]
     },
     "execution_count": 36,
     "metadata": {},
     "output_type": "execute_result"
    }
   ],
   "source": [
    "df_paid['Rating'].unique()"
   ]
  },
  {
   "cell_type": "markdown",
   "id": "06e0bd0e",
   "metadata": {
    "papermill": {
     "duration": 0.051685,
     "end_time": "2022-12-15T13:45:44.034693",
     "exception": false,
     "start_time": "2022-12-15T13:45:43.983008",
     "status": "completed"
    },
    "tags": []
   },
   "source": [
    "Now all unique values of rating for both free and paid apps are float or int we can plot histogram"
   ]
  },
  {
   "cell_type": "code",
   "execution_count": 37,
   "id": "d919cff0",
   "metadata": {
    "execution": {
     "iopub.execute_input": "2022-12-15T13:45:44.141803Z",
     "iopub.status.busy": "2022-12-15T13:45:44.141331Z",
     "iopub.status.idle": "2022-12-15T13:45:44.430391Z",
     "shell.execute_reply": "2022-12-15T13:45:44.429154Z"
    },
    "papermill": {
     "duration": 0.346504,
     "end_time": "2022-12-15T13:45:44.433154",
     "exception": false,
     "start_time": "2022-12-15T13:45:44.086650",
     "status": "completed"
    },
    "scrolled": true,
    "tags": []
   },
   "outputs": [
    {
     "data": {
      "image/png": "[encoded data removed]",
      "text/plain": [
       "<Figure size 432x288 with 1 Axes>"
      ]
     },
     "metadata": {
      "needs_background": "light"
     },
     "output_type": "display_data"
    }
   ],
   "source": [
    "plt.hist(df_free['Rating'].dropna(),label='free users rating')\n",
    "plt.hist(df_paid['Rating'].dropna(),label='Paid users rating')\n",
    "plt.legend()\n",
    "plt.show()"
   ]
  },
  {
   "cell_type": "markdown",
   "id": "adbd8060",
   "metadata": {
    "papermill": {
     "duration": 0.054464,
     "end_time": "2022-12-15T13:45:44.542014",
     "exception": false,
     "start_time": "2022-12-15T13:45:44.487550",
     "status": "completed"
    },
    "tags": []
   },
   "source": [
    "### Analysing App Category¶"
   ]
  },
  {
   "cell_type": "code",
   "execution_count": 38,
   "id": "0c8d07a1",
   "metadata": {
    "execution": {
     "iopub.execute_input": "2022-12-15T13:45:44.663766Z",
     "iopub.status.busy": "2022-12-15T13:45:44.662971Z",
     "iopub.status.idle": "2022-12-15T13:45:44.684975Z",
     "shell.execute_reply": "2022-12-15T13:45:44.682852Z"
    },
    "papermill": {
     "duration": 0.085468,
     "end_time": "2022-12-15T13:45:44.688507",
     "exception": false,
     "start_time": "2022-12-15T13:45:44.603039",
     "status": "completed"
    },
    "tags": []
   },
   "outputs": [
    {
     "data": {
      "text/html": [
       "<div>\n",
       "<style scoped>\n",
       "    .dataframe tbody tr th:only-of-type {\n",
       "        vertical-align: middle;\n",
       "    }\n",
       "\n",
       "    .dataframe tbody tr th {\n",
       "        vertical-align: top;\n",
       "    }\n",
       "\n",
       "    .dataframe thead th {\n",
       "        text-align: right;\n",
       "    }\n",
       "</style>\n",
       "<table border=\"1\" class=\"dataframe\">\n",
       "  <thead>\n",
       "    <tr style=\"text-align: right;\">\n",
       "      <th></th>\n",
       "      <th>categories</th>\n",
       "      <th>count</th>\n",
       "    </tr>\n",
       "  </thead>\n",
       "  <tbody>\n",
       "    <tr>\n",
       "      <th>29</th>\n",
       "      <td>ART_AND_DESIGN</td>\n",
       "      <td>62</td>\n",
       "    </tr>\n",
       "    <tr>\n",
       "      <th>26</th>\n",
       "      <td>AUTO_AND_VEHICLES</td>\n",
       "      <td>82</td>\n",
       "    </tr>\n",
       "    <tr>\n",
       "      <th>32</th>\n",
       "      <td>BEAUTY</td>\n",
       "      <td>53</td>\n",
       "    </tr>\n",
       "    <tr>\n",
       "      <th>18</th>\n",
       "      <td>BOOKS_AND_REFERENCE</td>\n",
       "      <td>203</td>\n",
       "    </tr>\n",
       "    <tr>\n",
       "      <th>3</th>\n",
       "      <td>BUSINESS</td>\n",
       "      <td>446</td>\n",
       "    </tr>\n",
       "    <tr>\n",
       "      <th>30</th>\n",
       "      <td>COMICS</td>\n",
       "      <td>60</td>\n",
       "    </tr>\n",
       "    <tr>\n",
       "      <th>6</th>\n",
       "      <td>COMMUNICATION</td>\n",
       "      <td>360</td>\n",
       "    </tr>\n",
       "    <tr>\n",
       "      <th>17</th>\n",
       "      <td>DATING</td>\n",
       "      <td>227</td>\n",
       "    </tr>\n",
       "    <tr>\n",
       "      <th>20</th>\n",
       "      <td>EDUCATION</td>\n",
       "      <td>152</td>\n",
       "    </tr>\n",
       "    <tr>\n",
       "      <th>21</th>\n",
       "      <td>ENTERTAINMENT</td>\n",
       "      <td>147</td>\n",
       "    </tr>\n",
       "    <tr>\n",
       "      <th>28</th>\n",
       "      <td>EVENTS</td>\n",
       "      <td>63</td>\n",
       "    </tr>\n",
       "    <tr>\n",
       "      <th>0</th>\n",
       "      <td>FAMILY</td>\n",
       "      <td>1780</td>\n",
       "    </tr>\n",
       "    <tr>\n",
       "      <th>9</th>\n",
       "      <td>FINANCE</td>\n",
       "      <td>349</td>\n",
       "    </tr>\n",
       "    <tr>\n",
       "      <th>23</th>\n",
       "      <td>FOOD_AND_DRINK</td>\n",
       "      <td>125</td>\n",
       "    </tr>\n",
       "    <tr>\n",
       "      <th>1</th>\n",
       "      <td>GAME</td>\n",
       "      <td>1061</td>\n",
       "    </tr>\n",
       "    <tr>\n",
       "      <th>10</th>\n",
       "      <td>HEALTH_AND_FITNESS</td>\n",
       "      <td>325</td>\n",
       "    </tr>\n",
       "    <tr>\n",
       "      <th>24</th>\n",
       "      <td>HOUSE_AND_HOME</td>\n",
       "      <td>88</td>\n",
       "    </tr>\n",
       "    <tr>\n",
       "      <th>25</th>\n",
       "      <td>LIBRARIES_AND_DEMO</td>\n",
       "      <td>84</td>\n",
       "    </tr>\n",
       "    <tr>\n",
       "      <th>5</th>\n",
       "      <td>LIFESTYLE</td>\n",
       "      <td>363</td>\n",
       "    </tr>\n",
       "    <tr>\n",
       "      <th>22</th>\n",
       "      <td>MAPS_AND_NAVIGATION</td>\n",
       "      <td>132</td>\n",
       "    </tr>\n",
       "    <tr>\n",
       "      <th>8</th>\n",
       "      <td>MEDICAL</td>\n",
       "      <td>354</td>\n",
       "    </tr>\n",
       "    <tr>\n",
       "      <th>14</th>\n",
       "      <td>NEWS_AND_MAGAZINES</td>\n",
       "      <td>281</td>\n",
       "    </tr>\n",
       "    <tr>\n",
       "      <th>31</th>\n",
       "      <td>PARENTING</td>\n",
       "      <td>58</td>\n",
       "    </tr>\n",
       "    <tr>\n",
       "      <th>12</th>\n",
       "      <td>PERSONALIZATION</td>\n",
       "      <td>309</td>\n",
       "    </tr>\n",
       "    <tr>\n",
       "      <th>11</th>\n",
       "      <td>PHOTOGRAPHY</td>\n",
       "      <td>313</td>\n",
       "    </tr>\n",
       "    <tr>\n",
       "      <th>4</th>\n",
       "      <td>PRODUCTIVITY</td>\n",
       "      <td>396</td>\n",
       "    </tr>\n",
       "    <tr>\n",
       "      <th>15</th>\n",
       "      <td>SHOPPING</td>\n",
       "      <td>258</td>\n",
       "    </tr>\n",
       "    <tr>\n",
       "      <th>13</th>\n",
       "      <td>SOCIAL</td>\n",
       "      <td>292</td>\n",
       "    </tr>\n",
       "    <tr>\n",
       "      <th>7</th>\n",
       "      <td>SPORTS</td>\n",
       "      <td>360</td>\n",
       "    </tr>\n",
       "    <tr>\n",
       "      <th>2</th>\n",
       "      <td>TOOLS</td>\n",
       "      <td>765</td>\n",
       "    </tr>\n",
       "    <tr>\n",
       "      <th>16</th>\n",
       "      <td>TRAVEL_AND_LOCAL</td>\n",
       "      <td>246</td>\n",
       "    </tr>\n",
       "    <tr>\n",
       "      <th>19</th>\n",
       "      <td>VIDEO_PLAYERS</td>\n",
       "      <td>171</td>\n",
       "    </tr>\n",
       "    <tr>\n",
       "      <th>27</th>\n",
       "      <td>WEATHER</td>\n",
       "      <td>74</td>\n",
       "    </tr>\n",
       "  </tbody>\n",
       "</table>\n",
       "</div>"
      ],
      "text/plain": [
       "             categories  count\n",
       "29       ART_AND_DESIGN     62\n",
       "26    AUTO_AND_VEHICLES     82\n",
       "32               BEAUTY     53\n",
       "18  BOOKS_AND_REFERENCE    203\n",
       "3              BUSINESS    446\n",
       "30               COMICS     60\n",
       "6         COMMUNICATION    360\n",
       "17               DATING    227\n",
       "20            EDUCATION    152\n",
       "21        ENTERTAINMENT    147\n",
       "28               EVENTS     63\n",
       "0                FAMILY   1780\n",
       "9               FINANCE    349\n",
       "23       FOOD_AND_DRINK    125\n",
       "1                  GAME   1061\n",
       "10   HEALTH_AND_FITNESS    325\n",
       "24       HOUSE_AND_HOME     88\n",
       "25   LIBRARIES_AND_DEMO     84\n",
       "5             LIFESTYLE    363\n",
       "22  MAPS_AND_NAVIGATION    132\n",
       "8               MEDICAL    354\n",
       "14   NEWS_AND_MAGAZINES    281\n",
       "31            PARENTING     58\n",
       "12      PERSONALIZATION    309\n",
       "11          PHOTOGRAPHY    313\n",
       "4          PRODUCTIVITY    396\n",
       "15             SHOPPING    258\n",
       "13               SOCIAL    292\n",
       "7                SPORTS    360\n",
       "2                 TOOLS    765\n",
       "16     TRAVEL_AND_LOCAL    246\n",
       "19        VIDEO_PLAYERS    171\n",
       "27              WEATHER     74"
      ]
     },
     "execution_count": 38,
     "metadata": {},
     "output_type": "execute_result"
    }
   ],
   "source": [
    "free_cat=stats(df_free,'Category','categories','count').sort_values(by='categories')\n",
    "free_cat"
   ]
  },
  {
   "cell_type": "code",
   "execution_count": 39,
   "id": "4e28cd79",
   "metadata": {
    "execution": {
     "iopub.execute_input": "2022-12-15T13:45:44.815167Z",
     "iopub.status.busy": "2022-12-15T13:45:44.814708Z",
     "iopub.status.idle": "2022-12-15T13:45:44.833983Z",
     "shell.execute_reply": "2022-12-15T13:45:44.832178Z"
    },
    "papermill": {
     "duration": 0.084954,
     "end_time": "2022-12-15T13:45:44.837637",
     "exception": false,
     "start_time": "2022-12-15T13:45:44.752683",
     "status": "completed"
    },
    "tags": []
   },
   "outputs": [
    {
     "data": {
      "text/html": [
       "<div>\n",
       "<style scoped>\n",
       "    .dataframe tbody tr th:only-of-type {\n",
       "        vertical-align: middle;\n",
       "    }\n",
       "\n",
       "    .dataframe tbody tr th {\n",
       "        vertical-align: top;\n",
       "    }\n",
       "\n",
       "    .dataframe thead th {\n",
       "        text-align: right;\n",
       "    }\n",
       "</style>\n",
       "<table border=\"1\" class=\"dataframe\">\n",
       "  <thead>\n",
       "    <tr style=\"text-align: right;\">\n",
       "      <th></th>\n",
       "      <th>categories</th>\n",
       "      <th>count</th>\n",
       "    </tr>\n",
       "  </thead>\n",
       "  <tbody>\n",
       "    <tr>\n",
       "      <th>22</th>\n",
       "      <td>ART_AND_DESIGN</td>\n",
       "      <td>3</td>\n",
       "    </tr>\n",
       "    <tr>\n",
       "      <th>20</th>\n",
       "      <td>AUTO_AND_VEHICLES</td>\n",
       "      <td>3</td>\n",
       "    </tr>\n",
       "    <tr>\n",
       "      <th>6</th>\n",
       "      <td>BOOKS_AND_REFERENCE</td>\n",
       "      <td>28</td>\n",
       "    </tr>\n",
       "    <tr>\n",
       "      <th>13</th>\n",
       "      <td>BUSINESS</td>\n",
       "      <td>14</td>\n",
       "    </tr>\n",
       "    <tr>\n",
       "      <th>7</th>\n",
       "      <td>COMMUNICATION</td>\n",
       "      <td>27</td>\n",
       "    </tr>\n",
       "    <tr>\n",
       "      <th>16</th>\n",
       "      <td>DATING</td>\n",
       "      <td>7</td>\n",
       "    </tr>\n",
       "    <tr>\n",
       "      <th>18</th>\n",
       "      <td>EDUCATION</td>\n",
       "      <td>4</td>\n",
       "    </tr>\n",
       "    <tr>\n",
       "      <th>24</th>\n",
       "      <td>ENTERTAINMENT</td>\n",
       "      <td>2</td>\n",
       "    </tr>\n",
       "    <tr>\n",
       "      <th>29</th>\n",
       "      <td>EVENTS</td>\n",
       "      <td>1</td>\n",
       "    </tr>\n",
       "    <tr>\n",
       "      <th>0</th>\n",
       "      <td>FAMILY</td>\n",
       "      <td>191</td>\n",
       "    </tr>\n",
       "    <tr>\n",
       "      <th>11</th>\n",
       "      <td>FINANCE</td>\n",
       "      <td>17</td>\n",
       "    </tr>\n",
       "    <tr>\n",
       "      <th>23</th>\n",
       "      <td>FOOD_AND_DRINK</td>\n",
       "      <td>2</td>\n",
       "    </tr>\n",
       "    <tr>\n",
       "      <th>2</th>\n",
       "      <td>GAME</td>\n",
       "      <td>83</td>\n",
       "    </tr>\n",
       "    <tr>\n",
       "      <th>12</th>\n",
       "      <td>HEALTH_AND_FITNESS</td>\n",
       "      <td>16</td>\n",
       "    </tr>\n",
       "    <tr>\n",
       "      <th>28</th>\n",
       "      <td>LIBRARIES_AND_DEMO</td>\n",
       "      <td>1</td>\n",
       "    </tr>\n",
       "    <tr>\n",
       "      <th>10</th>\n",
       "      <td>LIFESTYLE</td>\n",
       "      <td>19</td>\n",
       "    </tr>\n",
       "    <tr>\n",
       "      <th>17</th>\n",
       "      <td>MAPS_AND_NAVIGATION</td>\n",
       "      <td>5</td>\n",
       "    </tr>\n",
       "    <tr>\n",
       "      <th>1</th>\n",
       "      <td>MEDICAL</td>\n",
       "      <td>109</td>\n",
       "    </tr>\n",
       "    <tr>\n",
       "      <th>25</th>\n",
       "      <td>NEWS_AND_MAGAZINES</td>\n",
       "      <td>2</td>\n",
       "    </tr>\n",
       "    <tr>\n",
       "      <th>27</th>\n",
       "      <td>PARENTING</td>\n",
       "      <td>2</td>\n",
       "    </tr>\n",
       "    <tr>\n",
       "      <th>3</th>\n",
       "      <td>PERSONALIZATION</td>\n",
       "      <td>83</td>\n",
       "    </tr>\n",
       "    <tr>\n",
       "      <th>9</th>\n",
       "      <td>PHOTOGRAPHY</td>\n",
       "      <td>22</td>\n",
       "    </tr>\n",
       "    <tr>\n",
       "      <th>5</th>\n",
       "      <td>PRODUCTIVITY</td>\n",
       "      <td>28</td>\n",
       "    </tr>\n",
       "    <tr>\n",
       "      <th>26</th>\n",
       "      <td>SHOPPING</td>\n",
       "      <td>2</td>\n",
       "    </tr>\n",
       "    <tr>\n",
       "      <th>21</th>\n",
       "      <td>SOCIAL</td>\n",
       "      <td>3</td>\n",
       "    </tr>\n",
       "    <tr>\n",
       "      <th>8</th>\n",
       "      <td>SPORTS</td>\n",
       "      <td>24</td>\n",
       "    </tr>\n",
       "    <tr>\n",
       "      <th>4</th>\n",
       "      <td>TOOLS</td>\n",
       "      <td>78</td>\n",
       "    </tr>\n",
       "    <tr>\n",
       "      <th>14</th>\n",
       "      <td>TRAVEL_AND_LOCAL</td>\n",
       "      <td>12</td>\n",
       "    </tr>\n",
       "    <tr>\n",
       "      <th>19</th>\n",
       "      <td>VIDEO_PLAYERS</td>\n",
       "      <td>4</td>\n",
       "    </tr>\n",
       "    <tr>\n",
       "      <th>15</th>\n",
       "      <td>WEATHER</td>\n",
       "      <td>8</td>\n",
       "    </tr>\n",
       "  </tbody>\n",
       "</table>\n",
       "</div>"
      ],
      "text/plain": [
       "             categories  count\n",
       "22       ART_AND_DESIGN      3\n",
       "20    AUTO_AND_VEHICLES      3\n",
       "6   BOOKS_AND_REFERENCE     28\n",
       "13             BUSINESS     14\n",
       "7         COMMUNICATION     27\n",
       "16               DATING      7\n",
       "18            EDUCATION      4\n",
       "24        ENTERTAINMENT      2\n",
       "29               EVENTS      1\n",
       "0                FAMILY    191\n",
       "11              FINANCE     17\n",
       "23       FOOD_AND_DRINK      2\n",
       "2                  GAME     83\n",
       "12   HEALTH_AND_FITNESS     16\n",
       "28   LIBRARIES_AND_DEMO      1\n",
       "10            LIFESTYLE     19\n",
       "17  MAPS_AND_NAVIGATION      5\n",
       "1               MEDICAL    109\n",
       "25   NEWS_AND_MAGAZINES      2\n",
       "27            PARENTING      2\n",
       "3       PERSONALIZATION     83\n",
       "9           PHOTOGRAPHY     22\n",
       "5          PRODUCTIVITY     28\n",
       "26             SHOPPING      2\n",
       "21               SOCIAL      3\n",
       "8                SPORTS     24\n",
       "4                 TOOLS     78\n",
       "14     TRAVEL_AND_LOCAL     12\n",
       "19        VIDEO_PLAYERS      4\n",
       "15              WEATHER      8"
      ]
     },
     "execution_count": 39,
     "metadata": {},
     "output_type": "execute_result"
    }
   ],
   "source": [
    "paid_cat=stats(df_paid,'Category','categories','count').sort_values(by='categories')\n",
    "paid_cat"
   ]
  },
  {
   "cell_type": "code",
   "execution_count": 40,
   "id": "0ec27865",
   "metadata": {
    "execution": {
     "iopub.execute_input": "2022-12-15T13:45:44.955611Z",
     "iopub.status.busy": "2022-12-15T13:45:44.955029Z",
     "iopub.status.idle": "2022-12-15T13:45:44.992039Z",
     "shell.execute_reply": "2022-12-15T13:45:44.990668Z"
    },
    "papermill": {
     "duration": 0.098457,
     "end_time": "2022-12-15T13:45:44.995014",
     "exception": false,
     "start_time": "2022-12-15T13:45:44.896557",
     "status": "completed"
    },
    "tags": []
   },
   "outputs": [
    {
     "data": {
      "text/html": [
       "<div>                            <div id=\"18f5a7e4-78eb-475e-a552-89187d2e50b2\" class=\"plotly-graph-div\" style=\"height:525px; width:100%;\"></div>            <script type=\"text/javascript\">                require([\"plotly\"], function(Plotly) {                    window.PLOTLYENV=window.PLOTLYENV || {};                                    if (document.getElementById(\"18f5a7e4-78eb-475e-a552-89187d2e50b2\")) {                    Plotly.newPlot(                        \"18f5a7e4-78eb-475e-a552-89187d2e50b2\",                        [{\"x\":[\"ART_AND_DESIGN\",\"AUTO_AND_VEHICLES\",\"BEAUTY\",\"BOOKS_AND_REFERENCE\",\"BUSINESS\",\"COMICS\",\"COMMUNICATION\",\"DATING\",\"EDUCATION\",\"ENTERTAINMENT\",\"EVENTS\",\"FAMILY\",\"FINANCE\",\"FOOD_AND_DRINK\",\"GAME\",\"HEALTH_AND_FITNESS\",\"HOUSE_AND_HOME\",\"LIBRARIES_AND_DEMO\",\"LIFESTYLE\",\"MAPS_AND_NAVIGATION\",\"MEDICAL\",\"NEWS_AND_MAGAZINES\",\"PARENTING\",\"PERSONALIZATION\",\"PHOTOGRAPHY\",\"PRODUCTIVITY\",\"SHOPPING\",\"SOCIAL\",\"SPORTS\",\"TOOLS\",\"TRAVEL_AND_LOCAL\",\"VIDEO_PLAYERS\",\"WEATHER\"],\"y\":[62,82,53,203,446,60,360,227,152,147,63,1780,349,125,1061,325,88,84,363,132,354,281,58,309,313,396,258,292,360,765,246,171,74],\"type\":\"scatter\"},{\"x\":[\"ART_AND_DESIGN\",\"AUTO_AND_VEHICLES\",\"BOOKS_AND_REFERENCE\",\"BUSINESS\",\"COMMUNICATION\",\"DATING\",\"EDUCATION\",\"ENTERTAINMENT\",\"EVENTS\",\"FAMILY\",\"FINANCE\",\"FOOD_AND_DRINK\",\"GAME\",\"HEALTH_AND_FITNESS\",\"LIBRARIES_AND_DEMO\",\"LIFESTYLE\",\"MAPS_AND_NAVIGATION\",\"MEDICAL\",\"NEWS_AND_MAGAZINES\",\"PARENTING\",\"PERSONALIZATION\",\"PHOTOGRAPHY\",\"PRODUCTIVITY\",\"SHOPPING\",\"SOCIAL\",\"SPORTS\",\"TOOLS\",\"TRAVEL_AND_LOCAL\",\"VIDEO_PLAYERS\",\"WEATHER\"],\"y\":[3,3,28,14,27,7,4,2,1,191,17,2,83,16,1,19,5,109,2,2,83,22,28,2,3,24,78,12,4,8],\"type\":\"scatter\"}],                        {\"template\":{\"data\":{\"barpolar\":[{\"marker\":{\"line\":{\"color\":\"#E5ECF6\",\"width\":0.5},\"pattern\":{\"fillmode\":\"overlay\",\"size\":10,\"solidity\":0.2}},\"type\":\"barpolar\"}],\"bar\":[{\"error_x\":{\"color\":\"#2a3f5f\"},\"error_y\":{\"color\":\"#2a3f5f\"},\"marker\":{\"line\":{\"color\":\"#E5ECF6\",\"width\":0.5},\"pattern\":{\"fillmode\":\"overlay\",\"size\":10,\"solidity\":0.2}},\"type\":\"bar\"}],\"carpet\":[{\"aaxis\":{\"endlinecolor\":\"#2a3f5f\",\"gridcolor\":\"white\",\"linecolor\":\"white\",\"minorgridcolor\":\"white\",\"startlinecolor\":\"#2a3f5f\"},\"baxis\":{\"endlinecolor\":\"#2a3f5f\",\"gridcolor\":\"white\",\"linecolor\":\"white\",\"minorgridcolor\":\"white\",\"startlinecolor\":\"#2a3f5f\"},\"type\":\"carpet\"}],\"choropleth\":[{\"colorbar\":{\"outlinewidth\":0,\"ticks\":\"\"},\"type\":\"choropleth\"}],\"contourcarpet\":[{\"colorbar\":{\"outlinewidth\":0,\"ticks\":\"\"},\"type\":\"contourcarpet\"}],\"contour\":[{\"colorbar\":{\"outlinewidth\":0,\"ticks\":\"\"},\"colorscale\":[[0.0,\"#0d0887\"],[0.1111111111111111,\"#46039f\"],[0.2222222222222222,\"#7201a8\"],[0.3333333333333333,\"#9c179e\"],[0.4444444444444444,\"#bd3786\"],[0.5555555555555556,\"#d8576b\"],[0.6666666666666666,\"#ed7953\"],[0.7777777777777778,\"#fb9f3a\"],[0.8888888888888888,\"#fdca26\"],[1.0,\"#f0f921\"]],\"type\":\"contour\"}],\"heatmapgl\":[{\"colorbar\":{\"outlinewidth\":0,\"ticks\":\"\"},\"colorscale\":[[0.0,\"#0d0887\"],[0.1111111111111111,\"#46039f\"],[0.2222222222222222,\"#7201a8\"],[0.3333333333333333,\"#9c179e\"],[0.4444444444444444,\"#bd3786\"],[0.5555555555555556,\"#d8576b\"],[0.6666666666666666,\"#ed7953\"],[0.7777777777777778,\"#fb9f3a\"],[0.8888888888888888,\"#fdca26\"],[1.0,\"#f0f921\"]],\"type\":\"heatmapgl\"}],\"heatmap\":[{\"colorbar\":{\"outlinewidth\":0,\"ticks\":\"\"},\"colorscale\":[[0.0,\"#0d0887\"],[0.1111111111111111,\"#46039f\"],[0.2222222222222222,\"#7201a8\"],[0.3333333333333333,\"#9c179e\"],[0.4444444444444444,\"#bd3786\"],[0.5555555555555556,\"#d8576b\"],[0.6666666666666666,\"#ed7953\"],[0.7777777777777778,\"#fb9f3a\"],[0.8888888888888888,\"#fdca26\"],[1.0,\"#f0f921\"]],\"type\":\"heatmap\"}],\"histogram2dcontour\":[{\"colorbar\":{\"outlinewidth\":0,\"ticks\":\"\"},\"colorscale\":[[0.0,\"#0d0887\"],[0.1111111111111111,\"#46039f\"],[0.2222222222222222,\"#7201a8\"],[0.3333333333333333,\"#9c179e\"],[0.4444444444444444,\"#bd3786\"],[0.5555555555555556,\"#d8576b\"],[0.6666666666666666,\"#ed7953\"],[0.7777777777777778,\"#fb9f3a\"],[0.8888888888888888,\"#fdca26\"],[1.0,\"#f0f921\"]],\"type\":\"histogram2dcontour\"}],\"histogram2d\":[{\"colorbar\":{\"outlinewidth\":0,\"ticks\":\"\"},\"colorscale\":[[0.0,\"#0d0887\"],[0.1111111111111111,\"#46039f\"],[0.2222222222222222,\"#7201a8\"],[0.3333333333333333,\"#9c179e\"],[0.4444444444444444,\"#bd3786\"],[0.5555555555555556,\"#d8576b\"],[0.6666666666666666,\"#ed7953\"],[0.7777777777777778,\"#fb9f3a\"],[0.8888888888888888,\"#fdca26\"],[1.0,\"#f0f921\"]],\"type\":\"histogram2d\"}],\"histogram\":[{\"marker\":{\"pattern\":{\"fillmode\":\"overlay\",\"size\":10,\"solidity\":0.2}},\"type\":\"histogram\"}],\"mesh3d\":[{\"colorbar\":{\"outlinewidth\":0,\"ticks\":\"\"},\"type\":\"mesh3d\"}],\"parcoords\":[{\"line\":{\"colorbar\":{\"outlinewidth\":0,\"ticks\":\"\"}},\"type\":\"parcoords\"}],\"pie\":[{\"automargin\":true,\"type\":\"pie\"}],\"scatter3d\":[{\"line\":{\"colorbar\":{\"outlinewidth\":0,\"ticks\":\"\"}},\"marker\":{\"colorbar\":{\"outlinewidth\":0,\"ticks\":\"\"}},\"type\":\"scatter3d\"}],\"scattercarpet\":[{\"marker\":{\"colorbar\":{\"outlinewidth\":0,\"ticks\":\"\"}},\"type\":\"scattercarpet\"}],\"scattergeo\":[{\"marker\":{\"colorbar\":{\"outlinewidth\":0,\"ticks\":\"\"}},\"type\":\"scattergeo\"}],\"scattergl\":[{\"marker\":{\"colorbar\":{\"outlinewidth\":0,\"ticks\":\"\"}},\"type\":\"scattergl\"}],\"scattermapbox\":[{\"marker\":{\"colorbar\":{\"outlinewidth\":0,\"ticks\":\"\"}},\"type\":\"scattermapbox\"}],\"scatterpolargl\":[{\"marker\":{\"colorbar\":{\"outlinewidth\":0,\"ticks\":\"\"}},\"type\":\"scatterpolargl\"}],\"scatterpolar\":[{\"marker\":{\"colorbar\":{\"outlinewidth\":0,\"ticks\":\"\"}},\"type\":\"scatterpolar\"}],\"scatter\":[{\"fillpattern\":{\"fillmode\":\"overlay\",\"size\":10,\"solidity\":0.2},\"type\":\"scatter\"}],\"scatterternary\":[{\"marker\":{\"colorbar\":{\"outlinewidth\":0,\"ticks\":\"\"}},\"type\":\"scatterternary\"}],\"surface\":[{\"colorbar\":{\"outlinewidth\":0,\"ticks\":\"\"},\"colorscale\":[[0.0,\"#0d0887\"],[0.1111111111111111,\"#46039f\"],[0.2222222222222222,\"#7201a8\"],[0.3333333333333333,\"#9c179e\"],[0.4444444444444444,\"#bd3786\"],[0.5555555555555556,\"#d8576b\"],[0.6666666666666666,\"#ed7953\"],[0.7777777777777778,\"#fb9f3a\"],[0.8888888888888888,\"#fdca26\"],[1.0,\"#f0f921\"]],\"type\":\"surface\"}],\"table\":[{\"cells\":{\"fill\":{\"color\":\"#EBF0F8\"},\"line\":{\"color\":\"white\"}},\"header\":{\"fill\":{\"color\":\"#C8D4E3\"},\"line\":{\"color\":\"white\"}},\"type\":\"table\"}]},\"layout\":{\"annotationdefaults\":{\"arrowcolor\":\"#2a3f5f\",\"arrowhead\":0,\"arrowwidth\":1},\"autotypenumbers\":\"strict\",\"coloraxis\":{\"colorbar\":{\"outlinewidth\":0,\"ticks\":\"\"}},\"colorscale\":{\"diverging\":[[0,\"#8e0152\"],[0.1,\"#c51b7d\"],[0.2,\"#de77ae\"],[0.3,\"#f1b6da\"],[0.4,\"#fde0ef\"],[0.5,\"#f7f7f7\"],[0.6,\"#e6f5d0\"],[0.7,\"#b8e186\"],[0.8,\"#7fbc41\"],[0.9,\"#4d9221\"],[1,\"#276419\"]],\"sequential\":[[0.0,\"#0d0887\"],[0.1111111111111111,\"#46039f\"],[0.2222222222222222,\"#7201a8\"],[0.3333333333333333,\"#9c179e\"],[0.4444444444444444,\"#bd3786\"],[0.5555555555555556,\"#d8576b\"],[0.6666666666666666,\"#ed7953\"],[0.7777777777777778,\"#fb9f3a\"],[0.8888888888888888,\"#fdca26\"],[1.0,\"#f0f921\"]],\"sequentialminus\":[[0.0,\"#0d0887\"],[0.1111111111111111,\"#46039f\"],[0.2222222222222222,\"#7201a8\"],[0.3333333333333333,\"#9c179e\"],[0.4444444444444444,\"#bd3786\"],[0.5555555555555556,\"#d8576b\"],[0.6666666666666666,\"#ed7953\"],[0.7777777777777778,\"#fb9f3a\"],[0.8888888888888888,\"#fdca26\"],[1.0,\"#f0f921\"]]},\"colorway\":[\"#636efa\",\"#EF553B\",\"#00cc96\",\"#ab63fa\",\"#FFA15A\",\"#19d3f3\",\"#FF6692\",\"#B6E880\",\"#FF97FF\",\"#FECB52\"],\"font\":{\"color\":\"#2a3f5f\"},\"geo\":{\"bgcolor\":\"white\",\"lakecolor\":\"white\",\"landcolor\":\"#E5ECF6\",\"showlakes\":true,\"showland\":true,\"subunitcolor\":\"white\"},\"hoverlabel\":{\"align\":\"left\"},\"hovermode\":\"closest\",\"mapbox\":{\"style\":\"light\"},\"paper_bgcolor\":\"white\",\"plot_bgcolor\":\"#E5ECF6\",\"polar\":{\"angularaxis\":{\"gridcolor\":\"white\",\"linecolor\":\"white\",\"ticks\":\"\"},\"bgcolor\":\"#E5ECF6\",\"radialaxis\":{\"gridcolor\":\"white\",\"linecolor\":\"white\",\"ticks\":\"\"}},\"scene\":{\"xaxis\":{\"backgroundcolor\":\"#E5ECF6\",\"gridcolor\":\"white\",\"gridwidth\":2,\"linecolor\":\"white\",\"showbackground\":true,\"ticks\":\"\",\"zerolinecolor\":\"white\"},\"yaxis\":{\"backgroundcolor\":\"#E5ECF6\",\"gridcolor\":\"white\",\"gridwidth\":2,\"linecolor\":\"white\",\"showbackground\":true,\"ticks\":\"\",\"zerolinecolor\":\"white\"},\"zaxis\":{\"backgroundcolor\":\"#E5ECF6\",\"gridcolor\":\"white\",\"gridwidth\":2,\"linecolor\":\"white\",\"showbackground\":true,\"ticks\":\"\",\"zerolinecolor\":\"white\"}},\"shapedefaults\":{\"line\":{\"color\":\"#2a3f5f\"}},\"ternary\":{\"aaxis\":{\"gridcolor\":\"white\",\"linecolor\":\"white\",\"ticks\":\"\"},\"baxis\":{\"gridcolor\":\"white\",\"linecolor\":\"white\",\"ticks\":\"\"},\"bgcolor\":\"#E5ECF6\",\"caxis\":{\"gridcolor\":\"white\",\"linecolor\":\"white\",\"ticks\":\"\"}},\"title\":{\"x\":0.05},\"xaxis\":{\"automargin\":true,\"gridcolor\":\"white\",\"linecolor\":\"white\",\"ticks\":\"\",\"title\":{\"standoff\":15},\"zerolinecolor\":\"white\",\"zerolinewidth\":2},\"yaxis\":{\"automargin\":true,\"gridcolor\":\"white\",\"linecolor\":\"white\",\"ticks\":\"\",\"title\":{\"standoff\":15},\"zerolinecolor\":\"white\",\"zerolinewidth\":2}}}},                        {\"responsive\": true}                    ).then(function(){\n",
       "                            \n",
       "var gd = document.getElementById('18f5a7e4-78eb-475e-a552-89187d2e50b2');\n",
       "var x = new MutationObserver(function (mutations, observer) {{\n",
       "        var display = window.getComputedStyle(gd).display;\n",
       "        if (!display || display === 'none') {{\n",
       "            console.log([gd, 'removed!']);\n",
       "            Plotly.purge(gd);\n",
       "            observer.disconnect();\n",
       "        }}\n",
       "}});\n",
       "\n",
       "// Listen for the removal of the full notebook cells\n",
       "var notebookContainer = gd.closest('#notebook-container');\n",
       "if (notebookContainer) {{\n",
       "    x.observe(notebookContainer, {childList: true});\n",
       "}}\n",
       "\n",
       "// Listen for the clearing of the current output cell\n",
       "var outputEl = gd.closest('.output');\n",
       "if (outputEl) {{\n",
       "    x.observe(outputEl, {childList: true});\n",
       "}}\n",
       "\n",
       "                        })                };                });            </script>        </div>"
      ]
     },
     "metadata": {},
     "output_type": "display_data"
    }
   ],
   "source": [
    "need_visual(free_cat,paid_cat,'categories','count')"
   ]
  },
  {
   "cell_type": "markdown",
   "id": "e307c903",
   "metadata": {
    "papermill": {
     "duration": 0.056495,
     "end_time": "2022-12-15T13:45:45.110310",
     "exception": false,
     "start_time": "2022-12-15T13:45:45.053815",
     "status": "completed"
    },
    "tags": []
   },
   "source": [
    "### Analysing Android version feature"
   ]
  },
  {
   "cell_type": "code",
   "execution_count": 41,
   "id": "cc1761e0",
   "metadata": {
    "execution": {
     "iopub.execute_input": "2022-12-15T13:45:45.229300Z",
     "iopub.status.busy": "2022-12-15T13:45:45.228783Z",
     "iopub.status.idle": "2022-12-15T13:45:45.248108Z",
     "shell.execute_reply": "2022-12-15T13:45:45.246800Z"
    },
    "papermill": {
     "duration": 0.077893,
     "end_time": "2022-12-15T13:45:45.250536",
     "exception": false,
     "start_time": "2022-12-15T13:45:45.172643",
     "status": "completed"
    },
    "tags": []
   },
   "outputs": [
    {
     "data": {
      "text/html": [
       "<div>\n",
       "<style scoped>\n",
       "    .dataframe tbody tr th:only-of-type {\n",
       "        vertical-align: middle;\n",
       "    }\n",
       "\n",
       "    .dataframe tbody tr th {\n",
       "        vertical-align: top;\n",
       "    }\n",
       "\n",
       "    .dataframe thead th {\n",
       "        text-align: right;\n",
       "    }\n",
       "</style>\n",
       "<table border=\"1\" class=\"dataframe\">\n",
       "  <thead>\n",
       "    <tr style=\"text-align: right;\">\n",
       "      <th></th>\n",
       "      <th>Android_versions</th>\n",
       "      <th>Total_apps</th>\n",
       "    </tr>\n",
       "  </thead>\n",
       "  <tbody>\n",
       "    <tr>\n",
       "      <th>27</th>\n",
       "      <td>1.0 and up</td>\n",
       "      <td>2</td>\n",
       "    </tr>\n",
       "    <tr>\n",
       "      <th>19</th>\n",
       "      <td>1.5 and up</td>\n",
       "      <td>14</td>\n",
       "    </tr>\n",
       "    <tr>\n",
       "      <th>13</th>\n",
       "      <td>1.6 and up</td>\n",
       "      <td>77</td>\n",
       "    </tr>\n",
       "    <tr>\n",
       "      <th>17</th>\n",
       "      <td>2.0 and up</td>\n",
       "      <td>26</td>\n",
       "    </tr>\n",
       "    <tr>\n",
       "      <th>26</th>\n",
       "      <td>2.0.1 and up</td>\n",
       "      <td>2</td>\n",
       "    </tr>\n",
       "    <tr>\n",
       "      <th>12</th>\n",
       "      <td>2.1 and up</td>\n",
       "      <td>107</td>\n",
       "    </tr>\n",
       "    <tr>\n",
       "      <th>31</th>\n",
       "      <td>2.2 - 7.1.1</td>\n",
       "      <td>1</td>\n",
       "    </tr>\n",
       "    <tr>\n",
       "      <th>11</th>\n",
       "      <td>2.2 and up</td>\n",
       "      <td>195</td>\n",
       "    </tr>\n",
       "    <tr>\n",
       "      <th>5</th>\n",
       "      <td>2.3 and up</td>\n",
       "      <td>580</td>\n",
       "    </tr>\n",
       "    <tr>\n",
       "      <th>8</th>\n",
       "      <td>2.3.3 and up</td>\n",
       "      <td>251</td>\n",
       "    </tr>\n",
       "    <tr>\n",
       "      <th>10</th>\n",
       "      <td>3.0 and up</td>\n",
       "      <td>207</td>\n",
       "    </tr>\n",
       "    <tr>\n",
       "      <th>21</th>\n",
       "      <td>3.1 and up</td>\n",
       "      <td>9</td>\n",
       "    </tr>\n",
       "    <tr>\n",
       "      <th>16</th>\n",
       "      <td>3.2 and up</td>\n",
       "      <td>28</td>\n",
       "    </tr>\n",
       "    <tr>\n",
       "      <th>3</th>\n",
       "      <td>4.0 and up</td>\n",
       "      <td>1273</td>\n",
       "    </tr>\n",
       "    <tr>\n",
       "      <th>24</th>\n",
       "      <td>4.0.3 - 7.1.1</td>\n",
       "      <td>2</td>\n",
       "    </tr>\n",
       "    <tr>\n",
       "      <th>1</th>\n",
       "      <td>4.0.3 and up</td>\n",
       "      <td>1412</td>\n",
       "    </tr>\n",
       "    <tr>\n",
       "      <th>29</th>\n",
       "      <td>4.1 - 7.1.1</td>\n",
       "      <td>1</td>\n",
       "    </tr>\n",
       "    <tr>\n",
       "      <th>0</th>\n",
       "      <td>4.1 and up</td>\n",
       "      <td>2320</td>\n",
       "    </tr>\n",
       "    <tr>\n",
       "      <th>7</th>\n",
       "      <td>4.2 and up</td>\n",
       "      <td>373</td>\n",
       "    </tr>\n",
       "    <tr>\n",
       "      <th>9</th>\n",
       "      <td>4.3 and up</td>\n",
       "      <td>229</td>\n",
       "    </tr>\n",
       "    <tr>\n",
       "      <th>4</th>\n",
       "      <td>4.4 and up</td>\n",
       "      <td>939</td>\n",
       "    </tr>\n",
       "    <tr>\n",
       "      <th>20</th>\n",
       "      <td>4.4W and up</td>\n",
       "      <td>9</td>\n",
       "    </tr>\n",
       "    <tr>\n",
       "      <th>30</th>\n",
       "      <td>5.0 - 6.0</td>\n",
       "      <td>1</td>\n",
       "    </tr>\n",
       "    <tr>\n",
       "      <th>32</th>\n",
       "      <td>5.0 - 7.1.1</td>\n",
       "      <td>1</td>\n",
       "    </tr>\n",
       "    <tr>\n",
       "      <th>25</th>\n",
       "      <td>5.0 - 8.0</td>\n",
       "      <td>2</td>\n",
       "    </tr>\n",
       "    <tr>\n",
       "      <th>6</th>\n",
       "      <td>5.0 and up</td>\n",
       "      <td>569</td>\n",
       "    </tr>\n",
       "    <tr>\n",
       "      <th>18</th>\n",
       "      <td>5.1 and up</td>\n",
       "      <td>21</td>\n",
       "    </tr>\n",
       "    <tr>\n",
       "      <th>14</th>\n",
       "      <td>6.0 and up</td>\n",
       "      <td>55</td>\n",
       "    </tr>\n",
       "    <tr>\n",
       "      <th>28</th>\n",
       "      <td>7.0 - 7.1.1</td>\n",
       "      <td>1</td>\n",
       "    </tr>\n",
       "    <tr>\n",
       "      <th>15</th>\n",
       "      <td>7.0 and up</td>\n",
       "      <td>29</td>\n",
       "    </tr>\n",
       "    <tr>\n",
       "      <th>23</th>\n",
       "      <td>7.1 and up</td>\n",
       "      <td>3</td>\n",
       "    </tr>\n",
       "    <tr>\n",
       "      <th>22</th>\n",
       "      <td>8.0 and up</td>\n",
       "      <td>5</td>\n",
       "    </tr>\n",
       "    <tr>\n",
       "      <th>2</th>\n",
       "      <td>Varies with device</td>\n",
       "      <td>1295</td>\n",
       "    </tr>\n",
       "  </tbody>\n",
       "</table>\n",
       "</div>"
      ],
      "text/plain": [
       "      Android_versions  Total_apps\n",
       "27          1.0 and up           2\n",
       "19          1.5 and up          14\n",
       "13          1.6 and up          77\n",
       "17          2.0 and up          26\n",
       "26        2.0.1 and up           2\n",
       "12          2.1 and up         107\n",
       "31         2.2 - 7.1.1           1\n",
       "11          2.2 and up         195\n",
       "5           2.3 and up         580\n",
       "8         2.3.3 and up         251\n",
       "10          3.0 and up         207\n",
       "21          3.1 and up           9\n",
       "16          3.2 and up          28\n",
       "3           4.0 and up        1273\n",
       "24       4.0.3 - 7.1.1           2\n",
       "1         4.0.3 and up        1412\n",
       "29         4.1 - 7.1.1           1\n",
       "0           4.1 and up        2320\n",
       "7           4.2 and up         373\n",
       "9           4.3 and up         229\n",
       "4           4.4 and up         939\n",
       "20         4.4W and up           9\n",
       "30           5.0 - 6.0           1\n",
       "32         5.0 - 7.1.1           1\n",
       "25           5.0 - 8.0           2\n",
       "6           5.0 and up         569\n",
       "18          5.1 and up          21\n",
       "14          6.0 and up          55\n",
       "28         7.0 - 7.1.1           1\n",
       "15          7.0 and up          29\n",
       "23          7.1 and up           3\n",
       "22          8.0 and up           5\n",
       "2   Varies with device        1295"
      ]
     },
     "execution_count": 41,
     "metadata": {},
     "output_type": "execute_result"
    }
   ],
   "source": [
    "free_android=stats(df_free,'Android Ver','Android_versions','Total_apps').sort_values(by='Android_versions')\n",
    "free_android"
   ]
  },
  {
   "cell_type": "code",
   "execution_count": 42,
   "id": "965e68ed",
   "metadata": {
    "execution": {
     "iopub.execute_input": "2022-12-15T13:45:45.393445Z",
     "iopub.status.busy": "2022-12-15T13:45:45.392538Z",
     "iopub.status.idle": "2022-12-15T13:45:45.408264Z",
     "shell.execute_reply": "2022-12-15T13:45:45.407036Z"
    },
    "papermill": {
     "duration": 0.103335,
     "end_time": "2022-12-15T13:45:45.410748",
     "exception": false,
     "start_time": "2022-12-15T13:45:45.307413",
     "status": "completed"
    },
    "tags": []
   },
   "outputs": [
    {
     "data": {
      "text/html": [
       "<div>\n",
       "<style scoped>\n",
       "    .dataframe tbody tr th:only-of-type {\n",
       "        vertical-align: middle;\n",
       "    }\n",
       "\n",
       "    .dataframe tbody tr th {\n",
       "        vertical-align: top;\n",
       "    }\n",
       "\n",
       "    .dataframe thead th {\n",
       "        text-align: right;\n",
       "    }\n",
       "</style>\n",
       "<table border=\"1\" class=\"dataframe\">\n",
       "  <thead>\n",
       "    <tr style=\"text-align: right;\">\n",
       "      <th></th>\n",
       "      <th>Android_versions</th>\n",
       "      <th>Total_apps</th>\n",
       "    </tr>\n",
       "  </thead>\n",
       "  <tbody>\n",
       "    <tr>\n",
       "      <th>16</th>\n",
       "      <td>1.5 and up</td>\n",
       "      <td>6</td>\n",
       "    </tr>\n",
       "    <tr>\n",
       "      <th>7</th>\n",
       "      <td>1.6 and up</td>\n",
       "      <td>39</td>\n",
       "    </tr>\n",
       "    <tr>\n",
       "      <th>17</th>\n",
       "      <td>2.0 and up</td>\n",
       "      <td>6</td>\n",
       "    </tr>\n",
       "    <tr>\n",
       "      <th>18</th>\n",
       "      <td>2.0.1 and up</td>\n",
       "      <td>5</td>\n",
       "    </tr>\n",
       "    <tr>\n",
       "      <th>11</th>\n",
       "      <td>2.1 and up</td>\n",
       "      <td>27</td>\n",
       "    </tr>\n",
       "    <tr>\n",
       "      <th>5</th>\n",
       "      <td>2.2 and up</td>\n",
       "      <td>49</td>\n",
       "    </tr>\n",
       "    <tr>\n",
       "      <th>3</th>\n",
       "      <td>2.3 and up</td>\n",
       "      <td>72</td>\n",
       "    </tr>\n",
       "    <tr>\n",
       "      <th>10</th>\n",
       "      <td>2.3.3 and up</td>\n",
       "      <td>30</td>\n",
       "    </tr>\n",
       "    <tr>\n",
       "      <th>8</th>\n",
       "      <td>3.0 and up</td>\n",
       "      <td>34</td>\n",
       "    </tr>\n",
       "    <tr>\n",
       "      <th>23</th>\n",
       "      <td>3.1 and up</td>\n",
       "      <td>1</td>\n",
       "    </tr>\n",
       "    <tr>\n",
       "      <th>15</th>\n",
       "      <td>3.2 and up</td>\n",
       "      <td>8</td>\n",
       "    </tr>\n",
       "    <tr>\n",
       "      <th>1</th>\n",
       "      <td>4.0 and up</td>\n",
       "      <td>103</td>\n",
       "    </tr>\n",
       "    <tr>\n",
       "      <th>2</th>\n",
       "      <td>4.0.3 and up</td>\n",
       "      <td>89</td>\n",
       "    </tr>\n",
       "    <tr>\n",
       "      <th>0</th>\n",
       "      <td>4.1 and up</td>\n",
       "      <td>131</td>\n",
       "    </tr>\n",
       "    <tr>\n",
       "      <th>12</th>\n",
       "      <td>4.2 and up</td>\n",
       "      <td>21</td>\n",
       "    </tr>\n",
       "    <tr>\n",
       "      <th>13</th>\n",
       "      <td>4.3 and up</td>\n",
       "      <td>14</td>\n",
       "    </tr>\n",
       "    <tr>\n",
       "      <th>6</th>\n",
       "      <td>4.4 and up</td>\n",
       "      <td>41</td>\n",
       "    </tr>\n",
       "    <tr>\n",
       "      <th>20</th>\n",
       "      <td>4.4W and up</td>\n",
       "      <td>3</td>\n",
       "    </tr>\n",
       "    <tr>\n",
       "      <th>9</th>\n",
       "      <td>5.0 and up</td>\n",
       "      <td>32</td>\n",
       "    </tr>\n",
       "    <tr>\n",
       "      <th>21</th>\n",
       "      <td>5.1 and up</td>\n",
       "      <td>3</td>\n",
       "    </tr>\n",
       "    <tr>\n",
       "      <th>19</th>\n",
       "      <td>6.0 and up</td>\n",
       "      <td>5</td>\n",
       "    </tr>\n",
       "    <tr>\n",
       "      <th>14</th>\n",
       "      <td>7.0 and up</td>\n",
       "      <td>13</td>\n",
       "    </tr>\n",
       "    <tr>\n",
       "      <th>22</th>\n",
       "      <td>8.0 and up</td>\n",
       "      <td>1</td>\n",
       "    </tr>\n",
       "    <tr>\n",
       "      <th>4</th>\n",
       "      <td>Varies with device</td>\n",
       "      <td>66</td>\n",
       "    </tr>\n",
       "  </tbody>\n",
       "</table>\n",
       "</div>"
      ],
      "text/plain": [
       "      Android_versions  Total_apps\n",
       "16          1.5 and up           6\n",
       "7           1.6 and up          39\n",
       "17          2.0 and up           6\n",
       "18        2.0.1 and up           5\n",
       "11          2.1 and up          27\n",
       "5           2.2 and up          49\n",
       "3           2.3 and up          72\n",
       "10        2.3.3 and up          30\n",
       "8           3.0 and up          34\n",
       "23          3.1 and up           1\n",
       "15          3.2 and up           8\n",
       "1           4.0 and up         103\n",
       "2         4.0.3 and up          89\n",
       "0           4.1 and up         131\n",
       "12          4.2 and up          21\n",
       "13          4.3 and up          14\n",
       "6           4.4 and up          41\n",
       "20         4.4W and up           3\n",
       "9           5.0 and up          32\n",
       "21          5.1 and up           3\n",
       "19          6.0 and up           5\n",
       "14          7.0 and up          13\n",
       "22          8.0 and up           1\n",
       "4   Varies with device          66"
      ]
     },
     "execution_count": 42,
     "metadata": {},
     "output_type": "execute_result"
    }
   ],
   "source": [
    "paid_android=stats(df_paid,'Android Ver','Android_versions','Total_apps').sort_values(by='Android_versions')\n",
    "paid_android"
   ]
  },
  {
   "cell_type": "code",
   "execution_count": 43,
   "id": "8f967d61",
   "metadata": {
    "execution": {
     "iopub.execute_input": "2022-12-15T13:45:45.527701Z",
     "iopub.status.busy": "2022-12-15T13:45:45.527246Z",
     "iopub.status.idle": "2022-12-15T13:45:45.562677Z",
     "shell.execute_reply": "2022-12-15T13:45:45.561371Z"
    },
    "papermill": {
     "duration": 0.098494,
     "end_time": "2022-12-15T13:45:45.565504",
     "exception": false,
     "start_time": "2022-12-15T13:45:45.467010",
     "status": "completed"
    },
    "tags": []
   },
   "outputs": [
    {
     "data": {
      "text/html": [
       "<div>                            <div id=\"6e57993e-79a6-4ac1-953f-5357812c711b\" class=\"plotly-graph-div\" style=\"height:525px; width:100%;\"></div>            <script type=\"text/javascript\">                require([\"plotly\"], function(Plotly) {                    window.PLOTLYENV=window.PLOTLYENV || {};                                    if (document.getElementById(\"6e57993e-79a6-4ac1-953f-5357812c711b\")) {                    Plotly.newPlot(                        \"6e57993e-79a6-4ac1-953f-5357812c711b\",                        [{\"x\":[\"1.0 and up\",\"1.5 and up\",\"1.6 and up\",\"2.0 and up\",\"2.0.1 and up\",\"2.1 and up\",\"2.2 - 7.1.1\",\"2.2 and up\",\"2.3 and up\",\"2.3.3 and up\",\"3.0 and up\",\"3.1 and up\",\"3.2 and up\",\"4.0 and up\",\"4.0.3 - 7.1.1\",\"4.0.3 and up\",\"4.1 - 7.1.1\",\"4.1 and up\",\"4.2 and up\",\"4.3 and up\",\"4.4 and up\",\"4.4W and up\",\"5.0 - 6.0\",\"5.0 - 7.1.1\",\"5.0 - 8.0\",\"5.0 and up\",\"5.1 and up\",\"6.0 and up\",\"7.0 - 7.1.1\",\"7.0 and up\",\"7.1 and up\",\"8.0 and up\",\"Varies with device\"],\"y\":[2,14,77,26,2,107,1,195,580,251,207,9,28,1273,2,1412,1,2320,373,229,939,9,1,1,2,569,21,55,1,29,3,5,1295],\"type\":\"scatter\"},{\"x\":[\"1.5 and up\",\"1.6 and up\",\"2.0 and up\",\"2.0.1 and up\",\"2.1 and up\",\"2.2 and up\",\"2.3 and up\",\"2.3.3 and up\",\"3.0 and up\",\"3.1 and up\",\"3.2 and up\",\"4.0 and up\",\"4.0.3 and up\",\"4.1 and up\",\"4.2 and up\",\"4.3 and up\",\"4.4 and up\",\"4.4W and up\",\"5.0 and up\",\"5.1 and up\",\"6.0 and up\",\"7.0 and up\",\"8.0 and up\",\"Varies with device\"],\"y\":[6,39,6,5,27,49,72,30,34,1,8,103,89,131,21,14,41,3,32,3,5,13,1,66],\"type\":\"scatter\"}],                        {\"template\":{\"data\":{\"barpolar\":[{\"marker\":{\"line\":{\"color\":\"#E5ECF6\",\"width\":0.5},\"pattern\":{\"fillmode\":\"overlay\",\"size\":10,\"solidity\":0.2}},\"type\":\"barpolar\"}],\"bar\":[{\"error_x\":{\"color\":\"#2a3f5f\"},\"error_y\":{\"color\":\"#2a3f5f\"},\"marker\":{\"line\":{\"color\":\"#E5ECF6\",\"width\":0.5},\"pattern\":{\"fillmode\":\"overlay\",\"size\":10,\"solidity\":0.2}},\"type\":\"bar\"}],\"carpet\":[{\"aaxis\":{\"endlinecolor\":\"#2a3f5f\",\"gridcolor\":\"white\",\"linecolor\":\"white\",\"minorgridcolor\":\"white\",\"startlinecolor\":\"#2a3f5f\"},\"baxis\":{\"endlinecolor\":\"#2a3f5f\",\"gridcolor\":\"white\",\"linecolor\":\"white\",\"minorgridcolor\":\"white\",\"startlinecolor\":\"#2a3f5f\"},\"type\":\"carpet\"}],\"choropleth\":[{\"colorbar\":{\"outlinewidth\":0,\"ticks\":\"\"},\"type\":\"choropleth\"}],\"contourcarpet\":[{\"colorbar\":{\"outlinewidth\":0,\"ticks\":\"\"},\"type\":\"contourcarpet\"}],\"contour\":[{\"colorbar\":{\"outlinewidth\":0,\"ticks\":\"\"},\"colorscale\":[[0.0,\"#0d0887\"],[0.1111111111111111,\"#46039f\"],[0.2222222222222222,\"#7201a8\"],[0.3333333333333333,\"#9c179e\"],[0.4444444444444444,\"#bd3786\"],[0.5555555555555556,\"#d8576b\"],[0.6666666666666666,\"#ed7953\"],[0.7777777777777778,\"#fb9f3a\"],[0.8888888888888888,\"#fdca26\"],[1.0,\"#f0f921\"]],\"type\":\"contour\"}],\"heatmapgl\":[{\"colorbar\":{\"outlinewidth\":0,\"ticks\":\"\"},\"colorscale\":[[0.0,\"#0d0887\"],[0.1111111111111111,\"#46039f\"],[0.2222222222222222,\"#7201a8\"],[0.3333333333333333,\"#9c179e\"],[0.4444444444444444,\"#bd3786\"],[0.5555555555555556,\"#d8576b\"],[0.6666666666666666,\"#ed7953\"],[0.7777777777777778,\"#fb9f3a\"],[0.8888888888888888,\"#fdca26\"],[1.0,\"#f0f921\"]],\"type\":\"heatmapgl\"}],\"heatmap\":[{\"colorbar\":{\"outlinewidth\":0,\"ticks\":\"\"},\"colorscale\":[[0.0,\"#0d0887\"],[0.1111111111111111,\"#46039f\"],[0.2222222222222222,\"#7201a8\"],[0.3333333333333333,\"#9c179e\"],[0.4444444444444444,\"#bd3786\"],[0.5555555555555556,\"#d8576b\"],[0.6666666666666666,\"#ed7953\"],[0.7777777777777778,\"#fb9f3a\"],[0.8888888888888888,\"#fdca26\"],[1.0,\"#f0f921\"]],\"type\":\"heatmap\"}],\"histogram2dcontour\":[{\"colorbar\":{\"outlinewidth\":0,\"ticks\":\"\"},\"colorscale\":[[0.0,\"#0d0887\"],[0.1111111111111111,\"#46039f\"],[0.2222222222222222,\"#7201a8\"],[0.3333333333333333,\"#9c179e\"],[0.4444444444444444,\"#bd3786\"],[0.5555555555555556,\"#d8576b\"],[0.6666666666666666,\"#ed7953\"],[0.7777777777777778,\"#fb9f3a\"],[0.8888888888888888,\"#fdca26\"],[1.0,\"#f0f921\"]],\"type\":\"histogram2dcontour\"}],\"histogram2d\":[{\"colorbar\":{\"outlinewidth\":0,\"ticks\":\"\"},\"colorscale\":[[0.0,\"#0d0887\"],[0.1111111111111111,\"#46039f\"],[0.2222222222222222,\"#7201a8\"],[0.3333333333333333,\"#9c179e\"],[0.4444444444444444,\"#bd3786\"],[0.5555555555555556,\"#d8576b\"],[0.6666666666666666,\"#ed7953\"],[0.7777777777777778,\"#fb9f3a\"],[0.8888888888888888,\"#fdca26\"],[1.0,\"#f0f921\"]],\"type\":\"histogram2d\"}],\"histogram\":[{\"marker\":{\"pattern\":{\"fillmode\":\"overlay\",\"size\":10,\"solidity\":0.2}},\"type\":\"histogram\"}],\"mesh3d\":[{\"colorbar\":{\"outlinewidth\":0,\"ticks\":\"\"},\"type\":\"mesh3d\"}],\"parcoords\":[{\"line\":{\"colorbar\":{\"outlinewidth\":0,\"ticks\":\"\"}},\"type\":\"parcoords\"}],\"pie\":[{\"automargin\":true,\"type\":\"pie\"}],\"scatter3d\":[{\"line\":{\"colorbar\":{\"outlinewidth\":0,\"ticks\":\"\"}},\"marker\":{\"colorbar\":{\"outlinewidth\":0,\"ticks\":\"\"}},\"type\":\"scatter3d\"}],\"scattercarpet\":[{\"marker\":{\"colorbar\":{\"outlinewidth\":0,\"ticks\":\"\"}},\"type\":\"scattercarpet\"}],\"scattergeo\":[{\"marker\":{\"colorbar\":{\"outlinewidth\":0,\"ticks\":\"\"}},\"type\":\"scattergeo\"}],\"scattergl\":[{\"marker\":{\"colorbar\":{\"outlinewidth\":0,\"ticks\":\"\"}},\"type\":\"scattergl\"}],\"scattermapbox\":[{\"marker\":{\"colorbar\":{\"outlinewidth\":0,\"ticks\":\"\"}},\"type\":\"scattermapbox\"}],\"scatterpolargl\":[{\"marker\":{\"colorbar\":{\"outlinewidth\":0,\"ticks\":\"\"}},\"type\":\"scatterpolargl\"}],\"scatterpolar\":[{\"marker\":{\"colorbar\":{\"outlinewidth\":0,\"ticks\":\"\"}},\"type\":\"scatterpolar\"}],\"scatter\":[{\"fillpattern\":{\"fillmode\":\"overlay\",\"size\":10,\"solidity\":0.2},\"type\":\"scatter\"}],\"scatterternary\":[{\"marker\":{\"colorbar\":{\"outlinewidth\":0,\"ticks\":\"\"}},\"type\":\"scatterternary\"}],\"surface\":[{\"colorbar\":{\"outlinewidth\":0,\"ticks\":\"\"},\"colorscale\":[[0.0,\"#0d0887\"],[0.1111111111111111,\"#46039f\"],[0.2222222222222222,\"#7201a8\"],[0.3333333333333333,\"#9c179e\"],[0.4444444444444444,\"#bd3786\"],[0.5555555555555556,\"#d8576b\"],[0.6666666666666666,\"#ed7953\"],[0.7777777777777778,\"#fb9f3a\"],[0.8888888888888888,\"#fdca26\"],[1.0,\"#f0f921\"]],\"type\":\"surface\"}],\"table\":[{\"cells\":{\"fill\":{\"color\":\"#EBF0F8\"},\"line\":{\"color\":\"white\"}},\"header\":{\"fill\":{\"color\":\"#C8D4E3\"},\"line\":{\"color\":\"white\"}},\"type\":\"table\"}]},\"layout\":{\"annotationdefaults\":{\"arrowcolor\":\"#2a3f5f\",\"arrowhead\":0,\"arrowwidth\":1},\"autotypenumbers\":\"strict\",\"coloraxis\":{\"colorbar\":{\"outlinewidth\":0,\"ticks\":\"\"}},\"colorscale\":{\"diverging\":[[0,\"#8e0152\"],[0.1,\"#c51b7d\"],[0.2,\"#de77ae\"],[0.3,\"#f1b6da\"],[0.4,\"#fde0ef\"],[0.5,\"#f7f7f7\"],[0.6,\"#e6f5d0\"],[0.7,\"#b8e186\"],[0.8,\"#7fbc41\"],[0.9,\"#4d9221\"],[1,\"#276419\"]],\"sequential\":[[0.0,\"#0d0887\"],[0.1111111111111111,\"#46039f\"],[0.2222222222222222,\"#7201a8\"],[0.3333333333333333,\"#9c179e\"],[0.4444444444444444,\"#bd3786\"],[0.5555555555555556,\"#d8576b\"],[0.6666666666666666,\"#ed7953\"],[0.7777777777777778,\"#fb9f3a\"],[0.8888888888888888,\"#fdca26\"],[1.0,\"#f0f921\"]],\"sequentialminus\":[[0.0,\"#0d0887\"],[0.1111111111111111,\"#46039f\"],[0.2222222222222222,\"#7201a8\"],[0.3333333333333333,\"#9c179e\"],[0.4444444444444444,\"#bd3786\"],[0.5555555555555556,\"#d8576b\"],[0.6666666666666666,\"#ed7953\"],[0.7777777777777778,\"#fb9f3a\"],[0.8888888888888888,\"#fdca26\"],[1.0,\"#f0f921\"]]},\"colorway\":[\"#636efa\",\"#EF553B\",\"#00cc96\",\"#ab63fa\",\"#FFA15A\",\"#19d3f3\",\"#FF6692\",\"#B6E880\",\"#FF97FF\",\"#FECB52\"],\"font\":{\"color\":\"#2a3f5f\"},\"geo\":{\"bgcolor\":\"white\",\"lakecolor\":\"white\",\"landcolor\":\"#E5ECF6\",\"showlakes\":true,\"showland\":true,\"subunitcolor\":\"white\"},\"hoverlabel\":{\"align\":\"left\"},\"hovermode\":\"closest\",\"mapbox\":{\"style\":\"light\"},\"paper_bgcolor\":\"white\",\"plot_bgcolor\":\"#E5ECF6\",\"polar\":{\"angularaxis\":{\"gridcolor\":\"white\",\"linecolor\":\"white\",\"ticks\":\"\"},\"bgcolor\":\"#E5ECF6\",\"radialaxis\":{\"gridcolor\":\"white\",\"linecolor\":\"white\",\"ticks\":\"\"}},\"scene\":{\"xaxis\":{\"backgroundcolor\":\"#E5ECF6\",\"gridcolor\":\"white\",\"gridwidth\":2,\"linecolor\":\"white\",\"showbackground\":true,\"ticks\":\"\",\"zerolinecolor\":\"white\"},\"yaxis\":{\"backgroundcolor\":\"#E5ECF6\",\"gridcolor\":\"white\",\"gridwidth\":2,\"linecolor\":\"white\",\"showbackground\":true,\"ticks\":\"\",\"zerolinecolor\":\"white\"},\"zaxis\":{\"backgroundcolor\":\"#E5ECF6\",\"gridcolor\":\"white\",\"gridwidth\":2,\"linecolor\":\"white\",\"showbackground\":true,\"ticks\":\"\",\"zerolinecolor\":\"white\"}},\"shapedefaults\":{\"line\":{\"color\":\"#2a3f5f\"}},\"ternary\":{\"aaxis\":{\"gridcolor\":\"white\",\"linecolor\":\"white\",\"ticks\":\"\"},\"baxis\":{\"gridcolor\":\"white\",\"linecolor\":\"white\",\"ticks\":\"\"},\"bgcolor\":\"#E5ECF6\",\"caxis\":{\"gridcolor\":\"white\",\"linecolor\":\"white\",\"ticks\":\"\"}},\"title\":{\"x\":0.05},\"xaxis\":{\"automargin\":true,\"gridcolor\":\"white\",\"linecolor\":\"white\",\"ticks\":\"\",\"title\":{\"standoff\":15},\"zerolinecolor\":\"white\",\"zerolinewidth\":2},\"yaxis\":{\"automargin\":true,\"gridcolor\":\"white\",\"linecolor\":\"white\",\"ticks\":\"\",\"title\":{\"standoff\":15},\"zerolinecolor\":\"white\",\"zerolinewidth\":2}}}},                        {\"responsive\": true}                    ).then(function(){\n",
       "                            \n",
       "var gd = document.getElementById('6e57993e-79a6-4ac1-953f-5357812c711b');\n",
       "var x = new MutationObserver(function (mutations, observer) {{\n",
       "        var display = window.getComputedStyle(gd).display;\n",
       "        if (!display || display === 'none') {{\n",
       "            console.log([gd, 'removed!']);\n",
       "            Plotly.purge(gd);\n",
       "            observer.disconnect();\n",
       "        }}\n",
       "}});\n",
       "\n",
       "// Listen for the removal of the full notebook cells\n",
       "var notebookContainer = gd.closest('#notebook-container');\n",
       "if (notebookContainer) {{\n",
       "    x.observe(notebookContainer, {childList: true});\n",
       "}}\n",
       "\n",
       "// Listen for the clearing of the current output cell\n",
       "var outputEl = gd.closest('.output');\n",
       "if (outputEl) {{\n",
       "    x.observe(outputEl, {childList: true});\n",
       "}}\n",
       "\n",
       "                        })                };                });            </script>        </div>"
      ]
     },
     "metadata": {},
     "output_type": "display_data"
    }
   ],
   "source": [
    "need_visual(free_android,paid_android,'Android_versions','Total_apps')"
   ]
  },
  {
   "cell_type": "markdown",
   "id": "39c903fd",
   "metadata": {
    "papermill": {
     "duration": 0.056858,
     "end_time": "2022-12-15T13:45:45.677627",
     "exception": false,
     "start_time": "2022-12-15T13:45:45.620769",
     "status": "completed"
    },
    "tags": []
   },
   "source": [
    "### Total Installs distribution"
   ]
  },
  {
   "cell_type": "code",
   "execution_count": 44,
   "id": "6eabfd22",
   "metadata": {
    "execution": {
     "iopub.execute_input": "2022-12-15T13:45:45.790497Z",
     "iopub.status.busy": "2022-12-15T13:45:45.790050Z",
     "iopub.status.idle": "2022-12-15T13:45:45.806802Z",
     "shell.execute_reply": "2022-12-15T13:45:45.805604Z"
    },
    "papermill": {
     "duration": 0.075101,
     "end_time": "2022-12-15T13:45:45.809162",
     "exception": false,
     "start_time": "2022-12-15T13:45:45.734061",
     "status": "completed"
    },
    "tags": []
   },
   "outputs": [
    {
     "data": {
      "text/html": [
       "<div>\n",
       "<style scoped>\n",
       "    .dataframe tbody tr th:only-of-type {\n",
       "        vertical-align: middle;\n",
       "    }\n",
       "\n",
       "    .dataframe tbody tr th {\n",
       "        vertical-align: top;\n",
       "    }\n",
       "\n",
       "    .dataframe thead th {\n",
       "        text-align: right;\n",
       "    }\n",
       "</style>\n",
       "<table border=\"1\" class=\"dataframe\">\n",
       "  <thead>\n",
       "    <tr style=\"text-align: right;\">\n",
       "      <th></th>\n",
       "      <th>installs</th>\n",
       "      <th>count</th>\n",
       "    </tr>\n",
       "  </thead>\n",
       "  <tbody>\n",
       "    <tr>\n",
       "      <th>19</th>\n",
       "      <td>0+</td>\n",
       "      <td>4</td>\n",
       "    </tr>\n",
       "    <tr>\n",
       "      <th>18</th>\n",
       "      <td>1+</td>\n",
       "      <td>46</td>\n",
       "    </tr>\n",
       "    <tr>\n",
       "      <th>4</th>\n",
       "      <td>1,000+</td>\n",
       "      <td>759</td>\n",
       "    </tr>\n",
       "    <tr>\n",
       "      <th>0</th>\n",
       "      <td>1,000,000+</td>\n",
       "      <td>1555</td>\n",
       "    </tr>\n",
       "    <tr>\n",
       "      <th>17</th>\n",
       "      <td>1,000,000,000+</td>\n",
       "      <td>58</td>\n",
       "    </tr>\n",
       "    <tr>\n",
       "      <th>11</th>\n",
       "      <td>10+</td>\n",
       "      <td>316</td>\n",
       "    </tr>\n",
       "    <tr>\n",
       "      <th>3</th>\n",
       "      <td>10,000+</td>\n",
       "      <td>925</td>\n",
       "    </tr>\n",
       "    <tr>\n",
       "      <th>1</th>\n",
       "      <td>10,000,000+</td>\n",
       "      <td>1249</td>\n",
       "    </tr>\n",
       "    <tr>\n",
       "      <th>6</th>\n",
       "      <td>100+</td>\n",
       "      <td>623</td>\n",
       "    </tr>\n",
       "    <tr>\n",
       "      <th>2</th>\n",
       "      <td>100,000+</td>\n",
       "      <td>1079</td>\n",
       "    </tr>\n",
       "    <tr>\n",
       "      <th>10</th>\n",
       "      <td>100,000,000+</td>\n",
       "      <td>409</td>\n",
       "    </tr>\n",
       "    <tr>\n",
       "      <th>16</th>\n",
       "      <td>5+</td>\n",
       "      <td>70</td>\n",
       "    </tr>\n",
       "    <tr>\n",
       "      <th>9</th>\n",
       "      <td>5,000+</td>\n",
       "      <td>410</td>\n",
       "    </tr>\n",
       "    <tr>\n",
       "      <th>5</th>\n",
       "      <td>5,000,000+</td>\n",
       "      <td>752</td>\n",
       "    </tr>\n",
       "    <tr>\n",
       "      <th>14</th>\n",
       "      <td>50+</td>\n",
       "      <td>171</td>\n",
       "    </tr>\n",
       "    <tr>\n",
       "      <th>8</th>\n",
       "      <td>50,000+</td>\n",
       "      <td>436</td>\n",
       "    </tr>\n",
       "    <tr>\n",
       "      <th>13</th>\n",
       "      <td>50,000,000+</td>\n",
       "      <td>289</td>\n",
       "    </tr>\n",
       "    <tr>\n",
       "      <th>12</th>\n",
       "      <td>500+</td>\n",
       "      <td>290</td>\n",
       "    </tr>\n",
       "    <tr>\n",
       "      <th>7</th>\n",
       "      <td>500,000+</td>\n",
       "      <td>527</td>\n",
       "    </tr>\n",
       "    <tr>\n",
       "      <th>15</th>\n",
       "      <td>500,000,000+</td>\n",
       "      <td>72</td>\n",
       "    </tr>\n",
       "  </tbody>\n",
       "</table>\n",
       "</div>"
      ],
      "text/plain": [
       "          installs  count\n",
       "19              0+      4\n",
       "18              1+     46\n",
       "4           1,000+    759\n",
       "0       1,000,000+   1555\n",
       "17  1,000,000,000+     58\n",
       "11             10+    316\n",
       "3          10,000+    925\n",
       "1      10,000,000+   1249\n",
       "6             100+    623\n",
       "2         100,000+   1079\n",
       "10    100,000,000+    409\n",
       "16              5+     70\n",
       "9           5,000+    410\n",
       "5       5,000,000+    752\n",
       "14             50+    171\n",
       "8          50,000+    436\n",
       "13     50,000,000+    289\n",
       "12            500+    290\n",
       "7         500,000+    527\n",
       "15    500,000,000+     72"
      ]
     },
     "execution_count": 44,
     "metadata": {},
     "output_type": "execute_result"
    }
   ],
   "source": [
    "# to maintain hierarchy call sort_values\n",
    "free_inst=stats(df_free,'Installs','installs','count').sort_values(by='installs')\n",
    "free_inst"
   ]
  },
  {
   "cell_type": "code",
   "execution_count": 45,
   "id": "852d8c4d",
   "metadata": {
    "execution": {
     "iopub.execute_input": "2022-12-15T13:45:45.931194Z",
     "iopub.status.busy": "2022-12-15T13:45:45.930157Z",
     "iopub.status.idle": "2022-12-15T13:45:45.946138Z",
     "shell.execute_reply": "2022-12-15T13:45:45.944852Z"
    },
    "papermill": {
     "duration": 0.07924,
     "end_time": "2022-12-15T13:45:45.948883",
     "exception": false,
     "start_time": "2022-12-15T13:45:45.869643",
     "status": "completed"
    },
    "tags": []
   },
   "outputs": [
    {
     "data": {
      "text/html": [
       "<div>\n",
       "<style scoped>\n",
       "    .dataframe tbody tr th:only-of-type {\n",
       "        vertical-align: middle;\n",
       "    }\n",
       "\n",
       "    .dataframe tbody tr th {\n",
       "        vertical-align: top;\n",
       "    }\n",
       "\n",
       "    .dataframe thead th {\n",
       "        text-align: right;\n",
       "    }\n",
       "</style>\n",
       "<table border=\"1\" class=\"dataframe\">\n",
       "  <thead>\n",
       "    <tr style=\"text-align: right;\">\n",
       "      <th></th>\n",
       "      <th>installs</th>\n",
       "      <th>count</th>\n",
       "    </tr>\n",
       "  </thead>\n",
       "  <tbody>\n",
       "    <tr>\n",
       "      <th>13</th>\n",
       "      <td>0+</td>\n",
       "      <td>10</td>\n",
       "    </tr>\n",
       "    <tr>\n",
       "      <th>10</th>\n",
       "      <td>1+</td>\n",
       "      <td>21</td>\n",
       "    </tr>\n",
       "    <tr>\n",
       "      <th>0</th>\n",
       "      <td>1,000+</td>\n",
       "      <td>149</td>\n",
       "    </tr>\n",
       "    <tr>\n",
       "      <th>9</th>\n",
       "      <td>1,000,000+</td>\n",
       "      <td>24</td>\n",
       "    </tr>\n",
       "    <tr>\n",
       "      <th>4</th>\n",
       "      <td>10+</td>\n",
       "      <td>70</td>\n",
       "    </tr>\n",
       "    <tr>\n",
       "      <th>1</th>\n",
       "      <td>10,000+</td>\n",
       "      <td>129</td>\n",
       "    </tr>\n",
       "    <tr>\n",
       "      <th>14</th>\n",
       "      <td>10,000,000+</td>\n",
       "      <td>3</td>\n",
       "    </tr>\n",
       "    <tr>\n",
       "      <th>2</th>\n",
       "      <td>100+</td>\n",
       "      <td>96</td>\n",
       "    </tr>\n",
       "    <tr>\n",
       "      <th>3</th>\n",
       "      <td>100,000+</td>\n",
       "      <td>90</td>\n",
       "    </tr>\n",
       "    <tr>\n",
       "      <th>12</th>\n",
       "      <td>5+</td>\n",
       "      <td>12</td>\n",
       "    </tr>\n",
       "    <tr>\n",
       "      <th>5</th>\n",
       "      <td>5,000+</td>\n",
       "      <td>67</td>\n",
       "    </tr>\n",
       "    <tr>\n",
       "      <th>8</th>\n",
       "      <td>50+</td>\n",
       "      <td>34</td>\n",
       "    </tr>\n",
       "    <tr>\n",
       "      <th>6</th>\n",
       "      <td>50,000+</td>\n",
       "      <td>43</td>\n",
       "    </tr>\n",
       "    <tr>\n",
       "      <th>7</th>\n",
       "      <td>500+</td>\n",
       "      <td>40</td>\n",
       "    </tr>\n",
       "    <tr>\n",
       "      <th>11</th>\n",
       "      <td>500,000+</td>\n",
       "      <td>12</td>\n",
       "    </tr>\n",
       "  </tbody>\n",
       "</table>\n",
       "</div>"
      ],
      "text/plain": [
       "       installs  count\n",
       "13           0+     10\n",
       "10           1+     21\n",
       "0        1,000+    149\n",
       "9    1,000,000+     24\n",
       "4           10+     70\n",
       "1       10,000+    129\n",
       "14  10,000,000+      3\n",
       "2          100+     96\n",
       "3      100,000+     90\n",
       "12           5+     12\n",
       "5        5,000+     67\n",
       "8           50+     34\n",
       "6       50,000+     43\n",
       "7          500+     40\n",
       "11     500,000+     12"
      ]
     },
     "execution_count": 45,
     "metadata": {},
     "output_type": "execute_result"
    }
   ],
   "source": [
    "paid_inst=stats(df_paid,'Installs','installs','count').sort_values(by='installs')\n",
    "paid_inst"
   ]
  },
  {
   "cell_type": "code",
   "execution_count": 46,
   "id": "39f4ef33",
   "metadata": {
    "execution": {
     "iopub.execute_input": "2022-12-15T13:45:46.066479Z",
     "iopub.status.busy": "2022-12-15T13:45:46.066017Z",
     "iopub.status.idle": "2022-12-15T13:45:46.101415Z",
     "shell.execute_reply": "2022-12-15T13:45:46.100141Z"
    },
    "papermill": {
     "duration": 0.096366,
     "end_time": "2022-12-15T13:45:46.104210",
     "exception": false,
     "start_time": "2022-12-15T13:45:46.007844",
     "status": "completed"
    },
    "tags": []
   },
   "outputs": [
    {
     "data": {
      "text/html": [
       "<div>                            <div id=\"88cc4bce-96ce-42a4-8c4e-3d8cec29c7c7\" class=\"plotly-graph-div\" style=\"height:525px; width:100%;\"></div>            <script type=\"text/javascript\">                require([\"plotly\"], function(Plotly) {                    window.PLOTLYENV=window.PLOTLYENV || {};                                    if (document.getElementById(\"88cc4bce-96ce-42a4-8c4e-3d8cec29c7c7\")) {                    Plotly.newPlot(                        \"88cc4bce-96ce-42a4-8c4e-3d8cec29c7c7\",                        [{\"x\":[\"0+\",\"1+\",\"1,000+\",\"1,000,000+\",\"1,000,000,000+\",\"10+\",\"10,000+\",\"10,000,000+\",\"100+\",\"100,000+\",\"100,000,000+\",\"5+\",\"5,000+\",\"5,000,000+\",\"50+\",\"50,000+\",\"50,000,000+\",\"500+\",\"500,000+\",\"500,000,000+\"],\"y\":[4,46,759,1555,58,316,925,1249,623,1079,409,70,410,752,171,436,289,290,527,72],\"type\":\"scatter\"},{\"x\":[\"0+\",\"1+\",\"1,000+\",\"1,000,000+\",\"10+\",\"10,000+\",\"10,000,000+\",\"100+\",\"100,000+\",\"5+\",\"5,000+\",\"50+\",\"50,000+\",\"500+\",\"500,000+\"],\"y\":[10,21,149,24,70,129,3,96,90,12,67,34,43,40,12],\"type\":\"scatter\"}],                        {\"template\":{\"data\":{\"barpolar\":[{\"marker\":{\"line\":{\"color\":\"#E5ECF6\",\"width\":0.5},\"pattern\":{\"fillmode\":\"overlay\",\"size\":10,\"solidity\":0.2}},\"type\":\"barpolar\"}],\"bar\":[{\"error_x\":{\"color\":\"#2a3f5f\"},\"error_y\":{\"color\":\"#2a3f5f\"},\"marker\":{\"line\":{\"color\":\"#E5ECF6\",\"width\":0.5},\"pattern\":{\"fillmode\":\"overlay\",\"size\":10,\"solidity\":0.2}},\"type\":\"bar\"}],\"carpet\":[{\"aaxis\":{\"endlinecolor\":\"#2a3f5f\",\"gridcolor\":\"white\",\"linecolor\":\"white\",\"minorgridcolor\":\"white\",\"startlinecolor\":\"#2a3f5f\"},\"baxis\":{\"endlinecolor\":\"#2a3f5f\",\"gridcolor\":\"white\",\"linecolor\":\"white\",\"minorgridcolor\":\"white\",\"startlinecolor\":\"#2a3f5f\"},\"type\":\"carpet\"}],\"choropleth\":[{\"colorbar\":{\"outlinewidth\":0,\"ticks\":\"\"},\"type\":\"choropleth\"}],\"contourcarpet\":[{\"colorbar\":{\"outlinewidth\":0,\"ticks\":\"\"},\"type\":\"contourcarpet\"}],\"contour\":[{\"colorbar\":{\"outlinewidth\":0,\"ticks\":\"\"},\"colorscale\":[[0.0,\"#0d0887\"],[0.1111111111111111,\"#46039f\"],[0.2222222222222222,\"#7201a8\"],[0.3333333333333333,\"#9c179e\"],[0.4444444444444444,\"#bd3786\"],[0.5555555555555556,\"#d8576b\"],[0.6666666666666666,\"#ed7953\"],[0.7777777777777778,\"#fb9f3a\"],[0.8888888888888888,\"#fdca26\"],[1.0,\"#f0f921\"]],\"type\":\"contour\"}],\"heatmapgl\":[{\"colorbar\":{\"outlinewidth\":0,\"ticks\":\"\"},\"colorscale\":[[0.0,\"#0d0887\"],[0.1111111111111111,\"#46039f\"],[0.2222222222222222,\"#7201a8\"],[0.3333333333333333,\"#9c179e\"],[0.4444444444444444,\"#bd3786\"],[0.5555555555555556,\"#d8576b\"],[0.6666666666666666,\"#ed7953\"],[0.7777777777777778,\"#fb9f3a\"],[0.8888888888888888,\"#fdca26\"],[1.0,\"#f0f921\"]],\"type\":\"heatmapgl\"}],\"heatmap\":[{\"colorbar\":{\"outlinewidth\":0,\"ticks\":\"\"},\"colorscale\":[[0.0,\"#0d0887\"],[0.1111111111111111,\"#46039f\"],[0.2222222222222222,\"#7201a8\"],[0.3333333333333333,\"#9c179e\"],[0.4444444444444444,\"#bd3786\"],[0.5555555555555556,\"#d8576b\"],[0.6666666666666666,\"#ed7953\"],[0.7777777777777778,\"#fb9f3a\"],[0.8888888888888888,\"#fdca26\"],[1.0,\"#f0f921\"]],\"type\":\"heatmap\"}],\"histogram2dcontour\":[{\"colorbar\":{\"outlinewidth\":0,\"ticks\":\"\"},\"colorscale\":[[0.0,\"#0d0887\"],[0.1111111111111111,\"#46039f\"],[0.2222222222222222,\"#7201a8\"],[0.3333333333333333,\"#9c179e\"],[0.4444444444444444,\"#bd3786\"],[0.5555555555555556,\"#d8576b\"],[0.6666666666666666,\"#ed7953\"],[0.7777777777777778,\"#fb9f3a\"],[0.8888888888888888,\"#fdca26\"],[1.0,\"#f0f921\"]],\"type\":\"histogram2dcontour\"}],\"histogram2d\":[{\"colorbar\":{\"outlinewidth\":0,\"ticks\":\"\"},\"colorscale\":[[0.0,\"#0d0887\"],[0.1111111111111111,\"#46039f\"],[0.2222222222222222,\"#7201a8\"],[0.3333333333333333,\"#9c179e\"],[0.4444444444444444,\"#bd3786\"],[0.5555555555555556,\"#d8576b\"],[0.6666666666666666,\"#ed7953\"],[0.7777777777777778,\"#fb9f3a\"],[0.8888888888888888,\"#fdca26\"],[1.0,\"#f0f921\"]],\"type\":\"histogram2d\"}],\"histogram\":[{\"marker\":{\"pattern\":{\"fillmode\":\"overlay\",\"size\":10,\"solidity\":0.2}},\"type\":\"histogram\"}],\"mesh3d\":[{\"colorbar\":{\"outlinewidth\":0,\"ticks\":\"\"},\"type\":\"mesh3d\"}],\"parcoords\":[{\"line\":{\"colorbar\":{\"outlinewidth\":0,\"ticks\":\"\"}},\"type\":\"parcoords\"}],\"pie\":[{\"automargin\":true,\"type\":\"pie\"}],\"scatter3d\":[{\"line\":{\"colorbar\":{\"outlinewidth\":0,\"ticks\":\"\"}},\"marker\":{\"colorbar\":{\"outlinewidth\":0,\"ticks\":\"\"}},\"type\":\"scatter3d\"}],\"scattercarpet\":[{\"marker\":{\"colorbar\":{\"outlinewidth\":0,\"ticks\":\"\"}},\"type\":\"scattercarpet\"}],\"scattergeo\":[{\"marker\":{\"colorbar\":{\"outlinewidth\":0,\"ticks\":\"\"}},\"type\":\"scattergeo\"}],\"scattergl\":[{\"marker\":{\"colorbar\":{\"outlinewidth\":0,\"ticks\":\"\"}},\"type\":\"scattergl\"}],\"scattermapbox\":[{\"marker\":{\"colorbar\":{\"outlinewidth\":0,\"ticks\":\"\"}},\"type\":\"scattermapbox\"}],\"scatterpolargl\":[{\"marker\":{\"colorbar\":{\"outlinewidth\":0,\"ticks\":\"\"}},\"type\":\"scatterpolargl\"}],\"scatterpolar\":[{\"marker\":{\"colorbar\":{\"outlinewidth\":0,\"ticks\":\"\"}},\"type\":\"scatterpolar\"}],\"scatter\":[{\"fillpattern\":{\"fillmode\":\"overlay\",\"size\":10,\"solidity\":0.2},\"type\":\"scatter\"}],\"scatterternary\":[{\"marker\":{\"colorbar\":{\"outlinewidth\":0,\"ticks\":\"\"}},\"type\":\"scatterternary\"}],\"surface\":[{\"colorbar\":{\"outlinewidth\":0,\"ticks\":\"\"},\"colorscale\":[[0.0,\"#0d0887\"],[0.1111111111111111,\"#46039f\"],[0.2222222222222222,\"#7201a8\"],[0.3333333333333333,\"#9c179e\"],[0.4444444444444444,\"#bd3786\"],[0.5555555555555556,\"#d8576b\"],[0.6666666666666666,\"#ed7953\"],[0.7777777777777778,\"#fb9f3a\"],[0.8888888888888888,\"#fdca26\"],[1.0,\"#f0f921\"]],\"type\":\"surface\"}],\"table\":[{\"cells\":{\"fill\":{\"color\":\"#EBF0F8\"},\"line\":{\"color\":\"white\"}},\"header\":{\"fill\":{\"color\":\"#C8D4E3\"},\"line\":{\"color\":\"white\"}},\"type\":\"table\"}]},\"layout\":{\"annotationdefaults\":{\"arrowcolor\":\"#2a3f5f\",\"arrowhead\":0,\"arrowwidth\":1},\"autotypenumbers\":\"strict\",\"coloraxis\":{\"colorbar\":{\"outlinewidth\":0,\"ticks\":\"\"}},\"colorscale\":{\"diverging\":[[0,\"#8e0152\"],[0.1,\"#c51b7d\"],[0.2,\"#de77ae\"],[0.3,\"#f1b6da\"],[0.4,\"#fde0ef\"],[0.5,\"#f7f7f7\"],[0.6,\"#e6f5d0\"],[0.7,\"#b8e186\"],[0.8,\"#7fbc41\"],[0.9,\"#4d9221\"],[1,\"#276419\"]],\"sequential\":[[0.0,\"#0d0887\"],[0.1111111111111111,\"#46039f\"],[0.2222222222222222,\"#7201a8\"],[0.3333333333333333,\"#9c179e\"],[0.4444444444444444,\"#bd3786\"],[0.5555555555555556,\"#d8576b\"],[0.6666666666666666,\"#ed7953\"],[0.7777777777777778,\"#fb9f3a\"],[0.8888888888888888,\"#fdca26\"],[1.0,\"#f0f921\"]],\"sequentialminus\":[[0.0,\"#0d0887\"],[0.1111111111111111,\"#46039f\"],[0.2222222222222222,\"#7201a8\"],[0.3333333333333333,\"#9c179e\"],[0.4444444444444444,\"#bd3786\"],[0.5555555555555556,\"#d8576b\"],[0.6666666666666666,\"#ed7953\"],[0.7777777777777778,\"#fb9f3a\"],[0.8888888888888888,\"#fdca26\"],[1.0,\"#f0f921\"]]},\"colorway\":[\"#636efa\",\"#EF553B\",\"#00cc96\",\"#ab63fa\",\"#FFA15A\",\"#19d3f3\",\"#FF6692\",\"#B6E880\",\"#FF97FF\",\"#FECB52\"],\"font\":{\"color\":\"#2a3f5f\"},\"geo\":{\"bgcolor\":\"white\",\"lakecolor\":\"white\",\"landcolor\":\"#E5ECF6\",\"showlakes\":true,\"showland\":true,\"subunitcolor\":\"white\"},\"hoverlabel\":{\"align\":\"left\"},\"hovermode\":\"closest\",\"mapbox\":{\"style\":\"light\"},\"paper_bgcolor\":\"white\",\"plot_bgcolor\":\"#E5ECF6\",\"polar\":{\"angularaxis\":{\"gridcolor\":\"white\",\"linecolor\":\"white\",\"ticks\":\"\"},\"bgcolor\":\"#E5ECF6\",\"radialaxis\":{\"gridcolor\":\"white\",\"linecolor\":\"white\",\"ticks\":\"\"}},\"scene\":{\"xaxis\":{\"backgroundcolor\":\"#E5ECF6\",\"gridcolor\":\"white\",\"gridwidth\":2,\"linecolor\":\"white\",\"showbackground\":true,\"ticks\":\"\",\"zerolinecolor\":\"white\"},\"yaxis\":{\"backgroundcolor\":\"#E5ECF6\",\"gridcolor\":\"white\",\"gridwidth\":2,\"linecolor\":\"white\",\"showbackground\":true,\"ticks\":\"\",\"zerolinecolor\":\"white\"},\"zaxis\":{\"backgroundcolor\":\"#E5ECF6\",\"gridcolor\":\"white\",\"gridwidth\":2,\"linecolor\":\"white\",\"showbackground\":true,\"ticks\":\"\",\"zerolinecolor\":\"white\"}},\"shapedefaults\":{\"line\":{\"color\":\"#2a3f5f\"}},\"ternary\":{\"aaxis\":{\"gridcolor\":\"white\",\"linecolor\":\"white\",\"ticks\":\"\"},\"baxis\":{\"gridcolor\":\"white\",\"linecolor\":\"white\",\"ticks\":\"\"},\"bgcolor\":\"#E5ECF6\",\"caxis\":{\"gridcolor\":\"white\",\"linecolor\":\"white\",\"ticks\":\"\"}},\"title\":{\"x\":0.05},\"xaxis\":{\"automargin\":true,\"gridcolor\":\"white\",\"linecolor\":\"white\",\"ticks\":\"\",\"title\":{\"standoff\":15},\"zerolinecolor\":\"white\",\"zerolinewidth\":2},\"yaxis\":{\"automargin\":true,\"gridcolor\":\"white\",\"linecolor\":\"white\",\"ticks\":\"\",\"title\":{\"standoff\":15},\"zerolinecolor\":\"white\",\"zerolinewidth\":2}}}},                        {\"responsive\": true}                    ).then(function(){\n",
       "                            \n",
       "var gd = document.getElementById('88cc4bce-96ce-42a4-8c4e-3d8cec29c7c7');\n",
       "var x = new MutationObserver(function (mutations, observer) {{\n",
       "        var display = window.getComputedStyle(gd).display;\n",
       "        if (!display || display === 'none') {{\n",
       "            console.log([gd, 'removed!']);\n",
       "            Plotly.purge(gd);\n",
       "            observer.disconnect();\n",
       "        }}\n",
       "}});\n",
       "\n",
       "// Listen for the removal of the full notebook cells\n",
       "var notebookContainer = gd.closest('#notebook-container');\n",
       "if (notebookContainer) {{\n",
       "    x.observe(notebookContainer, {childList: true});\n",
       "}}\n",
       "\n",
       "// Listen for the clearing of the current output cell\n",
       "var outputEl = gd.closest('.output');\n",
       "if (outputEl) {{\n",
       "    x.observe(outputEl, {childList: true});\n",
       "}}\n",
       "\n",
       "                        })                };                });            </script>        </div>"
      ]
     },
     "metadata": {},
     "output_type": "display_data"
    }
   ],
   "source": [
    "need_visual(free_inst,paid_inst,'installs','count')"
   ]
  },
  {
   "cell_type": "markdown",
   "id": "eed59ffa",
   "metadata": {
    "papermill": {
     "duration": 0.056488,
     "end_time": "2022-12-15T13:45:46.216554",
     "exception": false,
     "start_time": "2022-12-15T13:45:46.160066",
     "status": "completed"
    },
    "tags": []
   },
   "source": [
    "By observing the above plot highest installs of the apps are crossing the 1M than 10M than 100k, very less app are crossing the 500M and dream install 1B."
   ]
  },
  {
   "cell_type": "markdown",
   "id": "69830bd7",
   "metadata": {
    "papermill": {
     "duration": 0.056463,
     "end_time": "2022-12-15T13:45:46.387484",
     "exception": false,
     "start_time": "2022-12-15T13:45:46.331021",
     "status": "completed"
    },
    "tags": []
   },
   "source": [
    "## Data Cleaning"
   ]
  },
  {
   "cell_type": "code",
   "execution_count": 47,
   "id": "fd90ae5f",
   "metadata": {
    "execution": {
     "iopub.execute_input": "2022-12-15T13:45:46.500589Z",
     "iopub.status.busy": "2022-12-15T13:45:46.500137Z",
     "iopub.status.idle": "2022-12-15T13:45:46.507260Z",
     "shell.execute_reply": "2022-12-15T13:45:46.506274Z"
    },
    "papermill": {
     "duration": 0.066221,
     "end_time": "2022-12-15T13:45:46.509841",
     "exception": false,
     "start_time": "2022-12-15T13:45:46.443620",
     "status": "completed"
    },
    "tags": []
   },
   "outputs": [],
   "source": [
    "### create a copy of your data so that wahatever manipulations I will do , just perforn it on dataframe\n",
    "\n",
    "dataframe=data.copy()"
   ]
  },
  {
   "cell_type": "code",
   "execution_count": 48,
   "id": "1388f375",
   "metadata": {
    "execution": {
     "iopub.execute_input": "2022-12-15T13:45:46.624252Z",
     "iopub.status.busy": "2022-12-15T13:45:46.623871Z",
     "iopub.status.idle": "2022-12-15T13:45:46.644469Z",
     "shell.execute_reply": "2022-12-15T13:45:46.643148Z"
    },
    "papermill": {
     "duration": 0.08093,
     "end_time": "2022-12-15T13:45:46.647077",
     "exception": false,
     "start_time": "2022-12-15T13:45:46.566147",
     "status": "completed"
    },
    "tags": []
   },
   "outputs": [
    {
     "data": {
      "text/html": [
       "<div>\n",
       "<style scoped>\n",
       "    .dataframe tbody tr th:only-of-type {\n",
       "        vertical-align: middle;\n",
       "    }\n",
       "\n",
       "    .dataframe tbody tr th {\n",
       "        vertical-align: top;\n",
       "    }\n",
       "\n",
       "    .dataframe thead th {\n",
       "        text-align: right;\n",
       "    }\n",
       "</style>\n",
       "<table border=\"1\" class=\"dataframe\">\n",
       "  <thead>\n",
       "    <tr style=\"text-align: right;\">\n",
       "      <th></th>\n",
       "      <th>App</th>\n",
       "      <th>Category</th>\n",
       "      <th>Rating</th>\n",
       "      <th>Reviews</th>\n",
       "      <th>Size</th>\n",
       "      <th>Installs</th>\n",
       "      <th>Type</th>\n",
       "      <th>Price</th>\n",
       "      <th>Content Rating</th>\n",
       "      <th>Genres</th>\n",
       "      <th>Last Updated</th>\n",
       "      <th>Current Ver</th>\n",
       "      <th>Android Ver</th>\n",
       "      <th>year_updated</th>\n",
       "      <th>month_updated</th>\n",
       "    </tr>\n",
       "  </thead>\n",
       "  <tbody>\n",
       "    <tr>\n",
       "      <th>0</th>\n",
       "      <td>Photo Editor &amp; Candy Camera &amp; Grid &amp; ScrapBook</td>\n",
       "      <td>ART_AND_DESIGN</td>\n",
       "      <td>4.1</td>\n",
       "      <td>159</td>\n",
       "      <td>19M</td>\n",
       "      <td>10,000+</td>\n",
       "      <td>Free</td>\n",
       "      <td>0</td>\n",
       "      <td>Everyone</td>\n",
       "      <td>Art &amp; Design</td>\n",
       "      <td>2018-01-07</td>\n",
       "      <td>1.0.0</td>\n",
       "      <td>4.0.3 and up</td>\n",
       "      <td>2018</td>\n",
       "      <td>1</td>\n",
       "    </tr>\n",
       "    <tr>\n",
       "      <th>1</th>\n",
       "      <td>Coloring book moana</td>\n",
       "      <td>ART_AND_DESIGN</td>\n",
       "      <td>3.9</td>\n",
       "      <td>967</td>\n",
       "      <td>14M</td>\n",
       "      <td>500,000+</td>\n",
       "      <td>Free</td>\n",
       "      <td>0</td>\n",
       "      <td>Everyone</td>\n",
       "      <td>Art &amp; Design;Pretend Play</td>\n",
       "      <td>2018-01-15</td>\n",
       "      <td>2.0.0</td>\n",
       "      <td>4.0.3 and up</td>\n",
       "      <td>2018</td>\n",
       "      <td>1</td>\n",
       "    </tr>\n",
       "    <tr>\n",
       "      <th>2</th>\n",
       "      <td>U Launcher Lite – FREE Live Cool Themes, Hide ...</td>\n",
       "      <td>ART_AND_DESIGN</td>\n",
       "      <td>4.7</td>\n",
       "      <td>87510</td>\n",
       "      <td>8.7M</td>\n",
       "      <td>5,000,000+</td>\n",
       "      <td>Free</td>\n",
       "      <td>0</td>\n",
       "      <td>Everyone</td>\n",
       "      <td>Art &amp; Design</td>\n",
       "      <td>2018-08-01</td>\n",
       "      <td>1.2.4</td>\n",
       "      <td>4.0.3 and up</td>\n",
       "      <td>2018</td>\n",
       "      <td>8</td>\n",
       "    </tr>\n",
       "    <tr>\n",
       "      <th>3</th>\n",
       "      <td>Sketch - Draw &amp; Paint</td>\n",
       "      <td>ART_AND_DESIGN</td>\n",
       "      <td>4.5</td>\n",
       "      <td>215644</td>\n",
       "      <td>25M</td>\n",
       "      <td>50,000,000+</td>\n",
       "      <td>Free</td>\n",
       "      <td>0</td>\n",
       "      <td>Teen</td>\n",
       "      <td>Art &amp; Design</td>\n",
       "      <td>2018-06-08</td>\n",
       "      <td>Varies with device</td>\n",
       "      <td>4.2 and up</td>\n",
       "      <td>2018</td>\n",
       "      <td>6</td>\n",
       "    </tr>\n",
       "    <tr>\n",
       "      <th>4</th>\n",
       "      <td>Pixel Draw - Number Art Coloring Book</td>\n",
       "      <td>ART_AND_DESIGN</td>\n",
       "      <td>4.3</td>\n",
       "      <td>967</td>\n",
       "      <td>2.8M</td>\n",
       "      <td>100,000+</td>\n",
       "      <td>Free</td>\n",
       "      <td>0</td>\n",
       "      <td>Everyone</td>\n",
       "      <td>Art &amp; Design;Creativity</td>\n",
       "      <td>2018-06-20</td>\n",
       "      <td>1.1</td>\n",
       "      <td>4.4 and up</td>\n",
       "      <td>2018</td>\n",
       "      <td>6</td>\n",
       "    </tr>\n",
       "  </tbody>\n",
       "</table>\n",
       "</div>"
      ],
      "text/plain": [
       "                                                 App        Category Rating  \\\n",
       "0     Photo Editor & Candy Camera & Grid & ScrapBook  ART_AND_DESIGN    4.1   \n",
       "1                                Coloring book moana  ART_AND_DESIGN    3.9   \n",
       "2  U Launcher Lite – FREE Live Cool Themes, Hide ...  ART_AND_DESIGN    4.7   \n",
       "3                              Sketch - Draw & Paint  ART_AND_DESIGN    4.5   \n",
       "4              Pixel Draw - Number Art Coloring Book  ART_AND_DESIGN    4.3   \n",
       "\n",
       "  Reviews  Size     Installs  Type Price Content Rating  \\\n",
       "0     159   19M      10,000+  Free     0       Everyone   \n",
       "1     967   14M     500,000+  Free     0       Everyone   \n",
       "2   87510  8.7M   5,000,000+  Free     0       Everyone   \n",
       "3  215644   25M  50,000,000+  Free     0           Teen   \n",
       "4     967  2.8M     100,000+  Free     0       Everyone   \n",
       "\n",
       "                      Genres Last Updated         Current Ver   Android Ver  \\\n",
       "0               Art & Design   2018-01-07               1.0.0  4.0.3 and up   \n",
       "1  Art & Design;Pretend Play   2018-01-15               2.0.0  4.0.3 and up   \n",
       "2               Art & Design   2018-08-01               1.2.4  4.0.3 and up   \n",
       "3               Art & Design   2018-06-08  Varies with device    4.2 and up   \n",
       "4    Art & Design;Creativity   2018-06-20                 1.1    4.4 and up   \n",
       "\n",
       "   year_updated  month_updated  \n",
       "0          2018              1  \n",
       "1          2018              1  \n",
       "2          2018              8  \n",
       "3          2018              6  \n",
       "4          2018              6  "
      ]
     },
     "execution_count": 48,
     "metadata": {},
     "output_type": "execute_result"
    }
   ],
   "source": [
    "dataframe.head()"
   ]
  },
  {
   "cell_type": "code",
   "execution_count": 49,
   "id": "fb6a38ac",
   "metadata": {
    "execution": {
     "iopub.execute_input": "2022-12-15T13:45:46.763148Z",
     "iopub.status.busy": "2022-12-15T13:45:46.762767Z",
     "iopub.status.idle": "2022-12-15T13:45:46.769416Z",
     "shell.execute_reply": "2022-12-15T13:45:46.768071Z"
    },
    "papermill": {
     "duration": 0.067664,
     "end_time": "2022-12-15T13:45:46.771925",
     "exception": false,
     "start_time": "2022-12-15T13:45:46.704261",
     "status": "completed"
    },
    "tags": []
   },
   "outputs": [
    {
     "data": {
      "text/plain": [
       "(10840, 15)"
      ]
     },
     "execution_count": 49,
     "metadata": {},
     "output_type": "execute_result"
    }
   ],
   "source": [
    "dataframe.shape"
   ]
  },
  {
   "cell_type": "code",
   "execution_count": 50,
   "id": "c9bf603b",
   "metadata": {
    "execution": {
     "iopub.execute_input": "2022-12-15T13:45:46.887324Z",
     "iopub.status.busy": "2022-12-15T13:45:46.886425Z",
     "iopub.status.idle": "2022-12-15T13:45:46.893962Z",
     "shell.execute_reply": "2022-12-15T13:45:46.892835Z"
    },
    "papermill": {
     "duration": 0.068634,
     "end_time": "2022-12-15T13:45:46.896532",
     "exception": false,
     "start_time": "2022-12-15T13:45:46.827898",
     "status": "completed"
    },
    "tags": []
   },
   "outputs": [
    {
     "data": {
      "text/plain": [
       "Index(['App', 'Category', 'Rating', 'Reviews', 'Size', 'Installs', 'Type',\n",
       "       'Price', 'Content Rating', 'Genres', 'Last Updated', 'Current Ver',\n",
       "       'Android Ver', 'year_updated', 'month_updated'],\n",
       "      dtype='object')"
      ]
     },
     "execution_count": 50,
     "metadata": {},
     "output_type": "execute_result"
    }
   ],
   "source": [
    "dataframe.columns"
   ]
  },
  {
   "cell_type": "code",
   "execution_count": 51,
   "id": "efbd9998",
   "metadata": {
    "execution": {
     "iopub.execute_input": "2022-12-15T13:45:47.010678Z",
     "iopub.status.busy": "2022-12-15T13:45:47.010258Z",
     "iopub.status.idle": "2022-12-15T13:45:47.020664Z",
     "shell.execute_reply": "2022-12-15T13:45:47.019305Z"
    },
    "papermill": {
     "duration": 0.071206,
     "end_time": "2022-12-15T13:45:47.023344",
     "exception": false,
     "start_time": "2022-12-15T13:45:46.952138",
     "status": "completed"
    },
    "tags": []
   },
   "outputs": [
    {
     "data": {
      "text/plain": [
       "App                       object\n",
       "Category                  object\n",
       "Rating                    object\n",
       "Reviews                   object\n",
       "Size                      object\n",
       "Installs                  object\n",
       "Type                      object\n",
       "Price                     object\n",
       "Content Rating            object\n",
       "Genres                    object\n",
       "Last Updated      datetime64[ns]\n",
       "Current Ver               object\n",
       "Android Ver               object\n",
       "year_updated               int64\n",
       "month_updated              int64\n",
       "dtype: object"
      ]
     },
     "execution_count": 51,
     "metadata": {},
     "output_type": "execute_result"
    }
   ],
   "source": [
    "dataframe.dtypes"
   ]
  },
  {
   "cell_type": "markdown",
   "id": "263c341e",
   "metadata": {
    "papermill": {
     "duration": 0.055874,
     "end_time": "2022-12-15T13:45:47.136704",
     "exception": false,
     "start_time": "2022-12-15T13:45:47.080830",
     "status": "completed"
    },
    "tags": []
   },
   "source": [
    "### Data Cleaning on Price feature"
   ]
  },
  {
   "cell_type": "code",
   "execution_count": 52,
   "id": "d1410568",
   "metadata": {
    "execution": {
     "iopub.execute_input": "2022-12-15T13:45:47.250449Z",
     "iopub.status.busy": "2022-12-15T13:45:47.249981Z",
     "iopub.status.idle": "2022-12-15T13:45:47.258134Z",
     "shell.execute_reply": "2022-12-15T13:45:47.257263Z"
    },
    "papermill": {
     "duration": 0.068126,
     "end_time": "2022-12-15T13:45:47.260674",
     "exception": false,
     "start_time": "2022-12-15T13:45:47.192548",
     "status": "completed"
    },
    "tags": []
   },
   "outputs": [
    {
     "data": {
      "text/plain": [
       "array(['0', '$4.99', '$3.99', '$6.99', '$1.49', '$2.99', '$7.99', '$5.99',\n",
       "       '$3.49', '$1.99', '$9.99', '$7.49', '$0.99', '$9.00', '$5.49',\n",
       "       '$10.00', '$24.99', '$11.99', '$79.99', '$16.99', '$14.99',\n",
       "       '$1.00', '$29.99', '$12.99', '$2.49', '$10.99', '$1.50', '$19.99',\n",
       "       '$15.99', '$33.99', '$74.99', '$39.99', '$3.95', '$4.49', '$1.70',\n",
       "       '$8.99', '$2.00', '$3.88', '$25.99', '$399.99', '$17.99',\n",
       "       '$400.00', '$3.02', '$1.76', '$4.84', '$4.77', '$1.61', '$2.50',\n",
       "       '$1.59', '$6.49', '$1.29', '$5.00', '$13.99', '$299.99', '$379.99',\n",
       "       '$37.99', '$18.99', '$389.99', '$19.90', '$8.49', '$1.75',\n",
       "       '$14.00', '$4.85', '$46.99', '$109.99', '$154.99', '$3.08',\n",
       "       '$2.59', '$4.80', '$1.96', '$19.40', '$3.90', '$4.59', '$15.46',\n",
       "       '$3.04', '$4.29', '$2.60', '$3.28', '$4.60', '$28.99', '$2.95',\n",
       "       '$2.90', '$1.97', '$200.00', '$89.99', '$2.56', '$30.99', '$3.61',\n",
       "       '$394.99', '$1.26', '$1.20', '$1.04'], dtype=object)"
      ]
     },
     "execution_count": 52,
     "metadata": {},
     "output_type": "execute_result"
    }
   ],
   "source": [
    "dataframe['Price'].unique()"
   ]
  },
  {
   "cell_type": "code",
   "execution_count": 53,
   "id": "0cca9896",
   "metadata": {
    "execution": {
     "iopub.execute_input": "2022-12-15T13:45:47.376970Z",
     "iopub.status.busy": "2022-12-15T13:45:47.376584Z",
     "iopub.status.idle": "2022-12-15T13:45:47.381663Z",
     "shell.execute_reply": "2022-12-15T13:45:47.380275Z"
    },
    "papermill": {
     "duration": 0.065757,
     "end_time": "2022-12-15T13:45:47.383959",
     "exception": false,
     "start_time": "2022-12-15T13:45:47.318202",
     "status": "completed"
    },
    "tags": []
   },
   "outputs": [],
   "source": [
    "x='$4.99'"
   ]
  },
  {
   "cell_type": "code",
   "execution_count": 54,
   "id": "679b315c",
   "metadata": {
    "execution": {
     "iopub.execute_input": "2022-12-15T13:45:47.500485Z",
     "iopub.status.busy": "2022-12-15T13:45:47.500047Z",
     "iopub.status.idle": "2022-12-15T13:45:47.507557Z",
     "shell.execute_reply": "2022-12-15T13:45:47.506129Z"
    },
    "papermill": {
     "duration": 0.068184,
     "end_time": "2022-12-15T13:45:47.509961",
     "exception": false,
     "start_time": "2022-12-15T13:45:47.441777",
     "status": "completed"
    },
    "tags": []
   },
   "outputs": [
    {
     "data": {
      "text/plain": [
       "4.99"
      ]
     },
     "execution_count": 54,
     "metadata": {},
     "output_type": "execute_result"
    }
   ],
   "source": [
    "float(x[1:])"
   ]
  },
  {
   "cell_type": "code",
   "execution_count": 55,
   "id": "4c69f3b7",
   "metadata": {
    "execution": {
     "iopub.execute_input": "2022-12-15T13:45:47.633168Z",
     "iopub.status.busy": "2022-12-15T13:45:47.632748Z",
     "iopub.status.idle": "2022-12-15T13:45:47.638821Z",
     "shell.execute_reply": "2022-12-15T13:45:47.637427Z"
    },
    "papermill": {
     "duration": 0.071904,
     "end_time": "2022-12-15T13:45:47.641759",
     "exception": false,
     "start_time": "2022-12-15T13:45:47.569855",
     "status": "completed"
    },
    "tags": []
   },
   "outputs": [],
   "source": [
    "def remove_dollar(x):\n",
    "    if x=='0':\n",
    "        return 0\n",
    "    else:\n",
    "        return float(x[1:])"
   ]
  },
  {
   "cell_type": "code",
   "execution_count": 56,
   "id": "eb044ec4",
   "metadata": {
    "execution": {
     "iopub.execute_input": "2022-12-15T13:45:47.773664Z",
     "iopub.status.busy": "2022-12-15T13:45:47.773218Z",
     "iopub.status.idle": "2022-12-15T13:45:47.787048Z",
     "shell.execute_reply": "2022-12-15T13:45:47.785531Z"
    },
    "papermill": {
     "duration": 0.087402,
     "end_time": "2022-12-15T13:45:47.790971",
     "exception": false,
     "start_time": "2022-12-15T13:45:47.703569",
     "status": "completed"
    },
    "tags": []
   },
   "outputs": [],
   "source": [
    "dataframe['Price']=dataframe['Price'].apply(remove_dollar)"
   ]
  },
  {
   "cell_type": "code",
   "execution_count": 57,
   "id": "92dfbec0",
   "metadata": {
    "execution": {
     "iopub.execute_input": "2022-12-15T13:45:47.925687Z",
     "iopub.status.busy": "2022-12-15T13:45:47.925246Z",
     "iopub.status.idle": "2022-12-15T13:45:47.935261Z",
     "shell.execute_reply": "2022-12-15T13:45:47.934046Z"
    },
    "papermill": {
     "duration": 0.07891,
     "end_time": "2022-12-15T13:45:47.937907",
     "exception": false,
     "start_time": "2022-12-15T13:45:47.858997",
     "status": "completed"
    },
    "tags": []
   },
   "outputs": [
    {
     "data": {
      "text/plain": [
       "array([  0.  ,   4.99,   3.99,   6.99,   1.49,   2.99,   7.99,   5.99,\n",
       "         3.49,   1.99,   9.99,   7.49,   0.99,   9.  ,   5.49,  10.  ,\n",
       "        24.99,  11.99,  79.99,  16.99,  14.99,   1.  ,  29.99,  12.99,\n",
       "         2.49,  10.99,   1.5 ,  19.99,  15.99,  33.99,  74.99,  39.99,\n",
       "         3.95,   4.49,   1.7 ,   8.99,   2.  ,   3.88,  25.99, 399.99,\n",
       "        17.99, 400.  ,   3.02,   1.76,   4.84,   4.77,   1.61,   2.5 ,\n",
       "         1.59,   6.49,   1.29,   5.  ,  13.99, 299.99, 379.99,  37.99,\n",
       "        18.99, 389.99,  19.9 ,   8.49,   1.75,  14.  ,   4.85,  46.99,\n",
       "       109.99, 154.99,   3.08,   2.59,   4.8 ,   1.96,  19.4 ,   3.9 ,\n",
       "         4.59,  15.46,   3.04,   4.29,   2.6 ,   3.28,   4.6 ,  28.99,\n",
       "         2.95,   2.9 ,   1.97, 200.  ,  89.99,   2.56,  30.99,   3.61,\n",
       "       394.99,   1.26,   1.2 ,   1.04])"
      ]
     },
     "execution_count": 57,
     "metadata": {},
     "output_type": "execute_result"
    }
   ],
   "source": [
    "dataframe['Price'].unique()"
   ]
  },
  {
   "cell_type": "code",
   "execution_count": 58,
   "id": "1ce87052",
   "metadata": {
    "execution": {
     "iopub.execute_input": "2022-12-15T13:45:48.060515Z",
     "iopub.status.busy": "2022-12-15T13:45:48.060046Z",
     "iopub.status.idle": "2022-12-15T13:45:48.067633Z",
     "shell.execute_reply": "2022-12-15T13:45:48.066233Z"
    },
    "papermill": {
     "duration": 0.070844,
     "end_time": "2022-12-15T13:45:48.070031",
     "exception": false,
     "start_time": "2022-12-15T13:45:47.999187",
     "status": "completed"
    },
    "tags": []
   },
   "outputs": [
    {
     "data": {
      "text/plain": [
       "dtype('float64')"
      ]
     },
     "execution_count": 58,
     "metadata": {},
     "output_type": "execute_result"
    }
   ],
   "source": [
    "dataframe['Price'].dtype"
   ]
  },
  {
   "cell_type": "markdown",
   "id": "7f10e913",
   "metadata": {
    "papermill": {
     "duration": 0.055977,
     "end_time": "2022-12-15T13:45:48.182556",
     "exception": false,
     "start_time": "2022-12-15T13:45:48.126579",
     "status": "completed"
    },
    "tags": []
   },
   "source": [
    "## Clean rating feature"
   ]
  },
  {
   "cell_type": "code",
   "execution_count": 59,
   "id": "c2db5c4a",
   "metadata": {
    "execution": {
     "iopub.execute_input": "2022-12-15T13:45:48.300295Z",
     "iopub.status.busy": "2022-12-15T13:45:48.299906Z",
     "iopub.status.idle": "2022-12-15T13:45:48.309372Z",
     "shell.execute_reply": "2022-12-15T13:45:48.308233Z"
    },
    "papermill": {
     "duration": 0.070934,
     "end_time": "2022-12-15T13:45:48.311734",
     "exception": false,
     "start_time": "2022-12-15T13:45:48.240800",
     "status": "completed"
    },
    "tags": []
   },
   "outputs": [
    {
     "data": {
      "text/plain": [
       "array([4.1, 3.9, 4.7, 4.5, 4.3, 4.4, 3.8, 4.2, 4.6, 3.2, 4.0, nan, 4.8,\n",
       "       4.9, 3.6, 3.7, 3.3, 3.4, 3.5, 3.1, 5.0, 2.6, 3.0, 1.9, 2.5, 2.8,\n",
       "       2.7, 1.0, 2.9, 2.3, 2.2, 1.7, 2.0, 1.8, 2.4, 1.6, 2.1, 1.4, 1.5,\n",
       "       1.2, '1.9'], dtype=object)"
      ]
     },
     "execution_count": 59,
     "metadata": {},
     "output_type": "execute_result"
    }
   ],
   "source": [
    "dataframe['Rating'].unique()"
   ]
  },
  {
   "cell_type": "markdown",
   "id": "5c17e8cf",
   "metadata": {
    "papermill": {
     "duration": 0.058359,
     "end_time": "2022-12-15T13:45:48.429532",
     "exception": false,
     "start_time": "2022-12-15T13:45:48.371173",
     "status": "completed"
    },
    "tags": []
   },
   "source": [
    "From above it can be seen that last vale 1.9 is a string rather than float so convert it into float"
   ]
  },
  {
   "cell_type": "code",
   "execution_count": 60,
   "id": "4ba779ac",
   "metadata": {
    "execution": {
     "iopub.execute_input": "2022-12-15T13:45:48.549408Z",
     "iopub.status.busy": "2022-12-15T13:45:48.548951Z",
     "iopub.status.idle": "2022-12-15T13:45:48.558950Z",
     "shell.execute_reply": "2022-12-15T13:45:48.557583Z"
    },
    "papermill": {
     "duration": 0.07218,
     "end_time": "2022-12-15T13:45:48.561631",
     "exception": false,
     "start_time": "2022-12-15T13:45:48.489451",
     "status": "completed"
    },
    "tags": []
   },
   "outputs": [],
   "source": [
    "dataframe['Rating'].replace('1.9',1.9,inplace=True)"
   ]
  },
  {
   "cell_type": "code",
   "execution_count": 61,
   "id": "4f0a3908",
   "metadata": {
    "execution": {
     "iopub.execute_input": "2022-12-15T13:45:48.680526Z",
     "iopub.status.busy": "2022-12-15T13:45:48.679941Z",
     "iopub.status.idle": "2022-12-15T13:45:48.686297Z",
     "shell.execute_reply": "2022-12-15T13:45:48.685502Z"
    },
    "papermill": {
     "duration": 0.068487,
     "end_time": "2022-12-15T13:45:48.688405",
     "exception": false,
     "start_time": "2022-12-15T13:45:48.619918",
     "status": "completed"
    },
    "tags": []
   },
   "outputs": [
    {
     "data": {
      "text/plain": [
       "dtype('float64')"
      ]
     },
     "execution_count": 61,
     "metadata": {},
     "output_type": "execute_result"
    }
   ],
   "source": [
    "dataframe['Rating'].dtype"
   ]
  },
  {
   "cell_type": "markdown",
   "id": "d06210a1",
   "metadata": {
    "papermill": {
     "duration": 0.058029,
     "end_time": "2022-12-15T13:45:48.805661",
     "exception": false,
     "start_time": "2022-12-15T13:45:48.747632",
     "status": "completed"
    },
    "tags": []
   },
   "source": [
    "#### Automate function to convert string into float."
   ]
  },
  {
   "cell_type": "code",
   "execution_count": 62,
   "id": "54af057f",
   "metadata": {
    "execution": {
     "iopub.execute_input": "2022-12-15T13:45:48.923732Z",
     "iopub.status.busy": "2022-12-15T13:45:48.923000Z",
     "iopub.status.idle": "2022-12-15T13:45:48.929410Z",
     "shell.execute_reply": "2022-12-15T13:45:48.928408Z"
    },
    "papermill": {
     "duration": 0.068171,
     "end_time": "2022-12-15T13:45:48.931724",
     "exception": false,
     "start_time": "2022-12-15T13:45:48.863553",
     "status": "completed"
    },
    "tags": []
   },
   "outputs": [],
   "source": [
    "def convert_into_float(feature,df):\n",
    "    print('Before manipulation, Data type of {} was {}'.format(feature,df[feature].dtype))\n",
    "    df[feature]=df[feature].astype(float)\n",
    "    print('After manipulation, Data type of {} is {}'.format(feature,df[feature].dtype))"
   ]
  },
  {
   "cell_type": "code",
   "execution_count": 63,
   "id": "8e0838e5",
   "metadata": {
    "execution": {
     "iopub.execute_input": "2022-12-15T13:45:49.051189Z",
     "iopub.status.busy": "2022-12-15T13:45:49.050770Z",
     "iopub.status.idle": "2022-12-15T13:45:49.059178Z",
     "shell.execute_reply": "2022-12-15T13:45:49.058315Z"
    },
    "papermill": {
     "duration": 0.069097,
     "end_time": "2022-12-15T13:45:49.061419",
     "exception": false,
     "start_time": "2022-12-15T13:45:48.992322",
     "status": "completed"
    },
    "tags": []
   },
   "outputs": [
    {
     "data": {
      "text/plain": [
       "array(['159', '967', '87510', ..., '603', '1195', '398307'], dtype=object)"
      ]
     },
     "execution_count": 63,
     "metadata": {},
     "output_type": "execute_result"
    }
   ],
   "source": [
    "dataframe['Reviews'].unique()"
   ]
  },
  {
   "cell_type": "code",
   "execution_count": 64,
   "id": "4d8931f1",
   "metadata": {
    "execution": {
     "iopub.execute_input": "2022-12-15T13:45:49.180835Z",
     "iopub.status.busy": "2022-12-15T13:45:49.180434Z",
     "iopub.status.idle": "2022-12-15T13:45:49.190010Z",
     "shell.execute_reply": "2022-12-15T13:45:49.188433Z"
    },
    "papermill": {
     "duration": 0.074483,
     "end_time": "2022-12-15T13:45:49.193061",
     "exception": false,
     "start_time": "2022-12-15T13:45:49.118578",
     "status": "completed"
    },
    "tags": []
   },
   "outputs": [
    {
     "name": "stdout",
     "output_type": "stream",
     "text": [
      "Before manipulation, Data type of Reviews was object\n",
      "After manipulation, Data type of Reviews is float64\n"
     ]
    }
   ],
   "source": [
    "### lets convert data-type of Reviews from objec to float\n",
    "convert_into_float('Reviews',dataframe)"
   ]
  },
  {
   "cell_type": "markdown",
   "id": "0adac1b1",
   "metadata": {
    "papermill": {
     "duration": 0.055916,
     "end_time": "2022-12-15T13:45:49.305428",
     "exception": false,
     "start_time": "2022-12-15T13:45:49.249512",
     "status": "completed"
    },
    "tags": []
   },
   "source": [
    "### Data Cleaning for installs"
   ]
  },
  {
   "cell_type": "code",
   "execution_count": 65,
   "id": "ef0ac81b",
   "metadata": {
    "execution": {
     "iopub.execute_input": "2022-12-15T13:45:49.425587Z",
     "iopub.status.busy": "2022-12-15T13:45:49.425153Z",
     "iopub.status.idle": "2022-12-15T13:45:49.433885Z",
     "shell.execute_reply": "2022-12-15T13:45:49.432720Z"
    },
    "papermill": {
     "duration": 0.070119,
     "end_time": "2022-12-15T13:45:49.436194",
     "exception": false,
     "start_time": "2022-12-15T13:45:49.366075",
     "status": "completed"
    },
    "tags": []
   },
   "outputs": [
    {
     "data": {
      "text/plain": [
       "array(['10,000+', '500,000+', '5,000,000+', '50,000,000+', '100,000+',\n",
       "       '50,000+', '1,000,000+', '10,000,000+', '5,000+', '100,000,000+',\n",
       "       '1,000,000,000+', '1,000+', '500,000,000+', '50+', '100+', '500+',\n",
       "       '10+', '1+', '5+', '0+'], dtype=object)"
      ]
     },
     "execution_count": 65,
     "metadata": {},
     "output_type": "execute_result"
    }
   ],
   "source": [
    "dataframe['Installs'].unique()"
   ]
  },
  {
   "cell_type": "code",
   "execution_count": 66,
   "id": "5ebe9f45",
   "metadata": {
    "execution": {
     "iopub.execute_input": "2022-12-15T13:45:49.554176Z",
     "iopub.status.busy": "2022-12-15T13:45:49.553154Z",
     "iopub.status.idle": "2022-12-15T13:45:49.561451Z",
     "shell.execute_reply": "2022-12-15T13:45:49.560240Z"
    },
    "papermill": {
     "duration": 0.070721,
     "end_time": "2022-12-15T13:45:49.563857",
     "exception": false,
     "start_time": "2022-12-15T13:45:49.493136",
     "status": "completed"
    },
    "tags": []
   },
   "outputs": [
    {
     "data": {
      "text/plain": [
       "'10,000+'"
      ]
     },
     "execution_count": 66,
     "metadata": {},
     "output_type": "execute_result"
    }
   ],
   "source": [
    "dataframe['Installs'][0]"
   ]
  },
  {
   "cell_type": "code",
   "execution_count": 67,
   "id": "042a6b04",
   "metadata": {
    "execution": {
     "iopub.execute_input": "2022-12-15T13:45:49.691347Z",
     "iopub.status.busy": "2022-12-15T13:45:49.690892Z",
     "iopub.status.idle": "2022-12-15T13:45:49.698821Z",
     "shell.execute_reply": "2022-12-15T13:45:49.697461Z"
    },
    "papermill": {
     "duration": 0.078452,
     "end_time": "2022-12-15T13:45:49.701713",
     "exception": false,
     "start_time": "2022-12-15T13:45:49.623261",
     "status": "completed"
    },
    "tags": []
   },
   "outputs": [
    {
     "data": {
      "text/plain": [
       "10000"
      ]
     },
     "execution_count": 67,
     "metadata": {},
     "output_type": "execute_result"
    }
   ],
   "source": [
    "x=dataframe['Installs'][0].replace(',','')\n",
    "x = int(x.replace('+',''))\n",
    "x"
   ]
  },
  {
   "cell_type": "code",
   "execution_count": 68,
   "id": "7064775a",
   "metadata": {
    "execution": {
     "iopub.execute_input": "2022-12-15T13:45:49.830383Z",
     "iopub.status.busy": "2022-12-15T13:45:49.829963Z",
     "iopub.status.idle": "2022-12-15T13:45:49.837010Z",
     "shell.execute_reply": "2022-12-15T13:45:49.834707Z"
    },
    "papermill": {
     "duration": 0.074155,
     "end_time": "2022-12-15T13:45:49.839670",
     "exception": false,
     "start_time": "2022-12-15T13:45:49.765515",
     "status": "completed"
    },
    "tags": []
   },
   "outputs": [],
   "source": [
    "def clean_installs(x):\n",
    "    x=x.replace(',','')\n",
    "    return int(x.replace('+',''))"
   ]
  },
  {
   "cell_type": "code",
   "execution_count": 69,
   "id": "20173484",
   "metadata": {
    "execution": {
     "iopub.execute_input": "2022-12-15T13:45:49.968994Z",
     "iopub.status.busy": "2022-12-15T13:45:49.967801Z",
     "iopub.status.idle": "2022-12-15T13:45:49.986555Z",
     "shell.execute_reply": "2022-12-15T13:45:49.985268Z"
    },
    "papermill": {
     "duration": 0.085317,
     "end_time": "2022-12-15T13:45:49.989485",
     "exception": false,
     "start_time": "2022-12-15T13:45:49.904168",
     "status": "completed"
    },
    "tags": []
   },
   "outputs": [],
   "source": [
    "dataframe['Installs']=dataframe['Installs'].apply(clean_installs)"
   ]
  },
  {
   "cell_type": "code",
   "execution_count": 70,
   "id": "909a7a52",
   "metadata": {
    "execution": {
     "iopub.execute_input": "2022-12-15T13:45:50.112159Z",
     "iopub.status.busy": "2022-12-15T13:45:50.111766Z",
     "iopub.status.idle": "2022-12-15T13:45:50.121788Z",
     "shell.execute_reply": "2022-12-15T13:45:50.120455Z"
    },
    "papermill": {
     "duration": 0.075957,
     "end_time": "2022-12-15T13:45:50.124926",
     "exception": false,
     "start_time": "2022-12-15T13:45:50.048969",
     "status": "completed"
    },
    "tags": []
   },
   "outputs": [
    {
     "data": {
      "text/plain": [
       "array([     10000,     500000,    5000000,   50000000,     100000,\n",
       "            50000,    1000000,   10000000,       5000,  100000000,\n",
       "       1000000000,       1000,  500000000,         50,        100,\n",
       "              500,         10,          1,          5,          0])"
      ]
     },
     "execution_count": 70,
     "metadata": {},
     "output_type": "execute_result"
    }
   ],
   "source": [
    "dataframe['Installs'].unique()"
   ]
  },
  {
   "cell_type": "markdown",
   "id": "90ce594b",
   "metadata": {
    "papermill": {
     "duration": 0.062829,
     "end_time": "2022-12-15T13:45:50.255263",
     "exception": false,
     "start_time": "2022-12-15T13:45:50.192434",
     "status": "completed"
    },
    "tags": []
   },
   "source": [
    "### Data Cleaning on Size feature"
   ]
  },
  {
   "cell_type": "code",
   "execution_count": 71,
   "id": "5b90b5ae",
   "metadata": {
    "execution": {
     "iopub.execute_input": "2022-12-15T13:45:50.383574Z",
     "iopub.status.busy": "2022-12-15T13:45:50.382535Z",
     "iopub.status.idle": "2022-12-15T13:45:50.395798Z",
     "shell.execute_reply": "2022-12-15T13:45:50.393511Z"
    },
    "papermill": {
     "duration": 0.085631,
     "end_time": "2022-12-15T13:45:50.399536",
     "exception": false,
     "start_time": "2022-12-15T13:45:50.313905",
     "status": "completed"
    },
    "tags": []
   },
   "outputs": [
    {
     "data": {
      "text/plain": [
       "0                       19M\n",
       "1                       14M\n",
       "2                      8.7M\n",
       "3                       25M\n",
       "4                      2.8M\n",
       "                ...        \n",
       "10836                   53M\n",
       "10837                  3.6M\n",
       "10838                  9.5M\n",
       "10839    Varies with device\n",
       "10840                   19M\n",
       "Name: Size, Length: 10840, dtype: object"
      ]
     },
     "execution_count": 71,
     "metadata": {},
     "output_type": "execute_result"
    }
   ],
   "source": [
    "dataframe['Size']"
   ]
  },
  {
   "cell_type": "code",
   "execution_count": 72,
   "id": "683c25b9",
   "metadata": {
    "execution": {
     "iopub.execute_input": "2022-12-15T13:45:50.544116Z",
     "iopub.status.busy": "2022-12-15T13:45:50.543691Z",
     "iopub.status.idle": "2022-12-15T13:45:50.550899Z",
     "shell.execute_reply": "2022-12-15T13:45:50.549819Z"
    },
    "papermill": {
     "duration": 0.071592,
     "end_time": "2022-12-15T13:45:50.553280",
     "exception": false,
     "start_time": "2022-12-15T13:45:50.481688",
     "status": "completed"
    },
    "tags": []
   },
   "outputs": [
    {
     "data": {
      "text/plain": [
       "19.0"
      ]
     },
     "execution_count": 72,
     "metadata": {},
     "output_type": "execute_result"
    }
   ],
   "source": [
    "float(dataframe['Size'][0][0:-1])"
   ]
  },
  {
   "cell_type": "code",
   "execution_count": 73,
   "id": "ee50b78e",
   "metadata": {
    "execution": {
     "iopub.execute_input": "2022-12-15T13:45:50.671768Z",
     "iopub.status.busy": "2022-12-15T13:45:50.671375Z",
     "iopub.status.idle": "2022-12-15T13:45:50.677481Z",
     "shell.execute_reply": "2022-12-15T13:45:50.676466Z"
    },
    "papermill": {
     "duration": 0.067414,
     "end_time": "2022-12-15T13:45:50.679580",
     "exception": false,
     "start_time": "2022-12-15T13:45:50.612166",
     "status": "completed"
    },
    "tags": []
   },
   "outputs": [],
   "source": [
    "def convert_into_MB(x):\n",
    "    if 'M' in x:\n",
    "        return float(x[0:-1])\n",
    "    else:\n",
    "        mb=float(x[0:-1])/1024\n",
    "        mb=np.round(mb,2)\n",
    "        return mb"
   ]
  },
  {
   "cell_type": "code",
   "execution_count": 74,
   "id": "fd0811e1",
   "metadata": {
    "execution": {
     "iopub.execute_input": "2022-12-15T13:45:50.800497Z",
     "iopub.status.busy": "2022-12-15T13:45:50.800050Z",
     "iopub.status.idle": "2022-12-15T13:45:50.806250Z",
     "shell.execute_reply": "2022-12-15T13:45:50.805419Z"
    },
    "papermill": {
     "duration": 0.07174,
     "end_time": "2022-12-15T13:45:50.808608",
     "exception": false,
     "start_time": "2022-12-15T13:45:50.736868",
     "status": "completed"
    },
    "tags": []
   },
   "outputs": [
    {
     "data": {
      "text/plain": [
       "0.23"
      ]
     },
     "execution_count": 74,
     "metadata": {},
     "output_type": "execute_result"
    }
   ],
   "source": [
    "convert_into_MB('234K')"
   ]
  },
  {
   "cell_type": "code",
   "execution_count": 75,
   "id": "604da1fb",
   "metadata": {
    "execution": {
     "iopub.execute_input": "2022-12-15T13:45:50.934240Z",
     "iopub.status.busy": "2022-12-15T13:45:50.933496Z",
     "iopub.status.idle": "2022-12-15T13:45:50.937951Z",
     "shell.execute_reply": "2022-12-15T13:45:50.936807Z"
    },
    "papermill": {
     "duration": 0.070662,
     "end_time": "2022-12-15T13:45:50.940588",
     "exception": false,
     "start_time": "2022-12-15T13:45:50.869926",
     "status": "completed"
    },
    "tags": []
   },
   "outputs": [],
   "source": [
    "# dataframe['Size'].apply(convert_into_MB)\n"
   ]
  },
  {
   "cell_type": "markdown",
   "id": "09d5f4c7",
   "metadata": {
    "papermill": {
     "duration": 0.061094,
     "end_time": "2022-12-15T13:45:51.064333",
     "exception": false,
     "start_time": "2022-12-15T13:45:51.003239",
     "status": "completed"
    },
    "tags": []
   },
   "source": [
    "Remove string value \"Varies with device\""
   ]
  },
  {
   "cell_type": "code",
   "execution_count": 76,
   "id": "e7e5b5c6",
   "metadata": {
    "execution": {
     "iopub.execute_input": "2022-12-15T13:45:51.191310Z",
     "iopub.status.busy": "2022-12-15T13:45:51.190870Z",
     "iopub.status.idle": "2022-12-15T13:45:51.202412Z",
     "shell.execute_reply": "2022-12-15T13:45:51.200934Z"
    },
    "papermill": {
     "duration": 0.078412,
     "end_time": "2022-12-15T13:45:51.205172",
     "exception": false,
     "start_time": "2022-12-15T13:45:51.126760",
     "status": "completed"
    },
    "tags": []
   },
   "outputs": [],
   "source": [
    "filter=dataframe['Size']=='Varies with device'\n",
    "data3=dataframe[~filter]"
   ]
  },
  {
   "cell_type": "code",
   "execution_count": 77,
   "id": "120c065e",
   "metadata": {
    "execution": {
     "iopub.execute_input": "2022-12-15T13:45:51.328684Z",
     "iopub.status.busy": "2022-12-15T13:45:51.328267Z",
     "iopub.status.idle": "2022-12-15T13:45:51.338043Z",
     "shell.execute_reply": "2022-12-15T13:45:51.336292Z"
    },
    "papermill": {
     "duration": 0.074293,
     "end_time": "2022-12-15T13:45:51.340848",
     "exception": false,
     "start_time": "2022-12-15T13:45:51.266555",
     "status": "completed"
    },
    "tags": []
   },
   "outputs": [
    {
     "data": {
      "text/plain": [
       "0         19M\n",
       "1         14M\n",
       "2        8.7M\n",
       "3         25M\n",
       "4        2.8M\n",
       "         ... \n",
       "10835    9.6M\n",
       "10836     53M\n",
       "10837    3.6M\n",
       "10838    9.5M\n",
       "10840     19M\n",
       "Name: Size, Length: 9146, dtype: object"
      ]
     },
     "execution_count": 77,
     "metadata": {},
     "output_type": "execute_result"
    }
   ],
   "source": [
    "data3['Size']"
   ]
  },
  {
   "cell_type": "code",
   "execution_count": 78,
   "id": "4f76fbe9",
   "metadata": {
    "execution": {
     "iopub.execute_input": "2022-12-15T13:45:51.465230Z",
     "iopub.status.busy": "2022-12-15T13:45:51.464789Z",
     "iopub.status.idle": "2022-12-15T13:45:51.481859Z",
     "shell.execute_reply": "2022-12-15T13:45:51.480459Z"
    },
    "papermill": {
     "duration": 0.081667,
     "end_time": "2022-12-15T13:45:51.484749",
     "exception": false,
     "start_time": "2022-12-15T13:45:51.403082",
     "status": "completed"
    },
    "tags": []
   },
   "outputs": [
    {
     "name": "stderr",
     "output_type": "stream",
     "text": [
      "/opt/conda/lib/python3.7/site-packages/ipykernel_launcher.py:1: SettingWithCopyWarning:\n",
      "\n",
      "\n",
      "A value is trying to be set on a copy of a slice from a DataFrame.\n",
      "Try using .loc[row_indexer,col_indexer] = value instead\n",
      "\n",
      "See the caveats in the documentation: https://pandas.pydata.org/pandas-docs/stable/user_guide/indexing.html#returning-a-view-versus-a-copy\n",
      "\n"
     ]
    }
   ],
   "source": [
    "data3['Size']=data3['Size'].apply(convert_into_MB)"
   ]
  },
  {
   "cell_type": "code",
   "execution_count": 79,
   "id": "83eb5970",
   "metadata": {
    "execution": {
     "iopub.execute_input": "2022-12-15T13:45:51.605376Z",
     "iopub.status.busy": "2022-12-15T13:45:51.604226Z",
     "iopub.status.idle": "2022-12-15T13:45:51.615112Z",
     "shell.execute_reply": "2022-12-15T13:45:51.614037Z"
    },
    "papermill": {
     "duration": 0.072342,
     "end_time": "2022-12-15T13:45:51.617449",
     "exception": false,
     "start_time": "2022-12-15T13:45:51.545107",
     "status": "completed"
    },
    "tags": []
   },
   "outputs": [
    {
     "data": {
      "text/plain": [
       "13.0"
      ]
     },
     "execution_count": 79,
     "metadata": {},
     "output_type": "execute_result"
    }
   ],
   "source": [
    "data3['Size'].median()"
   ]
  },
  {
   "cell_type": "markdown",
   "id": "347eb9a7",
   "metadata": {
    "papermill": {
     "duration": 0.057838,
     "end_time": "2022-12-15T13:45:51.733149",
     "exception": false,
     "start_time": "2022-12-15T13:45:51.675311",
     "status": "completed"
    },
    "tags": []
   },
   "source": [
    "#### Now in dataframe replace 'Varies with device' with Median because 10839 apps has 'Varies with device' entry as it is a huge number and may create biasness in our model we are not replacing with mean because mean is affected by extreme high or low value and our model get biased."
   ]
  },
  {
   "cell_type": "code",
   "execution_count": 80,
   "id": "875a4cad",
   "metadata": {
    "execution": {
     "iopub.execute_input": "2022-12-15T13:45:51.854234Z",
     "iopub.status.busy": "2022-12-15T13:45:51.853823Z",
     "iopub.status.idle": "2022-12-15T13:45:51.861064Z",
     "shell.execute_reply": "2022-12-15T13:45:51.859619Z"
    },
    "papermill": {
     "duration": 0.071686,
     "end_time": "2022-12-15T13:45:51.863741",
     "exception": false,
     "start_time": "2022-12-15T13:45:51.792055",
     "status": "completed"
    },
    "tags": []
   },
   "outputs": [],
   "source": [
    "dataframe['Size'].replace('Varies with device','13M',inplace=True)"
   ]
  },
  {
   "cell_type": "code",
   "execution_count": 81,
   "id": "f55af2ee",
   "metadata": {
    "execution": {
     "iopub.execute_input": "2022-12-15T13:45:51.985258Z",
     "iopub.status.busy": "2022-12-15T13:45:51.984853Z",
     "iopub.status.idle": "2022-12-15T13:45:51.994681Z",
     "shell.execute_reply": "2022-12-15T13:45:51.993439Z"
    },
    "papermill": {
     "duration": 0.074185,
     "end_time": "2022-12-15T13:45:51.997121",
     "exception": false,
     "start_time": "2022-12-15T13:45:51.922936",
     "status": "completed"
    },
    "tags": []
   },
   "outputs": [
    {
     "data": {
      "text/plain": [
       "array(['19M', '14M', '8.7M', '25M', '2.8M', '5.6M', '29M', '33M', '3.1M',\n",
       "       '28M', '12M', '20M', '21M', '37M', '2.7M', '5.5M', '17M', '39M',\n",
       "       '31M', '4.2M', '7.0M', '23M', '6.0M', '6.1M', '4.6M', '9.2M',\n",
       "       '5.2M', '11M', '24M', '13M', '9.4M', '15M', '10M', '1.2M', '26M',\n",
       "       '8.0M', '7.9M', '56M', '57M', '35M', '54M', '201k', '3.6M', '5.7M',\n",
       "       '8.6M', '2.4M', '27M', '2.5M', '16M', '3.4M', '8.9M', '3.9M',\n",
       "       '2.9M', '38M', '32M', '5.4M', '18M', '1.1M', '2.2M', '4.5M',\n",
       "       '9.8M', '52M', '9.0M', '6.7M', '30M', '2.6M', '7.1M', '3.7M',\n",
       "       '22M', '7.4M', '6.4M', '3.2M', '8.2M', '9.9M', '4.9M', '9.5M',\n",
       "       '5.0M', '5.9M', '73M', '6.8M', '3.5M', '4.0M', '2.3M', '7.2M',\n",
       "       '2.1M', '42M', '7.3M', '9.1M', '55M', '23k', '6.5M', '1.5M',\n",
       "       '7.5M', '51M', '41M', '48M', '8.5M', '46M', '8.3M', '4.3M', '4.7M',\n",
       "       '3.3M', '40M', '7.8M', '8.8M', '6.6M', '5.1M', '61M', '66M', '79k',\n",
       "       '8.4M', '118k', '44M', '695k', '1.6M', '6.2M', '18k', '53M',\n",
       "       '1.4M', '3.0M', '5.8M', '3.8M', '9.6M', '45M', '63M', '49M', '77M',\n",
       "       '4.4M', '4.8M', '70M', '6.9M', '9.3M', '10.0M', '8.1M', '36M',\n",
       "       '84M', '97M', '2.0M', '1.9M', '1.8M', '5.3M', '47M', '556k',\n",
       "       '526k', '76M', '7.6M', '59M', '9.7M', '78M', '72M', '43M', '7.7M',\n",
       "       '6.3M', '334k', '34M', '93M', '65M', '79M', '100M', '58M', '50M',\n",
       "       '68M', '64M', '67M', '60M', '94M', '232k', '99M', '624k', '95M',\n",
       "       '8.5k', '41k', '292k', '11k', '80M', '1.7M', '74M', '62M', '69M',\n",
       "       '75M', '98M', '85M', '82M', '96M', '87M', '71M', '86M', '91M',\n",
       "       '81M', '92M', '83M', '88M', '704k', '862k', '899k', '378k', '266k',\n",
       "       '375k', '1.3M', '975k', '980k', '4.1M', '89M', '696k', '544k',\n",
       "       '525k', '920k', '779k', '853k', '720k', '713k', '772k', '318k',\n",
       "       '58k', '241k', '196k', '857k', '51k', '953k', '865k', '251k',\n",
       "       '930k', '540k', '313k', '746k', '203k', '26k', '314k', '239k',\n",
       "       '371k', '220k', '730k', '756k', '91k', '293k', '17k', '74k', '14k',\n",
       "       '317k', '78k', '924k', '902k', '818k', '81k', '939k', '169k',\n",
       "       '45k', '475k', '965k', '90M', '545k', '61k', '283k', '655k',\n",
       "       '714k', '93k', '872k', '121k', '322k', '1.0M', '976k', '172k',\n",
       "       '238k', '549k', '206k', '954k', '444k', '717k', '210k', '609k',\n",
       "       '308k', '705k', '306k', '904k', '473k', '175k', '350k', '383k',\n",
       "       '454k', '421k', '70k', '812k', '442k', '842k', '417k', '412k',\n",
       "       '459k', '478k', '335k', '782k', '721k', '430k', '429k', '192k',\n",
       "       '200k', '460k', '728k', '496k', '816k', '414k', '506k', '887k',\n",
       "       '613k', '243k', '569k', '778k', '683k', '592k', '319k', '186k',\n",
       "       '840k', '647k', '191k', '373k', '437k', '598k', '716k', '585k',\n",
       "       '982k', '222k', '219k', '55k', '948k', '323k', '691k', '511k',\n",
       "       '951k', '963k', '25k', '554k', '351k', '27k', '82k', '208k',\n",
       "       '913k', '514k', '551k', '29k', '103k', '898k', '743k', '116k',\n",
       "       '153k', '209k', '353k', '499k', '173k', '597k', '809k', '122k',\n",
       "       '411k', '400k', '801k', '787k', '237k', '50k', '643k', '986k',\n",
       "       '97k', '516k', '837k', '780k', '961k', '269k', '20k', '498k',\n",
       "       '600k', '749k', '642k', '881k', '72k', '656k', '601k', '221k',\n",
       "       '228k', '108k', '940k', '176k', '33k', '663k', '34k', '942k',\n",
       "       '259k', '164k', '458k', '245k', '629k', '28k', '288k', '775k',\n",
       "       '785k', '636k', '916k', '994k', '309k', '485k', '914k', '903k',\n",
       "       '608k', '500k', '54k', '562k', '847k', '957k', '688k', '811k',\n",
       "       '270k', '48k', '329k', '523k', '921k', '874k', '981k', '784k',\n",
       "       '280k', '24k', '518k', '754k', '892k', '154k', '860k', '364k',\n",
       "       '387k', '626k', '161k', '879k', '39k', '970k', '170k', '141k',\n",
       "       '160k', '144k', '143k', '190k', '376k', '193k', '246k', '73k',\n",
       "       '658k', '992k', '253k', '420k', '404k', '470k', '226k', '240k',\n",
       "       '89k', '234k', '257k', '861k', '467k', '157k', '44k', '676k',\n",
       "       '67k', '552k', '885k', '1020k', '582k', '619k'], dtype=object)"
      ]
     },
     "execution_count": 81,
     "metadata": {},
     "output_type": "execute_result"
    }
   ],
   "source": [
    "dataframe['Size'].unique()"
   ]
  },
  {
   "cell_type": "code",
   "execution_count": 82,
   "id": "1634667e",
   "metadata": {
    "execution": {
     "iopub.execute_input": "2022-12-15T13:45:52.121869Z",
     "iopub.status.busy": "2022-12-15T13:45:52.121458Z",
     "iopub.status.idle": "2022-12-15T13:45:52.138135Z",
     "shell.execute_reply": "2022-12-15T13:45:52.136662Z"
    },
    "papermill": {
     "duration": 0.081181,
     "end_time": "2022-12-15T13:45:52.140982",
     "exception": false,
     "start_time": "2022-12-15T13:45:52.059801",
     "status": "completed"
    },
    "tags": []
   },
   "outputs": [],
   "source": [
    "dataframe['Size']=dataframe['Size'].apply(convert_into_MB)"
   ]
  },
  {
   "cell_type": "code",
   "execution_count": 83,
   "id": "e5e47840",
   "metadata": {
    "execution": {
     "iopub.execute_input": "2022-12-15T13:45:52.263329Z",
     "iopub.status.busy": "2022-12-15T13:45:52.262899Z",
     "iopub.status.idle": "2022-12-15T13:45:52.273049Z",
     "shell.execute_reply": "2022-12-15T13:45:52.271867Z"
    },
    "papermill": {
     "duration": 0.074492,
     "end_time": "2022-12-15T13:45:52.275503",
     "exception": false,
     "start_time": "2022-12-15T13:45:52.201011",
     "status": "completed"
    },
    "tags": []
   },
   "outputs": [
    {
     "data": {
      "text/plain": [
       "0        19.0\n",
       "1        14.0\n",
       "2         8.7\n",
       "3        25.0\n",
       "4         2.8\n",
       "         ... \n",
       "10836    53.0\n",
       "10837     3.6\n",
       "10838     9.5\n",
       "10839    13.0\n",
       "10840    19.0\n",
       "Name: Size, Length: 10840, dtype: float64"
      ]
     },
     "execution_count": 83,
     "metadata": {},
     "output_type": "execute_result"
    }
   ],
   "source": [
    "dataframe['Size']"
   ]
  },
  {
   "cell_type": "markdown",
   "id": "e62798ab",
   "metadata": {
    "papermill": {
     "duration": 0.06159,
     "end_time": "2022-12-15T13:45:52.395915",
     "exception": false,
     "start_time": "2022-12-15T13:45:52.334325",
     "status": "completed"
    },
    "tags": []
   },
   "source": [
    "### Feature Selection using SelectKBest to select most significant features¶"
   ]
  },
  {
   "cell_type": "code",
   "execution_count": 84,
   "id": "d3862752",
   "metadata": {
    "execution": {
     "iopub.execute_input": "2022-12-15T13:45:52.515595Z",
     "iopub.status.busy": "2022-12-15T13:45:52.515111Z",
     "iopub.status.idle": "2022-12-15T13:45:52.529385Z",
     "shell.execute_reply": "2022-12-15T13:45:52.528399Z"
    },
    "papermill": {
     "duration": 0.07608,
     "end_time": "2022-12-15T13:45:52.531572",
     "exception": false,
     "start_time": "2022-12-15T13:45:52.455492",
     "status": "completed"
    },
    "tags": []
   },
   "outputs": [
    {
     "data": {
      "text/plain": [
       "App                  0\n",
       "Category             1\n",
       "Rating            1473\n",
       "Reviews              0\n",
       "Size                 0\n",
       "Installs             0\n",
       "Type                 0\n",
       "Price                0\n",
       "Content Rating       0\n",
       "Genres               1\n",
       "Last Updated         0\n",
       "Current Ver          8\n",
       "Android Ver          2\n",
       "year_updated         0\n",
       "month_updated        0\n",
       "dtype: int64"
      ]
     },
     "execution_count": 84,
     "metadata": {},
     "output_type": "execute_result"
    }
   ],
   "source": [
    "dataframe.isnull().sum()"
   ]
  },
  {
   "cell_type": "code",
   "execution_count": 85,
   "id": "483cd25c",
   "metadata": {
    "execution": {
     "iopub.execute_input": "2022-12-15T13:45:52.652033Z",
     "iopub.status.busy": "2022-12-15T13:45:52.651205Z",
     "iopub.status.idle": "2022-12-15T13:45:52.666483Z",
     "shell.execute_reply": "2022-12-15T13:45:52.665312Z"
    },
    "papermill": {
     "duration": 0.078356,
     "end_time": "2022-12-15T13:45:52.669235",
     "exception": false,
     "start_time": "2022-12-15T13:45:52.590879",
     "status": "completed"
    },
    "tags": []
   },
   "outputs": [],
   "source": [
    "fe=dataframe.dropna()"
   ]
  },
  {
   "cell_type": "code",
   "execution_count": 86,
   "id": "554e0677",
   "metadata": {
    "execution": {
     "iopub.execute_input": "2022-12-15T13:45:52.790538Z",
     "iopub.status.busy": "2022-12-15T13:45:52.790103Z",
     "iopub.status.idle": "2022-12-15T13:45:52.803961Z",
     "shell.execute_reply": "2022-12-15T13:45:52.802768Z"
    },
    "papermill": {
     "duration": 0.076991,
     "end_time": "2022-12-15T13:45:52.806301",
     "exception": false,
     "start_time": "2022-12-15T13:45:52.729310",
     "status": "completed"
    },
    "tags": []
   },
   "outputs": [
    {
     "data": {
      "text/plain": [
       "App               0\n",
       "Category          0\n",
       "Rating            0\n",
       "Reviews           0\n",
       "Size              0\n",
       "Installs          0\n",
       "Type              0\n",
       "Price             0\n",
       "Content Rating    0\n",
       "Genres            0\n",
       "Last Updated      0\n",
       "Current Ver       0\n",
       "Android Ver       0\n",
       "year_updated      0\n",
       "month_updated     0\n",
       "dtype: int64"
      ]
     },
     "execution_count": 86,
     "metadata": {},
     "output_type": "execute_result"
    }
   ],
   "source": [
    "fe.isnull().sum()"
   ]
  },
  {
   "cell_type": "code",
   "execution_count": 87,
   "id": "3b04dc3e",
   "metadata": {
    "execution": {
     "iopub.execute_input": "2022-12-15T13:45:52.928783Z",
     "iopub.status.busy": "2022-12-15T13:45:52.928366Z",
     "iopub.status.idle": "2022-12-15T13:45:52.933521Z",
     "shell.execute_reply": "2022-12-15T13:45:52.932292Z"
    },
    "papermill": {
     "duration": 0.067038,
     "end_time": "2022-12-15T13:45:52.935763",
     "exception": false,
     "start_time": "2022-12-15T13:45:52.868725",
     "status": "completed"
    },
    "tags": []
   },
   "outputs": [],
   "source": [
    "ind_features=['Reviews','Size','Installs','Price']"
   ]
  },
  {
   "cell_type": "code",
   "execution_count": 88,
   "id": "c1b68b4c",
   "metadata": {
    "execution": {
     "iopub.execute_input": "2022-12-15T13:45:53.058864Z",
     "iopub.status.busy": "2022-12-15T13:45:53.058436Z",
     "iopub.status.idle": "2022-12-15T13:45:53.065086Z",
     "shell.execute_reply": "2022-12-15T13:45:53.063902Z"
    },
    "papermill": {
     "duration": 0.071439,
     "end_time": "2022-12-15T13:45:53.067657",
     "exception": false,
     "start_time": "2022-12-15T13:45:52.996218",
     "status": "completed"
    },
    "tags": []
   },
   "outputs": [],
   "source": [
    "X=fe[ind_features]\n",
    "y=fe['Rating']"
   ]
  },
  {
   "cell_type": "code",
   "execution_count": 89,
   "id": "a6cac77b",
   "metadata": {
    "execution": {
     "iopub.execute_input": "2022-12-15T13:45:53.247015Z",
     "iopub.status.busy": "2022-12-15T13:45:53.246580Z",
     "iopub.status.idle": "2022-12-15T13:45:53.253483Z",
     "shell.execute_reply": "2022-12-15T13:45:53.252411Z"
    },
    "papermill": {
     "duration": 0.127051,
     "end_time": "2022-12-15T13:45:53.255803",
     "exception": false,
     "start_time": "2022-12-15T13:45:53.128752",
     "status": "completed"
    },
    "tags": []
   },
   "outputs": [
    {
     "data": {
      "text/plain": [
       "(9360, 4)"
      ]
     },
     "execution_count": 89,
     "metadata": {},
     "output_type": "execute_result"
    }
   ],
   "source": [
    "X.shape"
   ]
  },
  {
   "cell_type": "code",
   "execution_count": 90,
   "id": "96346df9",
   "metadata": {
    "execution": {
     "iopub.execute_input": "2022-12-15T13:45:53.375635Z",
     "iopub.status.busy": "2022-12-15T13:45:53.375249Z",
     "iopub.status.idle": "2022-12-15T13:45:53.380902Z",
     "shell.execute_reply": "2022-12-15T13:45:53.380067Z"
    },
    "papermill": {
     "duration": 0.068836,
     "end_time": "2022-12-15T13:45:53.383177",
     "exception": false,
     "start_time": "2022-12-15T13:45:53.314341",
     "status": "completed"
    },
    "tags": []
   },
   "outputs": [
    {
     "data": {
      "text/plain": [
       "(9360,)"
      ]
     },
     "execution_count": 90,
     "metadata": {},
     "output_type": "execute_result"
    }
   ],
   "source": [
    "y.shape"
   ]
  },
  {
   "cell_type": "markdown",
   "id": "7e0a7b2a",
   "metadata": {
    "papermill": {
     "duration": 0.057968,
     "end_time": "2022-12-15T13:45:53.500061",
     "exception": false,
     "start_time": "2022-12-15T13:45:53.442093",
     "status": "completed"
    },
    "tags": []
   },
   "source": [
    "###### To find releveant features for my regression model , i use SelectKBest\n",
    "##### SelectKBest calculate p-value and select K best relevant features\n"
   ]
  },
  {
   "cell_type": "code",
   "execution_count": 91,
   "id": "40694791",
   "metadata": {
    "execution": {
     "iopub.execute_input": "2022-12-15T13:45:53.618810Z",
     "iopub.status.busy": "2022-12-15T13:45:53.618300Z",
     "iopub.status.idle": "2022-12-15T13:45:53.957437Z",
     "shell.execute_reply": "2022-12-15T13:45:53.956183Z"
    },
    "papermill": {
     "duration": 0.402248,
     "end_time": "2022-12-15T13:45:53.960151",
     "exception": false,
     "start_time": "2022-12-15T13:45:53.557903",
     "status": "completed"
    },
    "tags": []
   },
   "outputs": [],
   "source": [
    "from sklearn.feature_selection import SelectKBest,f_regression"
   ]
  },
  {
   "cell_type": "code",
   "execution_count": 92,
   "id": "bdd9f79d",
   "metadata": {
    "execution": {
     "iopub.execute_input": "2022-12-15T13:45:54.080116Z",
     "iopub.status.busy": "2022-12-15T13:45:54.079653Z",
     "iopub.status.idle": "2022-12-15T13:45:54.091894Z",
     "shell.execute_reply": "2022-12-15T13:45:54.090670Z"
    },
    "papermill": {
     "duration": 0.076056,
     "end_time": "2022-12-15T13:45:54.094801",
     "exception": false,
     "start_time": "2022-12-15T13:45:54.018745",
     "status": "completed"
    },
    "tags": []
   },
   "outputs": [],
   "source": [
    "## SelectKBest(Score_func=f_regression , k='no_of_features i want')\n",
    "\n",
    "X_new=SelectKBest(f_regression,k=3).fit_transform(X,y)"
   ]
  },
  {
   "cell_type": "code",
   "execution_count": 93,
   "id": "8a407ad2",
   "metadata": {
    "execution": {
     "iopub.execute_input": "2022-12-15T13:45:54.215105Z",
     "iopub.status.busy": "2022-12-15T13:45:54.214296Z",
     "iopub.status.idle": "2022-12-15T13:45:54.229167Z",
     "shell.execute_reply": "2022-12-15T13:45:54.227968Z"
    },
    "papermill": {
     "duration": 0.077023,
     "end_time": "2022-12-15T13:45:54.231580",
     "exception": false,
     "start_time": "2022-12-15T13:45:54.154557",
     "status": "completed"
    },
    "tags": []
   },
   "outputs": [
    {
     "data": {
      "text/html": [
       "<div>\n",
       "<style scoped>\n",
       "    .dataframe tbody tr th:only-of-type {\n",
       "        vertical-align: middle;\n",
       "    }\n",
       "\n",
       "    .dataframe tbody tr th {\n",
       "        vertical-align: top;\n",
       "    }\n",
       "\n",
       "    .dataframe thead th {\n",
       "        text-align: right;\n",
       "    }\n",
       "</style>\n",
       "<table border=\"1\" class=\"dataframe\">\n",
       "  <thead>\n",
       "    <tr style=\"text-align: right;\">\n",
       "      <th></th>\n",
       "      <th>Reviews</th>\n",
       "      <th>Size</th>\n",
       "      <th>Installs</th>\n",
       "      <th>Price</th>\n",
       "    </tr>\n",
       "  </thead>\n",
       "  <tbody>\n",
       "    <tr>\n",
       "      <th>0</th>\n",
       "      <td>159.0</td>\n",
       "      <td>19.0</td>\n",
       "      <td>10000</td>\n",
       "      <td>0.0</td>\n",
       "    </tr>\n",
       "    <tr>\n",
       "      <th>1</th>\n",
       "      <td>967.0</td>\n",
       "      <td>14.0</td>\n",
       "      <td>500000</td>\n",
       "      <td>0.0</td>\n",
       "    </tr>\n",
       "    <tr>\n",
       "      <th>2</th>\n",
       "      <td>87510.0</td>\n",
       "      <td>8.7</td>\n",
       "      <td>5000000</td>\n",
       "      <td>0.0</td>\n",
       "    </tr>\n",
       "    <tr>\n",
       "      <th>3</th>\n",
       "      <td>215644.0</td>\n",
       "      <td>25.0</td>\n",
       "      <td>50000000</td>\n",
       "      <td>0.0</td>\n",
       "    </tr>\n",
       "    <tr>\n",
       "      <th>4</th>\n",
       "      <td>967.0</td>\n",
       "      <td>2.8</td>\n",
       "      <td>100000</td>\n",
       "      <td>0.0</td>\n",
       "    </tr>\n",
       "  </tbody>\n",
       "</table>\n",
       "</div>"
      ],
      "text/plain": [
       "    Reviews  Size  Installs  Price\n",
       "0     159.0  19.0     10000    0.0\n",
       "1     967.0  14.0    500000    0.0\n",
       "2   87510.0   8.7   5000000    0.0\n",
       "3  215644.0  25.0  50000000    0.0\n",
       "4     967.0   2.8    100000    0.0"
      ]
     },
     "execution_count": 93,
     "metadata": {},
     "output_type": "execute_result"
    }
   ],
   "source": [
    "X.head(5)"
   ]
  },
  {
   "cell_type": "code",
   "execution_count": 94,
   "id": "1abebc96",
   "metadata": {
    "execution": {
     "iopub.execute_input": "2022-12-15T13:45:54.356450Z",
     "iopub.status.busy": "2022-12-15T13:45:54.356009Z",
     "iopub.status.idle": "2022-12-15T13:45:54.364092Z",
     "shell.execute_reply": "2022-12-15T13:45:54.362611Z"
    },
    "papermill": {
     "duration": 0.073359,
     "end_time": "2022-12-15T13:45:54.366597",
     "exception": false,
     "start_time": "2022-12-15T13:45:54.293238",
     "status": "completed"
    },
    "tags": []
   },
   "outputs": [
    {
     "data": {
      "text/plain": [
       "array([[1.59000e+02, 1.90000e+01, 1.00000e+04],\n",
       "       [9.67000e+02, 1.40000e+01, 5.00000e+05],\n",
       "       [8.75100e+04, 8.70000e+00, 5.00000e+06],\n",
       "       [2.15644e+05, 2.50000e+01, 5.00000e+07],\n",
       "       [9.67000e+02, 2.80000e+00, 1.00000e+05]])"
      ]
     },
     "execution_count": 94,
     "metadata": {},
     "output_type": "execute_result"
    }
   ],
   "source": [
    "## it will select review , size & install\n",
    "X_new[0:5]"
   ]
  },
  {
   "cell_type": "markdown",
   "id": "1167f15f",
   "metadata": {
    "papermill": {
     "duration": 0.061458,
     "end_time": "2022-12-15T13:45:54.488199",
     "exception": false,
     "start_time": "2022-12-15T13:45:54.426741",
     "status": "completed"
    },
    "tags": []
   },
   "source": [
    "#### We will eliminate Price as due to less relationship between Price & Rating"
   ]
  },
  {
   "cell_type": "code",
   "execution_count": 95,
   "id": "b59315bc",
   "metadata": {
    "execution": {
     "iopub.execute_input": "2022-12-15T13:45:54.616441Z",
     "iopub.status.busy": "2022-12-15T13:45:54.615783Z",
     "iopub.status.idle": "2022-12-15T13:45:54.624539Z",
     "shell.execute_reply": "2022-12-15T13:45:54.623570Z"
    },
    "papermill": {
     "duration": 0.077886,
     "end_time": "2022-12-15T13:45:54.627058",
     "exception": false,
     "start_time": "2022-12-15T13:45:54.549172",
     "status": "completed"
    },
    "tags": []
   },
   "outputs": [],
   "source": [
    "dataframe.drop('Price',axis=1,inplace=True)"
   ]
  },
  {
   "cell_type": "code",
   "execution_count": 96,
   "id": "63eef489",
   "metadata": {
    "execution": {
     "iopub.execute_input": "2022-12-15T13:45:54.750166Z",
     "iopub.status.busy": "2022-12-15T13:45:54.749512Z",
     "iopub.status.idle": "2022-12-15T13:45:54.768751Z",
     "shell.execute_reply": "2022-12-15T13:45:54.767412Z"
    },
    "papermill": {
     "duration": 0.083331,
     "end_time": "2022-12-15T13:45:54.771256",
     "exception": false,
     "start_time": "2022-12-15T13:45:54.687925",
     "status": "completed"
    },
    "tags": []
   },
   "outputs": [
    {
     "data": {
      "text/html": [
       "<div>\n",
       "<style scoped>\n",
       "    .dataframe tbody tr th:only-of-type {\n",
       "        vertical-align: middle;\n",
       "    }\n",
       "\n",
       "    .dataframe tbody tr th {\n",
       "        vertical-align: top;\n",
       "    }\n",
       "\n",
       "    .dataframe thead th {\n",
       "        text-align: right;\n",
       "    }\n",
       "</style>\n",
       "<table border=\"1\" class=\"dataframe\">\n",
       "  <thead>\n",
       "    <tr style=\"text-align: right;\">\n",
       "      <th></th>\n",
       "      <th>Rating</th>\n",
       "      <th>Reviews</th>\n",
       "      <th>Size</th>\n",
       "      <th>Installs</th>\n",
       "      <th>year_updated</th>\n",
       "      <th>month_updated</th>\n",
       "    </tr>\n",
       "  </thead>\n",
       "  <tbody>\n",
       "    <tr>\n",
       "      <th>Rating</th>\n",
       "      <td>1.000000</td>\n",
       "      <td>0.068147</td>\n",
       "      <td>0.066286</td>\n",
       "      <td>0.051393</td>\n",
       "      <td>0.137317</td>\n",
       "      <td>0.018075</td>\n",
       "    </tr>\n",
       "    <tr>\n",
       "      <th>Reviews</th>\n",
       "      <td>0.068147</td>\n",
       "      <td>1.000000</td>\n",
       "      <td>0.104032</td>\n",
       "      <td>0.643122</td>\n",
       "      <td>0.075537</td>\n",
       "      <td>0.045946</td>\n",
       "    </tr>\n",
       "    <tr>\n",
       "      <th>Size</th>\n",
       "      <td>0.066286</td>\n",
       "      <td>0.104032</td>\n",
       "      <td>1.000000</td>\n",
       "      <td>0.047699</td>\n",
       "      <td>0.181947</td>\n",
       "      <td>0.028715</td>\n",
       "    </tr>\n",
       "    <tr>\n",
       "      <th>Installs</th>\n",
       "      <td>0.051393</td>\n",
       "      <td>0.643122</td>\n",
       "      <td>0.047699</td>\n",
       "      <td>1.000000</td>\n",
       "      <td>0.089368</td>\n",
       "      <td>0.056466</td>\n",
       "    </tr>\n",
       "    <tr>\n",
       "      <th>year_updated</th>\n",
       "      <td>0.137317</td>\n",
       "      <td>0.075537</td>\n",
       "      <td>0.181947</td>\n",
       "      <td>0.089368</td>\n",
       "      <td>1.000000</td>\n",
       "      <td>-0.187359</td>\n",
       "    </tr>\n",
       "    <tr>\n",
       "      <th>month_updated</th>\n",
       "      <td>0.018075</td>\n",
       "      <td>0.045946</td>\n",
       "      <td>0.028715</td>\n",
       "      <td>0.056466</td>\n",
       "      <td>-0.187359</td>\n",
       "      <td>1.000000</td>\n",
       "    </tr>\n",
       "  </tbody>\n",
       "</table>\n",
       "</div>"
      ],
      "text/plain": [
       "                 Rating   Reviews      Size  Installs  year_updated  \\\n",
       "Rating         1.000000  0.068147  0.066286  0.051393      0.137317   \n",
       "Reviews        0.068147  1.000000  0.104032  0.643122      0.075537   \n",
       "Size           0.066286  0.104032  1.000000  0.047699      0.181947   \n",
       "Installs       0.051393  0.643122  0.047699  1.000000      0.089368   \n",
       "year_updated   0.137317  0.075537  0.181947  0.089368      1.000000   \n",
       "month_updated  0.018075  0.045946  0.028715  0.056466     -0.187359   \n",
       "\n",
       "               month_updated  \n",
       "Rating              0.018075  \n",
       "Reviews             0.045946  \n",
       "Size                0.028715  \n",
       "Installs            0.056466  \n",
       "year_updated       -0.187359  \n",
       "month_updated       1.000000  "
      ]
     },
     "execution_count": 96,
     "metadata": {},
     "output_type": "execute_result"
    }
   ],
   "source": [
    "dataframe.corr()   # give corelation matrix"
   ]
  },
  {
   "cell_type": "markdown",
   "id": "54115e5d",
   "metadata": {
    "papermill": {
     "duration": 0.062229,
     "end_time": "2022-12-15T13:45:54.893413",
     "exception": false,
     "start_time": "2022-12-15T13:45:54.831184",
     "status": "completed"
    },
    "tags": []
   },
   "source": [
    "## Outliers Detection & Dealing with it.."
   ]
  },
  {
   "cell_type": "markdown",
   "id": "b100f4b8",
   "metadata": {
    "papermill": {
     "duration": 0.059854,
     "end_time": "2022-12-15T13:45:55.013878",
     "exception": false,
     "start_time": "2022-12-15T13:45:54.954024",
     "status": "completed"
    },
    "tags": []
   },
   "source": [
    "##### Outliers Detection in size,reviews,ratings & Installs"
   ]
  },
  {
   "cell_type": "code",
   "execution_count": 97,
   "id": "adec3927",
   "metadata": {
    "execution": {
     "iopub.execute_input": "2022-12-15T13:45:55.137592Z",
     "iopub.status.busy": "2022-12-15T13:45:55.136716Z",
     "iopub.status.idle": "2022-12-15T13:45:55.603072Z",
     "shell.execute_reply": "2022-12-15T13:45:55.602080Z"
    },
    "papermill": {
     "duration": 0.53239,
     "end_time": "2022-12-15T13:45:55.605493",
     "exception": false,
     "start_time": "2022-12-15T13:45:55.073103",
     "status": "completed"
    },
    "tags": []
   },
   "outputs": [
    {
     "data": {
      "text/plain": [
       "<AxesSubplot:xlabel='Size', ylabel='Density'>"
      ]
     },
     "execution_count": 97,
     "metadata": {},
     "output_type": "execute_result"
    },
    {
     "data": {
      "image/png": "[encoded data removed]",
      "text/plain": [
       "<Figure size 432x288 with 1 Axes>"
      ]
     },
     "metadata": {
      "needs_background": "light"
     },
     "output_type": "display_data"
    }
   ],
   "source": [
    "sns.histplot(\n",
    "    dataframe['Size'], kde=True,\n",
    "    stat=\"density\", kde_kws=dict(cut=3),\n",
    "    alpha=.4, edgecolor=(1, 1, 1, .4),\n",
    ")"
   ]
  },
  {
   "cell_type": "markdown",
   "id": "19977d83",
   "metadata": {
    "papermill": {
     "duration": 0.062764,
     "end_time": "2022-12-15T13:45:55.729910",
     "exception": false,
     "start_time": "2022-12-15T13:45:55.667146",
     "status": "completed"
    },
    "tags": []
   },
   "source": [
    "As the above graph is Right skewed it means we have high outliers i.e. some values are very high"
   ]
  },
  {
   "cell_type": "markdown",
   "id": "6e8164a2",
   "metadata": {
    "papermill": {
     "duration": 0.060006,
     "end_time": "2022-12-15T13:45:55.852669",
     "exception": false,
     "start_time": "2022-12-15T13:45:55.792663",
     "status": "completed"
    },
    "tags": []
   },
   "source": [
    "### Outliers removal in Size using 1 std dev\n",
    "    ie whatever data is outside of (mean +- 1*std dev) , just remove it.."
   ]
  },
  {
   "cell_type": "code",
   "execution_count": 98,
   "id": "2dfdca16",
   "metadata": {
    "execution": {
     "iopub.execute_input": "2022-12-15T13:45:55.980310Z",
     "iopub.status.busy": "2022-12-15T13:45:55.979565Z",
     "iopub.status.idle": "2022-12-15T13:45:55.986049Z",
     "shell.execute_reply": "2022-12-15T13:45:55.985166Z"
    },
    "papermill": {
     "duration": 0.074962,
     "end_time": "2022-12-15T13:45:55.988307",
     "exception": false,
     "start_time": "2022-12-15T13:45:55.913345",
     "status": "completed"
    },
    "tags": []
   },
   "outputs": [],
   "source": [
    "def remove_outliers_sd(df,feature):\n",
    "    df_out=pd.DataFrame()\n",
    "    for key,subdf in df.groupby('Type'):\n",
    "        m=np.mean(subdf[feature])\n",
    "        sd=np.std(subdf[feature])\n",
    "        reduced_df=subdf[(subdf[feature]>(m-sd)) & (subdf[feature]<(m+sd))]\n",
    "        \n",
    "        df_out=pd.concat([df_out,reduced_df],ignore_index=True)\n",
    "    return df_out"
   ]
  },
  {
   "cell_type": "code",
   "execution_count": 99,
   "id": "9edefe5c",
   "metadata": {
    "execution": {
     "iopub.execute_input": "2022-12-15T13:45:56.109536Z",
     "iopub.status.busy": "2022-12-15T13:45:56.108846Z",
     "iopub.status.idle": "2022-12-15T13:45:56.129140Z",
     "shell.execute_reply": "2022-12-15T13:45:56.127797Z"
    },
    "papermill": {
     "duration": 0.084265,
     "end_time": "2022-12-15T13:45:56.131963",
     "exception": false,
     "start_time": "2022-12-15T13:45:56.047698",
     "status": "completed"
    },
    "tags": []
   },
   "outputs": [],
   "source": [
    "op=remove_outliers_sd(dataframe,'Size')"
   ]
  },
  {
   "cell_type": "code",
   "execution_count": 100,
   "id": "c244e501",
   "metadata": {
    "execution": {
     "iopub.execute_input": "2022-12-15T13:45:56.255723Z",
     "iopub.status.busy": "2022-12-15T13:45:56.255276Z",
     "iopub.status.idle": "2022-12-15T13:45:56.276159Z",
     "shell.execute_reply": "2022-12-15T13:45:56.274918Z"
    },
    "papermill": {
     "duration": 0.087102,
     "end_time": "2022-12-15T13:45:56.278708",
     "exception": false,
     "start_time": "2022-12-15T13:45:56.191606",
     "status": "completed"
    },
    "tags": []
   },
   "outputs": [
    {
     "data": {
      "text/html": [
       "<div>\n",
       "<style scoped>\n",
       "    .dataframe tbody tr th:only-of-type {\n",
       "        vertical-align: middle;\n",
       "    }\n",
       "\n",
       "    .dataframe tbody tr th {\n",
       "        vertical-align: top;\n",
       "    }\n",
       "\n",
       "    .dataframe thead th {\n",
       "        text-align: right;\n",
       "    }\n",
       "</style>\n",
       "<table border=\"1\" class=\"dataframe\">\n",
       "  <thead>\n",
       "    <tr style=\"text-align: right;\">\n",
       "      <th></th>\n",
       "      <th>App</th>\n",
       "      <th>Category</th>\n",
       "      <th>Rating</th>\n",
       "      <th>Reviews</th>\n",
       "      <th>Size</th>\n",
       "      <th>Installs</th>\n",
       "      <th>Type</th>\n",
       "      <th>Content Rating</th>\n",
       "      <th>Genres</th>\n",
       "      <th>Last Updated</th>\n",
       "      <th>Current Ver</th>\n",
       "      <th>Android Ver</th>\n",
       "      <th>year_updated</th>\n",
       "      <th>month_updated</th>\n",
       "    </tr>\n",
       "  </thead>\n",
       "  <tbody>\n",
       "    <tr>\n",
       "      <th>0</th>\n",
       "      <td>Photo Editor &amp; Candy Camera &amp; Grid &amp; ScrapBook</td>\n",
       "      <td>ART_AND_DESIGN</td>\n",
       "      <td>4.1</td>\n",
       "      <td>159.0</td>\n",
       "      <td>19.0</td>\n",
       "      <td>10000</td>\n",
       "      <td>Free</td>\n",
       "      <td>Everyone</td>\n",
       "      <td>Art &amp; Design</td>\n",
       "      <td>2018-01-07</td>\n",
       "      <td>1.0.0</td>\n",
       "      <td>4.0.3 and up</td>\n",
       "      <td>2018</td>\n",
       "      <td>1</td>\n",
       "    </tr>\n",
       "    <tr>\n",
       "      <th>1</th>\n",
       "      <td>Coloring book moana</td>\n",
       "      <td>ART_AND_DESIGN</td>\n",
       "      <td>3.9</td>\n",
       "      <td>967.0</td>\n",
       "      <td>14.0</td>\n",
       "      <td>500000</td>\n",
       "      <td>Free</td>\n",
       "      <td>Everyone</td>\n",
       "      <td>Art &amp; Design;Pretend Play</td>\n",
       "      <td>2018-01-15</td>\n",
       "      <td>2.0.0</td>\n",
       "      <td>4.0.3 and up</td>\n",
       "      <td>2018</td>\n",
       "      <td>1</td>\n",
       "    </tr>\n",
       "  </tbody>\n",
       "</table>\n",
       "</div>"
      ],
      "text/plain": [
       "                                              App        Category  Rating  \\\n",
       "0  Photo Editor & Candy Camera & Grid & ScrapBook  ART_AND_DESIGN     4.1   \n",
       "1                             Coloring book moana  ART_AND_DESIGN     3.9   \n",
       "\n",
       "   Reviews  Size  Installs  Type Content Rating                     Genres  \\\n",
       "0    159.0  19.0     10000  Free       Everyone               Art & Design   \n",
       "1    967.0  14.0    500000  Free       Everyone  Art & Design;Pretend Play   \n",
       "\n",
       "  Last Updated Current Ver   Android Ver  year_updated  month_updated  \n",
       "0   2018-01-07       1.0.0  4.0.3 and up          2018              1  \n",
       "1   2018-01-15       2.0.0  4.0.3 and up          2018              1  "
      ]
     },
     "execution_count": 100,
     "metadata": {},
     "output_type": "execute_result"
    }
   ],
   "source": [
    "op.head(2)"
   ]
  },
  {
   "cell_type": "code",
   "execution_count": 101,
   "id": "14179464",
   "metadata": {
    "execution": {
     "iopub.execute_input": "2022-12-15T13:45:56.402218Z",
     "iopub.status.busy": "2022-12-15T13:45:56.401520Z",
     "iopub.status.idle": "2022-12-15T13:45:56.747884Z",
     "shell.execute_reply": "2022-12-15T13:45:56.746684Z"
    },
    "papermill": {
     "duration": 0.410051,
     "end_time": "2022-12-15T13:45:56.750440",
     "exception": false,
     "start_time": "2022-12-15T13:45:56.340389",
     "status": "completed"
    },
    "tags": []
   },
   "outputs": [
    {
     "data": {
      "text/plain": [
       "<AxesSubplot:xlabel='Size', ylabel='Density'>"
      ]
     },
     "execution_count": 101,
     "metadata": {},
     "output_type": "execute_result"
    },
    {
     "data": {
      "image/png": "[encoded data removed]",
      "text/plain": [
       "<Figure size 432x288 with 1 Axes>"
      ]
     },
     "metadata": {
      "needs_background": "light"
     },
     "output_type": "display_data"
    }
   ],
   "source": [
    "sns.histplot(\n",
    "    op['Size'], kde=True,\n",
    "    stat=\"density\", kde_kws=dict(cut=3),\n",
    "    alpha=.4, edgecolor=(1, 1, 1, .4),\n",
    ")"
   ]
  },
  {
   "cell_type": "markdown",
   "id": "33a1eb77",
   "metadata": {
    "papermill": {
     "duration": 0.061467,
     "end_time": "2022-12-15T13:45:56.874301",
     "exception": false,
     "start_time": "2022-12-15T13:45:56.812834",
     "status": "completed"
    },
    "tags": []
   },
   "source": [
    "### Outliers in Installs using IQR(Interquantile Range)"
   ]
  },
  {
   "cell_type": "code",
   "execution_count": 102,
   "id": "4bad6b5c",
   "metadata": {
    "execution": {
     "iopub.execute_input": "2022-12-15T13:45:57.003505Z",
     "iopub.status.busy": "2022-12-15T13:45:57.003079Z",
     "iopub.status.idle": "2022-12-15T13:45:57.365277Z",
     "shell.execute_reply": "2022-12-15T13:45:57.364017Z"
    },
    "papermill": {
     "duration": 0.429698,
     "end_time": "2022-12-15T13:45:57.367978",
     "exception": false,
     "start_time": "2022-12-15T13:45:56.938280",
     "status": "completed"
    },
    "tags": []
   },
   "outputs": [
    {
     "name": "stderr",
     "output_type": "stream",
     "text": [
      "/opt/conda/lib/python3.7/site-packages/seaborn/distributions.py:2619: FutureWarning:\n",
      "\n",
      "`distplot` is a deprecated function and will be removed in a future version. Please adapt your code to use either `displot` (a figure-level function with similar flexibility) or `histplot` (an axes-level function for histograms).\n",
      "\n"
     ]
    },
    {
     "data": {
      "text/plain": [
       "<AxesSubplot:xlabel='Installs', ylabel='Density'>"
      ]
     },
     "execution_count": 102,
     "metadata": {},
     "output_type": "execute_result"
    },
    {
     "data": {
      "image/png": "[encoded data removed]",
      "text/plain": [
       "<Figure size 432x288 with 1 Axes>"
      ]
     },
     "metadata": {
      "needs_background": "light"
     },
     "output_type": "display_data"
    }
   ],
   "source": [
    "sns.distplot(op['Installs'])\n",
    "#using this bcs histogram plot is not giving coreect plot"
   ]
  },
  {
   "cell_type": "code",
   "execution_count": 103,
   "id": "34ff66d9",
   "metadata": {
    "execution": {
     "iopub.execute_input": "2022-12-15T13:45:57.497558Z",
     "iopub.status.busy": "2022-12-15T13:45:57.497110Z",
     "iopub.status.idle": "2022-12-15T13:45:57.698848Z",
     "shell.execute_reply": "2022-12-15T13:45:57.697463Z"
    },
    "papermill": {
     "duration": 0.270918,
     "end_time": "2022-12-15T13:45:57.701488",
     "exception": false,
     "start_time": "2022-12-15T13:45:57.430570",
     "status": "completed"
    },
    "tags": []
   },
   "outputs": [
    {
     "data": {
      "text/plain": [
       "<AxesSubplot:xlabel='Installs'>"
      ]
     },
     "execution_count": 103,
     "metadata": {},
     "output_type": "execute_result"
    },
    {
     "data": {
      "image/png": "[encoded data removed]",
      "text/plain": [
       "<Figure size 432x288 with 1 Axes>"
      ]
     },
     "metadata": {
      "needs_background": "light"
     },
     "output_type": "display_data"
    }
   ],
   "source": [
    "sns.boxplot(x=op['Installs'])"
   ]
  },
  {
   "cell_type": "markdown",
   "id": "00530049",
   "metadata": {
    "papermill": {
     "duration": 0.066579,
     "end_time": "2022-12-15T13:45:57.830663",
     "exception": false,
     "start_time": "2022-12-15T13:45:57.764084",
     "status": "completed"
    },
    "tags": []
   },
   "source": [
    "Q1 represents the 1st quartile/25th percentile of the data.\n",
    "Q2 represents the 2nd quartile/median/50th percentile of the data.\n",
    "Q3 represents the 3rd quartile/75th percentile of the data.\n",
    "(Q1–1.5IQR) represent the smallest value in the data set and (Q3+1.5IQR) represnt the largest value in the data set."
   ]
  },
  {
   "cell_type": "code",
   "execution_count": 104,
   "id": "169c87ae",
   "metadata": {
    "execution": {
     "iopub.execute_input": "2022-12-15T13:45:57.958275Z",
     "iopub.status.busy": "2022-12-15T13:45:57.957804Z",
     "iopub.status.idle": "2022-12-15T13:45:57.969070Z",
     "shell.execute_reply": "2022-12-15T13:45:57.967821Z"
    },
    "papermill": {
     "duration": 0.077433,
     "end_time": "2022-12-15T13:45:57.971672",
     "exception": false,
     "start_time": "2022-12-15T13:45:57.894239",
     "status": "completed"
    },
    "tags": []
   },
   "outputs": [
    {
     "data": {
      "text/plain": [
       "999000.0"
      ]
     },
     "execution_count": 104,
     "metadata": {},
     "output_type": "execute_result"
    }
   ],
   "source": [
    "q1=op['Installs'].quantile(0.25)\n",
    "q3=op['Installs'].quantile(0.75)\n",
    "iqr=q3-q1\n",
    "iqr"
   ]
  },
  {
   "cell_type": "code",
   "execution_count": 105,
   "id": "2bfe2df4",
   "metadata": {
    "execution": {
     "iopub.execute_input": "2022-12-15T13:45:58.105372Z",
     "iopub.status.busy": "2022-12-15T13:45:58.104504Z",
     "iopub.status.idle": "2022-12-15T13:45:58.111924Z",
     "shell.execute_reply": "2022-12-15T13:45:58.110597Z"
    },
    "papermill": {
     "duration": 0.07704,
     "end_time": "2022-12-15T13:45:58.114502",
     "exception": false,
     "start_time": "2022-12-15T13:45:58.037462",
     "status": "completed"
    },
    "tags": []
   },
   "outputs": [
    {
     "name": "stdout",
     "output_type": "stream",
     "text": [
      "-1497500.0\n",
      "2498500.0\n"
     ]
    }
   ],
   "source": [
    "lower_tail=q1-1.5*iqr\n",
    "print(lower_tail)\n",
    "upper_tail=q3+1.5*iqr\n",
    "print(upper_tail)"
   ]
  },
  {
   "cell_type": "code",
   "execution_count": 106,
   "id": "d46e6c09",
   "metadata": {
    "execution": {
     "iopub.execute_input": "2022-12-15T13:45:58.241071Z",
     "iopub.status.busy": "2022-12-15T13:45:58.239935Z",
     "iopub.status.idle": "2022-12-15T13:45:58.251896Z",
     "shell.execute_reply": "2022-12-15T13:45:58.250834Z"
    },
    "papermill": {
     "duration": 0.077316,
     "end_time": "2022-12-15T13:45:58.254446",
     "exception": false,
     "start_time": "2022-12-15T13:45:58.177130",
     "status": "completed"
    },
    "tags": []
   },
   "outputs": [],
   "source": [
    "outliers=[]\n",
    "\n",
    "for installs in op['Installs']:\n",
    "    if installs > upper_tail or installs < lower_tail:\n",
    "        outliers.append(installs)\n",
    "    else:\n",
    "        continue"
   ]
  },
  {
   "cell_type": "code",
   "execution_count": 107,
   "id": "b3cb1846",
   "metadata": {
    "execution": {
     "iopub.execute_input": "2022-12-15T13:45:58.380994Z",
     "iopub.status.busy": "2022-12-15T13:45:58.380596Z",
     "iopub.status.idle": "2022-12-15T13:45:58.387779Z",
     "shell.execute_reply": "2022-12-15T13:45:58.386441Z"
    },
    "papermill": {
     "duration": 0.074258,
     "end_time": "2022-12-15T13:45:58.391145",
     "exception": false,
     "start_time": "2022-12-15T13:45:58.316887",
     "status": "completed"
    },
    "tags": []
   },
   "outputs": [
    {
     "data": {
      "text/plain": [
       "2207"
      ]
     },
     "execution_count": 107,
     "metadata": {},
     "output_type": "execute_result"
    }
   ],
   "source": [
    "len(outliers)"
   ]
  },
  {
   "cell_type": "code",
   "execution_count": 108,
   "id": "dbe54fb1",
   "metadata": {
    "execution": {
     "iopub.execute_input": "2022-12-15T13:45:58.521312Z",
     "iopub.status.busy": "2022-12-15T13:45:58.520930Z",
     "iopub.status.idle": "2022-12-15T13:45:58.536982Z",
     "shell.execute_reply": "2022-12-15T13:45:58.535758Z"
    },
    "papermill": {
     "duration": 0.082738,
     "end_time": "2022-12-15T13:45:58.539507",
     "exception": false,
     "start_time": "2022-12-15T13:45:58.456769",
     "status": "completed"
    },
    "tags": []
   },
   "outputs": [],
   "source": [
    "### Replace Outliers with the median value\n",
    "\n",
    "for installs in op['Installs']:\n",
    "    if installs > upper_tail or installs < lower_tail:\n",
    "        op['Installs']=op['Installs'].replace(installs,np.median(op['Installs']))\n",
    "    else:\n",
    "        continue"
   ]
  },
  {
   "cell_type": "code",
   "execution_count": 109,
   "id": "b37d1442",
   "metadata": {
    "execution": {
     "iopub.execute_input": "2022-12-15T13:45:58.667160Z",
     "iopub.status.busy": "2022-12-15T13:45:58.666093Z",
     "iopub.status.idle": "2022-12-15T13:45:59.149851Z",
     "shell.execute_reply": "2022-12-15T13:45:59.148635Z"
    },
    "papermill": {
     "duration": 0.55046,
     "end_time": "2022-12-15T13:45:59.152276",
     "exception": false,
     "start_time": "2022-12-15T13:45:58.601816",
     "status": "completed"
    },
    "tags": []
   },
   "outputs": [
    {
     "data": {
      "text/plain": [
       "<AxesSubplot:xlabel='Installs', ylabel='Density'>"
      ]
     },
     "execution_count": 109,
     "metadata": {},
     "output_type": "execute_result"
    },
    {
     "data": {
      "image/png": "[encoded data removed]",
      "text/plain": [
       "<Figure size 432x288 with 1 Axes>"
      ]
     },
     "metadata": {
      "needs_background": "light"
     },
     "output_type": "display_data"
    }
   ],
   "source": [
    "sns.histplot(\n",
    "    op['Installs'], kde=True,\n",
    "    stat=\"density\", kde_kws=dict(cut=3),\n",
    "    alpha=.4, edgecolor=(1, 1, 1, .4),\n",
    ")"
   ]
  },
  {
   "cell_type": "code",
   "execution_count": 110,
   "id": "22c022a1",
   "metadata": {
    "execution": {
     "iopub.execute_input": "2022-12-15T13:45:59.280476Z",
     "iopub.status.busy": "2022-12-15T13:45:59.280053Z",
     "iopub.status.idle": "2022-12-15T13:45:59.470969Z",
     "shell.execute_reply": "2022-12-15T13:45:59.469726Z"
    },
    "papermill": {
     "duration": 0.257982,
     "end_time": "2022-12-15T13:45:59.473520",
     "exception": false,
     "start_time": "2022-12-15T13:45:59.215538",
     "status": "completed"
    },
    "tags": []
   },
   "outputs": [
    {
     "data": {
      "text/plain": [
       "<AxesSubplot:xlabel='Installs'>"
      ]
     },
     "execution_count": 110,
     "metadata": {},
     "output_type": "execute_result"
    },
    {
     "data": {
      "image/png": "[encoded data removed]",
      "text/plain": [
       "<Figure size 432x288 with 1 Axes>"
      ]
     },
     "metadata": {
      "needs_background": "light"
     },
     "output_type": "display_data"
    }
   ],
   "source": [
    "sns.boxplot(x=op['Installs'])"
   ]
  },
  {
   "cell_type": "markdown",
   "id": "5cd76b53",
   "metadata": {
    "papermill": {
     "duration": 0.063124,
     "end_time": "2022-12-15T13:45:59.600459",
     "exception": false,
     "start_time": "2022-12-15T13:45:59.537335",
     "status": "completed"
    },
    "tags": []
   },
   "source": [
    "### Outliers in Reviews"
   ]
  },
  {
   "cell_type": "code",
   "execution_count": 111,
   "id": "86b11583",
   "metadata": {
    "execution": {
     "iopub.execute_input": "2022-12-15T13:45:59.733434Z",
     "iopub.status.busy": "2022-12-15T13:45:59.732970Z",
     "iopub.status.idle": "2022-12-15T13:45:59.941590Z",
     "shell.execute_reply": "2022-12-15T13:45:59.940300Z"
    },
    "papermill": {
     "duration": 0.28042,
     "end_time": "2022-12-15T13:45:59.944148",
     "exception": false,
     "start_time": "2022-12-15T13:45:59.663728",
     "status": "completed"
    },
    "tags": []
   },
   "outputs": [
    {
     "data": {
      "text/plain": [
       "<AxesSubplot:xlabel='Reviews'>"
      ]
     },
     "execution_count": 111,
     "metadata": {},
     "output_type": "execute_result"
    },
    {
     "data": {
      "image/png": "[encoded data removed]",
      "text/plain": [
       "<Figure size 432x288 with 1 Axes>"
      ]
     },
     "metadata": {
      "needs_background": "light"
     },
     "output_type": "display_data"
    }
   ],
   "source": [
    "sns.boxplot(x=op['Reviews'])"
   ]
  },
  {
   "cell_type": "code",
   "execution_count": 112,
   "id": "68d63160",
   "metadata": {
    "execution": {
     "iopub.execute_input": "2022-12-15T13:46:00.084973Z",
     "iopub.status.busy": "2022-12-15T13:46:00.083490Z",
     "iopub.status.idle": "2022-12-15T13:46:00.094393Z",
     "shell.execute_reply": "2022-12-15T13:46:00.093420Z"
    },
    "papermill": {
     "duration": 0.085934,
     "end_time": "2022-12-15T13:46:00.096820",
     "exception": false,
     "start_time": "2022-12-15T13:46:00.010886",
     "status": "completed"
    },
    "tags": []
   },
   "outputs": [
    {
     "data": {
      "text/plain": [
       "(58, 14)"
      ]
     },
     "execution_count": 112,
     "metadata": {},
     "output_type": "execute_result"
    }
   ],
   "source": [
    "### After surfing on internet the suggested value of 1e7(10^7) as Threshold value.\n",
    "\n",
    "## data points that are > than 1e7 are outliers\n",
    "threshold=1e7\n",
    "op[op['Reviews']>threshold].shape"
   ]
  },
  {
   "cell_type": "markdown",
   "id": "35dd1dff",
   "metadata": {
    "papermill": {
     "duration": 0.063697,
     "end_time": "2022-12-15T13:46:00.224546",
     "exception": false,
     "start_time": "2022-12-15T13:46:00.160849",
     "status": "completed"
    },
    "tags": []
   },
   "source": [
    "#### Replacing Outliers with the Median.."
   ]
  },
  {
   "cell_type": "code",
   "execution_count": 113,
   "id": "d023ce8d",
   "metadata": {
    "execution": {
     "iopub.execute_input": "2022-12-15T13:46:00.358416Z",
     "iopub.status.busy": "2022-12-15T13:46:00.357753Z",
     "iopub.status.idle": "2022-12-15T13:46:00.364063Z",
     "shell.execute_reply": "2022-12-15T13:46:00.363229Z"
    },
    "papermill": {
     "duration": 0.079013,
     "end_time": "2022-12-15T13:46:00.367553",
     "exception": false,
     "start_time": "2022-12-15T13:46:00.288540",
     "status": "completed"
    },
    "tags": []
   },
   "outputs": [],
   "source": [
    "op['Reviews']=np.where(op['Reviews']>threshold,op['Reviews'].median(),op['Reviews'])"
   ]
  },
  {
   "cell_type": "code",
   "execution_count": 114,
   "id": "9e046c6d",
   "metadata": {
    "execution": {
     "iopub.execute_input": "2022-12-15T13:46:00.502113Z",
     "iopub.status.busy": "2022-12-15T13:46:00.501675Z",
     "iopub.status.idle": "2022-12-15T13:46:00.702650Z",
     "shell.execute_reply": "2022-12-15T13:46:00.701744Z"
    },
    "papermill": {
     "duration": 0.271488,
     "end_time": "2022-12-15T13:46:00.705132",
     "exception": false,
     "start_time": "2022-12-15T13:46:00.433644",
     "status": "completed"
    },
    "tags": []
   },
   "outputs": [
    {
     "data": {
      "text/plain": [
       "<AxesSubplot:xlabel='Reviews'>"
      ]
     },
     "execution_count": 114,
     "metadata": {},
     "output_type": "execute_result"
    },
    {
     "data": {
      "image/png": "[encoded data removed]",
      "text/plain": [
       "<Figure size 432x288 with 1 Axes>"
      ]
     },
     "metadata": {
      "needs_background": "light"
     },
     "output_type": "display_data"
    }
   ],
   "source": [
    "sns.boxplot(x=op['Reviews'])"
   ]
  },
  {
   "cell_type": "code",
   "execution_count": 115,
   "id": "0510a780",
   "metadata": {
    "execution": {
     "iopub.execute_input": "2022-12-15T13:46:00.835065Z",
     "iopub.status.busy": "2022-12-15T13:46:00.834369Z",
     "iopub.status.idle": "2022-12-15T13:46:01.197474Z",
     "shell.execute_reply": "2022-12-15T13:46:01.196207Z"
    },
    "papermill": {
     "duration": 0.43146,
     "end_time": "2022-12-15T13:46:01.199998",
     "exception": false,
     "start_time": "2022-12-15T13:46:00.768538",
     "status": "completed"
    },
    "tags": []
   },
   "outputs": [
    {
     "name": "stderr",
     "output_type": "stream",
     "text": [
      "/opt/conda/lib/python3.7/site-packages/seaborn/distributions.py:2619: FutureWarning:\n",
      "\n",
      "`distplot` is a deprecated function and will be removed in a future version. Please adapt your code to use either `displot` (a figure-level function with similar flexibility) or `histplot` (an axes-level function for histograms).\n",
      "\n"
     ]
    },
    {
     "data": {
      "text/plain": [
       "<AxesSubplot:xlabel='Reviews', ylabel='Density'>"
      ]
     },
     "execution_count": 115,
     "metadata": {},
     "output_type": "execute_result"
    },
    {
     "data": {
      "image/png": "[encoded data removed]",
      "text/plain": [
       "<Figure size 432x288 with 1 Axes>"
      ]
     },
     "metadata": {
      "needs_background": "light"
     },
     "output_type": "display_data"
    }
   ],
   "source": [
    "sns.distplot(op['Reviews'])"
   ]
  },
  {
   "cell_type": "markdown",
   "id": "d3ad98de",
   "metadata": {
    "papermill": {
     "duration": 0.065705,
     "end_time": "2022-12-15T13:46:01.328754",
     "exception": false,
     "start_time": "2022-12-15T13:46:01.263049",
     "status": "completed"
    },
    "tags": []
   },
   "source": [
    "##### Still lots of right skewness\n",
    "##### we can Log transformation to remove this positive skewness(high outliers)"
   ]
  },
  {
   "cell_type": "markdown",
   "id": "c12e326e",
   "metadata": {
    "papermill": {
     "duration": 0.084989,
     "end_time": "2022-12-15T13:46:01.485337",
     "exception": false,
     "start_time": "2022-12-15T13:46:01.400348",
     "status": "completed"
    },
    "tags": []
   },
   "source": [
    "### Applying Log Transformation"
   ]
  },
  {
   "cell_type": "code",
   "execution_count": 116,
   "id": "7503e4d3",
   "metadata": {
    "execution": {
     "iopub.execute_input": "2022-12-15T13:46:01.615070Z",
     "iopub.status.busy": "2022-12-15T13:46:01.614674Z",
     "iopub.status.idle": "2022-12-15T13:46:01.620775Z",
     "shell.execute_reply": "2022-12-15T13:46:01.619564Z"
    },
    "papermill": {
     "duration": 0.074373,
     "end_time": "2022-12-15T13:46:01.623140",
     "exception": false,
     "start_time": "2022-12-15T13:46:01.548767",
     "status": "completed"
    },
    "tags": []
   },
   "outputs": [],
   "source": [
    "op['Reviews']=np.log1p(op['Reviews']) \n",
    "# log1p will not perform on 0 values."
   ]
  },
  {
   "cell_type": "code",
   "execution_count": 117,
   "id": "80a524af",
   "metadata": {
    "execution": {
     "iopub.execute_input": "2022-12-15T13:46:01.753973Z",
     "iopub.status.busy": "2022-12-15T13:46:01.753275Z",
     "iopub.status.idle": "2022-12-15T13:46:02.048307Z",
     "shell.execute_reply": "2022-12-15T13:46:02.047418Z"
    },
    "papermill": {
     "duration": 0.363531,
     "end_time": "2022-12-15T13:46:02.050726",
     "exception": false,
     "start_time": "2022-12-15T13:46:01.687195",
     "status": "completed"
    },
    "tags": []
   },
   "outputs": [
    {
     "data": {
      "text/plain": [
       "<AxesSubplot:xlabel='Reviews', ylabel='Density'>"
      ]
     },
     "execution_count": 117,
     "metadata": {},
     "output_type": "execute_result"
    },
    {
     "data": {
      "image/png": "[encoded data removed]",
      "text/plain": [
       "<Figure size 432x288 with 1 Axes>"
      ]
     },
     "metadata": {
      "needs_background": "light"
     },
     "output_type": "display_data"
    }
   ],
   "source": [
    "sns.histplot(\n",
    "    op['Reviews'], kde=True,\n",
    "    stat=\"density\", kde_kws=dict(cut=3),\n",
    "    alpha=.4, edgecolor=(1, 1, 1, .4),\n",
    ")\n",
    "\n",
    "## now it is approximately close to Normal Distribution.."
   ]
  },
  {
   "cell_type": "markdown",
   "id": "97de683b",
   "metadata": {
    "papermill": {
     "duration": 0.064065,
     "end_time": "2022-12-15T13:46:02.181525",
     "exception": false,
     "start_time": "2022-12-15T13:46:02.117460",
     "status": "completed"
    },
    "tags": []
   },
   "source": [
    "### lets fill out missing values first in Rating"
   ]
  },
  {
   "cell_type": "code",
   "execution_count": 118,
   "id": "4684a4de",
   "metadata": {
    "execution": {
     "iopub.execute_input": "2022-12-15T13:46:02.314588Z",
     "iopub.status.busy": "2022-12-15T13:46:02.313923Z",
     "iopub.status.idle": "2022-12-15T13:46:02.321941Z",
     "shell.execute_reply": "2022-12-15T13:46:02.320823Z"
    },
    "papermill": {
     "duration": 0.078217,
     "end_time": "2022-12-15T13:46:02.324174",
     "exception": false,
     "start_time": "2022-12-15T13:46:02.245957",
     "status": "completed"
    },
    "tags": []
   },
   "outputs": [
    {
     "data": {
      "text/plain": [
       "1396"
      ]
     },
     "execution_count": 118,
     "metadata": {},
     "output_type": "execute_result"
    }
   ],
   "source": [
    "op['Rating'].isnull().sum()"
   ]
  },
  {
   "cell_type": "code",
   "execution_count": 119,
   "id": "ed70ac29",
   "metadata": {
    "execution": {
     "iopub.execute_input": "2022-12-15T13:46:02.457000Z",
     "iopub.status.busy": "2022-12-15T13:46:02.456328Z",
     "iopub.status.idle": "2022-12-15T13:46:02.708428Z",
     "shell.execute_reply": "2022-12-15T13:46:02.707110Z"
    },
    "papermill": {
     "duration": 0.321697,
     "end_time": "2022-12-15T13:46:02.711040",
     "exception": false,
     "start_time": "2022-12-15T13:46:02.389343",
     "status": "completed"
    },
    "tags": []
   },
   "outputs": [
    {
     "data": {
      "text/plain": [
       "<AxesSubplot:xlabel='Content Rating', ylabel='Rating'>"
      ]
     },
     "execution_count": 119,
     "metadata": {},
     "output_type": "execute_result"
    },
    {
     "data": {
      "image/png": "[encoded data removed]",
      "text/plain": [
       "<Figure size 432x288 with 1 Axes>"
      ]
     },
     "metadata": {
      "needs_background": "light"
     },
     "output_type": "display_data"
    }
   ],
   "source": [
    "sns.boxplot(x='Content Rating',y='Rating',data=op)"
   ]
  },
  {
   "cell_type": "markdown",
   "id": "7f4fcf7f",
   "metadata": {
    "papermill": {
     "duration": 0.066678,
     "end_time": "2022-12-15T13:46:02.843182",
     "exception": false,
     "start_time": "2022-12-15T13:46:02.776504",
     "status": "completed"
    },
    "tags": []
   },
   "source": [
    "\n",
    "##### we can visualise in box plot that,for class Everyone,avg rating is somewhere around 4.3,\n",
    "##### for Teen,it is around approx 4.3, \n",
    "##### but we will not that much accurate results , to get accurate we will use groupby on Content Rating.."
   ]
  },
  {
   "cell_type": "code",
   "execution_count": 120,
   "id": "cc739e38",
   "metadata": {
    "execution": {
     "iopub.execute_input": "2022-12-15T13:46:02.987135Z",
     "iopub.status.busy": "2022-12-15T13:46:02.986701Z",
     "iopub.status.idle": "2022-12-15T13:46:02.999666Z",
     "shell.execute_reply": "2022-12-15T13:46:02.998744Z"
    },
    "papermill": {
     "duration": 0.090323,
     "end_time": "2022-12-15T13:46:03.002264",
     "exception": false,
     "start_time": "2022-12-15T13:46:02.911941",
     "status": "completed"
    },
    "tags": []
   },
   "outputs": [
    {
     "data": {
      "text/plain": [
       "Content Rating\n",
       "Adults only 18+    4.5\n",
       "Everyone           4.3\n",
       "Everyone 10+       4.3\n",
       "Mature 17+         4.2\n",
       "Teen               4.3\n",
       "Unrated            4.1\n",
       "Name: Rating, dtype: float64"
      ]
     },
     "execution_count": 120,
     "metadata": {},
     "output_type": "execute_result"
    }
   ],
   "source": [
    "op.groupby('Content Rating')['Rating'].median()"
   ]
  },
  {
   "cell_type": "code",
   "execution_count": 121,
   "id": "02775b2d",
   "metadata": {
    "execution": {
     "iopub.execute_input": "2022-12-15T13:46:03.144048Z",
     "iopub.status.busy": "2022-12-15T13:46:03.143608Z",
     "iopub.status.idle": "2022-12-15T13:46:03.156642Z",
     "shell.execute_reply": "2022-12-15T13:46:03.155440Z"
    },
    "papermill": {
     "duration": 0.08751,
     "end_time": "2022-12-15T13:46:03.159301",
     "exception": false,
     "start_time": "2022-12-15T13:46:03.071791",
     "status": "completed"
    },
    "tags": []
   },
   "outputs": [
    {
     "data": {
      "text/plain": [
       "Content Rating\n",
       "Adults only 18+    4.300000\n",
       "Everyone           4.178822\n",
       "Everyone 10+       4.213910\n",
       "Mature 17+         4.103448\n",
       "Teen               4.212376\n",
       "Unrated            4.100000\n",
       "Name: Rating, dtype: float64"
      ]
     },
     "execution_count": 121,
     "metadata": {},
     "output_type": "execute_result"
    }
   ],
   "source": [
    "op.groupby('Content Rating')['Rating'].mean()"
   ]
  },
  {
   "cell_type": "code",
   "execution_count": 122,
   "id": "8e5ccf75",
   "metadata": {
    "execution": {
     "iopub.execute_input": "2022-12-15T13:46:03.301380Z",
     "iopub.status.busy": "2022-12-15T13:46:03.300922Z",
     "iopub.status.idle": "2022-12-15T13:46:03.309107Z",
     "shell.execute_reply": "2022-12-15T13:46:03.307922Z"
    },
    "papermill": {
     "duration": 0.085724,
     "end_time": "2022-12-15T13:46:03.312239",
     "exception": false,
     "start_time": "2022-12-15T13:46:03.226515",
     "status": "completed"
    },
    "tags": []
   },
   "outputs": [],
   "source": [
    "#create a func where we r giving rating & content rating col in a list(cols)\n",
    "\n",
    "def impute_Rating(cols):\n",
    "    \n",
    "    #first col is rating,2nd col is basically content rating..\n",
    "    Rating=cols[0]\n",
    "    Content_rating=cols[1]\n",
    "    \n",
    "    #ie if there is a null value in a col\n",
    "    if pd.isnull(Rating):\n",
    "        if Content_rating=='Adults only 18+':\n",
    "            return 4.3\n",
    "        elif Content_rating=='Everyone':\n",
    "            return 4.17\n",
    "        elif Content_rating=='Everyone 10+':\n",
    "            return 4.21\n",
    "        elif Content_rating=='Mature 17+':\n",
    "            return 4.10\n",
    "        elif Content_rating=='Teen':\n",
    "            return 4.21\n",
    "        else:\n",
    "            return 4.10\n",
    "        \n",
    "    #when not null we basically return rating value     \n",
    "    else:\n",
    "        return Rating"
   ]
  },
  {
   "cell_type": "code",
   "execution_count": 123,
   "id": "cdfc3930",
   "metadata": {
    "execution": {
     "iopub.execute_input": "2022-12-15T13:46:03.450494Z",
     "iopub.status.busy": "2022-12-15T13:46:03.450039Z",
     "iopub.status.idle": "2022-12-15T13:46:03.581165Z",
     "shell.execute_reply": "2022-12-15T13:46:03.579688Z"
    },
    "papermill": {
     "duration": 0.202901,
     "end_time": "2022-12-15T13:46:03.585002",
     "exception": false,
     "start_time": "2022-12-15T13:46:03.382101",
     "status": "completed"
    },
    "tags": []
   },
   "outputs": [],
   "source": [
    "#apply func\n",
    "op['Rating']=op[['Rating','Content Rating']].apply(impute_Rating,axis=1)"
   ]
  },
  {
   "cell_type": "code",
   "execution_count": 124,
   "id": "52977d38",
   "metadata": {
    "execution": {
     "iopub.execute_input": "2022-12-15T13:46:03.734758Z",
     "iopub.status.busy": "2022-12-15T13:46:03.734314Z",
     "iopub.status.idle": "2022-12-15T13:46:03.743648Z",
     "shell.execute_reply": "2022-12-15T13:46:03.741990Z"
    },
    "papermill": {
     "duration": 0.087213,
     "end_time": "2022-12-15T13:46:03.746419",
     "exception": false,
     "start_time": "2022-12-15T13:46:03.659206",
     "status": "completed"
    },
    "tags": []
   },
   "outputs": [
    {
     "data": {
      "text/plain": [
       "0"
      ]
     },
     "execution_count": 124,
     "metadata": {},
     "output_type": "execute_result"
    }
   ],
   "source": [
    "op['Rating'].isnull().sum()"
   ]
  },
  {
   "cell_type": "code",
   "execution_count": 125,
   "id": "a92e19fc",
   "metadata": {
    "execution": {
     "iopub.execute_input": "2022-12-15T13:46:03.882568Z",
     "iopub.status.busy": "2022-12-15T13:46:03.882161Z",
     "iopub.status.idle": "2022-12-15T13:46:04.117304Z",
     "shell.execute_reply": "2022-12-15T13:46:04.115867Z"
    },
    "papermill": {
     "duration": 0.307674,
     "end_time": "2022-12-15T13:46:04.121261",
     "exception": false,
     "start_time": "2022-12-15T13:46:03.813587",
     "status": "completed"
    },
    "tags": []
   },
   "outputs": [
    {
     "data": {
      "text/plain": [
       "<AxesSubplot:>"
      ]
     },
     "execution_count": 125,
     "metadata": {},
     "output_type": "execute_result"
    },
    {
     "data": {
      "image/png": "[encoded data removed]",
      "text/plain": [
       "<Figure size 432x288 with 1 Axes>"
      ]
     },
     "metadata": {
      "needs_background": "light"
     },
     "output_type": "display_data"
    }
   ],
   "source": [
    "op['Rating'].hist()"
   ]
  },
  {
   "cell_type": "markdown",
   "id": "2a07a18f",
   "metadata": {
    "papermill": {
     "duration": 0.068933,
     "end_time": "2022-12-15T13:46:04.262976",
     "exception": false,
     "start_time": "2022-12-15T13:46:04.194043",
     "status": "completed"
    },
    "tags": []
   },
   "source": [
    "##### As our Dependent feature count is varying alot  , as it is not a Normally distributed data  , as count of 4.1 is too high so if we will build a model considering this Rating feature ,our model accuracy gets fluctauted alot\n",
    "\n",
    "##### So we will do some manipulations on Rating & convert it into Discrete nature.."
   ]
  },
  {
   "cell_type": "code",
   "execution_count": 126,
   "id": "80ec8764",
   "metadata": {
    "execution": {
     "iopub.execute_input": "2022-12-15T13:46:04.414297Z",
     "iopub.status.busy": "2022-12-15T13:46:04.413085Z",
     "iopub.status.idle": "2022-12-15T13:46:04.421125Z",
     "shell.execute_reply": "2022-12-15T13:46:04.419545Z"
    },
    "papermill": {
     "duration": 0.084465,
     "end_time": "2022-12-15T13:46:04.424108",
     "exception": false,
     "start_time": "2022-12-15T13:46:04.339643",
     "status": "completed"
    },
    "tags": []
   },
   "outputs": [],
   "source": [
    "def convert(x):\n",
    "    if x>0.0 and x<=1.5:\n",
    "        return 1\n",
    "    elif x>1.5 and x<=2.5:\n",
    "        return 2\n",
    "    elif x>2.5 and x<=3.5:\n",
    "        return 3\n",
    "    elif x>3.5 and x<=4.5:\n",
    "        return 4\n",
    "    else:\n",
    "        return 5\n",
    "    "
   ]
  },
  {
   "cell_type": "code",
   "execution_count": 127,
   "id": "95ff56da",
   "metadata": {
    "execution": {
     "iopub.execute_input": "2022-12-15T13:46:04.572793Z",
     "iopub.status.busy": "2022-12-15T13:46:04.572310Z",
     "iopub.status.idle": "2022-12-15T13:46:04.585815Z",
     "shell.execute_reply": "2022-12-15T13:46:04.584542Z"
    },
    "papermill": {
     "duration": 0.090818,
     "end_time": "2022-12-15T13:46:04.588736",
     "exception": false,
     "start_time": "2022-12-15T13:46:04.497918",
     "status": "completed"
    },
    "tags": []
   },
   "outputs": [],
   "source": [
    "op['Rating']=op['Rating'].apply(convert)"
   ]
  },
  {
   "cell_type": "code",
   "execution_count": 128,
   "id": "61afe979",
   "metadata": {
    "execution": {
     "iopub.execute_input": "2022-12-15T13:46:04.747826Z",
     "iopub.status.busy": "2022-12-15T13:46:04.747016Z",
     "iopub.status.idle": "2022-12-15T13:46:04.767884Z",
     "shell.execute_reply": "2022-12-15T13:46:04.766060Z"
    },
    "papermill": {
     "duration": 0.104236,
     "end_time": "2022-12-15T13:46:04.770482",
     "exception": false,
     "start_time": "2022-12-15T13:46:04.666246",
     "status": "completed"
    },
    "tags": []
   },
   "outputs": [
    {
     "data": {
      "text/html": [
       "<div>\n",
       "<style scoped>\n",
       "    .dataframe tbody tr th:only-of-type {\n",
       "        vertical-align: middle;\n",
       "    }\n",
       "\n",
       "    .dataframe tbody tr th {\n",
       "        vertical-align: top;\n",
       "    }\n",
       "\n",
       "    .dataframe thead th {\n",
       "        text-align: right;\n",
       "    }\n",
       "</style>\n",
       "<table border=\"1\" class=\"dataframe\">\n",
       "  <thead>\n",
       "    <tr style=\"text-align: right;\">\n",
       "      <th></th>\n",
       "      <th>App</th>\n",
       "      <th>Category</th>\n",
       "      <th>Rating</th>\n",
       "      <th>Reviews</th>\n",
       "      <th>Size</th>\n",
       "      <th>Installs</th>\n",
       "      <th>Type</th>\n",
       "      <th>Content Rating</th>\n",
       "      <th>Genres</th>\n",
       "      <th>Last Updated</th>\n",
       "      <th>Current Ver</th>\n",
       "      <th>Android Ver</th>\n",
       "      <th>year_updated</th>\n",
       "      <th>month_updated</th>\n",
       "    </tr>\n",
       "  </thead>\n",
       "  <tbody>\n",
       "    <tr>\n",
       "      <th>0</th>\n",
       "      <td>Photo Editor &amp; Candy Camera &amp; Grid &amp; ScrapBook</td>\n",
       "      <td>ART_AND_DESIGN</td>\n",
       "      <td>4</td>\n",
       "      <td>5.075174</td>\n",
       "      <td>19.0</td>\n",
       "      <td>10000</td>\n",
       "      <td>Free</td>\n",
       "      <td>Everyone</td>\n",
       "      <td>Art &amp; Design</td>\n",
       "      <td>2018-01-07</td>\n",
       "      <td>1.0.0</td>\n",
       "      <td>4.0.3 and up</td>\n",
       "      <td>2018</td>\n",
       "      <td>1</td>\n",
       "    </tr>\n",
       "    <tr>\n",
       "      <th>1</th>\n",
       "      <td>Coloring book moana</td>\n",
       "      <td>ART_AND_DESIGN</td>\n",
       "      <td>4</td>\n",
       "      <td>6.875232</td>\n",
       "      <td>14.0</td>\n",
       "      <td>500000</td>\n",
       "      <td>Free</td>\n",
       "      <td>Everyone</td>\n",
       "      <td>Art &amp; Design;Pretend Play</td>\n",
       "      <td>2018-01-15</td>\n",
       "      <td>2.0.0</td>\n",
       "      <td>4.0.3 and up</td>\n",
       "      <td>2018</td>\n",
       "      <td>1</td>\n",
       "    </tr>\n",
       "  </tbody>\n",
       "</table>\n",
       "</div>"
      ],
      "text/plain": [
       "                                              App        Category  Rating  \\\n",
       "0  Photo Editor & Candy Camera & Grid & ScrapBook  ART_AND_DESIGN       4   \n",
       "1                             Coloring book moana  ART_AND_DESIGN       4   \n",
       "\n",
       "    Reviews  Size  Installs  Type Content Rating                     Genres  \\\n",
       "0  5.075174  19.0     10000  Free       Everyone               Art & Design   \n",
       "1  6.875232  14.0    500000  Free       Everyone  Art & Design;Pretend Play   \n",
       "\n",
       "  Last Updated Current Ver   Android Ver  year_updated  month_updated  \n",
       "0   2018-01-07       1.0.0  4.0.3 and up          2018              1  \n",
       "1   2018-01-15       2.0.0  4.0.3 and up          2018              1  "
      ]
     },
     "execution_count": 128,
     "metadata": {},
     "output_type": "execute_result"
    }
   ],
   "source": [
    "op.head(2)"
   ]
  },
  {
   "cell_type": "code",
   "execution_count": 129,
   "id": "ac9d4763",
   "metadata": {
    "execution": {
     "iopub.execute_input": "2022-12-15T13:46:04.922618Z",
     "iopub.status.busy": "2022-12-15T13:46:04.921881Z",
     "iopub.status.idle": "2022-12-15T13:46:05.289950Z",
     "shell.execute_reply": "2022-12-15T13:46:05.288363Z"
    },
    "papermill": {
     "duration": 0.446871,
     "end_time": "2022-12-15T13:46:05.292636",
     "exception": false,
     "start_time": "2022-12-15T13:46:04.845765",
     "status": "completed"
    },
    "tags": []
   },
   "outputs": [
    {
     "data": {
      "text/plain": [
       "<AxesSubplot:xlabel='Rating', ylabel='count'>"
      ]
     },
     "execution_count": 129,
     "metadata": {},
     "output_type": "execute_result"
    },
    {
     "data": {
      "image/png": "[encoded data removed]",
      "text/plain": [
       "<Figure size 432x288 with 1 Axes>"
      ]
     },
     "metadata": {
      "needs_background": "light"
     },
     "output_type": "display_data"
    }
   ],
   "source": [
    "sns.countplot(x=op['Rating'])"
   ]
  },
  {
   "cell_type": "code",
   "execution_count": 130,
   "id": "57f6c291",
   "metadata": {
    "execution": {
     "iopub.execute_input": "2022-12-15T13:46:05.461445Z",
     "iopub.status.busy": "2022-12-15T13:46:05.460995Z",
     "iopub.status.idle": "2022-12-15T13:46:05.468618Z",
     "shell.execute_reply": "2022-12-15T13:46:05.467469Z"
    },
    "papermill": {
     "duration": 0.091659,
     "end_time": "2022-12-15T13:46:05.471872",
     "exception": false,
     "start_time": "2022-12-15T13:46:05.380213",
     "status": "completed"
    },
    "tags": []
   },
   "outputs": [],
   "source": [
    "final=op.copy()"
   ]
  },
  {
   "cell_type": "markdown",
   "id": "4fec8567",
   "metadata": {
    "papermill": {
     "duration": 0.077638,
     "end_time": "2022-12-15T13:46:05.627941",
     "exception": false,
     "start_time": "2022-12-15T13:46:05.550303",
     "status": "completed"
    },
    "tags": []
   },
   "source": [
    "## Feature Encoding"
   ]
  },
  {
   "cell_type": "markdown",
   "id": "3796bd69",
   "metadata": {
    "papermill": {
     "duration": 0.080347,
     "end_time": "2022-12-15T13:46:05.787134",
     "exception": false,
     "start_time": "2022-12-15T13:46:05.706787",
     "status": "completed"
    },
    "tags": []
   },
   "source": [
    "### Perform Mean Encoding on Cateogry"
   ]
  },
  {
   "cell_type": "code",
   "execution_count": 131,
   "id": "4e8cae04",
   "metadata": {
    "execution": {
     "iopub.execute_input": "2022-12-15T13:46:05.940594Z",
     "iopub.status.busy": "2022-12-15T13:46:05.940149Z",
     "iopub.status.idle": "2022-12-15T13:46:05.949898Z",
     "shell.execute_reply": "2022-12-15T13:46:05.947745Z"
    },
    "papermill": {
     "duration": 0.088196,
     "end_time": "2022-12-15T13:46:05.953394",
     "exception": false,
     "start_time": "2022-12-15T13:46:05.865198",
     "status": "completed"
    },
    "tags": []
   },
   "outputs": [],
   "source": [
    "mean_ordinal=final.groupby('Category')['Rating'].mean().to_dict()"
   ]
  },
  {
   "cell_type": "code",
   "execution_count": 132,
   "id": "171b1a06",
   "metadata": {
    "execution": {
     "iopub.execute_input": "2022-12-15T13:46:06.106139Z",
     "iopub.status.busy": "2022-12-15T13:46:06.105730Z",
     "iopub.status.idle": "2022-12-15T13:46:06.116122Z",
     "shell.execute_reply": "2022-12-15T13:46:06.114378Z"
    },
    "papermill": {
     "duration": 0.089216,
     "end_time": "2022-12-15T13:46:06.119468",
     "exception": false,
     "start_time": "2022-12-15T13:46:06.030252",
     "status": "completed"
    },
    "tags": []
   },
   "outputs": [],
   "source": [
    "final['Category']=final['Category'].map(mean_ordinal)"
   ]
  },
  {
   "cell_type": "code",
   "execution_count": 133,
   "id": "b41ccf1d",
   "metadata": {
    "execution": {
     "iopub.execute_input": "2022-12-15T13:46:06.272329Z",
     "iopub.status.busy": "2022-12-15T13:46:06.270067Z",
     "iopub.status.idle": "2022-12-15T13:46:06.282597Z",
     "shell.execute_reply": "2022-12-15T13:46:06.280938Z"
    },
    "papermill": {
     "duration": 0.092208,
     "end_time": "2022-12-15T13:46:06.285494",
     "exception": false,
     "start_time": "2022-12-15T13:46:06.193286",
     "status": "completed"
    },
    "tags": []
   },
   "outputs": [
    {
     "data": {
      "text/plain": [
       "0       4.307692\n",
       "1       4.307692\n",
       "2       4.307692\n",
       "3       4.307692\n",
       "4       4.307692\n",
       "          ...   \n",
       "9315    4.076294\n",
       "9316    4.176471\n",
       "9317    4.139752\n",
       "9318    4.076294\n",
       "9319    4.076294\n",
       "Name: Category, Length: 9320, dtype: float64"
      ]
     },
     "execution_count": 133,
     "metadata": {},
     "output_type": "execute_result"
    }
   ],
   "source": [
    "final['Category']"
   ]
  },
  {
   "cell_type": "code",
   "execution_count": 134,
   "id": "e76ed2d6",
   "metadata": {
    "execution": {
     "iopub.execute_input": "2022-12-15T13:46:06.429508Z",
     "iopub.status.busy": "2022-12-15T13:46:06.428967Z",
     "iopub.status.idle": "2022-12-15T13:46:06.451980Z",
     "shell.execute_reply": "2022-12-15T13:46:06.450112Z"
    },
    "papermill": {
     "duration": 0.09845,
     "end_time": "2022-12-15T13:46:06.454821",
     "exception": false,
     "start_time": "2022-12-15T13:46:06.356371",
     "status": "completed"
    },
    "tags": []
   },
   "outputs": [
    {
     "data": {
      "text/html": [
       "<div>\n",
       "<style scoped>\n",
       "    .dataframe tbody tr th:only-of-type {\n",
       "        vertical-align: middle;\n",
       "    }\n",
       "\n",
       "    .dataframe tbody tr th {\n",
       "        vertical-align: top;\n",
       "    }\n",
       "\n",
       "    .dataframe thead th {\n",
       "        text-align: right;\n",
       "    }\n",
       "</style>\n",
       "<table border=\"1\" class=\"dataframe\">\n",
       "  <thead>\n",
       "    <tr style=\"text-align: right;\">\n",
       "      <th></th>\n",
       "      <th>App</th>\n",
       "      <th>Category</th>\n",
       "      <th>Rating</th>\n",
       "      <th>Reviews</th>\n",
       "      <th>Size</th>\n",
       "      <th>Installs</th>\n",
       "      <th>Type</th>\n",
       "      <th>Content Rating</th>\n",
       "      <th>Genres</th>\n",
       "      <th>Last Updated</th>\n",
       "      <th>Current Ver</th>\n",
       "      <th>Android Ver</th>\n",
       "      <th>year_updated</th>\n",
       "      <th>month_updated</th>\n",
       "    </tr>\n",
       "  </thead>\n",
       "  <tbody>\n",
       "    <tr>\n",
       "      <th>0</th>\n",
       "      <td>Photo Editor &amp; Candy Camera &amp; Grid &amp; ScrapBook</td>\n",
       "      <td>4.307692</td>\n",
       "      <td>4</td>\n",
       "      <td>5.075174</td>\n",
       "      <td>19.0</td>\n",
       "      <td>10000</td>\n",
       "      <td>Free</td>\n",
       "      <td>Everyone</td>\n",
       "      <td>Art &amp; Design</td>\n",
       "      <td>2018-01-07</td>\n",
       "      <td>1.0.0</td>\n",
       "      <td>4.0.3 and up</td>\n",
       "      <td>2018</td>\n",
       "      <td>1</td>\n",
       "    </tr>\n",
       "    <tr>\n",
       "      <th>1</th>\n",
       "      <td>Coloring book moana</td>\n",
       "      <td>4.307692</td>\n",
       "      <td>4</td>\n",
       "      <td>6.875232</td>\n",
       "      <td>14.0</td>\n",
       "      <td>500000</td>\n",
       "      <td>Free</td>\n",
       "      <td>Everyone</td>\n",
       "      <td>Art &amp; Design;Pretend Play</td>\n",
       "      <td>2018-01-15</td>\n",
       "      <td>2.0.0</td>\n",
       "      <td>4.0.3 and up</td>\n",
       "      <td>2018</td>\n",
       "      <td>1</td>\n",
       "    </tr>\n",
       "    <tr>\n",
       "      <th>2</th>\n",
       "      <td>U Launcher Lite – FREE Live Cool Themes, Hide ...</td>\n",
       "      <td>4.307692</td>\n",
       "      <td>5</td>\n",
       "      <td>11.379520</td>\n",
       "      <td>8.7</td>\n",
       "      <td>100000</td>\n",
       "      <td>Free</td>\n",
       "      <td>Everyone</td>\n",
       "      <td>Art &amp; Design</td>\n",
       "      <td>2018-08-01</td>\n",
       "      <td>1.2.4</td>\n",
       "      <td>4.0.3 and up</td>\n",
       "      <td>2018</td>\n",
       "      <td>8</td>\n",
       "    </tr>\n",
       "    <tr>\n",
       "      <th>3</th>\n",
       "      <td>Sketch - Draw &amp; Paint</td>\n",
       "      <td>4.307692</td>\n",
       "      <td>4</td>\n",
       "      <td>12.281389</td>\n",
       "      <td>25.0</td>\n",
       "      <td>100000</td>\n",
       "      <td>Free</td>\n",
       "      <td>Teen</td>\n",
       "      <td>Art &amp; Design</td>\n",
       "      <td>2018-06-08</td>\n",
       "      <td>Varies with device</td>\n",
       "      <td>4.2 and up</td>\n",
       "      <td>2018</td>\n",
       "      <td>6</td>\n",
       "    </tr>\n",
       "    <tr>\n",
       "      <th>4</th>\n",
       "      <td>Pixel Draw - Number Art Coloring Book</td>\n",
       "      <td>4.307692</td>\n",
       "      <td>4</td>\n",
       "      <td>6.875232</td>\n",
       "      <td>2.8</td>\n",
       "      <td>100000</td>\n",
       "      <td>Free</td>\n",
       "      <td>Everyone</td>\n",
       "      <td>Art &amp; Design;Creativity</td>\n",
       "      <td>2018-06-20</td>\n",
       "      <td>1.1</td>\n",
       "      <td>4.4 and up</td>\n",
       "      <td>2018</td>\n",
       "      <td>6</td>\n",
       "    </tr>\n",
       "  </tbody>\n",
       "</table>\n",
       "</div>"
      ],
      "text/plain": [
       "                                                 App  Category  Rating  \\\n",
       "0     Photo Editor & Candy Camera & Grid & ScrapBook  4.307692       4   \n",
       "1                                Coloring book moana  4.307692       4   \n",
       "2  U Launcher Lite – FREE Live Cool Themes, Hide ...  4.307692       5   \n",
       "3                              Sketch - Draw & Paint  4.307692       4   \n",
       "4              Pixel Draw - Number Art Coloring Book  4.307692       4   \n",
       "\n",
       "     Reviews  Size  Installs  Type Content Rating                     Genres  \\\n",
       "0   5.075174  19.0     10000  Free       Everyone               Art & Design   \n",
       "1   6.875232  14.0    500000  Free       Everyone  Art & Design;Pretend Play   \n",
       "2  11.379520   8.7    100000  Free       Everyone               Art & Design   \n",
       "3  12.281389  25.0    100000  Free           Teen               Art & Design   \n",
       "4   6.875232   2.8    100000  Free       Everyone    Art & Design;Creativity   \n",
       "\n",
       "  Last Updated         Current Ver   Android Ver  year_updated  month_updated  \n",
       "0   2018-01-07               1.0.0  4.0.3 and up          2018              1  \n",
       "1   2018-01-15               2.0.0  4.0.3 and up          2018              1  \n",
       "2   2018-08-01               1.2.4  4.0.3 and up          2018              8  \n",
       "3   2018-06-08  Varies with device    4.2 and up          2018              6  \n",
       "4   2018-06-20                 1.1    4.4 and up          2018              6  "
      ]
     },
     "execution_count": 134,
     "metadata": {},
     "output_type": "execute_result"
    }
   ],
   "source": [
    "final.head(5)"
   ]
  },
  {
   "cell_type": "markdown",
   "id": "c7256b35",
   "metadata": {
    "papermill": {
     "duration": 0.074037,
     "end_time": "2022-12-15T13:46:06.606613",
     "exception": false,
     "start_time": "2022-12-15T13:46:06.532576",
     "status": "completed"
    },
    "tags": []
   },
   "source": [
    "### Applying Target Guided Mean encoding On Content_Rating"
   ]
  },
  {
   "cell_type": "code",
   "execution_count": 135,
   "id": "7c23dfa3",
   "metadata": {
    "execution": {
     "iopub.execute_input": "2022-12-15T13:46:06.757733Z",
     "iopub.status.busy": "2022-12-15T13:46:06.756888Z",
     "iopub.status.idle": "2022-12-15T13:46:06.767411Z",
     "shell.execute_reply": "2022-12-15T13:46:06.766064Z"
    },
    "papermill": {
     "duration": 0.089242,
     "end_time": "2022-12-15T13:46:06.771372",
     "exception": false,
     "start_time": "2022-12-15T13:46:06.682130",
     "status": "completed"
    },
    "tags": []
   },
   "outputs": [
    {
     "data": {
      "text/plain": [
       "array(['Everyone', 'Teen', 'Everyone 10+', 'Mature 17+',\n",
       "       'Adults only 18+', 'Unrated'], dtype=object)"
      ]
     },
     "execution_count": 135,
     "metadata": {},
     "output_type": "execute_result"
    }
   ],
   "source": [
    "final['Content Rating'].unique()"
   ]
  },
  {
   "cell_type": "code",
   "execution_count": 136,
   "id": "6cf884c7",
   "metadata": {
    "execution": {
     "iopub.execute_input": "2022-12-15T13:46:06.940210Z",
     "iopub.status.busy": "2022-12-15T13:46:06.939385Z",
     "iopub.status.idle": "2022-12-15T13:46:06.951934Z",
     "shell.execute_reply": "2022-12-15T13:46:06.949319Z"
    },
    "papermill": {
     "duration": 0.093819,
     "end_time": "2022-12-15T13:46:06.955534",
     "exception": false,
     "start_time": "2022-12-15T13:46:06.861715",
     "status": "completed"
    },
    "tags": []
   },
   "outputs": [
    {
     "data": {
      "text/plain": [
       "Index(['Unrated', 'Mature 17+', 'Everyone', 'Everyone 10+', 'Teen',\n",
       "       'Adults only 18+'],\n",
       "      dtype='object', name='Content Rating')"
      ]
     },
     "execution_count": 136,
     "metadata": {},
     "output_type": "execute_result"
    }
   ],
   "source": [
    "ordinal_labels=final.groupby('Content Rating')['Rating'].mean().sort_values().index\n",
    "ordinal_labels"
   ]
  },
  {
   "cell_type": "markdown",
   "id": "816f00d6",
   "metadata": {
    "papermill": {
     "duration": 0.072247,
     "end_time": "2022-12-15T13:46:07.099048",
     "exception": false,
     "start_time": "2022-12-15T13:46:07.026801",
     "status": "completed"
    },
    "tags": []
   },
   "source": [
    "### Now we have to convert this List into dictionary so that we can directly map it"
   ]
  },
  {
   "cell_type": "code",
   "execution_count": 137,
   "id": "2e0c90d9",
   "metadata": {
    "execution": {
     "iopub.execute_input": "2022-12-15T13:46:07.244172Z",
     "iopub.status.busy": "2022-12-15T13:46:07.243445Z",
     "iopub.status.idle": "2022-12-15T13:46:07.251644Z",
     "shell.execute_reply": "2022-12-15T13:46:07.250538Z"
    },
    "papermill": {
     "duration": 0.085808,
     "end_time": "2022-12-15T13:46:07.254700",
     "exception": false,
     "start_time": "2022-12-15T13:46:07.168892",
     "status": "completed"
    },
    "tags": []
   },
   "outputs": [
    {
     "data": {
      "text/plain": [
       "{'Unrated': 0,\n",
       " 'Mature 17+': 1,\n",
       " 'Everyone': 2,\n",
       " 'Everyone 10+': 3,\n",
       " 'Teen': 4,\n",
       " 'Adults only 18+': 5}"
      ]
     },
     "execution_count": 137,
     "metadata": {},
     "output_type": "execute_result"
    }
   ],
   "source": [
    "dict_store={key:value for value,key in enumerate(ordinal_labels)}\n",
    "dict_store"
   ]
  },
  {
   "cell_type": "code",
   "execution_count": 138,
   "id": "2da96a2a",
   "metadata": {
    "execution": {
     "iopub.execute_input": "2022-12-15T13:46:07.405016Z",
     "iopub.status.busy": "2022-12-15T13:46:07.404136Z",
     "iopub.status.idle": "2022-12-15T13:46:07.412242Z",
     "shell.execute_reply": "2022-12-15T13:46:07.411229Z"
    },
    "papermill": {
     "duration": 0.085707,
     "end_time": "2022-12-15T13:46:07.415043",
     "exception": false,
     "start_time": "2022-12-15T13:46:07.329336",
     "status": "completed"
    },
    "tags": []
   },
   "outputs": [],
   "source": [
    "final['Content Rating']=final['Content Rating'].map(dict_store)"
   ]
  },
  {
   "cell_type": "code",
   "execution_count": 139,
   "id": "15d2dcd7",
   "metadata": {
    "execution": {
     "iopub.execute_input": "2022-12-15T13:46:07.566425Z",
     "iopub.status.busy": "2022-12-15T13:46:07.565971Z",
     "iopub.status.idle": "2022-12-15T13:46:07.587434Z",
     "shell.execute_reply": "2022-12-15T13:46:07.585753Z"
    },
    "papermill": {
     "duration": 0.09927,
     "end_time": "2022-12-15T13:46:07.590926",
     "exception": false,
     "start_time": "2022-12-15T13:46:07.491656",
     "status": "completed"
    },
    "tags": []
   },
   "outputs": [
    {
     "data": {
      "text/html": [
       "<div>\n",
       "<style scoped>\n",
       "    .dataframe tbody tr th:only-of-type {\n",
       "        vertical-align: middle;\n",
       "    }\n",
       "\n",
       "    .dataframe tbody tr th {\n",
       "        vertical-align: top;\n",
       "    }\n",
       "\n",
       "    .dataframe thead th {\n",
       "        text-align: right;\n",
       "    }\n",
       "</style>\n",
       "<table border=\"1\" class=\"dataframe\">\n",
       "  <thead>\n",
       "    <tr style=\"text-align: right;\">\n",
       "      <th></th>\n",
       "      <th>App</th>\n",
       "      <th>Category</th>\n",
       "      <th>Rating</th>\n",
       "      <th>Reviews</th>\n",
       "      <th>Size</th>\n",
       "      <th>Installs</th>\n",
       "      <th>Type</th>\n",
       "      <th>Content Rating</th>\n",
       "      <th>Genres</th>\n",
       "      <th>Last Updated</th>\n",
       "      <th>Current Ver</th>\n",
       "      <th>Android Ver</th>\n",
       "      <th>year_updated</th>\n",
       "      <th>month_updated</th>\n",
       "    </tr>\n",
       "  </thead>\n",
       "  <tbody>\n",
       "    <tr>\n",
       "      <th>0</th>\n",
       "      <td>Photo Editor &amp; Candy Camera &amp; Grid &amp; ScrapBook</td>\n",
       "      <td>4.307692</td>\n",
       "      <td>4</td>\n",
       "      <td>5.075174</td>\n",
       "      <td>19.0</td>\n",
       "      <td>10000</td>\n",
       "      <td>Free</td>\n",
       "      <td>2</td>\n",
       "      <td>Art &amp; Design</td>\n",
       "      <td>2018-01-07</td>\n",
       "      <td>1.0.0</td>\n",
       "      <td>4.0.3 and up</td>\n",
       "      <td>2018</td>\n",
       "      <td>1</td>\n",
       "    </tr>\n",
       "    <tr>\n",
       "      <th>1</th>\n",
       "      <td>Coloring book moana</td>\n",
       "      <td>4.307692</td>\n",
       "      <td>4</td>\n",
       "      <td>6.875232</td>\n",
       "      <td>14.0</td>\n",
       "      <td>500000</td>\n",
       "      <td>Free</td>\n",
       "      <td>2</td>\n",
       "      <td>Art &amp; Design;Pretend Play</td>\n",
       "      <td>2018-01-15</td>\n",
       "      <td>2.0.0</td>\n",
       "      <td>4.0.3 and up</td>\n",
       "      <td>2018</td>\n",
       "      <td>1</td>\n",
       "    </tr>\n",
       "  </tbody>\n",
       "</table>\n",
       "</div>"
      ],
      "text/plain": [
       "                                              App  Category  Rating   Reviews  \\\n",
       "0  Photo Editor & Candy Camera & Grid & ScrapBook  4.307692       4  5.075174   \n",
       "1                             Coloring book moana  4.307692       4  6.875232   \n",
       "\n",
       "   Size  Installs  Type  Content Rating                     Genres  \\\n",
       "0  19.0     10000  Free               2               Art & Design   \n",
       "1  14.0    500000  Free               2  Art & Design;Pretend Play   \n",
       "\n",
       "  Last Updated Current Ver   Android Ver  year_updated  month_updated  \n",
       "0   2018-01-07       1.0.0  4.0.3 and up          2018              1  \n",
       "1   2018-01-15       2.0.0  4.0.3 and up          2018              1  "
      ]
     },
     "execution_count": 139,
     "metadata": {},
     "output_type": "execute_result"
    }
   ],
   "source": [
    "final.head(2)"
   ]
  },
  {
   "cell_type": "markdown",
   "id": "a5eb9bb5",
   "metadata": {
    "papermill": {
     "duration": 0.150815,
     "end_time": "2022-12-15T13:46:07.814112",
     "exception": false,
     "start_time": "2022-12-15T13:46:07.663297",
     "status": "completed"
    },
    "tags": []
   },
   "source": [
    "### Applying Label Encoding on Type column"
   ]
  },
  {
   "cell_type": "code",
   "execution_count": 140,
   "id": "77555f5a",
   "metadata": {
    "execution": {
     "iopub.execute_input": "2022-12-15T13:46:07.970291Z",
     "iopub.status.busy": "2022-12-15T13:46:07.969289Z",
     "iopub.status.idle": "2022-12-15T13:46:07.977490Z",
     "shell.execute_reply": "2022-12-15T13:46:07.975779Z"
    },
    "papermill": {
     "duration": 0.089408,
     "end_time": "2022-12-15T13:46:07.980747",
     "exception": false,
     "start_time": "2022-12-15T13:46:07.891339",
     "status": "completed"
    },
    "tags": []
   },
   "outputs": [],
   "source": [
    "from sklearn.preprocessing import LabelEncoder\n",
    "le=LabelEncoder()"
   ]
  },
  {
   "cell_type": "code",
   "execution_count": 141,
   "id": "fe6a733f",
   "metadata": {
    "execution": {
     "iopub.execute_input": "2022-12-15T13:46:08.140756Z",
     "iopub.status.busy": "2022-12-15T13:46:08.139118Z",
     "iopub.status.idle": "2022-12-15T13:46:08.163111Z",
     "shell.execute_reply": "2022-12-15T13:46:08.162098Z"
    },
    "papermill": {
     "duration": 0.106969,
     "end_time": "2022-12-15T13:46:08.165682",
     "exception": false,
     "start_time": "2022-12-15T13:46:08.058713",
     "status": "completed"
    },
    "tags": []
   },
   "outputs": [
    {
     "data": {
      "text/html": [
       "<div>\n",
       "<style scoped>\n",
       "    .dataframe tbody tr th:only-of-type {\n",
       "        vertical-align: middle;\n",
       "    }\n",
       "\n",
       "    .dataframe tbody tr th {\n",
       "        vertical-align: top;\n",
       "    }\n",
       "\n",
       "    .dataframe thead th {\n",
       "        text-align: right;\n",
       "    }\n",
       "</style>\n",
       "<table border=\"1\" class=\"dataframe\">\n",
       "  <thead>\n",
       "    <tr style=\"text-align: right;\">\n",
       "      <th></th>\n",
       "      <th>App</th>\n",
       "      <th>Category</th>\n",
       "      <th>Rating</th>\n",
       "      <th>Reviews</th>\n",
       "      <th>Size</th>\n",
       "      <th>Installs</th>\n",
       "      <th>Type</th>\n",
       "      <th>Content Rating</th>\n",
       "      <th>Genres</th>\n",
       "      <th>Last Updated</th>\n",
       "      <th>Current Ver</th>\n",
       "      <th>Android Ver</th>\n",
       "      <th>year_updated</th>\n",
       "      <th>month_updated</th>\n",
       "    </tr>\n",
       "  </thead>\n",
       "  <tbody>\n",
       "    <tr>\n",
       "      <th>0</th>\n",
       "      <td>Photo Editor &amp; Candy Camera &amp; Grid &amp; ScrapBook</td>\n",
       "      <td>4.307692</td>\n",
       "      <td>4</td>\n",
       "      <td>5.075174</td>\n",
       "      <td>19.0</td>\n",
       "      <td>10000</td>\n",
       "      <td>0</td>\n",
       "      <td>2</td>\n",
       "      <td>Art &amp; Design</td>\n",
       "      <td>2018-01-07</td>\n",
       "      <td>1.0.0</td>\n",
       "      <td>4.0.3 and up</td>\n",
       "      <td>2018</td>\n",
       "      <td>1</td>\n",
       "    </tr>\n",
       "    <tr>\n",
       "      <th>1</th>\n",
       "      <td>Coloring book moana</td>\n",
       "      <td>4.307692</td>\n",
       "      <td>4</td>\n",
       "      <td>6.875232</td>\n",
       "      <td>14.0</td>\n",
       "      <td>500000</td>\n",
       "      <td>0</td>\n",
       "      <td>2</td>\n",
       "      <td>Art &amp; Design;Pretend Play</td>\n",
       "      <td>2018-01-15</td>\n",
       "      <td>2.0.0</td>\n",
       "      <td>4.0.3 and up</td>\n",
       "      <td>2018</td>\n",
       "      <td>1</td>\n",
       "    </tr>\n",
       "    <tr>\n",
       "      <th>2</th>\n",
       "      <td>U Launcher Lite – FREE Live Cool Themes, Hide ...</td>\n",
       "      <td>4.307692</td>\n",
       "      <td>5</td>\n",
       "      <td>11.379520</td>\n",
       "      <td>8.7</td>\n",
       "      <td>100000</td>\n",
       "      <td>0</td>\n",
       "      <td>2</td>\n",
       "      <td>Art &amp; Design</td>\n",
       "      <td>2018-08-01</td>\n",
       "      <td>1.2.4</td>\n",
       "      <td>4.0.3 and up</td>\n",
       "      <td>2018</td>\n",
       "      <td>8</td>\n",
       "    </tr>\n",
       "  </tbody>\n",
       "</table>\n",
       "</div>"
      ],
      "text/plain": [
       "                                                 App  Category  Rating  \\\n",
       "0     Photo Editor & Candy Camera & Grid & ScrapBook  4.307692       4   \n",
       "1                                Coloring book moana  4.307692       4   \n",
       "2  U Launcher Lite – FREE Live Cool Themes, Hide ...  4.307692       5   \n",
       "\n",
       "     Reviews  Size  Installs  Type  Content Rating                     Genres  \\\n",
       "0   5.075174  19.0     10000     0               2               Art & Design   \n",
       "1   6.875232  14.0    500000     0               2  Art & Design;Pretend Play   \n",
       "2  11.379520   8.7    100000     0               2               Art & Design   \n",
       "\n",
       "  Last Updated Current Ver   Android Ver  year_updated  month_updated  \n",
       "0   2018-01-07       1.0.0  4.0.3 and up          2018              1  \n",
       "1   2018-01-15       2.0.0  4.0.3 and up          2018              1  \n",
       "2   2018-08-01       1.2.4  4.0.3 and up          2018              8  "
      ]
     },
     "execution_count": 141,
     "metadata": {},
     "output_type": "execute_result"
    }
   ],
   "source": [
    "final['Type']=le.fit_transform(final['Type'])\n",
    "final.head(3)"
   ]
  },
  {
   "cell_type": "code",
   "execution_count": 142,
   "id": "fc7d22db",
   "metadata": {
    "execution": {
     "iopub.execute_input": "2022-12-15T13:46:08.320063Z",
     "iopub.status.busy": "2022-12-15T13:46:08.319569Z",
     "iopub.status.idle": "2022-12-15T13:46:08.329606Z",
     "shell.execute_reply": "2022-12-15T13:46:08.327064Z"
    },
    "papermill": {
     "duration": 0.092533,
     "end_time": "2022-12-15T13:46:08.334276",
     "exception": false,
     "start_time": "2022-12-15T13:46:08.241743",
     "status": "completed"
    },
    "tags": []
   },
   "outputs": [
    {
     "data": {
      "text/plain": [
       "Index(['App', 'Category', 'Rating', 'Reviews', 'Size', 'Installs', 'Type',\n",
       "       'Content Rating', 'Genres', 'Last Updated', 'Current Ver',\n",
       "       'Android Ver', 'year_updated', 'month_updated'],\n",
       "      dtype='object')"
      ]
     },
     "execution_count": 142,
     "metadata": {},
     "output_type": "execute_result"
    }
   ],
   "source": [
    "final.columns"
   ]
  },
  {
   "cell_type": "markdown",
   "id": "aef8703b",
   "metadata": {
    "papermill": {
     "duration": 0.079453,
     "end_time": "2022-12-15T13:46:08.492283",
     "exception": false,
     "start_time": "2022-12-15T13:46:08.412830",
     "status": "completed"
    },
    "tags": []
   },
   "source": [
    "#### Drop all the un-necessary columns.."
   ]
  },
  {
   "cell_type": "code",
   "execution_count": 143,
   "id": "b78ccc02",
   "metadata": {
    "execution": {
     "iopub.execute_input": "2022-12-15T13:46:08.659097Z",
     "iopub.status.busy": "2022-12-15T13:46:08.658654Z",
     "iopub.status.idle": "2022-12-15T13:46:08.670321Z",
     "shell.execute_reply": "2022-12-15T13:46:08.668334Z"
    },
    "papermill": {
     "duration": 0.098084,
     "end_time": "2022-12-15T13:46:08.673317",
     "exception": false,
     "start_time": "2022-12-15T13:46:08.575233",
     "status": "completed"
    },
    "tags": []
   },
   "outputs": [],
   "source": [
    "final.drop(labels=['App','Genres','Last Updated','Current Ver','Android Ver'],axis=1,inplace=True)"
   ]
  },
  {
   "cell_type": "code",
   "execution_count": 144,
   "id": "4dcff780",
   "metadata": {
    "execution": {
     "iopub.execute_input": "2022-12-15T13:46:08.832424Z",
     "iopub.status.busy": "2022-12-15T13:46:08.831866Z",
     "iopub.status.idle": "2022-12-15T13:46:08.849978Z",
     "shell.execute_reply": "2022-12-15T13:46:08.848210Z"
    },
    "papermill": {
     "duration": 0.100949,
     "end_time": "2022-12-15T13:46:08.852831",
     "exception": false,
     "start_time": "2022-12-15T13:46:08.751882",
     "status": "completed"
    },
    "tags": []
   },
   "outputs": [
    {
     "data": {
      "text/html": [
       "<div>\n",
       "<style scoped>\n",
       "    .dataframe tbody tr th:only-of-type {\n",
       "        vertical-align: middle;\n",
       "    }\n",
       "\n",
       "    .dataframe tbody tr th {\n",
       "        vertical-align: top;\n",
       "    }\n",
       "\n",
       "    .dataframe thead th {\n",
       "        text-align: right;\n",
       "    }\n",
       "</style>\n",
       "<table border=\"1\" class=\"dataframe\">\n",
       "  <thead>\n",
       "    <tr style=\"text-align: right;\">\n",
       "      <th></th>\n",
       "      <th>Category</th>\n",
       "      <th>Rating</th>\n",
       "      <th>Reviews</th>\n",
       "      <th>Size</th>\n",
       "      <th>Installs</th>\n",
       "      <th>Type</th>\n",
       "      <th>Content Rating</th>\n",
       "      <th>year_updated</th>\n",
       "      <th>month_updated</th>\n",
       "    </tr>\n",
       "  </thead>\n",
       "  <tbody>\n",
       "    <tr>\n",
       "      <th>0</th>\n",
       "      <td>4.307692</td>\n",
       "      <td>4</td>\n",
       "      <td>5.075174</td>\n",
       "      <td>19.0</td>\n",
       "      <td>10000</td>\n",
       "      <td>0</td>\n",
       "      <td>2</td>\n",
       "      <td>2018</td>\n",
       "      <td>1</td>\n",
       "    </tr>\n",
       "    <tr>\n",
       "      <th>1</th>\n",
       "      <td>4.307692</td>\n",
       "      <td>4</td>\n",
       "      <td>6.875232</td>\n",
       "      <td>14.0</td>\n",
       "      <td>500000</td>\n",
       "      <td>0</td>\n",
       "      <td>2</td>\n",
       "      <td>2018</td>\n",
       "      <td>1</td>\n",
       "    </tr>\n",
       "  </tbody>\n",
       "</table>\n",
       "</div>"
      ],
      "text/plain": [
       "   Category  Rating   Reviews  Size  Installs  Type  Content Rating  \\\n",
       "0  4.307692       4  5.075174  19.0     10000     0               2   \n",
       "1  4.307692       4  6.875232  14.0    500000     0               2   \n",
       "\n",
       "   year_updated  month_updated  \n",
       "0          2018              1  \n",
       "1          2018              1  "
      ]
     },
     "execution_count": 144,
     "metadata": {},
     "output_type": "execute_result"
    }
   ],
   "source": [
    "final.head(2)"
   ]
  },
  {
   "cell_type": "code",
   "execution_count": 145,
   "id": "1762b4e5",
   "metadata": {
    "execution": {
     "iopub.execute_input": "2022-12-15T13:46:09.016945Z",
     "iopub.status.busy": "2022-12-15T13:46:09.016543Z",
     "iopub.status.idle": "2022-12-15T13:46:09.033791Z",
     "shell.execute_reply": "2022-12-15T13:46:09.030882Z"
    },
    "papermill": {
     "duration": 0.101224,
     "end_time": "2022-12-15T13:46:09.036887",
     "exception": false,
     "start_time": "2022-12-15T13:46:08.935663",
     "status": "completed"
    },
    "tags": []
   },
   "outputs": [
    {
     "data": {
      "text/plain": [
       "Category          1\n",
       "Rating            0\n",
       "Reviews           0\n",
       "Size              0\n",
       "Installs          0\n",
       "Type              0\n",
       "Content Rating    0\n",
       "year_updated      0\n",
       "month_updated     0\n",
       "dtype: int64"
      ]
     },
     "execution_count": 145,
     "metadata": {},
     "output_type": "execute_result"
    }
   ],
   "source": [
    "final.isna().sum()"
   ]
  },
  {
   "cell_type": "markdown",
   "id": "90760193",
   "metadata": {
    "papermill": {
     "duration": 0.081089,
     "end_time": "2022-12-15T13:46:09.197249",
     "exception": false,
     "start_time": "2022-12-15T13:46:09.116160",
     "status": "completed"
    },
    "tags": []
   },
   "source": [
    "Only 1 null value so we can drop that it does not affect our model"
   ]
  },
  {
   "cell_type": "code",
   "execution_count": 146,
   "id": "87dcb806",
   "metadata": {
    "execution": {
     "iopub.execute_input": "2022-12-15T13:46:09.366420Z",
     "iopub.status.busy": "2022-12-15T13:46:09.365112Z",
     "iopub.status.idle": "2022-12-15T13:46:09.379843Z",
     "shell.execute_reply": "2022-12-15T13:46:09.377258Z"
    },
    "papermill": {
     "duration": 0.103091,
     "end_time": "2022-12-15T13:46:09.383939",
     "exception": false,
     "start_time": "2022-12-15T13:46:09.280848",
     "status": "completed"
    },
    "tags": []
   },
   "outputs": [],
   "source": [
    "final.dropna(inplace=True)"
   ]
  },
  {
   "cell_type": "code",
   "execution_count": 147,
   "id": "db1cbc2b",
   "metadata": {
    "execution": {
     "iopub.execute_input": "2022-12-15T13:46:09.556632Z",
     "iopub.status.busy": "2022-12-15T13:46:09.556025Z",
     "iopub.status.idle": "2022-12-15T13:46:09.571184Z",
     "shell.execute_reply": "2022-12-15T13:46:09.569348Z"
    },
    "papermill": {
     "duration": 0.110499,
     "end_time": "2022-12-15T13:46:09.575977",
     "exception": false,
     "start_time": "2022-12-15T13:46:09.465478",
     "status": "completed"
    },
    "tags": []
   },
   "outputs": [
    {
     "data": {
      "text/plain": [
       "Category          0\n",
       "Rating            0\n",
       "Reviews           0\n",
       "Size              0\n",
       "Installs          0\n",
       "Type              0\n",
       "Content Rating    0\n",
       "year_updated      0\n",
       "month_updated     0\n",
       "dtype: int64"
      ]
     },
     "execution_count": 147,
     "metadata": {},
     "output_type": "execute_result"
    }
   ],
   "source": [
    "final.isna().sum()"
   ]
  },
  {
   "cell_type": "code",
   "execution_count": 148,
   "id": "66a3fdfc",
   "metadata": {
    "execution": {
     "iopub.execute_input": "2022-12-15T13:46:09.755278Z",
     "iopub.status.busy": "2022-12-15T13:46:09.754773Z",
     "iopub.status.idle": "2022-12-15T13:46:09.763932Z",
     "shell.execute_reply": "2022-12-15T13:46:09.762704Z"
    },
    "papermill": {
     "duration": 0.105884,
     "end_time": "2022-12-15T13:46:09.766667",
     "exception": false,
     "start_time": "2022-12-15T13:46:09.660783",
     "status": "completed"
    },
    "tags": []
   },
   "outputs": [],
   "source": [
    "dataframe2=final.copy()"
   ]
  },
  {
   "cell_type": "code",
   "execution_count": 149,
   "id": "69b2da30",
   "metadata": {
    "execution": {
     "iopub.execute_input": "2022-12-15T13:46:09.968040Z",
     "iopub.status.busy": "2022-12-15T13:46:09.967589Z",
     "iopub.status.idle": "2022-12-15T13:46:09.987503Z",
     "shell.execute_reply": "2022-12-15T13:46:09.986188Z"
    },
    "papermill": {
     "duration": 0.132031,
     "end_time": "2022-12-15T13:46:09.992027",
     "exception": false,
     "start_time": "2022-12-15T13:46:09.859996",
     "status": "completed"
    },
    "tags": []
   },
   "outputs": [
    {
     "data": {
      "text/html": [
       "<div>\n",
       "<style scoped>\n",
       "    .dataframe tbody tr th:only-of-type {\n",
       "        vertical-align: middle;\n",
       "    }\n",
       "\n",
       "    .dataframe tbody tr th {\n",
       "        vertical-align: top;\n",
       "    }\n",
       "\n",
       "    .dataframe thead th {\n",
       "        text-align: right;\n",
       "    }\n",
       "</style>\n",
       "<table border=\"1\" class=\"dataframe\">\n",
       "  <thead>\n",
       "    <tr style=\"text-align: right;\">\n",
       "      <th></th>\n",
       "      <th>Category</th>\n",
       "      <th>Rating</th>\n",
       "      <th>Reviews</th>\n",
       "      <th>Size</th>\n",
       "      <th>Installs</th>\n",
       "      <th>Type</th>\n",
       "      <th>Content Rating</th>\n",
       "      <th>year_updated</th>\n",
       "      <th>month_updated</th>\n",
       "    </tr>\n",
       "  </thead>\n",
       "  <tbody>\n",
       "    <tr>\n",
       "      <th>0</th>\n",
       "      <td>4.307692</td>\n",
       "      <td>4</td>\n",
       "      <td>5.075174</td>\n",
       "      <td>19.0</td>\n",
       "      <td>10000</td>\n",
       "      <td>0</td>\n",
       "      <td>2</td>\n",
       "      <td>2018</td>\n",
       "      <td>1</td>\n",
       "    </tr>\n",
       "    <tr>\n",
       "      <th>1</th>\n",
       "      <td>4.307692</td>\n",
       "      <td>4</td>\n",
       "      <td>6.875232</td>\n",
       "      <td>14.0</td>\n",
       "      <td>500000</td>\n",
       "      <td>0</td>\n",
       "      <td>2</td>\n",
       "      <td>2018</td>\n",
       "      <td>1</td>\n",
       "    </tr>\n",
       "    <tr>\n",
       "      <th>2</th>\n",
       "      <td>4.307692</td>\n",
       "      <td>5</td>\n",
       "      <td>11.379520</td>\n",
       "      <td>8.7</td>\n",
       "      <td>100000</td>\n",
       "      <td>0</td>\n",
       "      <td>2</td>\n",
       "      <td>2018</td>\n",
       "      <td>8</td>\n",
       "    </tr>\n",
       "    <tr>\n",
       "      <th>3</th>\n",
       "      <td>4.307692</td>\n",
       "      <td>4</td>\n",
       "      <td>12.281389</td>\n",
       "      <td>25.0</td>\n",
       "      <td>100000</td>\n",
       "      <td>0</td>\n",
       "      <td>4</td>\n",
       "      <td>2018</td>\n",
       "      <td>6</td>\n",
       "    </tr>\n",
       "    <tr>\n",
       "      <th>4</th>\n",
       "      <td>4.307692</td>\n",
       "      <td>4</td>\n",
       "      <td>6.875232</td>\n",
       "      <td>2.8</td>\n",
       "      <td>100000</td>\n",
       "      <td>0</td>\n",
       "      <td>2</td>\n",
       "      <td>2018</td>\n",
       "      <td>6</td>\n",
       "    </tr>\n",
       "  </tbody>\n",
       "</table>\n",
       "</div>"
      ],
      "text/plain": [
       "   Category  Rating    Reviews  Size  Installs  Type  Content Rating  \\\n",
       "0  4.307692       4   5.075174  19.0     10000     0               2   \n",
       "1  4.307692       4   6.875232  14.0    500000     0               2   \n",
       "2  4.307692       5  11.379520   8.7    100000     0               2   \n",
       "3  4.307692       4  12.281389  25.0    100000     0               4   \n",
       "4  4.307692       4   6.875232   2.8    100000     0               2   \n",
       "\n",
       "   year_updated  month_updated  \n",
       "0          2018              1  \n",
       "1          2018              1  \n",
       "2          2018              8  \n",
       "3          2018              6  \n",
       "4          2018              6  "
      ]
     },
     "execution_count": 149,
     "metadata": {},
     "output_type": "execute_result"
    }
   ],
   "source": [
    "dataframe2.head()"
   ]
  },
  {
   "cell_type": "markdown",
   "id": "75d476f9",
   "metadata": {
    "papermill": {
     "duration": 0.120393,
     "end_time": "2022-12-15T13:46:10.240436",
     "exception": false,
     "start_time": "2022-12-15T13:46:10.120043",
     "status": "completed"
    },
    "tags": []
   },
   "source": [
    "#### Assign Independent and Dependent features to X and y "
   ]
  },
  {
   "cell_type": "code",
   "execution_count": 150,
   "id": "99fbe38b",
   "metadata": {
    "execution": {
     "iopub.execute_input": "2022-12-15T13:46:10.425870Z",
     "iopub.status.busy": "2022-12-15T13:46:10.425439Z",
     "iopub.status.idle": "2022-12-15T13:46:10.452304Z",
     "shell.execute_reply": "2022-12-15T13:46:10.450510Z"
    },
    "papermill": {
     "duration": 0.119215,
     "end_time": "2022-12-15T13:46:10.456526",
     "exception": false,
     "start_time": "2022-12-15T13:46:10.337311",
     "status": "completed"
    },
    "tags": []
   },
   "outputs": [
    {
     "data": {
      "text/html": [
       "<div>\n",
       "<style scoped>\n",
       "    .dataframe tbody tr th:only-of-type {\n",
       "        vertical-align: middle;\n",
       "    }\n",
       "\n",
       "    .dataframe tbody tr th {\n",
       "        vertical-align: top;\n",
       "    }\n",
       "\n",
       "    .dataframe thead th {\n",
       "        text-align: right;\n",
       "    }\n",
       "</style>\n",
       "<table border=\"1\" class=\"dataframe\">\n",
       "  <thead>\n",
       "    <tr style=\"text-align: right;\">\n",
       "      <th></th>\n",
       "      <th>Category</th>\n",
       "      <th>Reviews</th>\n",
       "      <th>Size</th>\n",
       "      <th>Installs</th>\n",
       "      <th>Type</th>\n",
       "      <th>Content Rating</th>\n",
       "      <th>year_updated</th>\n",
       "      <th>month_updated</th>\n",
       "    </tr>\n",
       "  </thead>\n",
       "  <tbody>\n",
       "    <tr>\n",
       "      <th>0</th>\n",
       "      <td>4.307692</td>\n",
       "      <td>5.075174</td>\n",
       "      <td>19.00</td>\n",
       "      <td>10000</td>\n",
       "      <td>0</td>\n",
       "      <td>2</td>\n",
       "      <td>2018</td>\n",
       "      <td>1</td>\n",
       "    </tr>\n",
       "    <tr>\n",
       "      <th>1</th>\n",
       "      <td>4.307692</td>\n",
       "      <td>6.875232</td>\n",
       "      <td>14.00</td>\n",
       "      <td>500000</td>\n",
       "      <td>0</td>\n",
       "      <td>2</td>\n",
       "      <td>2018</td>\n",
       "      <td>1</td>\n",
       "    </tr>\n",
       "    <tr>\n",
       "      <th>2</th>\n",
       "      <td>4.307692</td>\n",
       "      <td>11.379520</td>\n",
       "      <td>8.70</td>\n",
       "      <td>100000</td>\n",
       "      <td>0</td>\n",
       "      <td>2</td>\n",
       "      <td>2018</td>\n",
       "      <td>8</td>\n",
       "    </tr>\n",
       "    <tr>\n",
       "      <th>3</th>\n",
       "      <td>4.307692</td>\n",
       "      <td>12.281389</td>\n",
       "      <td>25.00</td>\n",
       "      <td>100000</td>\n",
       "      <td>0</td>\n",
       "      <td>4</td>\n",
       "      <td>2018</td>\n",
       "      <td>6</td>\n",
       "    </tr>\n",
       "    <tr>\n",
       "      <th>4</th>\n",
       "      <td>4.307692</td>\n",
       "      <td>6.875232</td>\n",
       "      <td>2.80</td>\n",
       "      <td>100000</td>\n",
       "      <td>0</td>\n",
       "      <td>2</td>\n",
       "      <td>2018</td>\n",
       "      <td>6</td>\n",
       "    </tr>\n",
       "    <tr>\n",
       "      <th>...</th>\n",
       "      <td>...</td>\n",
       "      <td>...</td>\n",
       "      <td>...</td>\n",
       "      <td>...</td>\n",
       "      <td>...</td>\n",
       "      <td>...</td>\n",
       "      <td>...</td>\n",
       "      <td>...</td>\n",
       "    </tr>\n",
       "    <tr>\n",
       "      <th>9315</th>\n",
       "      <td>4.076294</td>\n",
       "      <td>2.890372</td>\n",
       "      <td>0.15</td>\n",
       "      <td>100</td>\n",
       "      <td>1</td>\n",
       "      <td>1</td>\n",
       "      <td>2015</td>\n",
       "      <td>11</td>\n",
       "    </tr>\n",
       "    <tr>\n",
       "      <th>9316</th>\n",
       "      <td>4.176471</td>\n",
       "      <td>3.583519</td>\n",
       "      <td>2.40</td>\n",
       "      <td>1000</td>\n",
       "      <td>1</td>\n",
       "      <td>2</td>\n",
       "      <td>2018</td>\n",
       "      <td>8</td>\n",
       "    </tr>\n",
       "    <tr>\n",
       "      <th>9317</th>\n",
       "      <td>4.139752</td>\n",
       "      <td>5.533389</td>\n",
       "      <td>11.00</td>\n",
       "      <td>10000</td>\n",
       "      <td>1</td>\n",
       "      <td>4</td>\n",
       "      <td>2015</td>\n",
       "      <td>2</td>\n",
       "    </tr>\n",
       "    <tr>\n",
       "      <th>9318</th>\n",
       "      <td>4.076294</td>\n",
       "      <td>7.248504</td>\n",
       "      <td>9.50</td>\n",
       "      <td>10000</td>\n",
       "      <td>1</td>\n",
       "      <td>2</td>\n",
       "      <td>2018</td>\n",
       "      <td>6</td>\n",
       "    </tr>\n",
       "    <tr>\n",
       "      <th>9319</th>\n",
       "      <td>4.076294</td>\n",
       "      <td>0.000000</td>\n",
       "      <td>1.00</td>\n",
       "      <td>50</td>\n",
       "      <td>1</td>\n",
       "      <td>2</td>\n",
       "      <td>2012</td>\n",
       "      <td>2</td>\n",
       "    </tr>\n",
       "  </tbody>\n",
       "</table>\n",
       "<p>9319 rows × 8 columns</p>\n",
       "</div>"
      ],
      "text/plain": [
       "      Category    Reviews   Size  Installs  Type  Content Rating  \\\n",
       "0     4.307692   5.075174  19.00     10000     0               2   \n",
       "1     4.307692   6.875232  14.00    500000     0               2   \n",
       "2     4.307692  11.379520   8.70    100000     0               2   \n",
       "3     4.307692  12.281389  25.00    100000     0               4   \n",
       "4     4.307692   6.875232   2.80    100000     0               2   \n",
       "...        ...        ...    ...       ...   ...             ...   \n",
       "9315  4.076294   2.890372   0.15       100     1               1   \n",
       "9316  4.176471   3.583519   2.40      1000     1               2   \n",
       "9317  4.139752   5.533389  11.00     10000     1               4   \n",
       "9318  4.076294   7.248504   9.50     10000     1               2   \n",
       "9319  4.076294   0.000000   1.00        50     1               2   \n",
       "\n",
       "      year_updated  month_updated  \n",
       "0             2018              1  \n",
       "1             2018              1  \n",
       "2             2018              8  \n",
       "3             2018              6  \n",
       "4             2018              6  \n",
       "...            ...            ...  \n",
       "9315          2015             11  \n",
       "9316          2018              8  \n",
       "9317          2015              2  \n",
       "9318          2018              6  \n",
       "9319          2012              2  \n",
       "\n",
       "[9319 rows x 8 columns]"
      ]
     },
     "execution_count": 150,
     "metadata": {},
     "output_type": "execute_result"
    }
   ],
   "source": [
    "X=dataframe2.drop('Rating',axis=1)\n",
    "X"
   ]
  },
  {
   "cell_type": "code",
   "execution_count": 151,
   "id": "a50518ff",
   "metadata": {
    "execution": {
     "iopub.execute_input": "2022-12-15T13:46:10.618001Z",
     "iopub.status.busy": "2022-12-15T13:46:10.616815Z",
     "iopub.status.idle": "2022-12-15T13:46:10.629134Z",
     "shell.execute_reply": "2022-12-15T13:46:10.627459Z"
    },
    "papermill": {
     "duration": 0.095901,
     "end_time": "2022-12-15T13:46:10.632997",
     "exception": false,
     "start_time": "2022-12-15T13:46:10.537096",
     "status": "completed"
    },
    "tags": []
   },
   "outputs": [
    {
     "data": {
      "text/plain": [
       "0       4\n",
       "1       4\n",
       "2       5\n",
       "3       4\n",
       "4       4\n",
       "       ..\n",
       "9315    4\n",
       "9316    4\n",
       "9317    4\n",
       "9318    4\n",
       "9319    4\n",
       "Name: Rating, Length: 9319, dtype: int64"
      ]
     },
     "execution_count": 151,
     "metadata": {},
     "output_type": "execute_result"
    }
   ],
   "source": [
    "y=dataframe2['Rating']\n",
    "y"
   ]
  },
  {
   "cell_type": "markdown",
   "id": "b5e50c51",
   "metadata": {
    "papermill": {
     "duration": 0.080875,
     "end_time": "2022-12-15T13:46:10.795926",
     "exception": false,
     "start_time": "2022-12-15T13:46:10.715051",
     "status": "completed"
    },
    "tags": []
   },
   "source": [
    "### Splitting the dataset into The Training set and Testing set"
   ]
  },
  {
   "cell_type": "code",
   "execution_count": 152,
   "id": "0e3f924e",
   "metadata": {
    "execution": {
     "iopub.execute_input": "2022-12-15T13:46:10.953884Z",
     "iopub.status.busy": "2022-12-15T13:46:10.953121Z",
     "iopub.status.idle": "2022-12-15T13:46:10.963259Z",
     "shell.execute_reply": "2022-12-15T13:46:10.961600Z"
    },
    "papermill": {
     "duration": 0.091598,
     "end_time": "2022-12-15T13:46:10.966200",
     "exception": false,
     "start_time": "2022-12-15T13:46:10.874602",
     "status": "completed"
    },
    "tags": []
   },
   "outputs": [],
   "source": [
    "from sklearn.model_selection import train_test_split\n",
    "X_train, X_test, y_train, y_test=train_test_split(X, y, test_size=0.2)"
   ]
  },
  {
   "cell_type": "code",
   "execution_count": 153,
   "id": "4ebc3023",
   "metadata": {
    "execution": {
     "iopub.execute_input": "2022-12-15T13:46:11.133522Z",
     "iopub.status.busy": "2022-12-15T13:46:11.132687Z",
     "iopub.status.idle": "2022-12-15T13:46:11.151865Z",
     "shell.execute_reply": "2022-12-15T13:46:11.150760Z"
    },
    "papermill": {
     "duration": 0.106293,
     "end_time": "2022-12-15T13:46:11.154931",
     "exception": false,
     "start_time": "2022-12-15T13:46:11.048638",
     "status": "completed"
    },
    "tags": []
   },
   "outputs": [
    {
     "data": {
      "text/html": [
       "<div>\n",
       "<style scoped>\n",
       "    .dataframe tbody tr th:only-of-type {\n",
       "        vertical-align: middle;\n",
       "    }\n",
       "\n",
       "    .dataframe tbody tr th {\n",
       "        vertical-align: top;\n",
       "    }\n",
       "\n",
       "    .dataframe thead th {\n",
       "        text-align: right;\n",
       "    }\n",
       "</style>\n",
       "<table border=\"1\" class=\"dataframe\">\n",
       "  <thead>\n",
       "    <tr style=\"text-align: right;\">\n",
       "      <th></th>\n",
       "      <th>Category</th>\n",
       "      <th>Reviews</th>\n",
       "      <th>Size</th>\n",
       "      <th>Installs</th>\n",
       "      <th>Type</th>\n",
       "      <th>Content Rating</th>\n",
       "      <th>year_updated</th>\n",
       "      <th>month_updated</th>\n",
       "    </tr>\n",
       "  </thead>\n",
       "  <tbody>\n",
       "    <tr>\n",
       "      <th>4362</th>\n",
       "      <td>4.095238</td>\n",
       "      <td>12.776527</td>\n",
       "      <td>13.00</td>\n",
       "      <td>100000</td>\n",
       "      <td>0</td>\n",
       "      <td>2</td>\n",
       "      <td>2018</td>\n",
       "      <td>8</td>\n",
       "    </tr>\n",
       "    <tr>\n",
       "      <th>2849</th>\n",
       "      <td>4.094293</td>\n",
       "      <td>10.878349</td>\n",
       "      <td>2.20</td>\n",
       "      <td>100000</td>\n",
       "      <td>0</td>\n",
       "      <td>2</td>\n",
       "      <td>2017</td>\n",
       "      <td>11</td>\n",
       "    </tr>\n",
       "    <tr>\n",
       "      <th>6633</th>\n",
       "      <td>3.961306</td>\n",
       "      <td>10.727904</td>\n",
       "      <td>0.17</td>\n",
       "      <td>100000</td>\n",
       "      <td>0</td>\n",
       "      <td>2</td>\n",
       "      <td>2018</td>\n",
       "      <td>1</td>\n",
       "    </tr>\n",
       "    <tr>\n",
       "      <th>1609</th>\n",
       "      <td>4.139752</td>\n",
       "      <td>15.409114</td>\n",
       "      <td>13.00</td>\n",
       "      <td>100000</td>\n",
       "      <td>0</td>\n",
       "      <td>3</td>\n",
       "      <td>2018</td>\n",
       "      <td>6</td>\n",
       "    </tr>\n",
       "    <tr>\n",
       "      <th>446</th>\n",
       "      <td>3.989446</td>\n",
       "      <td>7.084226</td>\n",
       "      <td>13.00</td>\n",
       "      <td>100000</td>\n",
       "      <td>0</td>\n",
       "      <td>2</td>\n",
       "      <td>2018</td>\n",
       "      <td>7</td>\n",
       "    </tr>\n",
       "    <tr>\n",
       "      <th>...</th>\n",
       "      <td>...</td>\n",
       "      <td>...</td>\n",
       "      <td>...</td>\n",
       "      <td>...</td>\n",
       "      <td>...</td>\n",
       "      <td>...</td>\n",
       "      <td>...</td>\n",
       "      <td>...</td>\n",
       "    </tr>\n",
       "    <tr>\n",
       "      <th>5940</th>\n",
       "      <td>4.128514</td>\n",
       "      <td>5.402677</td>\n",
       "      <td>9.50</td>\n",
       "      <td>50000</td>\n",
       "      <td>0</td>\n",
       "      <td>4</td>\n",
       "      <td>2017</td>\n",
       "      <td>8</td>\n",
       "    </tr>\n",
       "    <tr>\n",
       "      <th>5871</th>\n",
       "      <td>4.076294</td>\n",
       "      <td>7.433667</td>\n",
       "      <td>5.80</td>\n",
       "      <td>500000</td>\n",
       "      <td>0</td>\n",
       "      <td>2</td>\n",
       "      <td>2016</td>\n",
       "      <td>6</td>\n",
       "    </tr>\n",
       "    <tr>\n",
       "      <th>8900</th>\n",
       "      <td>4.075000</td>\n",
       "      <td>8.008366</td>\n",
       "      <td>26.00</td>\n",
       "      <td>10000</td>\n",
       "      <td>1</td>\n",
       "      <td>2</td>\n",
       "      <td>2018</td>\n",
       "      <td>8</td>\n",
       "    </tr>\n",
       "    <tr>\n",
       "      <th>2258</th>\n",
       "      <td>4.030000</td>\n",
       "      <td>11.128307</td>\n",
       "      <td>13.00</td>\n",
       "      <td>100000</td>\n",
       "      <td>0</td>\n",
       "      <td>2</td>\n",
       "      <td>2018</td>\n",
       "      <td>5</td>\n",
       "    </tr>\n",
       "    <tr>\n",
       "      <th>7399</th>\n",
       "      <td>4.095238</td>\n",
       "      <td>0.000000</td>\n",
       "      <td>6.00</td>\n",
       "      <td>1</td>\n",
       "      <td>0</td>\n",
       "      <td>2</td>\n",
       "      <td>2018</td>\n",
       "      <td>4</td>\n",
       "    </tr>\n",
       "  </tbody>\n",
       "</table>\n",
       "<p>7455 rows × 8 columns</p>\n",
       "</div>"
      ],
      "text/plain": [
       "      Category    Reviews   Size  Installs  Type  Content Rating  \\\n",
       "4362  4.095238  12.776527  13.00    100000     0               2   \n",
       "2849  4.094293  10.878349   2.20    100000     0               2   \n",
       "6633  3.961306  10.727904   0.17    100000     0               2   \n",
       "1609  4.139752  15.409114  13.00    100000     0               3   \n",
       "446   3.989446   7.084226  13.00    100000     0               2   \n",
       "...        ...        ...    ...       ...   ...             ...   \n",
       "5940  4.128514   5.402677   9.50     50000     0               4   \n",
       "5871  4.076294   7.433667   5.80    500000     0               2   \n",
       "8900  4.075000   8.008366  26.00     10000     1               2   \n",
       "2258  4.030000  11.128307  13.00    100000     0               2   \n",
       "7399  4.095238   0.000000   6.00         1     0               2   \n",
       "\n",
       "      year_updated  month_updated  \n",
       "4362          2018              8  \n",
       "2849          2017             11  \n",
       "6633          2018              1  \n",
       "1609          2018              6  \n",
       "446           2018              7  \n",
       "...            ...            ...  \n",
       "5940          2017              8  \n",
       "5871          2016              6  \n",
       "8900          2018              8  \n",
       "2258          2018              5  \n",
       "7399          2018              4  \n",
       "\n",
       "[7455 rows x 8 columns]"
      ]
     },
     "execution_count": 153,
     "metadata": {},
     "output_type": "execute_result"
    }
   ],
   "source": [
    "X_train"
   ]
  },
  {
   "cell_type": "markdown",
   "id": "24799802",
   "metadata": {
    "papermill": {
     "duration": 0.078793,
     "end_time": "2022-12-15T13:46:11.317385",
     "exception": false,
     "start_time": "2022-12-15T13:46:11.238592",
     "status": "completed"
    },
    "tags": []
   },
   "source": [
    "### Building ML model(Logistic Regression Model)"
   ]
  },
  {
   "cell_type": "code",
   "execution_count": 154,
   "id": "3e0430b0",
   "metadata": {
    "execution": {
     "iopub.execute_input": "2022-12-15T13:46:11.482988Z",
     "iopub.status.busy": "2022-12-15T13:46:11.482102Z",
     "iopub.status.idle": "2022-12-15T13:46:11.490199Z",
     "shell.execute_reply": "2022-12-15T13:46:11.488144Z"
    },
    "papermill": {
     "duration": 0.091704,
     "end_time": "2022-12-15T13:46:11.493831",
     "exception": false,
     "start_time": "2022-12-15T13:46:11.402127",
     "status": "completed"
    },
    "tags": []
   },
   "outputs": [],
   "source": [
    "# from sklearn.preprocessing import StandardScaler\n",
    "# sc = StandardScaler()\n",
    "# X_train = sc.fit_transform(X_train)\n",
    "# X_test = sc.fit_transform(X_test)"
   ]
  },
  {
   "cell_type": "code",
   "execution_count": 155,
   "id": "42cd3266",
   "metadata": {
    "execution": {
     "iopub.execute_input": "2022-12-15T13:46:11.733743Z",
     "iopub.status.busy": "2022-12-15T13:46:11.733121Z",
     "iopub.status.idle": "2022-12-15T13:46:11.752590Z",
     "shell.execute_reply": "2022-12-15T13:46:11.750777Z"
    },
    "papermill": {
     "duration": 0.183023,
     "end_time": "2022-12-15T13:46:11.756147",
     "exception": false,
     "start_time": "2022-12-15T13:46:11.573124",
     "status": "completed"
    },
    "tags": []
   },
   "outputs": [
    {
     "data": {
      "text/html": [
       "<div>\n",
       "<style scoped>\n",
       "    .dataframe tbody tr th:only-of-type {\n",
       "        vertical-align: middle;\n",
       "    }\n",
       "\n",
       "    .dataframe tbody tr th {\n",
       "        vertical-align: top;\n",
       "    }\n",
       "\n",
       "    .dataframe thead th {\n",
       "        text-align: right;\n",
       "    }\n",
       "</style>\n",
       "<table border=\"1\" class=\"dataframe\">\n",
       "  <thead>\n",
       "    <tr style=\"text-align: right;\">\n",
       "      <th></th>\n",
       "      <th>Category</th>\n",
       "      <th>Reviews</th>\n",
       "      <th>Size</th>\n",
       "      <th>Installs</th>\n",
       "      <th>Type</th>\n",
       "      <th>Content Rating</th>\n",
       "      <th>year_updated</th>\n",
       "      <th>month_updated</th>\n",
       "    </tr>\n",
       "  </thead>\n",
       "  <tbody>\n",
       "    <tr>\n",
       "      <th>4362</th>\n",
       "      <td>4.095238</td>\n",
       "      <td>12.776527</td>\n",
       "      <td>13.00</td>\n",
       "      <td>100000</td>\n",
       "      <td>0</td>\n",
       "      <td>2</td>\n",
       "      <td>2018</td>\n",
       "      <td>8</td>\n",
       "    </tr>\n",
       "    <tr>\n",
       "      <th>2849</th>\n",
       "      <td>4.094293</td>\n",
       "      <td>10.878349</td>\n",
       "      <td>2.20</td>\n",
       "      <td>100000</td>\n",
       "      <td>0</td>\n",
       "      <td>2</td>\n",
       "      <td>2017</td>\n",
       "      <td>11</td>\n",
       "    </tr>\n",
       "    <tr>\n",
       "      <th>6633</th>\n",
       "      <td>3.961306</td>\n",
       "      <td>10.727904</td>\n",
       "      <td>0.17</td>\n",
       "      <td>100000</td>\n",
       "      <td>0</td>\n",
       "      <td>2</td>\n",
       "      <td>2018</td>\n",
       "      <td>1</td>\n",
       "    </tr>\n",
       "    <tr>\n",
       "      <th>1609</th>\n",
       "      <td>4.139752</td>\n",
       "      <td>15.409114</td>\n",
       "      <td>13.00</td>\n",
       "      <td>100000</td>\n",
       "      <td>0</td>\n",
       "      <td>3</td>\n",
       "      <td>2018</td>\n",
       "      <td>6</td>\n",
       "    </tr>\n",
       "    <tr>\n",
       "      <th>446</th>\n",
       "      <td>3.989446</td>\n",
       "      <td>7.084226</td>\n",
       "      <td>13.00</td>\n",
       "      <td>100000</td>\n",
       "      <td>0</td>\n",
       "      <td>2</td>\n",
       "      <td>2018</td>\n",
       "      <td>7</td>\n",
       "    </tr>\n",
       "    <tr>\n",
       "      <th>...</th>\n",
       "      <td>...</td>\n",
       "      <td>...</td>\n",
       "      <td>...</td>\n",
       "      <td>...</td>\n",
       "      <td>...</td>\n",
       "      <td>...</td>\n",
       "      <td>...</td>\n",
       "      <td>...</td>\n",
       "    </tr>\n",
       "    <tr>\n",
       "      <th>5940</th>\n",
       "      <td>4.128514</td>\n",
       "      <td>5.402677</td>\n",
       "      <td>9.50</td>\n",
       "      <td>50000</td>\n",
       "      <td>0</td>\n",
       "      <td>4</td>\n",
       "      <td>2017</td>\n",
       "      <td>8</td>\n",
       "    </tr>\n",
       "    <tr>\n",
       "      <th>5871</th>\n",
       "      <td>4.076294</td>\n",
       "      <td>7.433667</td>\n",
       "      <td>5.80</td>\n",
       "      <td>500000</td>\n",
       "      <td>0</td>\n",
       "      <td>2</td>\n",
       "      <td>2016</td>\n",
       "      <td>6</td>\n",
       "    </tr>\n",
       "    <tr>\n",
       "      <th>8900</th>\n",
       "      <td>4.075000</td>\n",
       "      <td>8.008366</td>\n",
       "      <td>26.00</td>\n",
       "      <td>10000</td>\n",
       "      <td>1</td>\n",
       "      <td>2</td>\n",
       "      <td>2018</td>\n",
       "      <td>8</td>\n",
       "    </tr>\n",
       "    <tr>\n",
       "      <th>2258</th>\n",
       "      <td>4.030000</td>\n",
       "      <td>11.128307</td>\n",
       "      <td>13.00</td>\n",
       "      <td>100000</td>\n",
       "      <td>0</td>\n",
       "      <td>2</td>\n",
       "      <td>2018</td>\n",
       "      <td>5</td>\n",
       "    </tr>\n",
       "    <tr>\n",
       "      <th>7399</th>\n",
       "      <td>4.095238</td>\n",
       "      <td>0.000000</td>\n",
       "      <td>6.00</td>\n",
       "      <td>1</td>\n",
       "      <td>0</td>\n",
       "      <td>2</td>\n",
       "      <td>2018</td>\n",
       "      <td>4</td>\n",
       "    </tr>\n",
       "  </tbody>\n",
       "</table>\n",
       "<p>7455 rows × 8 columns</p>\n",
       "</div>"
      ],
      "text/plain": [
       "      Category    Reviews   Size  Installs  Type  Content Rating  \\\n",
       "4362  4.095238  12.776527  13.00    100000     0               2   \n",
       "2849  4.094293  10.878349   2.20    100000     0               2   \n",
       "6633  3.961306  10.727904   0.17    100000     0               2   \n",
       "1609  4.139752  15.409114  13.00    100000     0               3   \n",
       "446   3.989446   7.084226  13.00    100000     0               2   \n",
       "...        ...        ...    ...       ...   ...             ...   \n",
       "5940  4.128514   5.402677   9.50     50000     0               4   \n",
       "5871  4.076294   7.433667   5.80    500000     0               2   \n",
       "8900  4.075000   8.008366  26.00     10000     1               2   \n",
       "2258  4.030000  11.128307  13.00    100000     0               2   \n",
       "7399  4.095238   0.000000   6.00         1     0               2   \n",
       "\n",
       "      year_updated  month_updated  \n",
       "4362          2018              8  \n",
       "2849          2017             11  \n",
       "6633          2018              1  \n",
       "1609          2018              6  \n",
       "446           2018              7  \n",
       "...            ...            ...  \n",
       "5940          2017              8  \n",
       "5871          2016              6  \n",
       "8900          2018              8  \n",
       "2258          2018              5  \n",
       "7399          2018              4  \n",
       "\n",
       "[7455 rows x 8 columns]"
      ]
     },
     "execution_count": 155,
     "metadata": {},
     "output_type": "execute_result"
    }
   ],
   "source": [
    "X_train"
   ]
  },
  {
   "cell_type": "code",
   "execution_count": 156,
   "id": "b6afb06c",
   "metadata": {
    "execution": {
     "iopub.execute_input": "2022-12-15T13:46:11.920483Z",
     "iopub.status.busy": "2022-12-15T13:46:11.919277Z",
     "iopub.status.idle": "2022-12-15T13:46:13.059163Z",
     "shell.execute_reply": "2022-12-15T13:46:13.057218Z"
    },
    "papermill": {
     "duration": 1.229547,
     "end_time": "2022-12-15T13:46:13.066382",
     "exception": false,
     "start_time": "2022-12-15T13:46:11.836835",
     "status": "completed"
    },
    "tags": []
   },
   "outputs": [
    {
     "data": {
      "text/plain": [
       "LogisticRegression(random_state=0)"
      ]
     },
     "execution_count": 156,
     "metadata": {},
     "output_type": "execute_result"
    }
   ],
   "source": [
    "from sklearn.linear_model import LogisticRegression\n",
    "classifier=LogisticRegression(random_state=0)\n",
    "classifier.fit(X_train,y_train)"
   ]
  },
  {
   "cell_type": "markdown",
   "id": "616efc0a",
   "metadata": {
    "papermill": {
     "duration": 0.080594,
     "end_time": "2022-12-15T13:46:13.292842",
     "exception": false,
     "start_time": "2022-12-15T13:46:13.212248",
     "status": "completed"
    },
    "tags": []
   },
   "source": [
    "##### Predict test set result"
   ]
  },
  {
   "cell_type": "code",
   "execution_count": 157,
   "id": "5a35a98e",
   "metadata": {
    "execution": {
     "iopub.execute_input": "2022-12-15T13:46:13.458723Z",
     "iopub.status.busy": "2022-12-15T13:46:13.458076Z",
     "iopub.status.idle": "2022-12-15T13:46:13.472721Z",
     "shell.execute_reply": "2022-12-15T13:46:13.470879Z"
    },
    "papermill": {
     "duration": 0.099257,
     "end_time": "2022-12-15T13:46:13.476383",
     "exception": false,
     "start_time": "2022-12-15T13:46:13.377126",
     "status": "completed"
    },
    "tags": []
   },
   "outputs": [
    {
     "data": {
      "text/plain": [
       "0       4\n",
       "1       4\n",
       "2       5\n",
       "3       4\n",
       "4       4\n",
       "       ..\n",
       "9315    4\n",
       "9316    4\n",
       "9317    4\n",
       "9318    4\n",
       "9319    4\n",
       "Name: Rating, Length: 9319, dtype: int64"
      ]
     },
     "execution_count": 157,
     "metadata": {},
     "output_type": "execute_result"
    }
   ],
   "source": [
    "y_pred=classifier.predict(X_test)\n",
    "y"
   ]
  },
  {
   "cell_type": "markdown",
   "id": "c4072918",
   "metadata": {
    "papermill": {
     "duration": 0.080479,
     "end_time": "2022-12-15T13:46:13.640708",
     "exception": false,
     "start_time": "2022-12-15T13:46:13.560229",
     "status": "completed"
    },
    "tags": []
   },
   "source": [
    "##### Making confusion Matrix"
   ]
  },
  {
   "cell_type": "code",
   "execution_count": 158,
   "id": "3b9616f2",
   "metadata": {
    "execution": {
     "iopub.execute_input": "2022-12-15T13:46:13.802996Z",
     "iopub.status.busy": "2022-12-15T13:46:13.802447Z",
     "iopub.status.idle": "2022-12-15T13:46:13.817601Z",
     "shell.execute_reply": "2022-12-15T13:46:13.815891Z"
    },
    "papermill": {
     "duration": 0.104784,
     "end_time": "2022-12-15T13:46:13.821241",
     "exception": false,
     "start_time": "2022-12-15T13:46:13.716457",
     "status": "completed"
    },
    "tags": []
   },
   "outputs": [
    {
     "data": {
      "text/plain": [
       "array([[   0,    0,    0,    2,    0],\n",
       "       [   0,    0,    0,   25,    0],\n",
       "       [   0,    0,    0,  114,    0],\n",
       "       [   0,    0,    0, 1392,    0],\n",
       "       [   0,    0,    0,  331,    0]])"
      ]
     },
     "execution_count": 158,
     "metadata": {},
     "output_type": "execute_result"
    }
   ],
   "source": [
    "from sklearn.metrics import confusion_matrix,accuracy_score\n",
    "cm=confusion_matrix(y_test,y_pred)\n",
    "cm"
   ]
  },
  {
   "cell_type": "code",
   "execution_count": 159,
   "id": "03d828c5",
   "metadata": {
    "execution": {
     "iopub.execute_input": "2022-12-15T13:46:13.987982Z",
     "iopub.status.busy": "2022-12-15T13:46:13.987047Z",
     "iopub.status.idle": "2022-12-15T13:46:13.999234Z",
     "shell.execute_reply": "2022-12-15T13:46:13.997513Z"
    },
    "papermill": {
     "duration": 0.100376,
     "end_time": "2022-12-15T13:46:14.002286",
     "exception": false,
     "start_time": "2022-12-15T13:46:13.901910",
     "status": "completed"
    },
    "tags": []
   },
   "outputs": [
    {
     "data": {
      "text/plain": [
       "0.7467811158798283"
      ]
     },
     "execution_count": 159,
     "metadata": {},
     "output_type": "execute_result"
    }
   ],
   "source": [
    "accuracy_score(y_test,y_pred)"
   ]
  },
  {
   "cell_type": "markdown",
   "id": "2b7985be",
   "metadata": {
    "papermill": {
     "duration": 0.087556,
     "end_time": "2022-12-15T13:46:14.176858",
     "exception": false,
     "start_time": "2022-12-15T13:46:14.089302",
     "status": "completed"
    },
    "tags": []
   },
   "source": [
    "## Automate ML model"
   ]
  },
  {
   "cell_type": "code",
   "execution_count": 160,
   "id": "200f9f34",
   "metadata": {
    "execution": {
     "iopub.execute_input": "2022-12-15T13:46:14.353933Z",
     "iopub.status.busy": "2022-12-15T13:46:14.353512Z",
     "iopub.status.idle": "2022-12-15T13:46:14.362329Z",
     "shell.execute_reply": "2022-12-15T13:46:14.361313Z"
    },
    "papermill": {
     "duration": 0.101519,
     "end_time": "2022-12-15T13:46:14.366776",
     "exception": false,
     "start_time": "2022-12-15T13:46:14.265257",
     "status": "completed"
    },
    "tags": []
   },
   "outputs": [],
   "source": [
    "def predict(ml_model):\n",
    "    model=ml_model.fit(X_train,y_train)\n",
    "    y_predict=model.predict(X_test)\n",
    "    print('predictions are : \\n {}'.format(y_predict))\n",
    "    print('\\n')\n",
    "    \n",
    "    cm=confusion_matrix(y_test,y_predict)\n",
    "    print('Confusion Matrix: \\n {}'.format(cm))\n",
    "    print('\\n')\n",
    "    \n",
    "    acc=accuracy_score(y_test,y_predict)\n",
    "    print('Accuracy score : {}'.format(acc))"
   ]
  },
  {
   "cell_type": "code",
   "execution_count": 161,
   "id": "c1ab71ca",
   "metadata": {
    "execution": {
     "iopub.execute_input": "2022-12-15T13:46:14.535538Z",
     "iopub.status.busy": "2022-12-15T13:46:14.535075Z",
     "iopub.status.idle": "2022-12-15T13:46:15.868937Z",
     "shell.execute_reply": "2022-12-15T13:46:15.866968Z"
    },
    "papermill": {
     "duration": 1.423988,
     "end_time": "2022-12-15T13:46:15.872256",
     "exception": false,
     "start_time": "2022-12-15T13:46:14.448268",
     "status": "completed"
    },
    "tags": []
   },
   "outputs": [
    {
     "name": "stdout",
     "output_type": "stream",
     "text": [
      "predictions are : \n",
      " [4 4 4 ... 4 4 4]\n",
      "\n",
      "\n",
      "Confusion Matrix: \n",
      " [[   0    0    0    2    0]\n",
      " [   0    0    2   22    1]\n",
      " [   0    0    4  107    3]\n",
      " [   0    1   16 1307   68]\n",
      " [   0    0    3  222  106]]\n",
      "\n",
      "\n",
      "Accuracy score : 0.7601931330472103\n"
     ]
    }
   ],
   "source": [
    "from sklearn.ensemble import RandomForestClassifier\n",
    "predict(RandomForestClassifier())"
   ]
  },
  {
   "cell_type": "markdown",
   "id": "0a9e937c",
   "metadata": {
    "papermill": {
     "duration": 0.083506,
     "end_time": "2022-12-15T13:46:16.039276",
     "exception": false,
     "start_time": "2022-12-15T13:46:15.955770",
     "status": "completed"
    },
    "tags": []
   },
   "source": [
    "### Hypertune Logistic Model"
   ]
  },
  {
   "cell_type": "code",
   "execution_count": 162,
   "id": "5669c0a6",
   "metadata": {
    "execution": {
     "iopub.execute_input": "2022-12-15T13:46:16.209107Z",
     "iopub.status.busy": "2022-12-15T13:46:16.208653Z",
     "iopub.status.idle": "2022-12-15T13:46:16.215748Z",
     "shell.execute_reply": "2022-12-15T13:46:16.214290Z"
    },
    "papermill": {
     "duration": 0.090133,
     "end_time": "2022-12-15T13:46:16.218404",
     "exception": false,
     "start_time": "2022-12-15T13:46:16.128271",
     "status": "completed"
    },
    "tags": []
   },
   "outputs": [],
   "source": [
    "from sklearn.linear_model import LogisticRegression\n",
    "log_class=LogisticRegression()"
   ]
  },
  {
   "cell_type": "code",
   "execution_count": 163,
   "id": "2352b371",
   "metadata": {
    "execution": {
     "iopub.execute_input": "2022-12-15T13:46:16.378146Z",
     "iopub.status.busy": "2022-12-15T13:46:16.377481Z",
     "iopub.status.idle": "2022-12-15T13:46:16.385946Z",
     "shell.execute_reply": "2022-12-15T13:46:16.384646Z"
    },
    "papermill": {
     "duration": 0.091346,
     "end_time": "2022-12-15T13:46:16.388922",
     "exception": false,
     "start_time": "2022-12-15T13:46:16.297576",
     "status": "completed"
    },
    "tags": []
   },
   "outputs": [
    {
     "data": {
      "text/plain": [
       "{'C': array([1.e-02, 1.e-01, 1.e+00, 1.e+01, 1.e+02]), 'penalty': ['l1', 'l2']}"
      ]
     },
     "execution_count": 163,
     "metadata": {},
     "output_type": "execute_result"
    }
   ],
   "source": [
    "grid={'C':10.0 ** np.arange(-2,3),'penalty':['l1','l2']}\n",
    "grid"
   ]
  },
  {
   "cell_type": "code",
   "execution_count": 164,
   "id": "045522f6",
   "metadata": {
    "execution": {
     "iopub.execute_input": "2022-12-15T13:46:16.547547Z",
     "iopub.status.busy": "2022-12-15T13:46:16.547053Z",
     "iopub.status.idle": "2022-12-15T13:46:23.824005Z",
     "shell.execute_reply": "2022-12-15T13:46:23.821629Z"
    },
    "papermill": {
     "duration": 7.367661,
     "end_time": "2022-12-15T13:46:23.830683",
     "exception": false,
     "start_time": "2022-12-15T13:46:16.463022",
     "status": "completed"
    },
    "tags": []
   },
   "outputs": [
    {
     "name": "stderr",
     "output_type": "stream",
     "text": [
      "/opt/conda/lib/python3.7/site-packages/sklearn/model_selection/_validation.py:372: FitFailedWarning:\n",
      "\n",
      "\n",
      "25 fits failed out of a total of 50.\n",
      "The score on these train-test partitions for these parameters will be set to nan.\n",
      "If these failures are not expected, you can try to debug them by setting error_score='raise'.\n",
      "\n",
      "Below are more details about the failures:\n",
      "--------------------------------------------------------------------------------\n",
      "25 fits failed with the following error:\n",
      "Traceback (most recent call last):\n",
      "  File \"/opt/conda/lib/python3.7/site-packages/sklearn/model_selection/_validation.py\", line 680, in _fit_and_score\n",
      "    estimator.fit(X_train, y_train, **fit_params)\n",
      "  File \"/opt/conda/lib/python3.7/site-packages/sklearn/linear_model/_logistic.py\", line 1461, in fit\n",
      "    solver = _check_solver(self.solver, self.penalty, self.dual)\n",
      "  File \"/opt/conda/lib/python3.7/site-packages/sklearn/linear_model/_logistic.py\", line 449, in _check_solver\n",
      "    % (solver, penalty)\n",
      "ValueError: Solver lbfgs supports only 'l2' or 'none' penalties, got l1 penalty.\n",
      "\n",
      "\n",
      "/opt/conda/lib/python3.7/site-packages/sklearn/model_selection/_search.py:972: UserWarning:\n",
      "\n",
      "One or more of the test scores are non-finite: [       nan 0.16912356        nan 0.16912356        nan 0.16912356\n",
      "        nan 0.16912356        nan 0.16912356]\n",
      "\n",
      "/opt/conda/lib/python3.7/site-packages/sklearn/linear_model/_logistic.py:818: ConvergenceWarning:\n",
      "\n",
      "lbfgs failed to converge (status=1):\n",
      "STOP: TOTAL NO. of ITERATIONS REACHED LIMIT.\n",
      "\n",
      "Increase the number of iterations (max_iter) or scale the data as shown in:\n",
      "    https://scikit-learn.org/stable/modules/preprocessing.html\n",
      "Please also refer to the documentation for alternative solver options:\n",
      "    https://scikit-learn.org/stable/modules/linear_model.html#logistic-regression\n",
      "\n"
     ]
    },
    {
     "data": {
      "text/plain": [
       "GridSearchCV(cv=5, estimator=LogisticRegression(), n_jobs=-1,\n",
       "             param_grid={'C': array([1.e-02, 1.e-01, 1.e+00, 1.e+01, 1.e+02]),\n",
       "                         'penalty': ['l1', 'l2']},\n",
       "             scoring='f1_macro')"
      ]
     },
     "execution_count": 164,
     "metadata": {},
     "output_type": "execute_result"
    }
   ],
   "source": [
    "from sklearn.model_selection import GridSearchCV\n",
    "clf=GridSearchCV(estimator=log_class,param_grid=grid,cv=5,n_jobs=-1,scoring='f1_macro')\n",
    "clf.fit(X_train,y_train)"
   ]
  },
  {
   "cell_type": "code",
   "execution_count": 165,
   "id": "c96a8ef3",
   "metadata": {
    "execution": {
     "iopub.execute_input": "2022-12-15T13:46:24.046247Z",
     "iopub.status.busy": "2022-12-15T13:46:24.045799Z",
     "iopub.status.idle": "2022-12-15T13:46:24.055294Z",
     "shell.execute_reply": "2022-12-15T13:46:24.053738Z"
    },
    "papermill": {
     "duration": 0.08897,
     "end_time": "2022-12-15T13:46:24.058314",
     "exception": false,
     "start_time": "2022-12-15T13:46:23.969344",
     "status": "completed"
    },
    "tags": []
   },
   "outputs": [
    {
     "data": {
      "text/plain": [
       "LogisticRegression(C=0.01)"
      ]
     },
     "execution_count": 165,
     "metadata": {},
     "output_type": "execute_result"
    }
   ],
   "source": [
    "clf.best_estimator_"
   ]
  },
  {
   "cell_type": "code",
   "execution_count": 166,
   "id": "f82d18e5",
   "metadata": {
    "execution": {
     "iopub.execute_input": "2022-12-15T13:46:24.222406Z",
     "iopub.status.busy": "2022-12-15T13:46:24.221057Z",
     "iopub.status.idle": "2022-12-15T13:46:24.228576Z",
     "shell.execute_reply": "2022-12-15T13:46:24.227605Z"
    },
    "papermill": {
     "duration": 0.09277,
     "end_time": "2022-12-15T13:46:24.231016",
     "exception": false,
     "start_time": "2022-12-15T13:46:24.138246",
     "status": "completed"
    },
    "tags": []
   },
   "outputs": [
    {
     "data": {
      "text/plain": [
       "{'C': 0.01, 'penalty': 'l2'}"
      ]
     },
     "execution_count": 166,
     "metadata": {},
     "output_type": "execute_result"
    }
   ],
   "source": [
    "clf.best_params_"
   ]
  },
  {
   "cell_type": "code",
   "execution_count": 167,
   "id": "80a0ca80",
   "metadata": {
    "execution": {
     "iopub.execute_input": "2022-12-15T13:46:24.398565Z",
     "iopub.status.busy": "2022-12-15T13:46:24.397781Z",
     "iopub.status.idle": "2022-12-15T13:46:24.405109Z",
     "shell.execute_reply": "2022-12-15T13:46:24.403848Z"
    },
    "papermill": {
     "duration": 0.093964,
     "end_time": "2022-12-15T13:46:24.407747",
     "exception": false,
     "start_time": "2022-12-15T13:46:24.313783",
     "status": "completed"
    },
    "tags": []
   },
   "outputs": [],
   "source": [
    "log=LogisticRegression(C= 0.01, penalty= 'l2')"
   ]
  },
  {
   "cell_type": "code",
   "execution_count": 168,
   "id": "9bdd50d2",
   "metadata": {
    "execution": {
     "iopub.execute_input": "2022-12-15T13:46:24.585258Z",
     "iopub.status.busy": "2022-12-15T13:46:24.584466Z",
     "iopub.status.idle": "2022-12-15T13:46:25.606035Z",
     "shell.execute_reply": "2022-12-15T13:46:25.603097Z"
    },
    "papermill": {
     "duration": 1.11888,
     "end_time": "2022-12-15T13:46:25.611661",
     "exception": false,
     "start_time": "2022-12-15T13:46:24.492781",
     "status": "completed"
    },
    "tags": []
   },
   "outputs": [
    {
     "name": "stdout",
     "output_type": "stream",
     "text": [
      "0.7467811158798283\n"
     ]
    },
    {
     "name": "stderr",
     "output_type": "stream",
     "text": [
      "/opt/conda/lib/python3.7/site-packages/sklearn/linear_model/_logistic.py:818: ConvergenceWarning:\n",
      "\n",
      "lbfgs failed to converge (status=1):\n",
      "STOP: TOTAL NO. of ITERATIONS REACHED LIMIT.\n",
      "\n",
      "Increase the number of iterations (max_iter) or scale the data as shown in:\n",
      "    https://scikit-learn.org/stable/modules/preprocessing.html\n",
      "Please also refer to the documentation for alternative solver options:\n",
      "    https://scikit-learn.org/stable/modules/linear_model.html#logistic-regression\n",
      "\n"
     ]
    }
   ],
   "source": [
    "log.fit(X_train,y_train)\n",
    "pred2=log.predict(X_test)\n",
    "print(accuracy_score(y_test,pred2))"
   ]
  },
  {
   "cell_type": "markdown",
   "id": "be83a4dc",
   "metadata": {
    "papermill": {
     "duration": 0.08337,
     "end_time": "2022-12-15T13:46:25.860323",
     "exception": false,
     "start_time": "2022-12-15T13:46:25.776953",
     "status": "completed"
    },
    "tags": []
   },
   "source": [
    "### Hypertune Random Forest Model"
   ]
  },
  {
   "cell_type": "code",
   "execution_count": 169,
   "id": "aea22a55",
   "metadata": {
    "execution": {
     "iopub.execute_input": "2022-12-15T13:46:26.040508Z",
     "iopub.status.busy": "2022-12-15T13:46:26.040090Z",
     "iopub.status.idle": "2022-12-15T13:46:26.045173Z",
     "shell.execute_reply": "2022-12-15T13:46:26.043889Z"
    },
    "papermill": {
     "duration": 0.089243,
     "end_time": "2022-12-15T13:46:26.047719",
     "exception": false,
     "start_time": "2022-12-15T13:46:25.958476",
     "status": "completed"
    },
    "tags": []
   },
   "outputs": [],
   "source": [
    "from sklearn.model_selection import RandomizedSearchCV"
   ]
  },
  {
   "cell_type": "code",
   "execution_count": 170,
   "id": "62b563f9",
   "metadata": {
    "execution": {
     "iopub.execute_input": "2022-12-15T13:46:26.216244Z",
     "iopub.status.busy": "2022-12-15T13:46:26.215060Z",
     "iopub.status.idle": "2022-12-15T13:46:26.221438Z",
     "shell.execute_reply": "2022-12-15T13:46:26.220429Z"
    },
    "papermill": {
     "duration": 0.091746,
     "end_time": "2022-12-15T13:46:26.224113",
     "exception": false,
     "start_time": "2022-12-15T13:46:26.132367",
     "status": "completed"
    },
    "tags": []
   },
   "outputs": [],
   "source": [
    "from sklearn.ensemble import RandomForestClassifier"
   ]
  },
  {
   "cell_type": "code",
   "execution_count": 171,
   "id": "2e08b490",
   "metadata": {
    "execution": {
     "iopub.execute_input": "2022-12-15T13:46:26.395748Z",
     "iopub.status.busy": "2022-12-15T13:46:26.394948Z",
     "iopub.status.idle": "2022-12-15T13:46:26.400911Z",
     "shell.execute_reply": "2022-12-15T13:46:26.399506Z"
    },
    "papermill": {
     "duration": 0.088857,
     "end_time": "2022-12-15T13:46:26.403700",
     "exception": false,
     "start_time": "2022-12-15T13:46:26.314843",
     "status": "completed"
    },
    "tags": []
   },
   "outputs": [],
   "source": [
    "rf=RandomForestClassifier()"
   ]
  },
  {
   "cell_type": "code",
   "execution_count": 172,
   "id": "3478f03d",
   "metadata": {
    "execution": {
     "iopub.execute_input": "2022-12-15T13:46:26.565119Z",
     "iopub.status.busy": "2022-12-15T13:46:26.564462Z",
     "iopub.status.idle": "2022-12-15T13:46:26.573540Z",
     "shell.execute_reply": "2022-12-15T13:46:26.571924Z"
    },
    "papermill": {
     "duration": 0.089545,
     "end_time": "2022-12-15T13:46:26.576414",
     "exception": false,
     "start_time": "2022-12-15T13:46:26.486869",
     "status": "completed"
    },
    "tags": []
   },
   "outputs": [],
   "source": [
    "n_estimators=[int(x) for x in np.linspace(200,2000,5)]\n",
    "max_features=[\"auto\", \"sqrt\", \"log2\"]\n",
    "max_depth=[int(x) for x in np.linspace(10,2000,5)]\n",
    "\n",
    "min_samples_leaf=[1,2,4,6]\n",
    "min_samples_split=[2,5,10,14]"
   ]
  },
  {
   "cell_type": "code",
   "execution_count": 173,
   "id": "e9224ffc",
   "metadata": {
    "execution": {
     "iopub.execute_input": "2022-12-15T13:46:26.748337Z",
     "iopub.status.busy": "2022-12-15T13:46:26.747896Z",
     "iopub.status.idle": "2022-12-15T13:46:26.754396Z",
     "shell.execute_reply": "2022-12-15T13:46:26.752953Z"
    },
    "papermill": {
     "duration": 0.103858,
     "end_time": "2022-12-15T13:46:26.757319",
     "exception": false,
     "start_time": "2022-12-15T13:46:26.653461",
     "status": "completed"
    },
    "tags": []
   },
   "outputs": [],
   "source": [
    "random_grid={\n",
    "    'n_estimators':n_estimators,\n",
    "    'max_features':max_features,\n",
    "    'max_depth':max_depth,\n",
    "    'min_samples_leaf':min_samples_leaf,\n",
    "    'min_samples_split':min_samples_split,\n",
    "    'criterion':['entropy','gini']\n",
    "}"
   ]
  },
  {
   "cell_type": "code",
   "execution_count": 174,
   "id": "aecc4238",
   "metadata": {
    "execution": {
     "iopub.execute_input": "2022-12-15T13:46:26.926626Z",
     "iopub.status.busy": "2022-12-15T13:46:26.926203Z",
     "iopub.status.idle": "2022-12-15T13:46:26.932331Z",
     "shell.execute_reply": "2022-12-15T13:46:26.930878Z"
    },
    "papermill": {
     "duration": 0.096393,
     "end_time": "2022-12-15T13:46:26.934732",
     "exception": false,
     "start_time": "2022-12-15T13:46:26.838339",
     "status": "completed"
    },
    "tags": []
   },
   "outputs": [
    {
     "name": "stdout",
     "output_type": "stream",
     "text": [
      "{'n_estimators': [200, 650, 1100, 1550, 2000], 'max_features': ['auto', 'sqrt', 'log2'], 'max_depth': [10, 507, 1005, 1502, 2000], 'min_samples_leaf': [1, 2, 4, 6], 'min_samples_split': [2, 5, 10, 14], 'criterion': ['entropy', 'gini']}\n"
     ]
    }
   ],
   "source": [
    "print(random_grid)"
   ]
  },
  {
   "cell_type": "code",
   "execution_count": 175,
   "id": "8431bc2f",
   "metadata": {
    "execution": {
     "iopub.execute_input": "2022-12-15T13:46:27.109924Z",
     "iopub.status.busy": "2022-12-15T13:46:27.109465Z",
     "iopub.status.idle": "2022-12-15T13:46:27.116944Z",
     "shell.execute_reply": "2022-12-15T13:46:27.115165Z"
    },
    "papermill": {
     "duration": 0.099928,
     "end_time": "2022-12-15T13:46:27.120929",
     "exception": false,
     "start_time": "2022-12-15T13:46:27.021001",
     "status": "completed"
    },
    "tags": []
   },
   "outputs": [],
   "source": [
    "rf_randomcv=RandomizedSearchCV(estimator=rf,param_distributions=random_grid,n_iter=20,cv=3,verbose=2,random_state=100,n_jobs=-1)"
   ]
  },
  {
   "cell_type": "code",
   "execution_count": 176,
   "id": "1cbbba73",
   "metadata": {
    "execution": {
     "iopub.execute_input": "2022-12-15T13:46:27.284137Z",
     "iopub.status.busy": "2022-12-15T13:46:27.283408Z",
     "iopub.status.idle": "2022-12-15T13:50:09.432104Z",
     "shell.execute_reply": "2022-12-15T13:50:09.430708Z"
    },
    "papermill": {
     "duration": 222.31766,
     "end_time": "2022-12-15T13:50:09.523848",
     "exception": false,
     "start_time": "2022-12-15T13:46:27.206188",
     "status": "completed"
    },
    "tags": []
   },
   "outputs": [
    {
     "name": "stdout",
     "output_type": "stream",
     "text": [
      "Fitting 3 folds for each of 20 candidates, totalling 60 fits\n",
      "[CV] END criterion=gini, max_depth=507, max_features=sqrt, min_samples_leaf=2, min_samples_split=2, n_estimators=2000; total time=  22.5s\n"
     ]
    },
    {
     "name": "stderr",
     "output_type": "stream",
     "text": [
      "/opt/conda/lib/python3.7/site-packages/sklearn/linear_model/_logistic.py:818: ConvergenceWarning: lbfgs failed to converge (status=1):\n",
      "STOP: TOTAL NO. of ITERATIONS REACHED LIMIT.\n",
      "\n",
      "Increase the number of iterations (max_iter) or scale the data as shown in:\n",
      "    https://scikit-learn.org/stable/modules/preprocessing.html\n",
      "Please also refer to the documentation for alternative solver options:\n",
      "    https://scikit-learn.org/stable/modules/linear_model.html#logistic-regression\n",
      "  extra_warning_msg=_LOGISTIC_SOLVER_CONVERGENCE_MSG,\n",
      "/opt/conda/lib/python3.7/site-packages/sklearn/linear_model/_logistic.py:818: ConvergenceWarning: lbfgs failed to converge (status=1):\n",
      "STOP: TOTAL NO. of ITERATIONS REACHED LIMIT.\n",
      "\n",
      "Increase the number of iterations (max_iter) or scale the data as shown in:\n",
      "    https://scikit-learn.org/stable/modules/preprocessing.html\n",
      "Please also refer to the documentation for alternative solver options:\n",
      "    https://scikit-learn.org/stable/modules/linear_model.html#logistic-regression\n",
      "  extra_warning_msg=_LOGISTIC_SOLVER_CONVERGENCE_MSG,\n",
      "/opt/conda/lib/python3.7/site-packages/sklearn/linear_model/_logistic.py:818: ConvergenceWarning: lbfgs failed to converge (status=1):\n",
      "STOP: TOTAL NO. of ITERATIONS REACHED LIMIT.\n",
      "\n",
      "Increase the number of iterations (max_iter) or scale the data as shown in:\n",
      "    https://scikit-learn.org/stable/modules/preprocessing.html\n",
      "Please also refer to the documentation for alternative solver options:\n",
      "    https://scikit-learn.org/stable/modules/linear_model.html#logistic-regression\n",
      "  extra_warning_msg=_LOGISTIC_SOLVER_CONVERGENCE_MSG,\n",
      "/opt/conda/lib/python3.7/site-packages/sklearn/linear_model/_logistic.py:818: ConvergenceWarning: lbfgs failed to converge (status=1):\n",
      "STOP: TOTAL NO. of ITERATIONS REACHED LIMIT.\n",
      "\n",
      "Increase the number of iterations (max_iter) or scale the data as shown in:\n",
      "    https://scikit-learn.org/stable/modules/preprocessing.html\n",
      "Please also refer to the documentation for alternative solver options:\n",
      "    https://scikit-learn.org/stable/modules/linear_model.html#logistic-regression\n",
      "  extra_warning_msg=_LOGISTIC_SOLVER_CONVERGENCE_MSG,\n",
      "/opt/conda/lib/python3.7/site-packages/sklearn/linear_model/_logistic.py:818: ConvergenceWarning: lbfgs failed to converge (status=1):\n",
      "STOP: TOTAL NO. of ITERATIONS REACHED LIMIT.\n",
      "\n",
      "Increase the number of iterations (max_iter) or scale the data as shown in:\n",
      "    https://scikit-learn.org/stable/modules/preprocessing.html\n",
      "Please also refer to the documentation for alternative solver options:\n",
      "    https://scikit-learn.org/stable/modules/linear_model.html#logistic-regression\n",
      "  extra_warning_msg=_LOGISTIC_SOLVER_CONVERGENCE_MSG,\n",
      "/opt/conda/lib/python3.7/site-packages/sklearn/linear_model/_logistic.py:818: ConvergenceWarning: lbfgs failed to converge (status=1):\n",
      "STOP: TOTAL NO. of ITERATIONS REACHED LIMIT.\n",
      "\n",
      "Increase the number of iterations (max_iter) or scale the data as shown in:\n",
      "    https://scikit-learn.org/stable/modules/preprocessing.html\n",
      "Please also refer to the documentation for alternative solver options:\n",
      "    https://scikit-learn.org/stable/modules/linear_model.html#logistic-regression\n",
      "  extra_warning_msg=_LOGISTIC_SOLVER_CONVERGENCE_MSG,\n",
      "/opt/conda/lib/python3.7/site-packages/joblib/externals/loky/process_executor.py:691: UserWarning:\n",
      "\n",
      "A worker stopped while some jobs were given to the executor. This can be caused by a too short worker timeout or by a memory leak.\n",
      "\n",
      "/opt/conda/lib/python3.7/site-packages/sklearn/linear_model/_logistic.py:818: ConvergenceWarning: lbfgs failed to converge (status=1):\n",
      "STOP: TOTAL NO. of ITERATIONS REACHED LIMIT.\n",
      "\n",
      "Increase the number of iterations (max_iter) or scale the data as shown in:\n",
      "    https://scikit-learn.org/stable/modules/preprocessing.html\n",
      "Please also refer to the documentation for alternative solver options:\n",
      "    https://scikit-learn.org/stable/modules/linear_model.html#logistic-regression\n",
      "  extra_warning_msg=_LOGISTIC_SOLVER_CONVERGENCE_MSG,\n",
      "/opt/conda/lib/python3.7/site-packages/sklearn/linear_model/_logistic.py:818: ConvergenceWarning: lbfgs failed to converge (status=1):\n",
      "STOP: TOTAL NO. of ITERATIONS REACHED LIMIT.\n",
      "\n",
      "Increase the number of iterations (max_iter) or scale the data as shown in:\n",
      "    https://scikit-learn.org/stable/modules/preprocessing.html\n",
      "Please also refer to the documentation for alternative solver options:\n",
      "    https://scikit-learn.org/stable/modules/linear_model.html#logistic-regression\n",
      "  extra_warning_msg=_LOGISTIC_SOLVER_CONVERGENCE_MSG,\n",
      "/opt/conda/lib/python3.7/site-packages/sklearn/linear_model/_logistic.py:818: ConvergenceWarning: lbfgs failed to converge (status=1):\n",
      "STOP: TOTAL NO. of ITERATIONS REACHED LIMIT.\n",
      "\n",
      "Increase the number of iterations (max_iter) or scale the data as shown in:\n",
      "    https://scikit-learn.org/stable/modules/preprocessing.html\n",
      "Please also refer to the documentation for alternative solver options:\n",
      "    https://scikit-learn.org/stable/modules/linear_model.html#logistic-regression\n",
      "  extra_warning_msg=_LOGISTIC_SOLVER_CONVERGENCE_MSG,\n",
      "/opt/conda/lib/python3.7/site-packages/sklearn/linear_model/_logistic.py:818: ConvergenceWarning: lbfgs failed to converge (status=1):\n",
      "STOP: TOTAL NO. of ITERATIONS REACHED LIMIT.\n",
      "\n",
      "Increase the number of iterations (max_iter) or scale the data as shown in:\n",
      "    https://scikit-learn.org/stable/modules/preprocessing.html\n",
      "Please also refer to the documentation for alternative solver options:\n",
      "    https://scikit-learn.org/stable/modules/linear_model.html#logistic-regression\n",
      "  extra_warning_msg=_LOGISTIC_SOLVER_CONVERGENCE_MSG,\n",
      "/opt/conda/lib/python3.7/site-packages/sklearn/linear_model/_logistic.py:818: ConvergenceWarning: lbfgs failed to converge (status=1):\n",
      "STOP: TOTAL NO. of ITERATIONS REACHED LIMIT.\n",
      "\n",
      "Increase the number of iterations (max_iter) or scale the data as shown in:\n",
      "    https://scikit-learn.org/stable/modules/preprocessing.html\n",
      "Please also refer to the documentation for alternative solver options:\n",
      "    https://scikit-learn.org/stable/modules/linear_model.html#logistic-regression\n",
      "  extra_warning_msg=_LOGISTIC_SOLVER_CONVERGENCE_MSG,\n",
      "/opt/conda/lib/python3.7/site-packages/sklearn/linear_model/_logistic.py:818: ConvergenceWarning: lbfgs failed to converge (status=1):\n",
      "STOP: TOTAL NO. of ITERATIONS REACHED LIMIT.\n",
      "\n",
      "Increase the number of iterations (max_iter) or scale the data as shown in:\n",
      "    https://scikit-learn.org/stable/modules/preprocessing.html\n",
      "Please also refer to the documentation for alternative solver options:\n",
      "    https://scikit-learn.org/stable/modules/linear_model.html#logistic-regression\n",
      "  extra_warning_msg=_LOGISTIC_SOLVER_CONVERGENCE_MSG,\n"
     ]
    },
    {
     "name": "stdout",
     "output_type": "stream",
     "text": [
      "[CV] END criterion=gini, max_depth=507, max_features=sqrt, min_samples_leaf=2, min_samples_split=2, n_estimators=2000; total time=  22.7s\n",
      "[CV] END criterion=gini, max_depth=507, max_features=sqrt, min_samples_leaf=2, min_samples_split=2, n_estimators=2000; total time=  22.9s\n"
     ]
    },
    {
     "name": "stderr",
     "output_type": "stream",
     "text": [
      "/opt/conda/lib/python3.7/site-packages/sklearn/linear_model/_logistic.py:818: ConvergenceWarning: lbfgs failed to converge (status=1):\n",
      "STOP: TOTAL NO. of ITERATIONS REACHED LIMIT.\n",
      "\n",
      "Increase the number of iterations (max_iter) or scale the data as shown in:\n",
      "    https://scikit-learn.org/stable/modules/preprocessing.html\n",
      "Please also refer to the documentation for alternative solver options:\n",
      "    https://scikit-learn.org/stable/modules/linear_model.html#logistic-regression\n",
      "  extra_warning_msg=_LOGISTIC_SOLVER_CONVERGENCE_MSG,\n",
      "/opt/conda/lib/python3.7/site-packages/sklearn/linear_model/_logistic.py:818: ConvergenceWarning: lbfgs failed to converge (status=1):\n",
      "STOP: TOTAL NO. of ITERATIONS REACHED LIMIT.\n",
      "\n",
      "Increase the number of iterations (max_iter) or scale the data as shown in:\n",
      "    https://scikit-learn.org/stable/modules/preprocessing.html\n",
      "Please also refer to the documentation for alternative solver options:\n",
      "    https://scikit-learn.org/stable/modules/linear_model.html#logistic-regression\n",
      "  extra_warning_msg=_LOGISTIC_SOLVER_CONVERGENCE_MSG,\n",
      "/opt/conda/lib/python3.7/site-packages/sklearn/linear_model/_logistic.py:818: ConvergenceWarning: lbfgs failed to converge (status=1):\n",
      "STOP: TOTAL NO. of ITERATIONS REACHED LIMIT.\n",
      "\n",
      "Increase the number of iterations (max_iter) or scale the data as shown in:\n",
      "    https://scikit-learn.org/stable/modules/preprocessing.html\n",
      "Please also refer to the documentation for alternative solver options:\n",
      "    https://scikit-learn.org/stable/modules/linear_model.html#logistic-regression\n",
      "  extra_warning_msg=_LOGISTIC_SOLVER_CONVERGENCE_MSG,\n",
      "/opt/conda/lib/python3.7/site-packages/sklearn/linear_model/_logistic.py:818: ConvergenceWarning: lbfgs failed to converge (status=1):\n",
      "STOP: TOTAL NO. of ITERATIONS REACHED LIMIT.\n",
      "\n",
      "Increase the number of iterations (max_iter) or scale the data as shown in:\n",
      "    https://scikit-learn.org/stable/modules/preprocessing.html\n",
      "Please also refer to the documentation for alternative solver options:\n",
      "    https://scikit-learn.org/stable/modules/linear_model.html#logistic-regression\n",
      "  extra_warning_msg=_LOGISTIC_SOLVER_CONVERGENCE_MSG,\n",
      "/opt/conda/lib/python3.7/site-packages/sklearn/linear_model/_logistic.py:818: ConvergenceWarning: lbfgs failed to converge (status=1):\n",
      "STOP: TOTAL NO. of ITERATIONS REACHED LIMIT.\n",
      "\n",
      "Increase the number of iterations (max_iter) or scale the data as shown in:\n",
      "    https://scikit-learn.org/stable/modules/preprocessing.html\n",
      "Please also refer to the documentation for alternative solver options:\n",
      "    https://scikit-learn.org/stable/modules/linear_model.html#logistic-regression\n",
      "  extra_warning_msg=_LOGISTIC_SOLVER_CONVERGENCE_MSG,\n",
      "/opt/conda/lib/python3.7/site-packages/sklearn/linear_model/_logistic.py:818: ConvergenceWarning: lbfgs failed to converge (status=1):\n",
      "STOP: TOTAL NO. of ITERATIONS REACHED LIMIT.\n",
      "\n",
      "Increase the number of iterations (max_iter) or scale the data as shown in:\n",
      "    https://scikit-learn.org/stable/modules/preprocessing.html\n",
      "Please also refer to the documentation for alternative solver options:\n",
      "    https://scikit-learn.org/stable/modules/linear_model.html#logistic-regression\n",
      "  extra_warning_msg=_LOGISTIC_SOLVER_CONVERGENCE_MSG,\n"
     ]
    },
    {
     "data": {
      "text/plain": [
       "RandomizedSearchCV(cv=3, estimator=RandomForestClassifier(), n_iter=20,\n",
       "                   n_jobs=-1,\n",
       "                   param_distributions={'criterion': ['entropy', 'gini'],\n",
       "                                        'max_depth': [10, 507, 1005, 1502,\n",
       "                                                      2000],\n",
       "                                        'max_features': ['auto', 'sqrt',\n",
       "                                                         'log2'],\n",
       "                                        'min_samples_leaf': [1, 2, 4, 6],\n",
       "                                        'min_samples_split': [2, 5, 10, 14],\n",
       "                                        'n_estimators': [200, 650, 1100, 1550,\n",
       "                                                         2000]},\n",
       "                   random_state=100, verbose=2)"
      ]
     },
     "execution_count": 176,
     "metadata": {},
     "output_type": "execute_result"
    }
   ],
   "source": [
    "rf_randomcv.fit(X_train,y_train)"
   ]
  },
  {
   "cell_type": "code",
   "execution_count": 177,
   "id": "eb04bfab",
   "metadata": {
    "execution": {
     "iopub.execute_input": "2022-12-15T13:50:09.713510Z",
     "iopub.status.busy": "2022-12-15T13:50:09.712769Z",
     "iopub.status.idle": "2022-12-15T13:50:10.740793Z",
     "shell.execute_reply": "2022-12-15T13:50:10.739470Z"
    },
    "papermill": {
     "duration": 1.136055,
     "end_time": "2022-12-15T13:50:10.744281",
     "exception": false,
     "start_time": "2022-12-15T13:50:09.608226",
     "status": "completed"
    },
    "tags": []
   },
   "outputs": [
    {
     "name": "stdout",
     "output_type": "stream",
     "text": [
      "0.7607296137339056\n"
     ]
    }
   ],
   "source": [
    "pred3=rf_randomcv.predict(X_test)\n",
    "print(accuracy_score(y_test,pred3))"
   ]
  }
 ],
 "metadata": {
  "kernelspec": {
   "display_name": "Python 3",
   "language": "python",
   "name": "python3"
  },
  "language_info": {
   "codemirror_mode": {
    "name": "ipython",
    "version": 3
   },
   "file_extension": ".py",
   "mimetype": "text/x-python",
   "name": "python",
   "nbconvert_exporter": "python",
   "pygments_lexer": "ipython3",
   "version": "3.7.12"
  },
  "papermill": {
   "default_parameters": {},
   "duration": 305.512109,
   "end_time": "2022-12-15T13:50:13.455684",
   "environment_variables": {},
   "exception": null,
   "input_path": "__notebook__.ipynb",
   "output_path": "__notebook__.ipynb",
   "parameters": {},
   "start_time": "2022-12-15T13:45:07.943575",
   "version": "2.3.4"
  }
 },
 "nbformat": 4,
 "nbformat_minor": 5
}
